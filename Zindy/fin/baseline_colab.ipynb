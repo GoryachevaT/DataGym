{
 "cells": [
  {
   "cell_type": "markdown",
   "metadata": {
    "colab_type": "text",
    "id": "mFA_YzEkKB7q"
   },
   "source": [
    "## Colab"
   ]
  },
  {
   "cell_type": "code",
   "execution_count": 1,
   "metadata": {
    "colab": {
     "base_uri": "https://localhost:8080/",
     "height": 34
    },
    "colab_type": "code",
    "id": "iCvd18IjMHU-",
    "outputId": "e78f1ecf-3c99-4e77-be4c-de0f0ea1865e"
   },
   "outputs": [
    {
     "name": "stdout",
     "output_type": "stream",
     "text": [
      "sample_data\n"
     ]
    }
   ],
   "source": [
    "!ls"
   ]
  },
  {
   "cell_type": "code",
   "execution_count": 1,
   "metadata": {
    "colab": {
     "base_uri": "https://localhost:8080/",
     "height": 108,
     "resources": {
      "http://localhost:8080/nbextensions/google.colab/files.js": {
       "data": "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",
       "headers": [
        [
         "content-type",
         "application/javascript"
        ]
       ],
       "ok": true,
       "status": 200,
       "status_text": ""
      }
     }
    },
    "colab_type": "code",
    "id": "NuzJSUoRGAk9",
    "outputId": "06a62fbc-93d7-4ad6-bb28-c1aa6cfef5a1"
   },
   "outputs": [],
   "source": [
    "# from google.colab import files\n",
    "# files.upload()"
   ]
  },
  {
   "cell_type": "code",
   "execution_count": 0,
   "metadata": {
    "colab": {},
    "colab_type": "code",
    "id": "XNUq64jVGTnn"
   },
   "outputs": [],
   "source": [
    "import zipfile\n",
    "zip_ref = zipfile.ZipFile(\"/content/data.zip\", 'r')\n",
    "zip_ref.extractall(\".\")\n",
    "zip_ref.close()"
   ]
  },
  {
   "cell_type": "code",
   "execution_count": 5,
   "metadata": {
    "colab": {
     "base_uri": "https://localhost:8080/",
     "height": 34
    },
    "colab_type": "code",
    "id": "i4HneFG1NG9i",
    "outputId": "3e7fbd44-a82e-4f87-f58a-b59adefa914b"
   },
   "outputs": [
    {
     "name": "stdout",
     "output_type": "stream",
     "text": [
      "data  data.zip\t__MACOSX  sample_data\n"
     ]
    }
   ],
   "source": [
    "!ls"
   ]
  },
  {
   "cell_type": "code",
   "execution_count": 0,
   "metadata": {
    "colab": {},
    "colab_type": "code",
    "id": "padVWQF8JZyt"
   },
   "outputs": [],
   "source": [
    "!mv data/functions.py ."
   ]
  },
  {
   "cell_type": "markdown",
   "metadata": {
    "colab_type": "text",
    "id": "Wve3vdq4J-d_"
   },
   "source": [
    "## Import"
   ]
  },
  {
   "cell_type": "code",
   "execution_count": 4,
   "metadata": {
    "colab": {},
    "colab_type": "code",
    "id": "JmkthV7cFgNJ"
   },
   "outputs": [],
   "source": [
    "import pandas as pd\n",
    "import numpy as np\n",
    "from datetime import datetime\n",
    "import re\n",
    "from xgboost import XGBClassifier\n",
    "from sklearn.ensemble import RandomForestClassifier\n",
    "\n",
    "from sklearn.model_selection import KFold, RandomizedSearchCV, StratifiedKFold\n",
    "from sklearn.metrics import roc_auc_score\n",
    "import matplotlib.pyplot as plt\n",
    "#from functions import *\n",
    "from catboost import CatBoostClassifier\n",
    "from sklearn.metrics import classification_report, f1_score\n",
    "\n",
    "from scipy.stats import uniform as sp_randFloat\n",
    "from scipy.stats import randint as sp_randInt"
   ]
  },
  {
   "cell_type": "markdown",
   "metadata": {
    "colab_type": "text",
    "id": "TgyQW7UnFgNP"
   },
   "source": [
    "## Read"
   ]
  },
  {
   "cell_type": "markdown",
   "metadata": {
    "colab_type": "text",
    "id": "yoRWVCFUFgNQ"
   },
   "source": [
    "1. Агрегировать данные по часу\n",
    "2. Создать train/test метка времени + 1/0"
   ]
  },
  {
   "cell_type": "code",
   "execution_count": null,
   "metadata": {
    "colab": {},
    "colab_type": "code",
    "id": "Ax5Pj0CfFgNR"
   },
   "outputs": [],
   "source": [
    "# injuries = pd.read_csv('data/SANRAL_v2/Injuries2016_2019.csv')\n",
    "# vehicles = pd.read_csv('data/SANRAL_v2/Vehicles2016_2019.csv')"
   ]
  },
  {
   "cell_type": "code",
   "execution_count": 10,
   "metadata": {
    "colab": {},
    "colab_type": "code",
    "id": "JzzYdcVxFgNU"
   },
   "outputs": [],
   "source": [
    "train = pd.read_csv('data/train.csv')"
   ]
  },
  {
   "cell_type": "code",
   "execution_count": 6,
   "metadata": {
    "colab": {},
    "colab_type": "code",
    "id": "zYc-X5bLFgNX"
   },
   "outputs": [],
   "source": [
    "# drop lines with bad road_segment_id\n",
    "train['rs_len'] = train['road_segment_id'].apply(lambda x: len(x))\n",
    "train = train[train['rs_len'] == 7]"
   ]
  },
  {
   "cell_type": "code",
   "execution_count": 7,
   "metadata": {
    "colab": {},
    "colab_type": "code",
    "id": "mRYpraoUFgNc"
   },
   "outputs": [],
   "source": [
    "dt = [datetime.strptime(x, \"%d/%m/%y %H:%M\") for x in train['Occurrence Local Date Time'].values]\n",
    "train['dt'] = dt\n",
    "train['hour_dt'] = train['dt'].dt.round('60min')"
   ]
  },
  {
   "cell_type": "code",
   "execution_count": 8,
   "metadata": {
    "colab": {},
    "colab_type": "code",
    "id": "qmDQdhfjN9-0"
   },
   "outputs": [],
   "source": [
    "train['longitude'] = train['longitude'].astype(float)"
   ]
  },
  {
   "cell_type": "code",
   "execution_count": 11,
   "metadata": {},
   "outputs": [
    {
     "data": {
      "text/html": [
       "<div>\n",
       "<style scoped>\n",
       "    .dataframe tbody tr th:only-of-type {\n",
       "        vertical-align: middle;\n",
       "    }\n",
       "\n",
       "    .dataframe tbody tr th {\n",
       "        vertical-align: top;\n",
       "    }\n",
       "\n",
       "    .dataframe thead th {\n",
       "        text-align: right;\n",
       "    }\n",
       "</style>\n",
       "<table border=\"1\" class=\"dataframe\">\n",
       "  <thead>\n",
       "    <tr style=\"text-align: right;\">\n",
       "      <th></th>\n",
       "      <th>EventId</th>\n",
       "      <th>Occurrence Local Date Time</th>\n",
       "      <th>Reporting Agency</th>\n",
       "      <th>Cause</th>\n",
       "      <th>Subcause</th>\n",
       "      <th>Status</th>\n",
       "      <th>longitude</th>\n",
       "      <th>latitude</th>\n",
       "      <th>road_segment_id</th>\n",
       "    </tr>\n",
       "  </thead>\n",
       "  <tbody>\n",
       "    <tr>\n",
       "      <td>0</td>\n",
       "      <td>60558</td>\n",
       "      <td>01/01/16 00:53</td>\n",
       "      <td>Cam</td>\n",
       "      <td>Stationary Vehicle</td>\n",
       "      <td>Vehicle On Shoulder</td>\n",
       "      <td>Closed</td>\n",
       "      <td>18.5408955032</td>\n",
       "      <td>-33.888275</td>\n",
       "      <td>S0B3CGQ</td>\n",
       "    </tr>\n",
       "    <tr>\n",
       "      <td>1</td>\n",
       "      <td>60559</td>\n",
       "      <td>01/01/16 00:54</td>\n",
       "      <td>CAMERA</td>\n",
       "      <td>Accident</td>\n",
       "      <td>With A Fixed Object</td>\n",
       "      <td>Closed</td>\n",
       "      <td>18.9307563219</td>\n",
       "      <td>-34.140857</td>\n",
       "      <td>RYJYAPI</td>\n",
       "    </tr>\n",
       "    <tr>\n",
       "      <td>2</td>\n",
       "      <td>60560</td>\n",
       "      <td>01/01/16 02:26</td>\n",
       "      <td>Law Enforcement</td>\n",
       "      <td>Accident</td>\n",
       "      <td>Multi Vehicle</td>\n",
       "      <td>Closed</td>\n",
       "      <td>18.5533575029</td>\n",
       "      <td>-33.959154</td>\n",
       "      <td>U3KP57C</td>\n",
       "    </tr>\n",
       "    <tr>\n",
       "      <td>3</td>\n",
       "      <td>60561</td>\n",
       "      <td>01/01/16 02:56</td>\n",
       "      <td>CAMERA</td>\n",
       "      <td>Stationary Vehicle</td>\n",
       "      <td>Vehicle On Shoulder</td>\n",
       "      <td>Closed</td>\n",
       "      <td>18.6775561589</td>\n",
       "      <td>-33.895258</td>\n",
       "      <td>RY0TRQ8</td>\n",
       "    </tr>\n",
       "    <tr>\n",
       "      <td>4</td>\n",
       "      <td>60562</td>\n",
       "      <td>01/01/16 03:40</td>\n",
       "      <td>CAMERA</td>\n",
       "      <td>Accident</td>\n",
       "      <td>Multi Vehicle</td>\n",
       "      <td>Closed</td>\n",
       "      <td>18.8371319682</td>\n",
       "      <td>-34.087051</td>\n",
       "      <td>8LOVJZ3</td>\n",
       "    </tr>\n",
       "    <tr>\n",
       "      <td>5</td>\n",
       "      <td>60564</td>\n",
       "      <td>01/01/16 06:32</td>\n",
       "      <td>NaN</td>\n",
       "      <td>Stationary Vehicle</td>\n",
       "      <td>Vehicle On Shoulder</td>\n",
       "      <td>Closed</td>\n",
       "      <td>18.6384711081</td>\n",
       "      <td>-33.885498</td>\n",
       "      <td>X4UA382</td>\n",
       "    </tr>\n",
       "    <tr>\n",
       "      <td>6</td>\n",
       "      <td>60565</td>\n",
       "      <td>01/01/16 07:05</td>\n",
       "      <td>camera</td>\n",
       "      <td>Accident</td>\n",
       "      <td>Single Vehicle</td>\n",
       "      <td>Closed</td>\n",
       "      <td>18.4637854567</td>\n",
       "      <td>-33.943158</td>\n",
       "      <td>0QR8FDW</td>\n",
       "    </tr>\n",
       "    <tr>\n",
       "      <td>7</td>\n",
       "      <td>60567</td>\n",
       "      <td>01/01/16 07:39</td>\n",
       "      <td>camera</td>\n",
       "      <td>Police and Military</td>\n",
       "      <td>Road Rage</td>\n",
       "      <td>Closed</td>\n",
       "      <td>18.6359671258</td>\n",
       "      <td>-34.002366</td>\n",
       "      <td>DZABHQW</td>\n",
       "    </tr>\n",
       "    <tr>\n",
       "      <td>8</td>\n",
       "      <td>60568</td>\n",
       "      <td>01/01/16 08:00</td>\n",
       "      <td>camera</td>\n",
       "      <td>Stationary Vehicle</td>\n",
       "      <td>Vehicle On Shoulder</td>\n",
       "      <td>Closed</td>\n",
       "      <td>18.6350138684</td>\n",
       "      <td>-34.002237</td>\n",
       "      <td>EKZN1VM</td>\n",
       "    </tr>\n",
       "    <tr>\n",
       "      <td>9</td>\n",
       "      <td>60569</td>\n",
       "      <td>01/01/16 08:44</td>\n",
       "      <td>SAPS</td>\n",
       "      <td>Accident</td>\n",
       "      <td>Single Vehicle</td>\n",
       "      <td>Closed</td>\n",
       "      <td>18.4906240725</td>\n",
       "      <td>-33.949284</td>\n",
       "      <td>H9XYX9Q</td>\n",
       "    </tr>\n",
       "  </tbody>\n",
       "</table>\n",
       "</div>"
      ],
      "text/plain": [
       "   EventId Occurrence Local Date Time Reporting Agency                Cause  \\\n",
       "0    60558             01/01/16 00:53              Cam   Stationary Vehicle   \n",
       "1    60559             01/01/16 00:54           CAMERA             Accident   \n",
       "2    60560             01/01/16 02:26  Law Enforcement             Accident   \n",
       "3    60561             01/01/16 02:56           CAMERA   Stationary Vehicle   \n",
       "4    60562             01/01/16 03:40           CAMERA             Accident   \n",
       "5    60564             01/01/16 06:32              NaN   Stationary Vehicle   \n",
       "6    60565             01/01/16 07:05           camera             Accident   \n",
       "7    60567             01/01/16 07:39           camera  Police and Military   \n",
       "8    60568             01/01/16 08:00           camera   Stationary Vehicle   \n",
       "9    60569             01/01/16 08:44             SAPS             Accident   \n",
       "\n",
       "              Subcause  Status      longitude   latitude road_segment_id  \n",
       "0  Vehicle On Shoulder  Closed  18.5408955032 -33.888275         S0B3CGQ  \n",
       "1  With A Fixed Object  Closed  18.9307563219 -34.140857         RYJYAPI  \n",
       "2        Multi Vehicle  Closed  18.5533575029 -33.959154         U3KP57C  \n",
       "3  Vehicle On Shoulder  Closed  18.6775561589 -33.895258         RY0TRQ8  \n",
       "4        Multi Vehicle  Closed  18.8371319682 -34.087051         8LOVJZ3  \n",
       "5  Vehicle On Shoulder  Closed  18.6384711081 -33.885498         X4UA382  \n",
       "6       Single Vehicle  Closed  18.4637854567 -33.943158         0QR8FDW  \n",
       "7            Road Rage  Closed  18.6359671258 -34.002366         DZABHQW  \n",
       "8  Vehicle On Shoulder  Closed  18.6350138684 -34.002237         EKZN1VM  \n",
       "9       Single Vehicle  Closed  18.4906240725 -33.949284         H9XYX9Q  "
      ]
     },
     "execution_count": 11,
     "metadata": {},
     "output_type": "execute_result"
    }
   ],
   "source": [
    "train.head(10)"
   ]
  },
  {
   "cell_type": "markdown",
   "metadata": {
    "colab_type": "text",
    "id": "kCUQrpS-SU3j"
   },
   "source": [
    "## Count feats"
   ]
  },
  {
   "cell_type": "code",
   "execution_count": 0,
   "metadata": {
    "colab": {},
    "colab_type": "code",
    "id": "Z0PiwW0uSgIu"
   },
   "outputs": [],
   "source": [
    "locations = train.groupby('road_segment_id').mean()[['longitude', 'latitude']].reset_index().rename(columns={'road_segment_id':'segment_id'})"
   ]
  },
  {
   "cell_type": "code",
   "execution_count": 0,
   "metadata": {
    "colab": {},
    "colab_type": "code",
    "id": "QI130hNXORKC"
   },
   "outputs": [],
   "source": [
    "accident_count = train.groupby('road_segment_id').count()[['EventId']].reset_index().rename(columns={'road_segment_id':'segment_id', 'EventId':'target_count'})"
   ]
  },
  {
   "cell_type": "code",
   "execution_count": 0,
   "metadata": {
    "colab": {},
    "colab_type": "code",
    "id": "p5NxQ5ZtOgt5"
   },
   "outputs": [],
   "source": [
    "train['year'] = train['hour_dt'].dt.year\n",
    "train['hour'] = train['hour_dt'].dt.hour"
   ]
  },
  {
   "cell_type": "code",
   "execution_count": 0,
   "metadata": {
    "colab": {},
    "colab_type": "code",
    "id": "pq5Xcf3NO-tu"
   },
   "outputs": [],
   "source": [
    "accident_count_by_year = train.groupby(['road_segment_id', 'year']).count()[['EventId']]\\\n",
    "                                            .reset_index()\\\n",
    "                                            .rename(columns={'road_segment_id':'segment_id', 'EventId':'target_count_year'})\n",
    "accident_count_by_hour = train.groupby(['road_segment_id', 'hour']).count()[['EventId']].reset_index().rename(columns={'road_segment_id':'segment_id', 'EventId':'target_count_hour'})"
   ]
  },
  {
   "cell_type": "markdown",
   "metadata": {
    "colab_type": "text",
    "id": "1gYyuG6lSXXt"
   },
   "source": [
    "## Create train sample"
   ]
  },
  {
   "cell_type": "code",
   "execution_count": 20,
   "metadata": {
    "colab": {},
    "colab_type": "code",
    "id": "9Ny50MTQFgNZ"
   },
   "outputs": [
    {
     "ename": "KeyboardInterrupt",
     "evalue": "",
     "output_type": "error",
     "traceback": [
      "\u001b[0;31m---------------------------------------------------------------------------\u001b[0m",
      "\u001b[0;31mKeyboardInterrupt\u001b[0m                         Traceback (most recent call last)",
      "\u001b[0;32m<ipython-input-20-5f532bde6a8d>\u001b[0m in \u001b[0;36m<module>\u001b[0;34m\u001b[0m\n\u001b[1;32m      9\u001b[0m     \u001b[0mlst\u001b[0m \u001b[0;34m=\u001b[0m \u001b[0mi\u001b[0m\u001b[0;34m[\u001b[0m\u001b[0;36m2\u001b[0m\u001b[0;34m]\u001b[0m\u001b[0;34m\u001b[0m\u001b[0;34m\u001b[0m\u001b[0m\n\u001b[1;32m     10\u001b[0m     \u001b[0;32mfor\u001b[0m \u001b[0mcol2\u001b[0m \u001b[0;32min\u001b[0m \u001b[0mlst\u001b[0m\u001b[0;34m:\u001b[0m\u001b[0;34m\u001b[0m\u001b[0;34m\u001b[0m\u001b[0m\n\u001b[0;32m---> 11\u001b[0;31m         \u001b[0mdata\u001b[0m\u001b[0;34m.\u001b[0m\u001b[0mappend\u001b[0m\u001b[0;34m(\u001b[0m\u001b[0;34m[\u001b[0m\u001b[0mi\u001b[0m\u001b[0;34m[\u001b[0m\u001b[0;36m1\u001b[0m\u001b[0;34m]\u001b[0m\u001b[0;34m,\u001b[0m \u001b[0mcol2\u001b[0m\u001b[0;34m]\u001b[0m\u001b[0;34m)\u001b[0m\u001b[0;34m\u001b[0m\u001b[0;34m\u001b[0m\u001b[0m\n\u001b[0m\u001b[1;32m     12\u001b[0m \u001b[0;34m\u001b[0m\u001b[0m\n\u001b[1;32m     13\u001b[0m \u001b[0mdf_output\u001b[0m \u001b[0;34m=\u001b[0m \u001b[0mpd\u001b[0m\u001b[0;34m.\u001b[0m\u001b[0mDataFrame\u001b[0m\u001b[0;34m(\u001b[0m\u001b[0mdata\u001b[0m\u001b[0;34m=\u001b[0m\u001b[0mdata\u001b[0m\u001b[0;34m,\u001b[0m \u001b[0mcolumns\u001b[0m\u001b[0;34m=\u001b[0m\u001b[0magg_train\u001b[0m\u001b[0;34m.\u001b[0m\u001b[0mcolumns\u001b[0m\u001b[0;34m)\u001b[0m\u001b[0;34m\u001b[0m\u001b[0;34m\u001b[0m\u001b[0m\n",
      "\u001b[0;31mKeyboardInterrupt\u001b[0m: "
     ]
    }
   ],
   "source": [
    "road_segment_id = train['road_segment_id'].unique()\n",
    "agg_train = pd.DataFrame([])\n",
    "agg_train['ts'] = pd.date_range(start='2016-01-01', end='2018-12-31', freq='h')\n",
    "rs = [road_segment_id]*agg_train.shape[0]\n",
    "agg_train['rs_list'] = rs\n",
    "\n",
    "data = []\n",
    "for i in agg_train.itertuples():\n",
    "    lst = i[2]\n",
    "    for col2 in lst:\n",
    "        data.append([i[1], col2])\n",
    "\n",
    "df_output = pd.DataFrame(data=data, columns=agg_train.columns) "
   ]
  },
  {
   "cell_type": "code",
   "execution_count": 21,
   "metadata": {},
   "outputs": [
    {
     "data": {
      "text/plain": [
       "549"
      ]
     },
     "execution_count": 21,
     "metadata": {},
     "output_type": "execute_result"
    }
   ],
   "source": [
    "train['road_segment_id'].nunique()"
   ]
  },
  {
   "cell_type": "code",
   "execution_count": 0,
   "metadata": {
    "colab": {},
    "colab_type": "code",
    "id": "c8OpyWVgFgNe"
   },
   "outputs": [],
   "source": [
    "# Aggregating train\n",
    "\n",
    "base_df = df_output.merge(train[['hour_dt', 'road_segment_id', 'EventId']], \n",
    "                          left_on=['ts', 'rs_list'], \n",
    "                          right_on=['hour_dt', 'road_segment_id'],\n",
    "                          how='left')\\\n",
    "                   .drop(['hour_dt', 'road_segment_id'], axis=1)"
   ]
  },
  {
   "cell_type": "code",
   "execution_count": 0,
   "metadata": {
    "colab": {},
    "colab_type": "code",
    "id": "GN_-4WJqFgNh"
   },
   "outputs": [],
   "source": [
    "base_df['target'] = base_df['EventId'].apply(lambda x: 0 if pd.isnull(x) else 1)"
   ]
  },
  {
   "cell_type": "code",
   "execution_count": 0,
   "metadata": {
    "colab": {},
    "colab_type": "code",
    "id": "G64f3MdLQCk5"
   },
   "outputs": [],
   "source": [
    "base_df.drop(['EventId'], axis=1, inplace=True)"
   ]
  },
  {
   "cell_type": "code",
   "execution_count": 108,
   "metadata": {
    "colab": {
     "base_uri": "https://localhost:8080/",
     "height": 68
    },
    "colab_type": "code",
    "id": "L1N-A3hTFgNj",
    "outputId": "3aafdd30-0c93-4aca-8e36-c3c6a38de33f"
   },
   "outputs": [
    {
     "data": {
      "text/plain": [
       "0    14245462\n",
       "1       53738\n",
       "Name: target, dtype: int64"
      ]
     },
     "execution_count": 108,
     "metadata": {
      "tags": []
     },
     "output_type": "execute_result"
    }
   ],
   "source": [
    "base_df['target'].value_counts()"
   ]
  },
  {
   "cell_type": "code",
   "execution_count": 27,
   "metadata": {},
   "outputs": [
    {
     "data": {
      "text/plain": [
       "0.0037722890279023595"
      ]
     },
     "execution_count": 27,
     "metadata": {},
     "output_type": "execute_result"
    }
   ],
   "source": [
    "53738/14245462"
   ]
  },
  {
   "cell_type": "code",
   "execution_count": 0,
   "metadata": {
    "colab": {},
    "colab_type": "code",
    "id": "rPjapMj3xDKu"
   },
   "outputs": [],
   "source": [
    "start = datetime.strptime('18-01-01', '%y-%m-%d')\n",
    "end = datetime.strptime('18-04-01', '%y-%m-%d')\n",
    "\n",
    "base_df['test'] = base_df['ts'].apply(lambda x: 1 if x >= start and x < end else 0)"
   ]
  },
  {
   "cell_type": "code",
   "execution_count": 116,
   "metadata": {
    "colab": {
     "base_uri": "https://localhost:8080/",
     "height": 68
    },
    "colab_type": "code",
    "id": "V1MY1baE4WGE",
    "outputId": "790aeb94-88a5-45c6-af48-2f36e11831ef"
   },
   "outputs": [
    {
     "data": {
      "text/plain": [
       "0    13124055\n",
       "1     1175145\n",
       "Name: test, dtype: int64"
      ]
     },
     "execution_count": 116,
     "metadata": {
      "tags": []
     },
     "output_type": "execute_result"
    }
   ],
   "source": [
    "base_df['test'].value_counts()"
   ]
  },
  {
   "cell_type": "code",
   "execution_count": 0,
   "metadata": {
    "colab": {},
    "colab_type": "code",
    "id": "D4I6ArVvFgNn"
   },
   "outputs": [],
   "source": [
    "t1 = base_df[base_df['test']==1]\n",
    "t2 = base_df[(base_df['target']==1)&(base_df['test']==0)]\n",
    "t3 = base_df[(base_df['target']==0)&(base_df['test']==0)].sample(n=500000)\n",
    "\n",
    "train_short = pd.concat((pd.concat((t1, t2)), t3)).reset_index(drop=True)"
   ]
  },
  {
   "cell_type": "code",
   "execution_count": 118,
   "metadata": {
    "colab": {
     "base_uri": "https://localhost:8080/",
     "height": 68
    },
    "colab_type": "code",
    "id": "t4I1_9THFgN5",
    "outputId": "ba535527-ba63-42d4-830e-7bbba678fa2d"
   },
   "outputs": [
    {
     "data": {
      "text/plain": [
       "0    1671633\n",
       "1      53738\n",
       "Name: target, dtype: int64"
      ]
     },
     "execution_count": 118,
     "metadata": {
      "tags": []
     },
     "output_type": "execute_result"
    }
   ],
   "source": [
    "train_short['target'].value_counts()"
   ]
  },
  {
   "cell_type": "code",
   "execution_count": 0,
   "metadata": {
    "colab": {},
    "colab_type": "code",
    "id": "5GEEmJQjFgN8"
   },
   "outputs": [],
   "source": [
    "del base_df, df_output, data"
   ]
  },
  {
   "cell_type": "code",
   "execution_count": 0,
   "metadata": {
    "colab": {},
    "colab_type": "code",
    "id": "lT4yt2nVFgN-"
   },
   "outputs": [],
   "source": [
    "del agg_train"
   ]
  },
  {
   "cell_type": "markdown",
   "metadata": {
    "colab_type": "text",
    "id": "ZmJWvjR4FgOA"
   },
   "source": [
    "## Weather"
   ]
  },
  {
   "cell_type": "code",
   "execution_count": 0,
   "metadata": {
    "colab": {},
    "colab_type": "code",
    "id": "0iFZIXf_LVNM"
   },
   "outputs": [],
   "source": [
    "def weather_prep(df):\n",
    "    \n",
    "    df['short_time'] = df['local_time'].apply(lambda x: x[:6]+x[8:])\n",
    "    dt = [datetime.strptime(x, \"%d/%m/%y %H:%M\") for x in [x.replace('.', '/') for x in df['short_time'].values]]\n",
    "    df['dt'] = dt\n",
    "    df['hour_dt'] = df['dt'].dt.round('60min')\n",
    "    \n",
    "    df['clouds_few'] = df['clouds'].str.lower().apply(lambda x: 1 if re.findall('(few clouds)', str(x)) else 0)\n",
    "    df['clouds_broken'] = df['clouds'].str.lower().apply(lambda x: 1 if re.findall('(broken clouds)', str(x)) else 0)\n",
    "        df['clouds_scattered'] = df['clouds'].str.lower().apply(lambda x: 1 if re.findall('(scattered clouds)', str(x)) else 0)\n",
    "    df['about_visibility'] = df['clouds'].str.lower().apply(lambda x: 1 if re.findall('(visibility)', str(x)) else 0)\n",
    "    \n",
    "    df['horizontal_visibility'] = df['horizontal_visibility'].apply(hv)\n",
    "    \n",
    "    df['weather_rain']    = df['special_weather_phenomena'].str.lower().apply(lambda x: 1 if re.findall('(rain)', str(x)) else 0)\n",
    "    df['weather_fog']     = df['special_weather_phenomena'].str.lower().apply(lambda x: 1 if re.findall('(fog)', str(x)) or re.findall('(mist)', str(x)) else 0)\n",
    "    df['weather_drizzle'] = df['special_weather_phenomena'].str.lower().apply(lambda x: 1 if re.findall('(drizzle)', str(x)) else 0)\n",
    "    \n",
    "    df['Td'] = df['Td'].apply(hv)\n",
    "    df['Td'] = df['Td'].astype(float)\n",
    "    \n",
    "    df['morning'] = df.hour_dt.apply(lambda x: 1 if x.hour >=0 and x.hour < 7 else 0)\n",
    "    df['day']     = df.hour_dt.apply(lambda x: 1 if x.hour >=7 and x.hour < 12 else 0)\n",
    "    df['evening'] = df.hour_dt.apply(lambda x: 1 if x.hour >=12 and x.hour < 19 else 0)\n",
    "    \n",
    "    df.drop(['local_time', 'short_time', 'dt', 'clouds', 'special_weather_phenomena'], axis=1, inplace=True)\n",
    "    \n",
    "    df_2 = df.groupby('hour_dt').max().reset_index()\n",
    "\n",
    "    return df_2"
   ]
  },
  {
   "cell_type": "code",
   "execution_count": 22,
   "metadata": {
    "colab": {},
    "colab_type": "code",
    "id": "6Z9c6Z87FgOC"
   },
   "outputs": [],
   "source": [
    "weather = pd.read_csv('data/weather_train.csv', sep=';')\n",
    "weather = weather.drop(['Unnamed: 13', 'Unnamed: 14', \"W'W'\", 'ff10'], axis=1)\n",
    "\n",
    "weather_cols = ['local_time', 'temperature', 'p0', 'p', 'humidity', 'mean_wind_direction', \n",
    "                'mean_wind_speed', 'special_weather_phenomena', 'clouds', 'horizontal_visibility', 'Td']\n",
    "\n",
    "weather.columns = weather_cols\n",
    "#weather_2 = weather_prep(weather.copy())"
   ]
  },
  {
   "cell_type": "code",
   "execution_count": 24,
   "metadata": {},
   "outputs": [
    {
     "data": {
      "text/plain": [
       "18"
      ]
     },
     "execution_count": 24,
     "metadata": {},
     "output_type": "execute_result"
    }
   ],
   "source": [
    "weather['mean_wind_direction'].nunique()"
   ]
  },
  {
   "cell_type": "code",
   "execution_count": 26,
   "metadata": {},
   "outputs": [
    {
     "data": {
      "text/plain": [
       "0               No Significant Clouds\n",
       "1           Few clouds (10-30%) 600 m\n",
       "2           Few clouds (10-30%) 450 m\n",
       "3           Few clouds (10-30%) 450 m\n",
       "4        Broken clouds (60-90%) 450 m\n",
       "                     ...             \n",
       "28367           No Significant Clouds\n",
       "28368           No Significant Clouds\n",
       "28369           No Significant Clouds\n",
       "28370           No Significant Clouds\n",
       "28371           No Significant Clouds\n",
       "Name: clouds, Length: 28372, dtype: object"
      ]
     },
     "execution_count": 26,
     "metadata": {},
     "output_type": "execute_result"
    }
   ],
   "source": [
    "weather['clouds']"
   ]
  },
  {
   "cell_type": "code",
   "execution_count": 0,
   "metadata": {
    "colab": {},
    "colab_type": "code",
    "id": "tbwFlzNfK9Kt"
   },
   "outputs": [],
   "source": [
    "weather_cat_cols = ['mean_wind_direction']"
   ]
  },
  {
   "cell_type": "code",
   "execution_count": 30,
   "metadata": {
    "colab": {
     "base_uri": "https://localhost:8080/",
     "height": 34
    },
    "colab_type": "code",
    "id": "5lHsA9r5FgOL",
    "outputId": "0a06152d-6c2e-4fe5-f5bc-edb83f73ff45"
   },
   "outputs": [
    {
     "data": {
      "text/plain": [
       "(25920, 18)"
      ]
     },
     "execution_count": 30,
     "metadata": {
      "tags": []
     },
     "output_type": "execute_result"
    }
   ],
   "source": [
    "weather_2.shape"
   ]
  },
  {
   "cell_type": "markdown",
   "metadata": {
    "colab_type": "text",
    "id": "H8zPTqHiFgOP"
   },
   "source": [
    "## Geo"
   ]
  },
  {
   "cell_type": "code",
   "execution_count": 0,
   "metadata": {
    "colab": {},
    "colab_type": "code",
    "id": "f2ijHx4hFgOQ"
   },
   "outputs": [],
   "source": [
    "#tz_2018_1 = pd.read_csv('data/cape_town-travel_zones-2018-1-All-HourlyAggregate.csv')"
   ]
  },
  {
   "cell_type": "code",
   "execution_count": 0,
   "metadata": {
    "colab": {},
    "colab_type": "code",
    "id": "im5Lz0qTQICy"
   },
   "outputs": [],
   "source": [
    "seg = pd.read_pickle('data/seg_df.pickle')"
   ]
  },
  {
   "cell_type": "code",
   "execution_count": 32,
   "metadata": {
    "colab": {
     "base_uri": "https://localhost:8080/",
     "height": 204
    },
    "colab_type": "code",
    "id": "U8pZx3ZtFgOW",
    "outputId": "faa9223a-756e-44b8-b1f5-336cd4448195"
   },
   "outputs": [
    {
     "data": {
      "text/html": [
       "<div>\n",
       "<style scoped>\n",
       "    .dataframe tbody tr th:only-of-type {\n",
       "        vertical-align: middle;\n",
       "    }\n",
       "\n",
       "    .dataframe tbody tr th {\n",
       "        vertical-align: top;\n",
       "    }\n",
       "\n",
       "    .dataframe thead th {\n",
       "        text-align: right;\n",
       "    }\n",
       "</style>\n",
       "<table border=\"1\" class=\"dataframe\">\n",
       "  <thead>\n",
       "    <tr style=\"text-align: right;\">\n",
       "      <th></th>\n",
       "      <th>ROADNO</th>\n",
       "      <th>CLASS</th>\n",
       "      <th>WIDTH</th>\n",
       "      <th>LANES</th>\n",
       "      <th>SURFTYPE</th>\n",
       "      <th>PAVETYPE</th>\n",
       "      <th>CONDITION</th>\n",
       "      <th>length_1</th>\n",
       "      <th>segment_id</th>\n",
       "    </tr>\n",
       "  </thead>\n",
       "  <tbody>\n",
       "    <tr>\n",
       "      <th>0</th>\n",
       "      <td>R300</td>\n",
       "      <td>Primary</td>\n",
       "      <td>20.2</td>\n",
       "      <td>2</td>\n",
       "      <td>Paved</td>\n",
       "      <td>FLEX</td>\n",
       "      <td>Good</td>\n",
       "      <td>471.207</td>\n",
       "      <td>D1U6OOF</td>\n",
       "    </tr>\n",
       "    <tr>\n",
       "      <th>1</th>\n",
       "      <td>R300</td>\n",
       "      <td>Primary</td>\n",
       "      <td>20.2</td>\n",
       "      <td>2</td>\n",
       "      <td>Paved</td>\n",
       "      <td>FLEX</td>\n",
       "      <td>Good</td>\n",
       "      <td>471.207</td>\n",
       "      <td>NG4X2MD</td>\n",
       "    </tr>\n",
       "    <tr>\n",
       "      <th>2</th>\n",
       "      <td>R300</td>\n",
       "      <td>Primary</td>\n",
       "      <td>20.2</td>\n",
       "      <td>2</td>\n",
       "      <td>Paved</td>\n",
       "      <td>FLEX</td>\n",
       "      <td>Good</td>\n",
       "      <td>471.207</td>\n",
       "      <td>792705Z</td>\n",
       "    </tr>\n",
       "    <tr>\n",
       "      <th>3</th>\n",
       "      <td>R300</td>\n",
       "      <td>Primary</td>\n",
       "      <td>20.2</td>\n",
       "      <td>2</td>\n",
       "      <td>Paved</td>\n",
       "      <td>FLEX</td>\n",
       "      <td>Good</td>\n",
       "      <td>471.207</td>\n",
       "      <td>IK67XHB</td>\n",
       "    </tr>\n",
       "    <tr>\n",
       "      <th>4</th>\n",
       "      <td>R300</td>\n",
       "      <td>Primary</td>\n",
       "      <td>20.2</td>\n",
       "      <td>2</td>\n",
       "      <td>Paved</td>\n",
       "      <td>FLEX</td>\n",
       "      <td>Good</td>\n",
       "      <td>471.207</td>\n",
       "      <td>OWCF2MH</td>\n",
       "    </tr>\n",
       "  </tbody>\n",
       "</table>\n",
       "</div>"
      ],
      "text/plain": [
       "  ROADNO    CLASS  WIDTH  LANES  ... PAVETYPE CONDITION length_1  segment_id\n",
       "0   R300  Primary   20.2      2  ...     FLEX      Good  471.207     D1U6OOF\n",
       "1   R300  Primary   20.2      2  ...     FLEX      Good  471.207     NG4X2MD\n",
       "2   R300  Primary   20.2      2  ...     FLEX      Good  471.207     792705Z\n",
       "3   R300  Primary   20.2      2  ...     FLEX      Good  471.207     IK67XHB\n",
       "4   R300  Primary   20.2      2  ...     FLEX      Good  471.207     OWCF2MH\n",
       "\n",
       "[5 rows x 9 columns]"
      ]
     },
     "execution_count": 32,
     "metadata": {
      "tags": []
     },
     "output_type": "execute_result"
    }
   ],
   "source": [
    "seg.drop(['REGION', 'geometry'], axis=1, inplace=True)\n",
    "seg.head()"
   ]
  },
  {
   "cell_type": "code",
   "execution_count": 0,
   "metadata": {
    "colab": {},
    "colab_type": "code",
    "id": "RqhJTv0_RXoq"
   },
   "outputs": [],
   "source": [
    "seg_cat_cols = ['ROADNO', 'CLASS', 'SURFTYPE', 'PAVETYPE', 'CONDITION']"
   ]
  },
  {
   "cell_type": "markdown",
   "metadata": {
    "colab_type": "text",
    "id": "ZzryIPB7FgOY"
   },
   "source": [
    "## Uber data"
   ]
  },
  {
   "cell_type": "code",
   "execution_count": 0,
   "metadata": {
    "colab": {},
    "colab_type": "code",
    "id": "Ud6avALxFgOZ"
   },
   "outputs": [],
   "source": [
    "# q1_2018 = pd.read_csv('data/cape_town-travel_zones-2018-1-All-HourlyAggregate.csv')\n",
    "\n",
    "# q2_2018 = pd.read_csv('data/cape_town-travel_zones-2018-2-All-HourlyAggregate.csv')\n",
    "\n",
    "# q3_2018 = pd.read_csv('data/cape_town-travel_zones-2018-3-All-HourlyAggregate.csv')\n",
    "\n",
    "# q4_2018 = pd.read_csv('data/cape_town-travel_zones-2018-4-All-HourlyAggregate.csv')"
   ]
  },
  {
   "cell_type": "markdown",
   "metadata": {
    "colab_type": "text",
    "id": "YSdA6MxzFgOa"
   },
   "source": [
    "## Feats join"
   ]
  },
  {
   "cell_type": "code",
   "execution_count": 0,
   "metadata": {
    "colab": {},
    "colab_type": "code",
    "id": "PCAwVAMKFgOb"
   },
   "outputs": [],
   "source": [
    "# pol = gpd.read_file('data/cape_town_travel_zones.json')\n",
    "# pd.merge(base_df, gpd.sjoin(seg, pol[['fake_gavno', 'geometry']])[['segment_id', 'fake_gavno']], on='segment_id')"
   ]
  },
  {
   "cell_type": "code",
   "execution_count": 0,
   "metadata": {
    "colab": {},
    "colab_type": "code",
    "id": "r1MSH2hKFgOd"
   },
   "outputs": [],
   "source": [
    "train_short = train_short.rename(columns={'rs_list':'segment_id'})#.head(2)"
   ]
  },
  {
   "cell_type": "code",
   "execution_count": 0,
   "metadata": {
    "colab": {},
    "colab_type": "code",
    "id": "gsUKHk1MFgOe"
   },
   "outputs": [],
   "source": [
    "train_2 = train_short.merge(seg, on='segment_id', how='left')\\\n",
    "                 .merge(weather_2, left_on='ts', right_on='hour_dt', how='left')\\\n",
    "                 .drop('hour_dt', axis=1)"
   ]
  },
  {
   "cell_type": "code",
   "execution_count": 0,
   "metadata": {
    "colab": {},
    "colab_type": "code",
    "id": "qI3LQJ1MNwQX"
   },
   "outputs": [],
   "source": [
    "train_2['year'] = train_2['ts'].dt.year\n",
    "train_2['month'] = train_2['ts'].dt.month\n",
    "train_2['day_of_week'] = train_2['ts'].dt.weekday_name\n",
    "train_2['hour'] = train_2['ts'].dt.hour\n",
    "\n",
    "train_2 = train_2.merge(locations, on='segment_id', how='left')\\\n",
    "                 .merge(accident_count, on='segment_id', how='left')\\\n",
    "                 .merge(accident_count_by_hour, on=['segment_id', 'hour'], how='left')\\\n",
    "                 .merge(accident_count_by_year, on=['segment_id', 'year'], how='left')"
   ]
  },
  {
   "cell_type": "code",
   "execution_count": 0,
   "metadata": {
    "colab": {},
    "colab_type": "code",
    "id": "F7gRdHr0FgOn"
   },
   "outputs": [],
   "source": [
    "train_2 = train_2.fillna(-1)"
   ]
  },
  {
   "cell_type": "code",
   "execution_count": 143,
   "metadata": {
    "colab": {
     "base_uri": "https://localhost:8080/",
     "height": 309
    },
    "colab_type": "code",
    "id": "2uoi_Acj-4mo",
    "outputId": "ad9cb38c-8867-41ba-fb78-8ea7503ca4d0"
   },
   "outputs": [
    {
     "data": {
      "text/html": [
       "<div>\n",
       "<style scoped>\n",
       "    .dataframe tbody tr th:only-of-type {\n",
       "        vertical-align: middle;\n",
       "    }\n",
       "\n",
       "    .dataframe tbody tr th {\n",
       "        vertical-align: top;\n",
       "    }\n",
       "\n",
       "    .dataframe thead th {\n",
       "        text-align: right;\n",
       "    }\n",
       "</style>\n",
       "<table border=\"1\" class=\"dataframe\">\n",
       "  <thead>\n",
       "    <tr style=\"text-align: right;\">\n",
       "      <th></th>\n",
       "      <th>ts</th>\n",
       "      <th>segment_id</th>\n",
       "      <th>target</th>\n",
       "      <th>test</th>\n",
       "      <th>ROADNO</th>\n",
       "      <th>CLASS</th>\n",
       "      <th>WIDTH</th>\n",
       "      <th>LANES</th>\n",
       "      <th>SURFTYPE</th>\n",
       "      <th>PAVETYPE</th>\n",
       "      <th>CONDITION</th>\n",
       "      <th>length_1</th>\n",
       "      <th>temperature</th>\n",
       "      <th>p0</th>\n",
       "      <th>p</th>\n",
       "      <th>humidity</th>\n",
       "      <th>mean_wind_speed</th>\n",
       "      <th>horizontal_visibility</th>\n",
       "      <th>Td</th>\n",
       "      <th>clouds_few</th>\n",
       "      <th>clouds_broken</th>\n",
       "      <th>clouds_scattered</th>\n",
       "      <th>about_visibility</th>\n",
       "      <th>weather_rain</th>\n",
       "      <th>weather_fog</th>\n",
       "      <th>weather_drizzle</th>\n",
       "      <th>morning</th>\n",
       "      <th>day</th>\n",
       "      <th>evening</th>\n",
       "      <th>year</th>\n",
       "      <th>month</th>\n",
       "      <th>day_of_week</th>\n",
       "      <th>hour</th>\n",
       "      <th>longitude</th>\n",
       "      <th>latitude</th>\n",
       "      <th>target_count</th>\n",
       "      <th>target_count_hour</th>\n",
       "      <th>target_count_year</th>\n",
       "    </tr>\n",
       "  </thead>\n",
       "  <tbody>\n",
       "    <tr>\n",
       "      <th>0</th>\n",
       "      <td>2018-01-01</td>\n",
       "      <td>S0B3CGQ</td>\n",
       "      <td>0</td>\n",
       "      <td>1</td>\n",
       "      <td>N1</td>\n",
       "      <td>Primary</td>\n",
       "      <td>0.0</td>\n",
       "      <td>0</td>\n",
       "      <td>Paved</td>\n",
       "      <td>Unknown</td>\n",
       "      <td>Unknown</td>\n",
       "      <td>521.765</td>\n",
       "      <td>16.0</td>\n",
       "      <td>755.2</td>\n",
       "      <td>759.0</td>\n",
       "      <td>88.0</td>\n",
       "      <td>5.0</td>\n",
       "      <td>10.0</td>\n",
       "      <td>14.0</td>\n",
       "      <td>0.0</td>\n",
       "      <td>0.0</td>\n",
       "      <td>1.0</td>\n",
       "      <td>0.0</td>\n",
       "      <td>0.0</td>\n",
       "      <td>0.0</td>\n",
       "      <td>0.0</td>\n",
       "      <td>1.0</td>\n",
       "      <td>0.0</td>\n",
       "      <td>0.0</td>\n",
       "      <td>2018</td>\n",
       "      <td>1</td>\n",
       "      <td>Monday</td>\n",
       "      <td>0</td>\n",
       "      <td>18.541422</td>\n",
       "      <td>-33.888613</td>\n",
       "      <td>181</td>\n",
       "      <td>10.0</td>\n",
       "      <td>79.0</td>\n",
       "    </tr>\n",
       "    <tr>\n",
       "      <th>1</th>\n",
       "      <td>2018-01-01</td>\n",
       "      <td>RYJYAPI</td>\n",
       "      <td>0</td>\n",
       "      <td>1</td>\n",
       "      <td>N2</td>\n",
       "      <td>Primary</td>\n",
       "      <td>12.8</td>\n",
       "      <td>2</td>\n",
       "      <td>Paved</td>\n",
       "      <td>FLEX</td>\n",
       "      <td>Very Good</td>\n",
       "      <td>521.945</td>\n",
       "      <td>16.0</td>\n",
       "      <td>755.2</td>\n",
       "      <td>759.0</td>\n",
       "      <td>88.0</td>\n",
       "      <td>5.0</td>\n",
       "      <td>10.0</td>\n",
       "      <td>14.0</td>\n",
       "      <td>0.0</td>\n",
       "      <td>0.0</td>\n",
       "      <td>1.0</td>\n",
       "      <td>0.0</td>\n",
       "      <td>0.0</td>\n",
       "      <td>0.0</td>\n",
       "      <td>0.0</td>\n",
       "      <td>1.0</td>\n",
       "      <td>0.0</td>\n",
       "      <td>0.0</td>\n",
       "      <td>2018</td>\n",
       "      <td>1</td>\n",
       "      <td>Monday</td>\n",
       "      <td>0</td>\n",
       "      <td>18.931088</td>\n",
       "      <td>-34.139930</td>\n",
       "      <td>76</td>\n",
       "      <td>2.0</td>\n",
       "      <td>24.0</td>\n",
       "    </tr>\n",
       "    <tr>\n",
       "      <th>2</th>\n",
       "      <td>2018-01-01</td>\n",
       "      <td>U3KP57C</td>\n",
       "      <td>0</td>\n",
       "      <td>1</td>\n",
       "      <td>N2</td>\n",
       "      <td>Primary</td>\n",
       "      <td>0.0</td>\n",
       "      <td>0</td>\n",
       "      <td>Paved</td>\n",
       "      <td>Unknown</td>\n",
       "      <td>Unknown</td>\n",
       "      <td>452.679</td>\n",
       "      <td>16.0</td>\n",
       "      <td>755.2</td>\n",
       "      <td>759.0</td>\n",
       "      <td>88.0</td>\n",
       "      <td>5.0</td>\n",
       "      <td>10.0</td>\n",
       "      <td>14.0</td>\n",
       "      <td>0.0</td>\n",
       "      <td>0.0</td>\n",
       "      <td>1.0</td>\n",
       "      <td>0.0</td>\n",
       "      <td>0.0</td>\n",
       "      <td>0.0</td>\n",
       "      <td>0.0</td>\n",
       "      <td>1.0</td>\n",
       "      <td>0.0</td>\n",
       "      <td>0.0</td>\n",
       "      <td>2018</td>\n",
       "      <td>1</td>\n",
       "      <td>Monday</td>\n",
       "      <td>0</td>\n",
       "      <td>18.550771</td>\n",
       "      <td>-33.958279</td>\n",
       "      <td>170</td>\n",
       "      <td>5.0</td>\n",
       "      <td>47.0</td>\n",
       "    </tr>\n",
       "    <tr>\n",
       "      <th>3</th>\n",
       "      <td>2018-01-01</td>\n",
       "      <td>RY0TRQ8</td>\n",
       "      <td>0</td>\n",
       "      <td>1</td>\n",
       "      <td>R300</td>\n",
       "      <td>Primary</td>\n",
       "      <td>20.2</td>\n",
       "      <td>2</td>\n",
       "      <td>Paved</td>\n",
       "      <td>FLEX</td>\n",
       "      <td>Fair</td>\n",
       "      <td>493.974</td>\n",
       "      <td>16.0</td>\n",
       "      <td>755.2</td>\n",
       "      <td>759.0</td>\n",
       "      <td>88.0</td>\n",
       "      <td>5.0</td>\n",
       "      <td>10.0</td>\n",
       "      <td>14.0</td>\n",
       "      <td>0.0</td>\n",
       "      <td>0.0</td>\n",
       "      <td>1.0</td>\n",
       "      <td>0.0</td>\n",
       "      <td>0.0</td>\n",
       "      <td>0.0</td>\n",
       "      <td>0.0</td>\n",
       "      <td>1.0</td>\n",
       "      <td>0.0</td>\n",
       "      <td>0.0</td>\n",
       "      <td>2018</td>\n",
       "      <td>1</td>\n",
       "      <td>Monday</td>\n",
       "      <td>0</td>\n",
       "      <td>18.677475</td>\n",
       "      <td>-33.896611</td>\n",
       "      <td>40</td>\n",
       "      <td>3.0</td>\n",
       "      <td>12.0</td>\n",
       "    </tr>\n",
       "    <tr>\n",
       "      <th>4</th>\n",
       "      <td>2018-01-01</td>\n",
       "      <td>8LOVJZ3</td>\n",
       "      <td>0</td>\n",
       "      <td>1</td>\n",
       "      <td>N2</td>\n",
       "      <td>Primary</td>\n",
       "      <td>20.2</td>\n",
       "      <td>2</td>\n",
       "      <td>Paved</td>\n",
       "      <td>FLEX</td>\n",
       "      <td>Very Good</td>\n",
       "      <td>569.263</td>\n",
       "      <td>16.0</td>\n",
       "      <td>755.2</td>\n",
       "      <td>759.0</td>\n",
       "      <td>88.0</td>\n",
       "      <td>5.0</td>\n",
       "      <td>10.0</td>\n",
       "      <td>14.0</td>\n",
       "      <td>0.0</td>\n",
       "      <td>0.0</td>\n",
       "      <td>1.0</td>\n",
       "      <td>0.0</td>\n",
       "      <td>0.0</td>\n",
       "      <td>0.0</td>\n",
       "      <td>0.0</td>\n",
       "      <td>1.0</td>\n",
       "      <td>0.0</td>\n",
       "      <td>0.0</td>\n",
       "      <td>2018</td>\n",
       "      <td>1</td>\n",
       "      <td>Monday</td>\n",
       "      <td>0</td>\n",
       "      <td>18.836121</td>\n",
       "      <td>-34.086109</td>\n",
       "      <td>919</td>\n",
       "      <td>51.0</td>\n",
       "      <td>351.0</td>\n",
       "    </tr>\n",
       "  </tbody>\n",
       "</table>\n",
       "</div>"
      ],
      "text/plain": [
       "          ts segment_id  ...  target_count_hour  target_count_year\n",
       "0 2018-01-01    S0B3CGQ  ...               10.0               79.0\n",
       "1 2018-01-01    RYJYAPI  ...                2.0               24.0\n",
       "2 2018-01-01    U3KP57C  ...                5.0               47.0\n",
       "3 2018-01-01    RY0TRQ8  ...                3.0               12.0\n",
       "4 2018-01-01    8LOVJZ3  ...               51.0              351.0\n",
       "\n",
       "[5 rows x 38 columns]"
      ]
     },
     "execution_count": 143,
     "metadata": {
      "tags": []
     },
     "output_type": "execute_result"
    }
   ],
   "source": [
    "train_2.head()"
   ]
  },
  {
   "cell_type": "code",
   "execution_count": 0,
   "metadata": {
    "colab": {},
    "colab_type": "code",
    "id": "8EarN0L6FgOj"
   },
   "outputs": [],
   "source": [
    "# train_2.to_pickle('data/train_2.pickle')"
   ]
  },
  {
   "cell_type": "markdown",
   "metadata": {
    "colab_type": "text",
    "id": "m5nbqIlVFgOl"
   },
   "source": [
    "## Train"
   ]
  },
  {
   "cell_type": "code",
   "execution_count": 0,
   "metadata": {
    "colab": {},
    "colab_type": "code",
    "id": "p_4famPEFgOl"
   },
   "outputs": [],
   "source": [
    "# %%time\n",
    "# train_2 = pd.read_pickle('data/train_2.pickle')"
   ]
  },
  {
   "cell_type": "code",
   "execution_count": 0,
   "metadata": {
    "colab": {},
    "colab_type": "code",
    "id": "CnpB8P1uFgOp"
   },
   "outputs": [],
   "source": [
    "test  = train_2[train_2['test']==1]\n",
    "train = train_2[train_2['test']==0]"
   ]
  },
  {
   "cell_type": "code",
   "execution_count": 145,
   "metadata": {
    "colab": {
     "base_uri": "https://localhost:8080/",
     "height": 68
    },
    "colab_type": "code",
    "id": "sSBOiqipFgOq",
    "outputId": "b71f99e5-8d96-4605-c32d-569d54bf93cd"
   },
   "outputs": [
    {
     "data": {
      "text/plain": [
       "0    500000\n",
       "1     50226\n",
       "Name: target, dtype: int64"
      ]
     },
     "execution_count": 145,
     "metadata": {
      "tags": []
     },
     "output_type": "execute_result"
    }
   ],
   "source": [
    "train['target'].value_counts()"
   ]
  },
  {
   "cell_type": "code",
   "execution_count": 146,
   "metadata": {
    "colab": {
     "base_uri": "https://localhost:8080/",
     "height": 68
    },
    "colab_type": "code",
    "id": "7s91Gxe2FgOs",
    "outputId": "a576b351-813d-4851-b049-0a9afb9f6c09"
   },
   "outputs": [
    {
     "data": {
      "text/plain": [
       "0    1171633\n",
       "1       3512\n",
       "Name: target, dtype: int64"
      ]
     },
     "execution_count": 146,
     "metadata": {
      "tags": []
     },
     "output_type": "execute_result"
    }
   ],
   "source": [
    "test['target'].value_counts()"
   ]
  },
  {
   "cell_type": "markdown",
   "metadata": {
    "colab_type": "text",
    "id": "K8EfJVALS2jL"
   },
   "source": [
    "## Catboost"
   ]
  },
  {
   "cell_type": "code",
   "execution_count": 0,
   "metadata": {
    "colab": {},
    "colab_type": "code",
    "id": "Ui_2wGrgTAyO"
   },
   "outputs": [],
   "source": [
    "x_cols = train.drop(['ts', 'target', 'test'], axis=1).columns\n",
    "cat_cols = ['segment_id', 'ROADNO', 'CLASS', 'SURFTYPE', 'PAVETYPE', 'CONDITION', 'month', 'day_of_week', 'hour']"
   ]
  },
  {
   "cell_type": "code",
   "execution_count": 44,
   "metadata": {
    "colab": {
     "base_uri": "https://localhost:8080/",
     "height": 34
    },
    "colab_type": "code",
    "id": "pR-7MNrVS1z8",
    "outputId": "d6b1f0a6-be89-422d-80a5-665d2bc2af16"
   },
   "outputs": [
    {
     "data": {
      "text/plain": [
       "<catboost.core.CatBoostClassifier at 0x7f4a5f5685f8>"
      ]
     },
     "execution_count": 44,
     "metadata": {
      "tags": []
     },
     "output_type": "execute_result"
    }
   ],
   "source": [
    "# # Create the model\n",
    "# model = CatBoostClassifier(depth=4,\n",
    "#                            learning_rate=0.0017210509715804845,\n",
    "#                            iterations=55, \n",
    "#                            loss_function='Logloss', \n",
    "#                            verbose=False)\n",
    "\n",
    "\n",
    "\n",
    "# model.fit(train[x_cols], train['target'], cat_features=cat_cols) # Takes about"
   ]
  },
  {
   "cell_type": "code",
   "execution_count": 149,
   "metadata": {
    "colab": {
     "base_uri": "https://localhost:8080/",
     "height": 1000
    },
    "colab_type": "code",
    "id": "_ahehOOZ_XeL",
    "outputId": "782c6e90-a971-4479-c97c-073da13b1939"
   },
   "outputs": [
    {
     "name": "stdout",
     "output_type": "stream",
     "text": [
      "0:\tlearn: 0.4354485\ttotal: 569ms\tremaining: 54.6s\n",
      "1:\tlearn: 0.3290984\ttotal: 1.13s\tremaining: 53.7s\n",
      "2:\tlearn: 0.2801764\ttotal: 1.69s\tremaining: 52.9s\n",
      "3:\tlearn: 0.2458976\ttotal: 2.23s\tremaining: 51.8s\n",
      "4:\tlearn: 0.2305252\ttotal: 2.76s\tremaining: 50.8s\n",
      "5:\tlearn: 0.2086410\ttotal: 3.28s\tremaining: 49.7s\n",
      "6:\tlearn: 0.2054877\ttotal: 3.84s\tremaining: 49.3s\n",
      "7:\tlearn: 0.2030928\ttotal: 4.37s\tremaining: 48.6s\n",
      "8:\tlearn: 0.2011385\ttotal: 4.95s\tremaining: 48.4s\n",
      "9:\tlearn: 0.2001260\ttotal: 5.47s\tremaining: 47.6s\n",
      "10:\tlearn: 0.1987862\ttotal: 5.97s\tremaining: 46.7s\n",
      "11:\tlearn: 0.1983831\ttotal: 6.53s\tremaining: 46.3s\n",
      "12:\tlearn: 0.1976646\ttotal: 7.08s\tremaining: 45.7s\n",
      "13:\tlearn: 0.1968058\ttotal: 7.65s\tremaining: 45.3s\n",
      "14:\tlearn: 0.1966005\ttotal: 8.19s\tremaining: 44.7s\n",
      "15:\tlearn: 0.1955849\ttotal: 8.72s\tremaining: 44.1s\n",
      "16:\tlearn: 0.1953422\ttotal: 9.26s\tremaining: 43.6s\n",
      "17:\tlearn: 0.1940388\ttotal: 9.81s\tremaining: 43s\n",
      "18:\tlearn: 0.1938672\ttotal: 10.4s\tremaining: 42.7s\n",
      "19:\tlearn: 0.1937521\ttotal: 10.9s\tremaining: 42.1s\n",
      "20:\tlearn: 0.1936427\ttotal: 11.4s\tremaining: 41.4s\n",
      "21:\tlearn: 0.1935528\ttotal: 12s\tremaining: 40.8s\n",
      "22:\tlearn: 0.1933951\ttotal: 12.5s\tremaining: 40.1s\n",
      "23:\tlearn: 0.1932035\ttotal: 13s\tremaining: 39.6s\n",
      "24:\tlearn: 0.1930761\ttotal: 13.6s\tremaining: 39.1s\n",
      "25:\tlearn: 0.1926339\ttotal: 14.1s\tremaining: 38.6s\n",
      "26:\tlearn: 0.1925389\ttotal: 14.7s\tremaining: 38s\n",
      "27:\tlearn: 0.1924431\ttotal: 15.2s\tremaining: 37.5s\n",
      "28:\tlearn: 0.1923172\ttotal: 15.8s\tremaining: 37s\n",
      "29:\tlearn: 0.1922363\ttotal: 16.4s\tremaining: 36.5s\n",
      "30:\tlearn: 0.1921325\ttotal: 16.9s\tremaining: 36s\n",
      "31:\tlearn: 0.1920175\ttotal: 17.5s\tremaining: 35.5s\n",
      "32:\tlearn: 0.1919629\ttotal: 18s\tremaining: 34.9s\n",
      "33:\tlearn: 0.1919024\ttotal: 18.6s\tremaining: 34.4s\n",
      "34:\tlearn: 0.1915290\ttotal: 19.1s\tremaining: 33.9s\n",
      "35:\tlearn: 0.1914754\ttotal: 19.6s\tremaining: 33.3s\n",
      "36:\tlearn: 0.1914426\ttotal: 20.2s\tremaining: 32.8s\n",
      "37:\tlearn: 0.1913706\ttotal: 20.8s\tremaining: 32.2s\n",
      "38:\tlearn: 0.1912731\ttotal: 21.3s\tremaining: 31.7s\n",
      "39:\tlearn: 0.1912353\ttotal: 21.9s\tremaining: 31.1s\n",
      "40:\tlearn: 0.1911453\ttotal: 22.4s\tremaining: 30.6s\n",
      "41:\tlearn: 0.1911000\ttotal: 22.9s\tremaining: 30s\n",
      "42:\tlearn: 0.1910496\ttotal: 23.4s\tremaining: 29.4s\n",
      "43:\tlearn: 0.1909914\ttotal: 24s\tremaining: 28.9s\n",
      "44:\tlearn: 0.1909062\ttotal: 24.5s\tremaining: 28.4s\n",
      "45:\tlearn: 0.1908364\ttotal: 25.1s\tremaining: 27.9s\n",
      "46:\tlearn: 0.1907784\ttotal: 25.7s\tremaining: 27.3s\n",
      "47:\tlearn: 0.1907263\ttotal: 26.2s\tremaining: 26.7s\n",
      "48:\tlearn: 0.1905053\ttotal: 26.8s\tremaining: 26.2s\n",
      "49:\tlearn: 0.1904752\ttotal: 27.3s\tremaining: 25.7s\n",
      "50:\tlearn: 0.1904293\ttotal: 27.9s\tremaining: 25.1s\n",
      "51:\tlearn: 0.1901557\ttotal: 28.4s\tremaining: 24.6s\n",
      "52:\tlearn: 0.1900684\ttotal: 29s\tremaining: 24s\n",
      "53:\tlearn: 0.1900228\ttotal: 29.5s\tremaining: 23.5s\n",
      "54:\tlearn: 0.1898627\ttotal: 30s\tremaining: 22.9s\n",
      "55:\tlearn: 0.1898049\ttotal: 30.6s\tremaining: 22.4s\n",
      "56:\tlearn: 0.1897163\ttotal: 31.1s\tremaining: 21.8s\n",
      "57:\tlearn: 0.1896737\ttotal: 31.6s\tremaining: 21.3s\n",
      "58:\tlearn: 0.1896409\ttotal: 32.1s\tremaining: 20.7s\n",
      "59:\tlearn: 0.1896080\ttotal: 32.7s\tremaining: 20.1s\n",
      "60:\tlearn: 0.1893698\ttotal: 33.2s\tremaining: 19.6s\n",
      "61:\tlearn: 0.1893236\ttotal: 33.8s\tremaining: 19.1s\n",
      "62:\tlearn: 0.1893001\ttotal: 34.3s\tremaining: 18.5s\n",
      "63:\tlearn: 0.1892209\ttotal: 34.9s\tremaining: 18s\n",
      "64:\tlearn: 0.1891883\ttotal: 35.4s\tremaining: 17.4s\n",
      "65:\tlearn: 0.1891066\ttotal: 36s\tremaining: 16.9s\n",
      "66:\tlearn: 0.1890640\ttotal: 36.5s\tremaining: 16.3s\n",
      "67:\tlearn: 0.1890288\ttotal: 37.1s\tremaining: 15.8s\n",
      "68:\tlearn: 0.1889534\ttotal: 37.6s\tremaining: 15.3s\n",
      "69:\tlearn: 0.1889094\ttotal: 38.2s\tremaining: 14.7s\n",
      "70:\tlearn: 0.1888760\ttotal: 38.7s\tremaining: 14.2s\n",
      "71:\tlearn: 0.1888389\ttotal: 39.2s\tremaining: 13.6s\n",
      "72:\tlearn: 0.1888092\ttotal: 39.7s\tremaining: 13.1s\n",
      "73:\tlearn: 0.1887726\ttotal: 40.2s\tremaining: 12.5s\n",
      "74:\tlearn: 0.1887226\ttotal: 40.8s\tremaining: 12s\n",
      "75:\tlearn: 0.1887045\ttotal: 41.3s\tremaining: 11.4s\n",
      "76:\tlearn: 0.1886562\ttotal: 41.9s\tremaining: 10.9s\n",
      "77:\tlearn: 0.1886144\ttotal: 42.4s\tremaining: 10.3s\n",
      "78:\tlearn: 0.1885692\ttotal: 42.9s\tremaining: 9.78s\n",
      "79:\tlearn: 0.1885203\ttotal: 43.5s\tremaining: 9.25s\n",
      "80:\tlearn: 0.1885002\ttotal: 44s\tremaining: 8.7s\n",
      "81:\tlearn: 0.1884668\ttotal: 44.6s\tremaining: 8.15s\n",
      "82:\tlearn: 0.1884178\ttotal: 45.1s\tremaining: 7.61s\n",
      "83:\tlearn: 0.1883963\ttotal: 45.6s\tremaining: 7.06s\n",
      "84:\tlearn: 0.1883627\ttotal: 46.1s\tremaining: 6.51s\n",
      "85:\tlearn: 0.1883161\ttotal: 46.7s\tremaining: 5.97s\n",
      "86:\tlearn: 0.1882698\ttotal: 47.3s\tremaining: 5.43s\n",
      "87:\tlearn: 0.1882454\ttotal: 47.8s\tremaining: 4.89s\n",
      "88:\tlearn: 0.1882018\ttotal: 48.4s\tremaining: 4.35s\n",
      "89:\tlearn: 0.1881515\ttotal: 48.9s\tremaining: 3.8s\n",
      "90:\tlearn: 0.1881007\ttotal: 49.4s\tremaining: 3.26s\n",
      "91:\tlearn: 0.1880537\ttotal: 49.9s\tremaining: 2.71s\n",
      "92:\tlearn: 0.1880183\ttotal: 50.5s\tremaining: 2.17s\n",
      "93:\tlearn: 0.1879586\ttotal: 51s\tremaining: 1.63s\n",
      "94:\tlearn: 0.1879278\ttotal: 51.5s\tremaining: 1.08s\n",
      "95:\tlearn: 0.1878965\ttotal: 52.1s\tremaining: 542ms\n",
      "96:\tlearn: 0.1878722\ttotal: 52.6s\tremaining: 0us\n",
      "\n",
      "========================================================\n",
      " Results from Random Search \n",
      "========================================================\n",
      "\n",
      " The best estimator across ALL searched params:\n",
      " <catboost.core.CatBoostClassifier object at 0x7f4a657e2dd8>\n",
      "\n",
      " The best score across ALL searched params:\n",
      " 0.923407836052822\n",
      "\n",
      " The best parameters across ALL searched params:\n",
      " {'depth': 6, 'iterations': 97, 'learning_rate': 0.2221245475353748}\n",
      "\n",
      " ========================================================\n"
     ]
    }
   ],
   "source": [
    "model_gs = CatBoostClassifier()\n",
    "\n",
    "parameters = {'depth'         : sp_randInt(4, 10),\n",
    "              'learning_rate' : sp_randFloat(),\n",
    "              'iterations'    : sp_randInt(10, 100)\n",
    "              }\n",
    "\n",
    "cv = StratifiedKFold(n_splits = 5, shuffle = True, random_state = 1)\n",
    "\n",
    "randm = RandomizedSearchCV(estimator = model_gs, \n",
    "                           param_distributions = parameters, \n",
    "                           cv = cv, \n",
    "                           n_iter = 20, \n",
    "                           n_jobs= -1,\n",
    "                           random_state = 1)\n",
    "randm.fit(train[x_cols], train['target'], cat_features=cat_cols)\n",
    "\n",
    "# Results from Random Search\n",
    "print(\"\\n========================================================\")\n",
    "print(\" Results from Random Search \" )\n",
    "print(\"========================================================\")    \n",
    "\n",
    "print(\"\\n The best estimator across ALL searched params:\\n\",\n",
    "      randm.best_estimator_)\n",
    "\n",
    "print(\"\\n The best score across ALL searched params:\\n\",\n",
    "      randm.best_score_)\n",
    "\n",
    "print(\"\\n The best parameters across ALL searched params:\\n\",\n",
    "      randm.best_params_)\n",
    "\n",
    "print(\"\\n ========================================================\")"
   ]
  },
  {
   "cell_type": "markdown",
   "metadata": {
    "colab_type": "text",
    "id": "flrOcybXTqVv"
   },
   "source": [
    "## Predict"
   ]
  },
  {
   "cell_type": "code",
   "execution_count": 0,
   "metadata": {
    "colab": {},
    "colab_type": "code",
    "id": "OOU6G2p5Tp8L"
   },
   "outputs": [],
   "source": [
    "pred = randm.predict_proba(test[x_cols])"
   ]
  },
  {
   "cell_type": "code",
   "execution_count": 151,
   "metadata": {
    "colab": {
     "base_uri": "https://localhost:8080/",
     "height": 266
    },
    "colab_type": "code",
    "id": "VHJK_M6qUFnB",
    "outputId": "f1db14cb-1925-485a-fd99-3912ce24b763"
   },
   "outputs": [
    {
     "data": {
      "image/png": "[encoded data removed]",
      "text/plain": [
       "<Figure size 432x288 with 1 Axes>"
      ]
     },
     "metadata": {
      "tags": []
     },
     "output_type": "display_data"
    }
   ],
   "source": [
    "plt.hist(pred[:,1]);"
   ]
  },
  {
   "cell_type": "code",
   "execution_count": 152,
   "metadata": {
    "colab": {
     "base_uri": "https://localhost:8080/",
     "height": 34
    },
    "colab_type": "code",
    "id": "_9m0DAKnUGvl",
    "outputId": "6582af52-9776-4387-99ac-196da1e5c5c1"
   },
   "outputs": [
    {
     "data": {
      "text/plain": [
       "0.8847289012317867"
      ]
     },
     "execution_count": 152,
     "metadata": {
      "tags": []
     },
     "output_type": "execute_result"
    }
   ],
   "source": [
    "roc_auc_score(test['target'], pred[:, 1])"
   ]
  },
  {
   "cell_type": "code",
   "execution_count": 0,
   "metadata": {
    "colab": {},
    "colab_type": "code",
    "id": "rZ-P2THgTqDK"
   },
   "outputs": [],
   "source": [
    "res = []\n",
    "for prc in range(1, 100, 1):\n",
    "    thr = np.percentile(pred[:,1], prc)\n",
    "    pred_ll = [1 if x >= thr else 0 for x in pred[:, 1]]\n",
    "    res.append([thr, f1_score(test['target'], pred_ll)])"
   ]
  },
  {
   "cell_type": "code",
   "execution_count": 161,
   "metadata": {
    "colab": {
     "base_uri": "https://localhost:8080/",
     "height": 265
    },
    "colab_type": "code",
    "id": "T4JP7dm0UPv8",
    "outputId": "8d617176-6c81-49e3-88df-540fa68a2cbd"
   },
   "outputs": [
    {
     "data": {
      "image/png": "[encoded data removed]",
      "text/plain": [
       "<Figure size 432x288 with 1 Axes>"
      ]
     },
     "metadata": {
      "tags": []
     },
     "output_type": "display_data"
    }
   ],
   "source": [
    "plt.plot([x[0] for x in sorted(res, key=lambda x: x[0], reverse=True)], \n",
    "         [x[1] for x in sorted(res, key=lambda x: x[0], reverse=True)]);"
   ]
  },
  {
   "cell_type": "code",
   "execution_count": 0,
   "metadata": {
    "colab": {},
    "colab_type": "code",
    "id": "Qrb3JBLxUSyi"
   },
   "outputs": [],
   "source": [
    "best_thr = sorted(res, key=lambda x: x[1], reverse=True)[0][0]\n",
    "best_f1 = sorted(res, key=lambda x: x[1], reverse=True)[0][1]"
   ]
  },
  {
   "cell_type": "code",
   "execution_count": 157,
   "metadata": {
    "colab": {
     "base_uri": "https://localhost:8080/",
     "height": 34
    },
    "colab_type": "code",
    "id": "YCzlTUHhUWXY",
    "outputId": "52638368-dcaa-44e2-9606-3d87236c32fd"
   },
   "outputs": [
    {
     "data": {
      "text/plain": [
       "(0.08877937171617549, 0.11687631027253668)"
      ]
     },
     "execution_count": 157,
     "metadata": {
      "tags": []
     },
     "output_type": "execute_result"
    }
   ],
   "source": [
    "best_thr, best_f1"
   ]
  },
  {
   "cell_type": "markdown",
   "metadata": {
    "colab_type": "text",
    "id": "5eYAMApxFgPc"
   },
   "source": [
    "## Test prediction"
   ]
  },
  {
   "cell_type": "code",
   "execution_count": 12,
   "metadata": {
    "colab": {},
    "colab_type": "code",
    "id": "VTJznNk9FgPd"
   },
   "outputs": [],
   "source": [
    "ss = pd.read_csv('data/SampleSubmission.csv')"
   ]
  },
  {
   "cell_type": "code",
   "execution_count": 13,
   "metadata": {
    "colab": {
     "base_uri": "https://localhost:8080/",
     "height": 204
    },
    "colab_type": "code",
    "id": "tWiYiCV1FgPg",
    "outputId": "29539cd2-3468-45fb-8f36-49494413fd5e"
   },
   "outputs": [
    {
     "data": {
      "text/html": [
       "<div>\n",
       "<style scoped>\n",
       "    .dataframe tbody tr th:only-of-type {\n",
       "        vertical-align: middle;\n",
       "    }\n",
       "\n",
       "    .dataframe tbody tr th {\n",
       "        vertical-align: top;\n",
       "    }\n",
       "\n",
       "    .dataframe thead th {\n",
       "        text-align: right;\n",
       "    }\n",
       "</style>\n",
       "<table border=\"1\" class=\"dataframe\">\n",
       "  <thead>\n",
       "    <tr style=\"text-align: right;\">\n",
       "      <th></th>\n",
       "      <th>datetime x segment_id</th>\n",
       "      <th>prediction</th>\n",
       "    </tr>\n",
       "  </thead>\n",
       "  <tbody>\n",
       "    <tr>\n",
       "      <td>0</td>\n",
       "      <td>2019-01-01 01:00:00 x S0B3CGQ</td>\n",
       "      <td>NaN</td>\n",
       "    </tr>\n",
       "    <tr>\n",
       "      <td>1</td>\n",
       "      <td>2019-01-01 01:00:00 x RYJYAPI</td>\n",
       "      <td>NaN</td>\n",
       "    </tr>\n",
       "    <tr>\n",
       "      <td>2</td>\n",
       "      <td>2019-01-01 01:00:00 x U3KP57C</td>\n",
       "      <td>NaN</td>\n",
       "    </tr>\n",
       "    <tr>\n",
       "      <td>3</td>\n",
       "      <td>2019-01-01 01:00:00 x RY0TRQ8</td>\n",
       "      <td>NaN</td>\n",
       "    </tr>\n",
       "    <tr>\n",
       "      <td>4</td>\n",
       "      <td>2019-01-01 01:00:00 x 8LOVJZ3</td>\n",
       "      <td>NaN</td>\n",
       "    </tr>\n",
       "  </tbody>\n",
       "</table>\n",
       "</div>"
      ],
      "text/plain": [
       "           datetime x segment_id  prediction\n",
       "0  2019-01-01 01:00:00 x S0B3CGQ         NaN\n",
       "1  2019-01-01 01:00:00 x RYJYAPI         NaN\n",
       "2  2019-01-01 01:00:00 x U3KP57C         NaN\n",
       "3  2019-01-01 01:00:00 x RY0TRQ8         NaN\n",
       "4  2019-01-01 01:00:00 x 8LOVJZ3         NaN"
      ]
     },
     "execution_count": 13,
     "metadata": {},
     "output_type": "execute_result"
    }
   ],
   "source": [
    "ss.head()"
   ]
  },
  {
   "cell_type": "code",
   "execution_count": 0,
   "metadata": {
    "colab": {},
    "colab_type": "code",
    "id": "XgJK4WQWFgPl"
   },
   "outputs": [],
   "source": [
    "ss_2 = ss['datetime x segment_id'].str.split(pat=' x ', expand=True).rename(columns={0:'dt', 1:'segment_id'})#.apply(pd.Series)"
   ]
  },
  {
   "cell_type": "code",
   "execution_count": 0,
   "metadata": {
    "colab": {},
    "colab_type": "code",
    "id": "Sj0Jhln-FgPn"
   },
   "outputs": [],
   "source": [
    "dt = [datetime.strptime(x[2:], \"%y-%m-%d %H:%M:%S\") for x in ss_2['dt'].values]\n",
    "ss_2['dt'] = dt\n",
    "ss_2['hour_dt'] = ss_2['dt'].dt.round('60min')"
   ]
  },
  {
   "cell_type": "code",
   "execution_count": 0,
   "metadata": {
    "colab": {},
    "colab_type": "code",
    "id": "R-NfT3NfFgPq"
   },
   "outputs": [],
   "source": [
    "ss_2.drop(['dt'], axis=1, inplace=True)"
   ]
  },
  {
   "cell_type": "code",
   "execution_count": 57,
   "metadata": {
    "colab": {
     "base_uri": "https://localhost:8080/",
     "height": 136
    },
    "colab_type": "code",
    "id": "ODvZ-DXvFgPt",
    "outputId": "93466050-2b3b-4326-c8ec-6d7473bf1fcd"
   },
   "outputs": [
    {
     "name": "stdout",
     "output_type": "stream",
     "text": [
      "<class 'pandas.core.frame.DataFrame'>\n",
      "RangeIndex: 1174496 entries, 0 to 1174495\n",
      "Data columns (total 2 columns):\n",
      "segment_id    1174496 non-null object\n",
      "hour_dt       1174496 non-null datetime64[ns]\n",
      "dtypes: datetime64[ns](1), object(1)\n",
      "memory usage: 17.9+ MB\n"
     ]
    }
   ],
   "source": [
    "ss_2.info()"
   ]
  },
  {
   "cell_type": "markdown",
   "metadata": {
    "colab_type": "text",
    "id": "A0TxyimsFgPw"
   },
   "source": [
    "### Weather"
   ]
  },
  {
   "cell_type": "code",
   "execution_count": 14,
   "metadata": {
    "colab": {},
    "colab_type": "code",
    "id": "7JuKjA0QFgPw"
   },
   "outputs": [
    {
     "ename": "NameError",
     "evalue": "name 'weather_prep' is not defined",
     "output_type": "error",
     "traceback": [
      "\u001b[0;31m---------------------------------------------------------------------------\u001b[0m",
      "\u001b[0;31mNameError\u001b[0m                                 Traceback (most recent call last)",
      "\u001b[0;32m<ipython-input-14-2bb2ce9539d1>\u001b[0m in \u001b[0;36m<module>\u001b[0;34m\u001b[0m\n\u001b[1;32m      7\u001b[0m \u001b[0;34m\u001b[0m\u001b[0m\n\u001b[1;32m      8\u001b[0m \u001b[0mweather_test\u001b[0m\u001b[0;34m.\u001b[0m\u001b[0mcolumns\u001b[0m \u001b[0;34m=\u001b[0m \u001b[0mweather_cols\u001b[0m\u001b[0;34m\u001b[0m\u001b[0;34m\u001b[0m\u001b[0m\n\u001b[0;32m----> 9\u001b[0;31m \u001b[0mweather_test_2\u001b[0m \u001b[0;34m=\u001b[0m \u001b[0mweather_prep\u001b[0m\u001b[0;34m(\u001b[0m\u001b[0mweather_test\u001b[0m\u001b[0;34m.\u001b[0m\u001b[0mcopy\u001b[0m\u001b[0;34m(\u001b[0m\u001b[0;34m)\u001b[0m\u001b[0;34m)\u001b[0m\u001b[0;34m\u001b[0m\u001b[0;34m\u001b[0m\u001b[0m\n\u001b[0m",
      "\u001b[0;31mNameError\u001b[0m: name 'weather_prep' is not defined"
     ]
    }
   ],
   "source": [
    "weather_test = pd.read_csv('data/weather_test.csv', sep=';')\n",
    "\n",
    "weather_test = weather_test.drop([\"W'W'\", 'ff10'], axis=1)\n",
    "\n",
    "weather_cols = ['local_time', 'temperature', 'p0', 'p', 'humidity', 'mean_wind_direction', \n",
    "                'mean_wind_speed', 'special_weather_phenomena', 'clouds', 'horizontal_visibility', 'Td']\n",
    "\n",
    "weather_test.columns = weather_cols\n",
    "weather_test_2 = weather_prep(weather_test.copy())"
   ]
  },
  {
   "cell_type": "code",
   "execution_count": 19,
   "metadata": {},
   "outputs": [
    {
     "data": {
      "text/html": [
       "<div>\n",
       "<style scoped>\n",
       "    .dataframe tbody tr th:only-of-type {\n",
       "        vertical-align: middle;\n",
       "    }\n",
       "\n",
       "    .dataframe tbody tr th {\n",
       "        vertical-align: top;\n",
       "    }\n",
       "\n",
       "    .dataframe thead th {\n",
       "        text-align: right;\n",
       "    }\n",
       "</style>\n",
       "<table border=\"1\" class=\"dataframe\">\n",
       "  <thead>\n",
       "    <tr style=\"text-align: right;\">\n",
       "      <th></th>\n",
       "      <th>local_time</th>\n",
       "      <th>temperature</th>\n",
       "      <th>p0</th>\n",
       "      <th>p</th>\n",
       "      <th>humidity</th>\n",
       "      <th>mean_wind_direction</th>\n",
       "      <th>mean_wind_speed</th>\n",
       "      <th>special_weather_phenomena</th>\n",
       "      <th>clouds</th>\n",
       "      <th>horizontal_visibility</th>\n",
       "      <th>Td</th>\n",
       "    </tr>\n",
       "  </thead>\n",
       "  <tbody>\n",
       "    <tr>\n",
       "      <td>0</td>\n",
       "      <td>31.03.2019 23:00</td>\n",
       "      <td>16.0</td>\n",
       "      <td>761.2</td>\n",
       "      <td>765.0</td>\n",
       "      <td>83</td>\n",
       "      <td>Wind blowing from the east-southeast</td>\n",
       "      <td>2</td>\n",
       "      <td>NaN</td>\n",
       "      <td>Few clouds (10-30%) 720 m; broken clouds (60-9...</td>\n",
       "      <td>10.0 and more</td>\n",
       "      <td>13.0</td>\n",
       "    </tr>\n",
       "    <tr>\n",
       "      <td>1</td>\n",
       "      <td>31.03.2019 22:00</td>\n",
       "      <td>16.0</td>\n",
       "      <td>760.5</td>\n",
       "      <td>764.3</td>\n",
       "      <td>83</td>\n",
       "      <td>variable wind direction</td>\n",
       "      <td>2</td>\n",
       "      <td>NaN</td>\n",
       "      <td>Scattered clouds (40-50%) 690 m; broken clouds...</td>\n",
       "      <td>10.0 and more</td>\n",
       "      <td>13.0</td>\n",
       "    </tr>\n",
       "    <tr>\n",
       "      <td>2</td>\n",
       "      <td>31.03.2019 21:03</td>\n",
       "      <td>15.0</td>\n",
       "      <td>760.5</td>\n",
       "      <td>764.3</td>\n",
       "      <td>88</td>\n",
       "      <td>variable wind direction</td>\n",
       "      <td>1</td>\n",
       "      <td>NaN</td>\n",
       "      <td>Few clouds (10-30%) 300 m; broken clouds (60-9...</td>\n",
       "      <td>10.0 and more</td>\n",
       "      <td>13.0</td>\n",
       "    </tr>\n",
       "  </tbody>\n",
       "</table>\n",
       "</div>"
      ],
      "text/plain": [
       "         local_time  temperature     p0      p  humidity  \\\n",
       "0  31.03.2019 23:00         16.0  761.2  765.0        83   \n",
       "1  31.03.2019 22:00         16.0  760.5  764.3        83   \n",
       "2  31.03.2019 21:03         15.0  760.5  764.3        88   \n",
       "\n",
       "                    mean_wind_direction  mean_wind_speed  \\\n",
       "0  Wind blowing from the east-southeast                2   \n",
       "1               variable wind direction                2   \n",
       "2               variable wind direction                1   \n",
       "\n",
       "  special_weather_phenomena  \\\n",
       "0                       NaN   \n",
       "1                       NaN   \n",
       "2                       NaN   \n",
       "\n",
       "                                              clouds horizontal_visibility  \\\n",
       "0  Few clouds (10-30%) 720 m; broken clouds (60-9...         10.0 and more   \n",
       "1  Scattered clouds (40-50%) 690 m; broken clouds...         10.0 and more   \n",
       "2  Few clouds (10-30%) 300 m; broken clouds (60-9...         10.0 and more   \n",
       "\n",
       "     Td  \n",
       "0  13.0  \n",
       "1  13.0  \n",
       "2  13.0  "
      ]
     },
     "execution_count": 19,
     "metadata": {},
     "output_type": "execute_result"
    }
   ],
   "source": [
    "weather_test.head(3)"
   ]
  },
  {
   "cell_type": "markdown",
   "metadata": {
    "colab_type": "text",
    "id": "aO7S7qOMFgPy"
   },
   "source": [
    "### Join"
   ]
  },
  {
   "cell_type": "code",
   "execution_count": 0,
   "metadata": {
    "colab": {},
    "colab_type": "code",
    "id": "5XWU7QFAFgP1"
   },
   "outputs": [],
   "source": [
    "test_1 = ss_2.merge(seg, on='segment_id', how='left')"
   ]
  },
  {
   "cell_type": "code",
   "execution_count": 0,
   "metadata": {
    "colab": {},
    "colab_type": "code",
    "id": "bYF0YAM_FgP2"
   },
   "outputs": [],
   "source": [
    "test_2 = test_1.merge(weather_test_2, left_on='hour_dt', right_on='hour_dt', how='left')#.drop('hour_dt', axis=1)"
   ]
  },
  {
   "cell_type": "code",
   "execution_count": 0,
   "metadata": {
    "colab": {},
    "colab_type": "code",
    "id": "7EASpO8CeEge"
   },
   "outputs": [],
   "source": [
    "test_2['year'] = test_2['hour_dt'].dt.year\n",
    "test_2['month'] = test_2['hour_dt'].dt.month\n",
    "test_2['day_of_week'] = test_2['hour_dt'].dt.weekday_name\n",
    "test_2['hour'] = test_2['hour_dt'].dt.hour\n",
    "\n",
    "test_2 = test_2.merge(locations, on='segment_id', how='left')\\\n",
    "                 .merge(accident_count, on='segment_id', how='left')\\\n",
    "                 .merge(accident_count_by_hour, on=['segment_id', 'hour'], how='left')\\\n",
    "                 .merge(accident_count_by_year, on=['segment_id', 'year'], how='left')"
   ]
  },
  {
   "cell_type": "code",
   "execution_count": 0,
   "metadata": {
    "colab": {},
    "colab_type": "code",
    "id": "u9x7CtgUFgP4"
   },
   "outputs": [],
   "source": [
    "test_2 = test_2.fillna(-1)"
   ]
  },
  {
   "cell_type": "code",
   "execution_count": 172,
   "metadata": {
    "colab": {
     "base_uri": "https://localhost:8080/",
     "height": 34
    },
    "colab_type": "code",
    "id": "S4SV1tUTgSfh",
    "outputId": "3b386629-30e0-4be6-a058-5eeca57e35fe"
   },
   "outputs": [
    {
     "data": {
      "text/plain": [
       "(1174496, 64)"
      ]
     },
     "execution_count": 172,
     "metadata": {
      "tags": []
     },
     "output_type": "execute_result"
    }
   ],
   "source": [
    "test_2.shape"
   ]
  },
  {
   "cell_type": "code",
   "execution_count": 0,
   "metadata": {
    "colab": {},
    "colab_type": "code",
    "id": "olkxNBWSOhXN"
   },
   "outputs": [],
   "source": [
    "test_2['test'] = [0]*test_2.shape[0]"
   ]
  },
  {
   "cell_type": "code",
   "execution_count": 0,
   "metadata": {
    "colab": {},
    "colab_type": "code",
    "id": "8CAxcIwrFgP5"
   },
   "outputs": [],
   "source": [
    "pred_test = randm.predict_proba(test_2[x_cols])"
   ]
  },
  {
   "cell_type": "code",
   "execution_count": 179,
   "metadata": {
    "colab": {
     "base_uri": "https://localhost:8080/",
     "height": 34
    },
    "colab_type": "code",
    "id": "cL-OriB7FgP7",
    "outputId": "61ef9c08-efb4-4295-f27b-60facdd51aec"
   },
   "outputs": [
    {
     "data": {
      "text/plain": [
       "0.08877937171617549"
      ]
     },
     "execution_count": 179,
     "metadata": {
      "tags": []
     },
     "output_type": "execute_result"
    }
   ],
   "source": [
    "pred_test_l = [1 if x >= best_thr else 0 for x in pred_test[:, 1]]\n",
    "best_thr"
   ]
  },
  {
   "cell_type": "code",
   "execution_count": 0,
   "metadata": {
    "colab": {},
    "colab_type": "code",
    "id": "Iiw75cFHFgP8"
   },
   "outputs": [],
   "source": [
    "ss['prediction'] = pred_test_l"
   ]
  },
  {
   "cell_type": "code",
   "execution_count": 181,
   "metadata": {
    "colab": {
     "base_uri": "https://localhost:8080/",
     "height": 34
    },
    "colab_type": "code",
    "id": "S2l5EWFBFgP9",
    "outputId": "08dfb4ed-a14b-4cfd-c626-6a91083f5eae"
   },
   "outputs": [
    {
     "data": {
      "text/plain": [
       "((1174496, 2), 1174496)"
      ]
     },
     "execution_count": 181,
     "metadata": {
      "tags": []
     },
     "output_type": "execute_result"
    }
   ],
   "source": [
    "ss.shape, len(pred_test)"
   ]
  },
  {
   "cell_type": "code",
   "execution_count": 182,
   "metadata": {
    "colab": {
     "base_uri": "https://localhost:8080/",
     "height": 34
    },
    "colab_type": "code",
    "id": "nSx7LCxjFgQB",
    "outputId": "8ea989b1-1fb0-4eb1-92fb-56585de1afad"
   },
   "outputs": [
    {
     "data": {
      "text/plain": [
       "330"
      ]
     },
     "execution_count": 182,
     "metadata": {
      "tags": []
     },
     "output_type": "execute_result"
    }
   ],
   "source": [
    "sum(pred_test_l)"
   ]
  },
  {
   "cell_type": "code",
   "execution_count": 0,
   "metadata": {
    "colab": {},
    "colab_type": "code",
    "id": "4S3VO1O3FgQC"
   },
   "outputs": [],
   "source": [
    "ss.to_csv('data/submission_4.csv', index=False)"
   ]
  },
  {
   "cell_type": "code",
   "execution_count": 0,
   "metadata": {
    "colab": {},
    "colab_type": "code",
    "id": "ZVKAUYkwgnHn"
   },
   "outputs": [],
   "source": [
    "from google.colab import files\n",
    "files.download('data/submission_4.csv') "
   ]
  },
  {
   "cell_type": "markdown",
   "metadata": {
    "colab_type": "text",
    "id": "ZBMjrmT1FgOv"
   },
   "source": [
    "## Feature selection"
   ]
  },
  {
   "cell_type": "code",
   "execution_count": 0,
   "metadata": {
    "colab": {},
    "colab_type": "code",
    "id": "bngk_smJFgOv"
   },
   "outputs": [],
   "source": [
    "X = train.drop(['ts', 'segment_id', 'EventId', 'target'], axis=1)\n",
    "y = train['target'].values"
   ]
  },
  {
   "cell_type": "code",
   "execution_count": 0,
   "metadata": {
    "colab": {},
    "colab_type": "code",
    "id": "KmlWFzFbFgOx",
    "outputId": "9279d37f-cc1f-40c4-8189-27c16485beeb"
   },
   "outputs": [
    {
     "name": "stdout",
     "output_type": "stream",
     "text": [
      "{'n_estimators': [200, 400, 600, 800, 1000, 1200, 1400, 1600, 1800, 2000], 'max_features': ['auto', 'sqrt'], 'max_depth': [10, 20, 30, 40, 50, 60, 70, 80, 90, 100, 110, None], 'min_samples_split': [2, 5, 10], 'min_samples_leaf': [1, 2, 4], 'bootstrap': [True, False]}\n"
     ]
    }
   ],
   "source": [
    "# Number of trees in random forest\n",
    "n_estimators = [int(x) for x in np.linspace(start = 200, stop = 2000, num = 10)]\n",
    "# Number of features to consider at every split\n",
    "max_features = ['auto', 'sqrt']\n",
    "# Maximum number of levels in tree\n",
    "max_depth = [int(x) for x in np.linspace(10, 110, num = 11)]\n",
    "max_depth.append(None)\n",
    "# Minimum number of samples required to split a node\n",
    "min_samples_split = [2, 5, 10]\n",
    "# Minimum number of samples required at each leaf node\n",
    "min_samples_leaf = [1, 2, 4]\n",
    "# Method of selecting samples for training each tree\n",
    "bootstrap = [True, False]\n",
    "\n",
    "# Create the random grid\n",
    "random_grid = {'n_estimators': n_estimators,\n",
    "               'max_features': max_features,\n",
    "               'max_depth': max_depth,\n",
    "               'min_samples_split': min_samples_split,\n",
    "               'min_samples_leaf': min_samples_leaf,\n",
    "               'bootstrap': bootstrap}\n",
    "\n",
    "print(random_grid)"
   ]
  },
  {
   "cell_type": "code",
   "execution_count": 0,
   "metadata": {
    "colab": {},
    "colab_type": "code",
    "id": "HtgOnuirFgOz"
   },
   "outputs": [],
   "source": [
    "rf = RandomForestClassifier()"
   ]
  },
  {
   "cell_type": "code",
   "execution_count": 0,
   "metadata": {
    "colab": {},
    "colab_type": "code",
    "id": "icZf472eFgO1",
    "outputId": "519c18bf-e6f4-4abf-e33e-bafa2d7ab241",
    "scrolled": true
   },
   "outputs": [
    {
     "name": "stdout",
     "output_type": "stream",
     "text": [
      "Fitting 3 folds for each of 5 candidates, totalling 15 fits\n"
     ]
    },
    {
     "name": "stderr",
     "output_type": "stream",
     "text": [
      "[Parallel(n_jobs=2)]: Using backend LokyBackend with 2 concurrent workers.\n",
      "[Parallel(n_jobs=2)]: Done  15 out of  15 | elapsed: 21.2min finished\n"
     ]
    },
    {
     "data": {
      "text/plain": [
       "RandomizedSearchCV(cv=StratifiedKFold(n_splits=3, random_state=123, shuffle=True),\n",
       "                   error_score='raise-deprecating',\n",
       "                   estimator=RandomForestClassifier(bootstrap=True,\n",
       "                                                    class_weight=None,\n",
       "                                                    criterion='gini',\n",
       "                                                    max_depth=None,\n",
       "                                                    max_features='auto',\n",
       "                                                    max_leaf_nodes=None,\n",
       "                                                    min_impurity_decrease=0.0,\n",
       "                                                    min_impurity_split=None,\n",
       "                                                    min_samples_leaf=1,\n",
       "                                                    min_samples_split=2,\n",
       "                                                    min_weight_...\n",
       "                   param_distributions={'bootstrap': [True, False],\n",
       "                                        'max_depth': [10, 20, 30, 40, 50, 60,\n",
       "                                                      70, 80, 90, 100, 110,\n",
       "                                                      None],\n",
       "                                        'max_features': ['auto', 'sqrt'],\n",
       "                                        'min_samples_leaf': [1, 2, 4],\n",
       "                                        'min_samples_split': [2, 5, 10],\n",
       "                                        'n_estimators': [200, 400, 600, 800,\n",
       "                                                         1000, 1200, 1400, 1600,\n",
       "                                                         1800, 2000]},\n",
       "                   pre_dispatch='2*n_jobs', random_state=1, refit=True,\n",
       "                   return_train_score=False, scoring='roc_auc', verbose=3)"
      ]
     },
     "execution_count": 49,
     "metadata": {
      "tags": []
     },
     "output_type": "execute_result"
    }
   ],
   "source": [
    "# Задаем схему кросс-валидации\n",
    "cv = StratifiedKFold(n_splits=3, shuffle=True, random_state=123)\n",
    "rf_random = RandomizedSearchCV(estimator=rf, \n",
    "                               param_distributions=random_grid, \n",
    "                               n_iter=5, \n",
    "                               cv=cv, \n",
    "                               scoring='roc_auc',\n",
    "                               verbose=3, \n",
    "                               random_state=1, \n",
    "                               n_jobs=2)\n",
    "\n",
    "rf_random.fit(X, y)"
   ]
  },
  {
   "cell_type": "code",
   "execution_count": 0,
   "metadata": {
    "colab": {},
    "colab_type": "code",
    "id": "F_r-r1t1FgO2",
    "outputId": "8e1c63fa-86c3-4fa9-9fd9-db4cbe90d0f8"
   },
   "outputs": [
    {
     "data": {
      "text/plain": [
       "0.8271106880805453"
      ]
     },
     "execution_count": 50,
     "metadata": {
      "tags": []
     },
     "output_type": "execute_result"
    }
   ],
   "source": [
    "rf_random.best_score_"
   ]
  },
  {
   "cell_type": "code",
   "execution_count": 0,
   "metadata": {
    "colab": {},
    "colab_type": "code",
    "id": "ECmx4V5RFgO4",
    "outputId": "a917e9e3-9a43-445b-d74b-8caa89969bad"
   },
   "outputs": [
    {
     "data": {
      "text/plain": [
       "RandomForestClassifier(bootstrap=False, class_weight=None, criterion='gini',\n",
       "                       max_depth=40, max_features='auto', max_leaf_nodes=None,\n",
       "                       min_impurity_decrease=0.0, min_impurity_split=None,\n",
       "                       min_samples_leaf=4, min_samples_split=2,\n",
       "                       min_weight_fraction_leaf=0.0, n_estimators=800,\n",
       "                       n_jobs=None, oob_score=False, random_state=None,\n",
       "                       verbose=0, warm_start=False)"
      ]
     },
     "execution_count": 52,
     "metadata": {
      "tags": []
     },
     "output_type": "execute_result"
    }
   ],
   "source": [
    "rf_random.best_estimator_"
   ]
  },
  {
   "cell_type": "code",
   "execution_count": 0,
   "metadata": {
    "colab": {},
    "colab_type": "code",
    "id": "ISt3WgDHFgO8"
   },
   "outputs": [],
   "source": [
    "pred = rf_random.predict_proba(test.drop(['ts', 'segment_id', 'EventId', 'target'], axis=1))"
   ]
  },
  {
   "cell_type": "code",
   "execution_count": 0,
   "metadata": {
    "colab": {},
    "colab_type": "code",
    "id": "h89q8gylFgPA",
    "outputId": "6dae5dca-d0de-449b-9745-a7c9949d0a39"
   },
   "outputs": [
    {
     "data": {
      "image/png": "[encoded data removed]",
      "text/plain": [
       "<Figure size 432x288 with 1 Axes>"
      ]
     },
     "metadata": {
      "needs_background": "light",
      "tags": []
     },
     "output_type": "display_data"
    }
   ],
   "source": [
    "plt.hist(pred[:,1]);"
   ]
  },
  {
   "cell_type": "code",
   "execution_count": 0,
   "metadata": {
    "colab": {},
    "colab_type": "code",
    "id": "TH42yNjDFgPC",
    "outputId": "7fb6c6f5-bc45-4c2e-fe61-ff64ca174325"
   },
   "outputs": [
    {
     "data": {
      "text/plain": [
       "0.7550230491867387"
      ]
     },
     "execution_count": 55,
     "metadata": {
      "tags": []
     },
     "output_type": "execute_result"
    }
   ],
   "source": [
    "roc_auc_score(test['target'], pred[:, 1])"
   ]
  },
  {
   "cell_type": "code",
   "execution_count": 0,
   "metadata": {
    "colab": {},
    "colab_type": "code",
    "id": "vhn7p_ANFgPG"
   },
   "outputs": [],
   "source": [
    "from sklearn.metrics import classification_report, f1_score"
   ]
  },
  {
   "cell_type": "code",
   "execution_count": 0,
   "metadata": {
    "colab": {},
    "colab_type": "code",
    "id": "j851oYV_FgPH"
   },
   "outputs": [],
   "source": [
    "res = []\n",
    "for prc in range(1, 100, 1):\n",
    "    thr = np.percentile(pred[:,1], prc)\n",
    "    pred_ll = [1 if x >= thr else 0 for x in pred[:, 1]]\n",
    "    res.append([thr, f1_score(test['target'], pred_ll)])"
   ]
  },
  {
   "cell_type": "code",
   "execution_count": 0,
   "metadata": {
    "colab": {},
    "colab_type": "code",
    "id": "fIBvJzDBFgPJ",
    "outputId": "cf82b97c-9b35-4df5-c32e-bbf929dbbbd3"
   },
   "outputs": [
    {
     "data": {
      "text/plain": [
       "[<matplotlib.lines.Line2D at 0x7f32ece3bdd8>]"
      ]
     },
     "execution_count": 58,
     "metadata": {
      "tags": []
     },
     "output_type": "execute_result"
    },
    {
     "data": {
      "image/png": "[encoded data removed]",
      "text/plain": [
       "<Figure size 432x288 with 1 Axes>"
      ]
     },
     "metadata": {
      "needs_background": "light",
      "tags": []
     },
     "output_type": "display_data"
    }
   ],
   "source": [
    "plt.plot([x[0] for x in sorted(res, key=lambda x: x[0], reverse=True)], [x[1] for x in sorted(res, key=lambda x: x[0], reverse=True)])"
   ]
  },
  {
   "cell_type": "code",
   "execution_count": 0,
   "metadata": {
    "colab": {},
    "colab_type": "code",
    "id": "l-3-bNzmFgPL",
    "outputId": "274ecf35-b3ab-4b50-8d4c-65dbda3d6f6d",
    "scrolled": true
   },
   "outputs": [
    {
     "data": {
      "text/plain": [
       "0.6012600192098999"
      ]
     },
     "execution_count": 59,
     "metadata": {
      "tags": []
     },
     "output_type": "execute_result"
    }
   ],
   "source": [
    "best_thr = sorted(res, key=lambda x: x[1], reverse=True)[0][0]\n",
    "best_f1 = sorted(res, key=lambda x: x[1], reverse=True)[0][1]\n",
    "best_thr"
   ]
  },
  {
   "cell_type": "code",
   "execution_count": 0,
   "metadata": {
    "colab": {},
    "colab_type": "code",
    "id": "VUwmeBreFgPM",
    "outputId": "2ded619c-1750-480a-f636-356565e045fb"
   },
   "outputs": [
    {
     "data": {
      "text/plain": [
       "0.05081231344133797"
      ]
     },
     "execution_count": 60,
     "metadata": {
      "tags": []
     },
     "output_type": "execute_result"
    }
   ],
   "source": [
    "best_f1 = sorted(res, key=lambda x: x[1], reverse=True)[0][1]\n",
    "best_f1"
   ]
  }
 ],
 "metadata": {
  "colab": {
   "collapsed_sections": [
    "mFA_YzEkKB7q",
    "ZzryIPB7FgOY",
    "ZBMjrmT1FgOv"
   ],
   "name": "baseline_colab.ipynb",
   "provenance": []
  },
  "kernelspec": {
   "display_name": "Python 3",
   "language": "python",
   "name": "python3"
  },
  "language_info": {
   "codemirror_mode": {
    "name": "ipython",
    "version": 3
   },
   "file_extension": ".py",
   "mimetype": "text/x-python",
   "name": "python",
   "nbconvert_exporter": "python",
   "pygments_lexer": "ipython3",
   "version": "3.7.1"
  }
 },
 "nbformat": 4,
 "nbformat_minor": 1
}
