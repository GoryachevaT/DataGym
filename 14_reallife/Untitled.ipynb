{
 "cells": [
  {
   "cell_type": "code",
   "execution_count": 1,
   "metadata": {},
   "outputs": [],
   "source": [
    "from flask import Flask\n",
    "from flask import request, jsonify\n",
    "import base64\n",
    "from bs4 import BeautifulSoup\n",
    "from pymystem3 import Mystem\n",
    "import re\n",
    "import nltk\n",
    "import pickle"
   ]
  },
  {
   "cell_type": "code",
   "execution_count": 2,
   "metadata": {},
   "outputs": [],
   "source": [
    "wv_model = pickle.load(open('w2v_model.pickle', 'rb'))\n",
    "rf = pickle.load(open('rf_model.pickle', 'rb'))"
   ]
  },
  {
   "cell_type": "code",
   "execution_count": 3,
   "metadata": {},
   "outputs": [
    {
     "name": "stderr",
     "output_type": "stream",
     "text": [
      "[nltk_data] Downloading package punkt to\n",
      "[nltk_data]     /Users/antonina.goryacheva/nltk_data...\n",
      "[nltk_data]   Package punkt is already up-to-date!\n"
     ]
    }
   ],
   "source": [
    "nltk.download('punkt')\n",
    "morph = Mystem()"
   ]
  },
  {
   "cell_type": "code",
   "execution_count": 4,
   "metadata": {},
   "outputs": [],
   "source": [
    "def text_to_sent(t):\n",
    "    text = BeautifulSoup(t).text.lower()\n",
    "    tokenizer = nltk.data.load('tokenizers/punkt/russian.pickle')\n",
    "    raw_sentences = tokenizer.tokenize(text.strip())\n",
    "    raw_sentences = [x.split(';') for x in raw_sentences]\n",
    "    raw_sentences = sum(raw_sentences, [])\n",
    "    sentences = [morph.lemmatize(x) for x in raw_sentences]\n",
    "    return [[y for y in x if re.match('[а-яёa-z0-9]', y)]\n",
    "            for x in sentences]\n",
    "\n",
    "def text_to_vec(words, model):\n",
    "    index2word_set = set(model.wv.index2word)\n",
    "    text_vec = np.zeros((300,), dtype=\"float32\")\n",
    "    n_words = 0\n",
    "    for word in words:\n",
    "        if word in index2word_set:\n",
    "            n_words = n_words + 1\n",
    "            text_vec = np.add(text_vec, model.wv[word])\n",
    "    \n",
    "    if n_words != 0:\n",
    "        text_vec /= n_words\n",
    "    return text_vec"
   ]
  },
  {
   "cell_type": "code",
   "execution_count": 7,
   "metadata": {},
   "outputs": [],
   "source": [
    "import pandas as pd"
   ]
  },
  {
   "cell_type": "code",
   "execution_count": 8,
   "metadata": {},
   "outputs": [],
   "source": [
    "test = pd.read_csv('test.csv', sep=';')"
   ]
  },
  {
   "cell_type": "code",
   "execution_count": 9,
   "metadata": {},
   "outputs": [
    {
     "data": {
      "text/html": [
       "<div>\n",
       "<style scoped>\n",
       "    .dataframe tbody tr th:only-of-type {\n",
       "        vertical-align: middle;\n",
       "    }\n",
       "\n",
       "    .dataframe tbody tr th {\n",
       "        vertical-align: top;\n",
       "    }\n",
       "\n",
       "    .dataframe thead th {\n",
       "        text-align: right;\n",
       "    }\n",
       "</style>\n",
       "<table border=\"1\" class=\"dataframe\">\n",
       "  <thead>\n",
       "    <tr style=\"text-align: right;\">\n",
       "      <th></th>\n",
       "      <th>id</th>\n",
       "      <th>text</th>\n",
       "    </tr>\n",
       "  </thead>\n",
       "  <tbody>\n",
       "    <tr>\n",
       "      <td>0</td>\n",
       "      <td>31063</td>\n",
       "      <td>&lt;p&gt;&lt;strong&gt;В крупную компанию по организации и...</td>\n",
       "    </tr>\n",
       "    <tr>\n",
       "      <td>1</td>\n",
       "      <td>31064</td>\n",
       "      <td>&lt;p&gt;&lt;strong&gt;Обязанности:&lt;/strong&gt;&lt;/p&gt; &lt;ul&gt; &lt;li&gt;...</td>\n",
       "    </tr>\n",
       "    <tr>\n",
       "      <td>2</td>\n",
       "      <td>31065</td>\n",
       "      <td>&lt;p&gt; &lt;/p&gt; &lt;p&gt;&lt;strong&gt;Обязанности:&lt;/strong&gt;&lt;/p&gt; ...</td>\n",
       "    </tr>\n",
       "    <tr>\n",
       "      <td>3</td>\n",
       "      <td>31066</td>\n",
       "      <td>&lt;p&gt;&lt;strong&gt;Обязанности:&lt;/strong&gt;&lt;/p&gt; &lt;ul&gt; &lt;li&gt;...</td>\n",
       "    </tr>\n",
       "    <tr>\n",
       "      <td>4</td>\n",
       "      <td>31067</td>\n",
       "      <td>&lt;p&gt;&lt;strong&gt;Вакансия СРОЧНАЯ!&lt;/strong&gt;&lt;/p&gt; &lt;p&gt;&lt;...</td>\n",
       "    </tr>\n",
       "  </tbody>\n",
       "</table>\n",
       "</div>"
      ],
      "text/plain": [
       "      id                                               text\n",
       "0  31063  <p><strong>В крупную компанию по организации и...\n",
       "1  31064  <p><strong>Обязанности:</strong></p> <ul> <li>...\n",
       "2  31065  <p> </p> <p><strong>Обязанности:</strong></p> ...\n",
       "3  31066  <p><strong>Обязанности:</strong></p> <ul> <li>...\n",
       "4  31067  <p><strong>Вакансия СРОЧНАЯ!</strong></p> <p><..."
      ]
     },
     "execution_count": 9,
     "metadata": {},
     "output_type": "execute_result"
    }
   ],
   "source": [
    "test.head()"
   ]
  },
  {
   "cell_type": "code",
   "execution_count": 12,
   "metadata": {},
   "outputs": [],
   "source": [
    "import numpy as np"
   ]
  },
  {
   "cell_type": "code",
   "execution_count": 19,
   "metadata": {},
   "outputs": [],
   "source": [
    "text = test['text'][0]\n",
    "s = text_to_sent(text)\n",
    "s = sum(s, [])"
   ]
  },
  {
   "cell_type": "code",
   "execution_count": 25,
   "metadata": {},
   "outputs": [
    {
     "data": {
      "text/plain": [
       "300"
      ]
     },
     "execution_count": 25,
     "metadata": {},
     "output_type": "execute_result"
    }
   ],
   "source": [
    "vec.shape[0]"
   ]
  },
  {
   "cell_type": "code",
   "execution_count": 29,
   "metadata": {},
   "outputs": [],
   "source": [
    "vec = text_to_vec(s, wv_model)\n",
    "\n",
    "resp = {\n",
    "    'predict': rf.predict(vec.reshape((1, vec.shape[0])))[0],\n",
    "}"
   ]
  },
  {
   "cell_type": "code",
   "execution_count": 32,
   "metadata": {},
   "outputs": [
    {
     "data": {
      "text/plain": [
       "'<p><strong>В крупную компанию по организации и приготовлению корпоративного питания требуется - Бухгалтер калькулятор.</strong></p> <p><strong>Обязанности:</strong></p> <ul> <li>работа с технологическими картами</li> <li>расчет себестоимости блюд</li> <li>ведение номенклатур</li> <li>ведение документооборота производства</li> <li>ценообразование</li> <li>участие в проведении инвентаризации</li> </ul> <strong>Требования:</strong> <ul> <li>опыт работы в общепите бухгалтером-калькулятором</li> <li>умение работать в программе общепит &quot;Айко&quot; (или другой)</li> <li>внимательность и ответственное отношение к работе</li> </ul> <strong>Условия:</strong> <ul> <li>официальное трудоустройство с первого рабочего дня</li> <li>место работы Советский район</li> <li>график работы 5/2 с 9:00 до 18:00</li> <li>предоставляется бесплатное питание</li> </ul>'"
      ]
     },
     "execution_count": 32,
     "metadata": {},
     "output_type": "execute_result"
    }
   ],
   "source": [
    "text"
   ]
  },
  {
   "cell_type": "code",
   "execution_count": 34,
   "metadata": {},
   "outputs": [],
   "source": [
    "import requests\n",
    "\n",
    "resp = requests.post(\n",
    "    'http://localhost:11010/predict',\n",
    "    data = {\n",
    "        'text': [text]\n",
    "    }\n",
    ")"
   ]
  },
  {
   "cell_type": "code",
   "execution_count": 36,
   "metadata": {},
   "outputs": [
    {
     "data": {
      "text/plain": [
       "'<!DOCTYPE HTML PUBLIC \"-//W3C//DTD HTML 3.2 Final//EN\">\\n<title>500 Internal Server Error</title>\\n<h1>Internal Server Error</h1>\\n<p>The server encountered an internal error and was unable to complete your request.  Either the server is overloaded or there is an error in the application.</p>\\n'"
      ]
     },
     "execution_count": 36,
     "metadata": {},
     "output_type": "execute_result"
    }
   ],
   "source": [
    "resp.text"
   ]
  },
  {
   "cell_type": "code",
   "execution_count": null,
   "metadata": {},
   "outputs": [],
   "source": []
  }
 ],
 "metadata": {
  "kernelspec": {
   "display_name": "Python 3",
   "language": "python",
   "name": "python3"
  },
  "language_info": {
   "codemirror_mode": {
    "name": "ipython",
    "version": 3
   },
   "file_extension": ".py",
   "mimetype": "text/x-python",
   "name": "python",
   "nbconvert_exporter": "python",
   "pygments_lexer": "ipython3",
   "version": "3.7.1"
  }
 },
 "nbformat": 4,
 "nbformat_minor": 2
}
