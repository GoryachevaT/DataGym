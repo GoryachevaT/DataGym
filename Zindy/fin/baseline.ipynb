{
 "cells": [
  {
   "cell_type": "code",
   "execution_count": 1,
   "metadata": {},
   "outputs": [],
   "source": [
    "import pandas as pd\n",
    "import numpy as np\n",
    "from datetime import datetime\n",
    "import re\n",
    "#from xgboost import XGBClassifier\n",
    "from sklearn.ensemble import RandomForestClassifier\n",
    "\n",
    "from sklearn.model_selection import KFold, RandomizedSearchCV, StratifiedKFold\n",
    "from sklearn.metrics import roc_auc_score\n",
    "import matplotlib.pyplot as plt\n",
    "from functions import *"
   ]
  },
  {
   "cell_type": "markdown",
   "metadata": {},
   "source": [
    "## Read"
   ]
  },
  {
   "cell_type": "markdown",
   "metadata": {},
   "source": [
    "1. Агрегировать данные по часу\n",
    "2. Создать train/test метка времени + 1/0"
   ]
  },
  {
   "cell_type": "code",
   "execution_count": 2,
   "metadata": {},
   "outputs": [],
   "source": [
    "# injuries = pd.read_csv('data/SANRAL_v2/Injuries2016_2019.csv')\n",
    "# vehicles = pd.read_csv('data/SANRAL_v2/Vehicles2016_2019.csv')"
   ]
  },
  {
   "cell_type": "code",
   "execution_count": 3,
   "metadata": {},
   "outputs": [],
   "source": [
    "train = pd.read_csv('data/train.csv')"
   ]
  },
  {
   "cell_type": "code",
   "execution_count": 4,
   "metadata": {},
   "outputs": [],
   "source": [
    "# drop lines with bad road_segment_id\n",
    "train['rs_len'] = train['road_segment_id'].apply(lambda x: len(x))\n",
    "train = train[train['rs_len'] == 7]"
   ]
  },
  {
   "cell_type": "code",
   "execution_count": 5,
   "metadata": {},
   "outputs": [],
   "source": [
    "# create train sample\n",
    "\n",
    "road_segment_id = train['road_segment_id'].unique()\n",
    "agg_train = pd.DataFrame([])\n",
    "agg_train['ts'] = pd.date_range(start='2016-01-01', end='2018-12-31', freq='h')\n",
    "rs = [road_segment_id]*agg_train.shape[0]\n",
    "agg_train['rs_list'] = rs\n",
    "\n",
    "data = []\n",
    "for i in agg_train.itertuples():\n",
    "    lst = i[2]\n",
    "    for col2 in lst:\n",
    "        data.append([i[1], col2])\n",
    "\n",
    "df_output = pd.DataFrame(data=data, columns=agg_train.columns) "
   ]
  },
  {
   "cell_type": "code",
   "execution_count": 6,
   "metadata": {},
   "outputs": [],
   "source": [
    "dt = [datetime.strptime(x, \"%d/%m/%y %H:%M\") for x in train['Occurrence Local Date Time'].values]\n",
    "train['dt'] = dt\n",
    "train['hour_dt'] = train['dt'].dt.round('60min')"
   ]
  },
  {
   "cell_type": "code",
   "execution_count": 7,
   "metadata": {},
   "outputs": [],
   "source": [
    "# Aggregating train\n",
    "\n",
    "base_df = df_output.merge(train[['hour_dt', 'road_segment_id', 'EventId']], \n",
    "                          left_on=['ts', 'rs_list'], \n",
    "                          right_on=['hour_dt', 'road_segment_id'],\n",
    "                          how='left')\\\n",
    "                   .drop(['hour_dt', 'road_segment_id'], axis=1)"
   ]
  },
  {
   "cell_type": "code",
   "execution_count": 8,
   "metadata": {},
   "outputs": [],
   "source": [
    "base_df['target'] = base_df['EventId'].apply(lambda x: 0 if pd.isnull(x) else 1)"
   ]
  },
  {
   "cell_type": "code",
   "execution_count": 9,
   "metadata": {},
   "outputs": [
    {
     "data": {
      "text/plain": [
       "0    14245462\n",
       "1       53738\n",
       "Name: target, dtype: int64"
      ]
     },
     "execution_count": 9,
     "metadata": {},
     "output_type": "execute_result"
    }
   ],
   "source": [
    "base_df['target'].value_counts()"
   ]
  },
  {
   "cell_type": "code",
   "execution_count": 10,
   "metadata": {},
   "outputs": [],
   "source": [
    "t1 = base_df[base_df['ts']>='2018-10-01']"
   ]
  },
  {
   "cell_type": "code",
   "execution_count": 11,
   "metadata": {},
   "outputs": [
    {
     "data": {
      "text/plain": [
       "(1189050, 4)"
      ]
     },
     "execution_count": 11,
     "metadata": {},
     "output_type": "execute_result"
    }
   ],
   "source": [
    "t1.shape"
   ]
  },
  {
   "cell_type": "code",
   "execution_count": 12,
   "metadata": {},
   "outputs": [],
   "source": [
    "t2 = base_df[(base_df['target']==1)&(base_df['ts']<'2018-10-01')]"
   ]
  },
  {
   "cell_type": "code",
   "execution_count": 13,
   "metadata": {},
   "outputs": [
    {
     "data": {
      "text/plain": [
       "(45524, 4)"
      ]
     },
     "execution_count": 13,
     "metadata": {},
     "output_type": "execute_result"
    }
   ],
   "source": [
    "t2.shape"
   ]
  },
  {
   "cell_type": "code",
   "execution_count": 14,
   "metadata": {},
   "outputs": [],
   "source": [
    "t3 = base_df[(base_df['target']==0)&(base_df['ts']<'2018-10-01')].sample(n=100000)"
   ]
  },
  {
   "cell_type": "code",
   "execution_count": 17,
   "metadata": {},
   "outputs": [],
   "source": [
    "train = pd.concat((pd.concat((t1, t2)), t3)).reset_index(drop=True)"
   ]
  },
  {
   "cell_type": "code",
   "execution_count": 18,
   "metadata": {},
   "outputs": [
    {
     "data": {
      "text/plain": [
       "(1334574, 4)"
      ]
     },
     "execution_count": 18,
     "metadata": {},
     "output_type": "execute_result"
    }
   ],
   "source": [
    "train.shape"
   ]
  },
  {
   "cell_type": "code",
   "execution_count": 19,
   "metadata": {},
   "outputs": [
    {
     "data": {
      "text/plain": [
       "0    1280836\n",
       "1      53738\n",
       "Name: target, dtype: int64"
      ]
     },
     "execution_count": 19,
     "metadata": {},
     "output_type": "execute_result"
    }
   ],
   "source": [
    "train['target'].value_counts()"
   ]
  },
  {
   "cell_type": "code",
   "execution_count": 20,
   "metadata": {},
   "outputs": [],
   "source": [
    "del base_df, df_output, data"
   ]
  },
  {
   "cell_type": "code",
   "execution_count": 21,
   "metadata": {},
   "outputs": [],
   "source": [
    "del agg_train"
   ]
  },
  {
   "cell_type": "markdown",
   "metadata": {},
   "source": [
    "## Weather"
   ]
  },
  {
   "cell_type": "code",
   "execution_count": 22,
   "metadata": {},
   "outputs": [],
   "source": [
    "weather = pd.read_csv('data/weather_train.csv', sep=';')\n",
    "weather = weather.drop(['Unnamed: 13', 'Unnamed: 14', \"W'W'\", 'ff10'], axis=1)\n",
    "\n",
    "weather_cols = ['local_time', 'temperature', 'p0', 'p', 'humidity', 'mean_wind_direction', \n",
    "                'mean_wind_speed', 'special_weather_phenomena', 'clouds', 'horizontal_visibility', 'Td']\n",
    "\n",
    "weather.columns = weather_cols\n",
    "weather_2 = weather_prep(weather.copy())"
   ]
  },
  {
   "cell_type": "code",
   "execution_count": 23,
   "metadata": {},
   "outputs": [
    {
     "data": {
      "text/plain": [
       "(25920, 46)"
      ]
     },
     "execution_count": 23,
     "metadata": {},
     "output_type": "execute_result"
    }
   ],
   "source": [
    "weather_2.shape"
   ]
  },
  {
   "cell_type": "markdown",
   "metadata": {},
   "source": [
    "## Geo"
   ]
  },
  {
   "cell_type": "code",
   "execution_count": 28,
   "metadata": {},
   "outputs": [],
   "source": [
    "#tz_2018_1 = pd.read_csv('data/cape_town-travel_zones-2018-1-All-HourlyAggregate.csv')"
   ]
  },
  {
   "cell_type": "code",
   "execution_count": 35,
   "metadata": {},
   "outputs": [],
   "source": [
    "# seg = gpd.read_file('data/road_segments/road_segments.geojson')\n",
    "\n",
    "# seg['CLASS_PRIMARY'] = seg['CLASS'].apply(lambda x: 1 if x=='Primary' else 0)\n",
    "# seg['PAVETYPE_FLEX'] = seg['PAVETYPE'].apply(lambda x: 1 if x=='FLEX' else 0)\n",
    "# seg['SURFTYPE_PAVED'] = seg['SURFTYPE'].apply(lambda x: 1 if x=='Paved' else 0)\n",
    "# seg['CONDITION_VG'] = seg['CONDITION'].apply(lambda x: 1 if x=='Very Good' else 0)\n",
    "# seg['CONDITION_G']  = seg['CONDITION'].apply(lambda x: 1 if x=='Good' else 0)\n",
    "# seg['CONDITION_F']  = seg['CONDITION'].apply(lambda x: 1 if x=='Fair' else 0)\n",
    "# seg['ROADNO_N1'] = seg['ROADNO'].apply(lambda x: 1 if x=='N1' else 0)\n",
    "# seg['ROADNO_N2'] = seg['ROADNO'].apply(lambda x: 1 if x=='N2' else 0)\n",
    "# seg['ROADNO_N7'] = seg['ROADNO'].apply(lambda x: 1 if x=='N7' else 0)\n",
    "# seg['ROADNO_R300'] = seg['ROADNO'].apply(lambda x: 1 if x=='R300' else 0)\n",
    "# seg['ROADNO_M3'] = seg['ROADNO'].apply(lambda x: 1 if x=='M3' else 0)\n",
    "# seg['ROADNO_M4'] = seg['ROADNO'].apply(lambda x: 1 if x=='M4' else 0)\n",
    "# seg['ROADNO_M5'] = seg['ROADNO'].apply(lambda x: 1 if x=='M5' else 0)\n",
    "# seg['ROADNO_M17'] = seg['ROADNO'].apply(lambda x: 1 if x=='M17' else 0)\n",
    "# seg.drop(['CONDITION', 'CLASS', 'PAVETYPE','SURFTYPE', 'ROADNO', 'REGION','geometry'] , axis=1, inplace=True)"
   ]
  },
  {
   "cell_type": "code",
   "execution_count": 24,
   "metadata": {},
   "outputs": [],
   "source": [
    "seg = pd.read_pickle('data/seg.pickle')"
   ]
  },
  {
   "cell_type": "code",
   "execution_count": 25,
   "metadata": {},
   "outputs": [
    {
     "data": {
      "text/html": [
       "<div>\n",
       "<style scoped>\n",
       "    .dataframe tbody tr th:only-of-type {\n",
       "        vertical-align: middle;\n",
       "    }\n",
       "\n",
       "    .dataframe tbody tr th {\n",
       "        vertical-align: top;\n",
       "    }\n",
       "\n",
       "    .dataframe thead th {\n",
       "        text-align: right;\n",
       "    }\n",
       "</style>\n",
       "<table border=\"1\" class=\"dataframe\">\n",
       "  <thead>\n",
       "    <tr style=\"text-align: right;\">\n",
       "      <th></th>\n",
       "      <th>WIDTH</th>\n",
       "      <th>LANES</th>\n",
       "      <th>length_1</th>\n",
       "      <th>segment_id</th>\n",
       "      <th>CLASS_PRIMARY</th>\n",
       "      <th>PAVETYPE_FLEX</th>\n",
       "      <th>SURFTYPE_PAVED</th>\n",
       "      <th>CONDITION_VG</th>\n",
       "      <th>CONDITION_G</th>\n",
       "      <th>CONDITION_F</th>\n",
       "      <th>ROADNO_N1</th>\n",
       "      <th>ROADNO_N2</th>\n",
       "      <th>ROADNO_N7</th>\n",
       "      <th>ROADNO_R300</th>\n",
       "      <th>ROADNO_M3</th>\n",
       "      <th>ROADNO_M4</th>\n",
       "      <th>ROADNO_M5</th>\n",
       "      <th>ROADNO_M17</th>\n",
       "    </tr>\n",
       "  </thead>\n",
       "  <tbody>\n",
       "    <tr>\n",
       "      <th>0</th>\n",
       "      <td>20.2</td>\n",
       "      <td>2</td>\n",
       "      <td>471.207</td>\n",
       "      <td>D1U6OOF</td>\n",
       "      <td>1</td>\n",
       "      <td>1</td>\n",
       "      <td>1</td>\n",
       "      <td>0</td>\n",
       "      <td>1</td>\n",
       "      <td>0</td>\n",
       "      <td>0</td>\n",
       "      <td>0</td>\n",
       "      <td>0</td>\n",
       "      <td>1</td>\n",
       "      <td>0</td>\n",
       "      <td>0</td>\n",
       "      <td>0</td>\n",
       "      <td>0</td>\n",
       "    </tr>\n",
       "    <tr>\n",
       "      <th>1</th>\n",
       "      <td>20.2</td>\n",
       "      <td>2</td>\n",
       "      <td>471.207</td>\n",
       "      <td>NG4X2MD</td>\n",
       "      <td>1</td>\n",
       "      <td>1</td>\n",
       "      <td>1</td>\n",
       "      <td>0</td>\n",
       "      <td>1</td>\n",
       "      <td>0</td>\n",
       "      <td>0</td>\n",
       "      <td>0</td>\n",
       "      <td>0</td>\n",
       "      <td>1</td>\n",
       "      <td>0</td>\n",
       "      <td>0</td>\n",
       "      <td>0</td>\n",
       "      <td>0</td>\n",
       "    </tr>\n",
       "    <tr>\n",
       "      <th>2</th>\n",
       "      <td>20.2</td>\n",
       "      <td>2</td>\n",
       "      <td>471.207</td>\n",
       "      <td>792705Z</td>\n",
       "      <td>1</td>\n",
       "      <td>1</td>\n",
       "      <td>1</td>\n",
       "      <td>0</td>\n",
       "      <td>1</td>\n",
       "      <td>0</td>\n",
       "      <td>0</td>\n",
       "      <td>0</td>\n",
       "      <td>0</td>\n",
       "      <td>1</td>\n",
       "      <td>0</td>\n",
       "      <td>0</td>\n",
       "      <td>0</td>\n",
       "      <td>0</td>\n",
       "    </tr>\n",
       "    <tr>\n",
       "      <th>3</th>\n",
       "      <td>20.2</td>\n",
       "      <td>2</td>\n",
       "      <td>471.207</td>\n",
       "      <td>IK67XHB</td>\n",
       "      <td>1</td>\n",
       "      <td>1</td>\n",
       "      <td>1</td>\n",
       "      <td>0</td>\n",
       "      <td>1</td>\n",
       "      <td>0</td>\n",
       "      <td>0</td>\n",
       "      <td>0</td>\n",
       "      <td>0</td>\n",
       "      <td>1</td>\n",
       "      <td>0</td>\n",
       "      <td>0</td>\n",
       "      <td>0</td>\n",
       "      <td>0</td>\n",
       "    </tr>\n",
       "    <tr>\n",
       "      <th>4</th>\n",
       "      <td>20.2</td>\n",
       "      <td>2</td>\n",
       "      <td>471.207</td>\n",
       "      <td>OWCF2MH</td>\n",
       "      <td>1</td>\n",
       "      <td>1</td>\n",
       "      <td>1</td>\n",
       "      <td>0</td>\n",
       "      <td>1</td>\n",
       "      <td>0</td>\n",
       "      <td>0</td>\n",
       "      <td>0</td>\n",
       "      <td>0</td>\n",
       "      <td>1</td>\n",
       "      <td>0</td>\n",
       "      <td>0</td>\n",
       "      <td>0</td>\n",
       "      <td>0</td>\n",
       "    </tr>\n",
       "  </tbody>\n",
       "</table>\n",
       "</div>"
      ],
      "text/plain": [
       "   WIDTH  LANES  length_1 segment_id  CLASS_PRIMARY  PAVETYPE_FLEX  \\\n",
       "0   20.2      2   471.207    D1U6OOF              1              1   \n",
       "1   20.2      2   471.207    NG4X2MD              1              1   \n",
       "2   20.2      2   471.207    792705Z              1              1   \n",
       "3   20.2      2   471.207    IK67XHB              1              1   \n",
       "4   20.2      2   471.207    OWCF2MH              1              1   \n",
       "\n",
       "   SURFTYPE_PAVED  CONDITION_VG  CONDITION_G  CONDITION_F  ROADNO_N1  \\\n",
       "0               1             0            1            0          0   \n",
       "1               1             0            1            0          0   \n",
       "2               1             0            1            0          0   \n",
       "3               1             0            1            0          0   \n",
       "4               1             0            1            0          0   \n",
       "\n",
       "   ROADNO_N2  ROADNO_N7  ROADNO_R300  ROADNO_M3  ROADNO_M4  ROADNO_M5  \\\n",
       "0          0          0            1          0          0          0   \n",
       "1          0          0            1          0          0          0   \n",
       "2          0          0            1          0          0          0   \n",
       "3          0          0            1          0          0          0   \n",
       "4          0          0            1          0          0          0   \n",
       "\n",
       "   ROADNO_M17  \n",
       "0           0  \n",
       "1           0  \n",
       "2           0  \n",
       "3           0  \n",
       "4           0  "
      ]
     },
     "execution_count": 25,
     "metadata": {},
     "output_type": "execute_result"
    }
   ],
   "source": [
    "seg.drop(['REGION'], axis=1, inplace=True)\n",
    "seg.head()"
   ]
  },
  {
   "cell_type": "markdown",
   "metadata": {},
   "source": [
    "## Uber data"
   ]
  },
  {
   "cell_type": "code",
   "execution_count": 13,
   "metadata": {},
   "outputs": [],
   "source": [
    "# q1_2018 = pd.read_csv('data/cape_town-travel_zones-2018-1-All-HourlyAggregate.csv')\n",
    "\n",
    "# q2_2018 = pd.read_csv('data/cape_town-travel_zones-2018-2-All-HourlyAggregate.csv')\n",
    "\n",
    "# q3_2018 = pd.read_csv('data/cape_town-travel_zones-2018-3-All-HourlyAggregate.csv')\n",
    "\n",
    "# q4_2018 = pd.read_csv('data/cape_town-travel_zones-2018-4-All-HourlyAggregate.csv')"
   ]
  },
  {
   "cell_type": "markdown",
   "metadata": {},
   "source": [
    "## Feats join"
   ]
  },
  {
   "cell_type": "code",
   "execution_count": 39,
   "metadata": {},
   "outputs": [],
   "source": [
    "# pol = gpd.read_file('data/cape_town_travel_zones.json')\n",
    "# pd.merge(base_df, gpd.sjoin(seg, pol[['fake_gavno', 'geometry']])[['segment_id', 'fake_gavno']], on='segment_id')"
   ]
  },
  {
   "cell_type": "code",
   "execution_count": 26,
   "metadata": {},
   "outputs": [],
   "source": [
    "train = train.rename(columns={'rs_list':'segment_id'})#.head(2)"
   ]
  },
  {
   "cell_type": "code",
   "execution_count": 27,
   "metadata": {},
   "outputs": [],
   "source": [
    "train_2 = train.merge(seg, on='segment_id', how='left')\\\n",
    "                 .merge(weather_2, left_on='ts', right_on='hour_dt', how='left')\\\n",
    "                 .drop('hour_dt', axis=1)"
   ]
  },
  {
   "cell_type": "code",
   "execution_count": 28,
   "metadata": {},
   "outputs": [],
   "source": [
    "# del base_df, seg, weather_2"
   ]
  },
  {
   "cell_type": "code",
   "execution_count": 55,
   "metadata": {},
   "outputs": [],
   "source": [
    "# train_2.to_pickle('data/train_2.pickle')"
   ]
  },
  {
   "cell_type": "markdown",
   "metadata": {},
   "source": [
    "# Train"
   ]
  },
  {
   "cell_type": "code",
   "execution_count": 21,
   "metadata": {},
   "outputs": [],
   "source": [
    "# %%time\n",
    "# train_2 = pd.read_pickle('data/train_2.pickle')"
   ]
  },
  {
   "cell_type": "code",
   "execution_count": 29,
   "metadata": {},
   "outputs": [],
   "source": [
    "train_2 = train_2.fillna(-1)"
   ]
  },
  {
   "cell_type": "code",
   "execution_count": 30,
   "metadata": {},
   "outputs": [],
   "source": [
    "test = train_2[train_2['ts'] >= '2018-10-01']\n",
    "train = train_2[train_2['ts'] < '2018-10-01']"
   ]
  },
  {
   "cell_type": "code",
   "execution_count": 31,
   "metadata": {},
   "outputs": [
    {
     "data": {
      "text/plain": [
       "0    100000\n",
       "1     45524\n",
       "Name: target, dtype: int64"
      ]
     },
     "execution_count": 31,
     "metadata": {},
     "output_type": "execute_result"
    }
   ],
   "source": [
    "train['target'].value_counts()"
   ]
  },
  {
   "cell_type": "code",
   "execution_count": 32,
   "metadata": {},
   "outputs": [
    {
     "data": {
      "text/plain": [
       "0    1180836\n",
       "1       8214\n",
       "Name: target, dtype: int64"
      ]
     },
     "execution_count": 32,
     "metadata": {},
     "output_type": "execute_result"
    }
   ],
   "source": [
    "test['target'].value_counts()"
   ]
  },
  {
   "cell_type": "markdown",
   "metadata": {},
   "source": [
    "## Feature selection"
   ]
  },
  {
   "cell_type": "code",
   "execution_count": 36,
   "metadata": {},
   "outputs": [],
   "source": [
    "X = train.drop(['ts', 'segment_id', 'EventId', 'target'], axis=1)\n",
    "y = train['target'].values"
   ]
  },
  {
   "cell_type": "code",
   "execution_count": 35,
   "metadata": {},
   "outputs": [
    {
     "name": "stdout",
     "output_type": "stream",
     "text": [
      "{'n_estimators': [200, 400, 600, 800, 1000, 1200, 1400, 1600, 1800, 2000], 'max_features': ['auto', 'sqrt'], 'max_depth': [10, 20, 30, 40, 50, 60, 70, 80, 90, 100, 110, None], 'min_samples_split': [2, 5, 10], 'min_samples_leaf': [1, 2, 4], 'bootstrap': [True, False]}\n"
     ]
    }
   ],
   "source": [
    "# Number of trees in random forest\n",
    "n_estimators = [int(x) for x in np.linspace(start = 200, stop = 2000, num = 10)]\n",
    "# Number of features to consider at every split\n",
    "max_features = ['auto', 'sqrt']\n",
    "# Maximum number of levels in tree\n",
    "max_depth = [int(x) for x in np.linspace(10, 110, num = 11)]\n",
    "max_depth.append(None)\n",
    "# Minimum number of samples required to split a node\n",
    "min_samples_split = [2, 5, 10]\n",
    "# Minimum number of samples required at each leaf node\n",
    "min_samples_leaf = [1, 2, 4]\n",
    "# Method of selecting samples for training each tree\n",
    "bootstrap = [True, False]\n",
    "\n",
    "# Create the random grid\n",
    "random_grid = {'n_estimators': n_estimators,\n",
    "               'max_features': max_features,\n",
    "               'max_depth': max_depth,\n",
    "               'min_samples_split': min_samples_split,\n",
    "               'min_samples_leaf': min_samples_leaf,\n",
    "               'bootstrap': bootstrap}\n",
    "\n",
    "print(random_grid)"
   ]
  },
  {
   "cell_type": "code",
   "execution_count": 42,
   "metadata": {},
   "outputs": [],
   "source": [
    "rf = RandomForestClassifier()"
   ]
  },
  {
   "cell_type": "code",
   "execution_count": 49,
   "metadata": {
    "scrolled": true
   },
   "outputs": [
    {
     "name": "stdout",
     "output_type": "stream",
     "text": [
      "Fitting 3 folds for each of 5 candidates, totalling 15 fits\n"
     ]
    },
    {
     "name": "stderr",
     "output_type": "stream",
     "text": [
      "[Parallel(n_jobs=2)]: Using backend LokyBackend with 2 concurrent workers.\n",
      "[Parallel(n_jobs=2)]: Done  15 out of  15 | elapsed: 21.2min finished\n"
     ]
    },
    {
     "data": {
      "text/plain": [
       "RandomizedSearchCV(cv=StratifiedKFold(n_splits=3, random_state=123, shuffle=True),\n",
       "                   error_score='raise-deprecating',\n",
       "                   estimator=RandomForestClassifier(bootstrap=True,\n",
       "                                                    class_weight=None,\n",
       "                                                    criterion='gini',\n",
       "                                                    max_depth=None,\n",
       "                                                    max_features='auto',\n",
       "                                                    max_leaf_nodes=None,\n",
       "                                                    min_impurity_decrease=0.0,\n",
       "                                                    min_impurity_split=None,\n",
       "                                                    min_samples_leaf=1,\n",
       "                                                    min_samples_split=2,\n",
       "                                                    min_weight_...\n",
       "                   param_distributions={'bootstrap': [True, False],\n",
       "                                        'max_depth': [10, 20, 30, 40, 50, 60,\n",
       "                                                      70, 80, 90, 100, 110,\n",
       "                                                      None],\n",
       "                                        'max_features': ['auto', 'sqrt'],\n",
       "                                        'min_samples_leaf': [1, 2, 4],\n",
       "                                        'min_samples_split': [2, 5, 10],\n",
       "                                        'n_estimators': [200, 400, 600, 800,\n",
       "                                                         1000, 1200, 1400, 1600,\n",
       "                                                         1800, 2000]},\n",
       "                   pre_dispatch='2*n_jobs', random_state=1, refit=True,\n",
       "                   return_train_score=False, scoring='roc_auc', verbose=3)"
      ]
     },
     "execution_count": 49,
     "metadata": {},
     "output_type": "execute_result"
    }
   ],
   "source": [
    "# Задаем схему кросс-валидации\n",
    "cv = StratifiedKFold(n_splits=3, shuffle=True, random_state=123)\n",
    "rf_random = RandomizedSearchCV(estimator=rf, \n",
    "                               param_distributions=random_grid, \n",
    "                               n_iter=5, \n",
    "                               cv=cv, \n",
    "                               scoring='roc_auc',\n",
    "                               verbose=3, \n",
    "                               random_state=1, \n",
    "                               n_jobs=2)\n",
    "\n",
    "rf_random.fit(X, y)"
   ]
  },
  {
   "cell_type": "code",
   "execution_count": 50,
   "metadata": {},
   "outputs": [
    {
     "data": {
      "text/plain": [
       "0.8271106880805453"
      ]
     },
     "execution_count": 50,
     "metadata": {},
     "output_type": "execute_result"
    }
   ],
   "source": [
    "rf_random.best_score_"
   ]
  },
  {
   "cell_type": "code",
   "execution_count": 52,
   "metadata": {},
   "outputs": [
    {
     "data": {
      "text/plain": [
       "RandomForestClassifier(bootstrap=False, class_weight=None, criterion='gini',\n",
       "                       max_depth=40, max_features='auto', max_leaf_nodes=None,\n",
       "                       min_impurity_decrease=0.0, min_impurity_split=None,\n",
       "                       min_samples_leaf=4, min_samples_split=2,\n",
       "                       min_weight_fraction_leaf=0.0, n_estimators=800,\n",
       "                       n_jobs=None, oob_score=False, random_state=None,\n",
       "                       verbose=0, warm_start=False)"
      ]
     },
     "execution_count": 52,
     "metadata": {},
     "output_type": "execute_result"
    }
   ],
   "source": [
    "rf_random.best_estimator_"
   ]
  },
  {
   "cell_type": "code",
   "execution_count": 53,
   "metadata": {},
   "outputs": [],
   "source": [
    "pred = rf_random.predict_proba(test.drop(['ts', 'segment_id', 'EventId', 'target'], axis=1))"
   ]
  },
  {
   "cell_type": "code",
   "execution_count": 54,
   "metadata": {},
   "outputs": [
    {
     "data": {
      "image/png": "[encoded data removed]",
      "text/plain": [
       "<Figure size 432x288 with 1 Axes>"
      ]
     },
     "metadata": {
      "needs_background": "light"
     },
     "output_type": "display_data"
    }
   ],
   "source": [
    "plt.hist(pred[:,1]);"
   ]
  },
  {
   "cell_type": "code",
   "execution_count": 55,
   "metadata": {},
   "outputs": [
    {
     "data": {
      "text/plain": [
       "0.7550230491867387"
      ]
     },
     "execution_count": 55,
     "metadata": {},
     "output_type": "execute_result"
    }
   ],
   "source": [
    "roc_auc_score(test['target'], pred[:, 1])"
   ]
  },
  {
   "cell_type": "code",
   "execution_count": 56,
   "metadata": {},
   "outputs": [],
   "source": [
    "from sklearn.metrics import classification_report, f1_score"
   ]
  },
  {
   "cell_type": "code",
   "execution_count": 57,
   "metadata": {},
   "outputs": [],
   "source": [
    "res = []\n",
    "for prc in range(1, 100, 1):\n",
    "    thr = np.percentile(pred[:,1], prc)\n",
    "    pred_ll = [1 if x >= thr else 0 for x in pred[:, 1]]\n",
    "    res.append([thr, f1_score(test['target'], pred_ll)])"
   ]
  },
  {
   "cell_type": "code",
   "execution_count": 58,
   "metadata": {},
   "outputs": [
    {
     "data": {
      "text/plain": [
       "[<matplotlib.lines.Line2D at 0x7f32ece3bdd8>]"
      ]
     },
     "execution_count": 58,
     "metadata": {},
     "output_type": "execute_result"
    },
    {
     "data": {
      "image/png": "[encoded data removed]",
      "text/plain": [
       "<Figure size 432x288 with 1 Axes>"
      ]
     },
     "metadata": {
      "needs_background": "light"
     },
     "output_type": "display_data"
    }
   ],
   "source": [
    "plt.plot([x[0] for x in sorted(res, key=lambda x: x[0], reverse=True)], [x[1] for x in sorted(res, key=lambda x: x[0], reverse=True)])"
   ]
  },
  {
   "cell_type": "code",
   "execution_count": 59,
   "metadata": {
    "scrolled": true
   },
   "outputs": [
    {
     "data": {
      "text/plain": [
       "0.6012600192098999"
      ]
     },
     "execution_count": 59,
     "metadata": {},
     "output_type": "execute_result"
    }
   ],
   "source": [
    "best_thr = sorted(res, key=lambda x: x[1], reverse=True)[0][0]\n",
    "best_thr"
   ]
  },
  {
   "cell_type": "code",
   "execution_count": 60,
   "metadata": {},
   "outputs": [
    {
     "data": {
      "text/plain": [
       "0.05081231344133797"
      ]
     },
     "execution_count": 60,
     "metadata": {},
     "output_type": "execute_result"
    }
   ],
   "source": [
    "best_f1 = sorted(res, key=lambda x: x[1], reverse=True)[0][1]\n",
    "best_f1"
   ]
  },
  {
   "cell_type": "markdown",
   "metadata": {},
   "source": [
    "## Check threshold"
   ]
  },
  {
   "cell_type": "code",
   "execution_count": 61,
   "metadata": {},
   "outputs": [],
   "source": [
    "# кастомные метрики\n",
    "\n",
    "def m_roc(y_true, y_pred, percent):   \n",
    "    mask = y_pred[:,1] >= np.percentile(y_pred[:,1], percent)\n",
    "    return roc_auc_score(y_true=y_true[mask], y_score=y_pred[mask,1])\n",
    "\n",
    " \n",
    "def m_presicion(y_true, y_pred, percent):\n",
    "    mask = y_pred[:,1] >= np.percentile(y_pred[:,1], percent)\n",
    "    return y_true[mask].sum()/y_true[mask].shape[0], y_true[mask].shape[0]\n",
    "\n",
    "def m_recall(y_true, y_pred, percent):\n",
    "    mask = y_pred[:,1] >= np.percentile(y_pred[:,1], percent)\n",
    "    return y_true[mask].sum()/y_true.sum()\n",
    "\n",
    "def m_presicion_in_percent(y_true, y_pred, percent, step):\n",
    "    height_percent = percent + step if percent + step <= 100 else 100\n",
    "    mask = (np.percentile(y_pred[:,1], percent) <= y_pred[:,1]) & (np.percentile(y_pred[:,1], height_percent) >  y_pred[:,1])\n",
    "    return y_true[mask].sum()/y_true[mask].shape[0]"
   ]
  },
  {
   "cell_type": "code",
   "execution_count": 62,
   "metadata": {},
   "outputs": [],
   "source": [
    "def prc_graphs(y_test, predict_test):\n",
    "    y_true = y_test\n",
    "    y_pred = predict_test\n",
    "    coef = sum(y_true) / len(y_true)\n",
    "    test_df = pd.DataFrame()\n",
    "    # Метрики по перцентилям\n",
    "    percent_set = set(range(100))\n",
    "    for j in percent_set:\n",
    "        roc = m_roc(y_true, y_pred, percent=j)\n",
    "        prs, cnt_user = m_presicion(y_true, y_pred, percent=j)\n",
    "        prc_in_percentile = m_presicion_in_percent(y_true, y_pred, percent=j, step=j)\n",
    "        rec = m_recall(y_true, y_pred, percent=j)\n",
    "        f1 =(2*prs*rec)/(prs + rec)\n",
    "        lift = np.round(prs / coef, 2)\n",
    "        threshold = np.percentile(y_pred[:,1], j)\n",
    "        test_df = test_df.append([[j, threshold, cnt_user, roc, prs, rec, prc_in_percentile, f1, lift]])\n",
    "    test_df.columns =  ['percent', 'threshold', 'cnt_user', 'roc', 'prc', 'rec', 'prc_in_percentile', 'f1', 'lift']  \n",
    "    return test_df\n",
    "\n",
    " \n",
    "\n",
    "def draw_prc_rc_f1(test_df):\n",
    "    f, ax = plt.subplots(figsize=(20, 20))\n",
    "    plt.subplot(211)\n",
    "    plt.plot(test_df.percent, test_df.prc, 'o-',label='TEST: presicion');\n",
    "    plt.plot(test_df.percent, test_df.rec, 'o-',label='TEST: recall');\n",
    "    plt.plot(test_df.percent, test_df.f1, 'o-',label='TEST: f1');\n",
    "    plt.grid();\n",
    "    plt.title('presicion & recall')\n",
    "    plt.xlabel('percent');\n",
    "    plt.legend();"
   ]
  },
  {
   "cell_type": "code",
   "execution_count": 63,
   "metadata": {},
   "outputs": [
    {
     "name": "stderr",
     "output_type": "stream",
     "text": [
      "/home/jupyter/jupyter/lib/python3.6/site-packages/ipykernel_launcher.py:19: RuntimeWarning: invalid value encountered in long_scalars\n"
     ]
    },
    {
     "data": {
      "image/png": "[encoded data removed]",
      "text/plain": [
       "<Figure size 1440x1440 with 1 Axes>"
      ]
     },
     "metadata": {
      "needs_background": "light"
     },
     "output_type": "display_data"
    }
   ],
   "source": [
    "test_graph = prc_graphs(test['target'], pred) \n",
    "draw_prc_rc_f1(test_graph)"
   ]
  },
  {
   "cell_type": "markdown",
   "metadata": {},
   "source": [
    "## CV"
   ]
  },
  {
   "cell_type": "code",
   "execution_count": 4,
   "metadata": {},
   "outputs": [
    {
     "name": "stdout",
     "output_type": "stream",
     "text": [
      "Collecting xgboost\n",
      "  Using cached https://files.pythonhosted.org/packages/c1/24/5fe7237b2eca13ee0cfb100bec8c23f4e69ce9df852a64b0493d49dae4e0/xgboost-0.90-py2.py3-none-manylinux1_x86_64.whl\n",
      "Requirement already satisfied: numpy in /home/jupyter/jupyter/lib/python3.6/site-packages (from xgboost) (1.17.3)\n",
      "Requirement already satisfied: scipy in /home/jupyter/jupyter/lib/python3.6/site-packages (from xgboost) (1.3.1)\n",
      "Installing collected packages: xgboost\n",
      "Successfully installed xgboost-0.90\n"
     ]
    }
   ],
   "source": [
    "!pip install --user xgboost "
   ]
  },
  {
   "cell_type": "code",
   "execution_count": 5,
   "metadata": {},
   "outputs": [
    {
     "ename": "ModuleNotFoundError",
     "evalue": "No module named 'xgboost'",
     "output_type": "error",
     "traceback": [
      "\u001b[0;31m---------------------------------------------------------------------------\u001b[0m",
      "\u001b[0;31mModuleNotFoundError\u001b[0m                       Traceback (most recent call last)",
      "\u001b[0;32m<ipython-input-5-477fa34615c5>\u001b[0m in \u001b[0;36m<module>\u001b[0;34m\u001b[0m\n\u001b[0;32m----> 1\u001b[0;31m \u001b[0;32mfrom\u001b[0m \u001b[0mxgboost\u001b[0m \u001b[0;32mimport\u001b[0m \u001b[0mXGBClassifier\u001b[0m\u001b[0;34m\u001b[0m\u001b[0;34m\u001b[0m\u001b[0m\n\u001b[0m",
      "\u001b[0;31mModuleNotFoundError\u001b[0m: No module named 'xgboost'"
     ]
    }
   ],
   "source": [
    "from xgboost import XGBClassifier"
   ]
  },
  {
   "cell_type": "code",
   "execution_count": null,
   "metadata": {},
   "outputs": [],
   "source": [
    "xgb = XGBClassifier()\n",
    "\n",
    "param_grid = {\n",
    "          'n_estimators':  range(150, 400, 50),\n",
    "          'learning_rate': [.1],\n",
    "          'max_depth': range(3, 8, 2),\n",
    "          'subsample': [ .5, .6, .95, 1],\n",
    "          'gamma': [0, .05, .1, .2, .25, 0.01, 0.02],\n",
    "          'colsample_bytree': [1, .8, .50],\n",
    "          'reg_alpha': [0, 0.1, 0.3, 0.5, 0.7, 1],\n",
    "          'reg_lambda': [0, 0.01, 0.1, 0.2, 0.5, 1, 5, 10],\n",
    "          'scale_pos_weight': [1, 10, 25, 50]\n",
    "}"
   ]
  },
  {
   "cell_type": "code",
   "execution_count": null,
   "metadata": {},
   "outputs": [],
   "source": [
    "# Задаем схему кросс-валидации\n",
    "cv = StratifiedKFold(n_splits=5, shuffle=True, random_state=123)\n",
    "\n",
    "# Запускаем поиск гиперпараметров\n",
    "hyper_search = RandomizedSearchCV(pipe, param_grid, n_iter=30, scoring='roc_auc', cv=cv,\n",
    "                                  n_jobs=-1, refit=True, random_state=42, verbose=2)\n",
    "\n",
    "hyper_search.fit(matr_train, y_train)"
   ]
  },
  {
   "cell_type": "markdown",
   "metadata": {},
   "source": [
    "## Test prediction"
   ]
  },
  {
   "cell_type": "code",
   "execution_count": 64,
   "metadata": {},
   "outputs": [],
   "source": [
    "ss = pd.read_csv('data/SampleSubmission.csv')"
   ]
  },
  {
   "cell_type": "code",
   "execution_count": 65,
   "metadata": {},
   "outputs": [
    {
     "data": {
      "text/html": [
       "<div>\n",
       "<style scoped>\n",
       "    .dataframe tbody tr th:only-of-type {\n",
       "        vertical-align: middle;\n",
       "    }\n",
       "\n",
       "    .dataframe tbody tr th {\n",
       "        vertical-align: top;\n",
       "    }\n",
       "\n",
       "    .dataframe thead th {\n",
       "        text-align: right;\n",
       "    }\n",
       "</style>\n",
       "<table border=\"1\" class=\"dataframe\">\n",
       "  <thead>\n",
       "    <tr style=\"text-align: right;\">\n",
       "      <th></th>\n",
       "      <th>datetime x segment_id</th>\n",
       "      <th>prediction</th>\n",
       "    </tr>\n",
       "  </thead>\n",
       "  <tbody>\n",
       "    <tr>\n",
       "      <th>0</th>\n",
       "      <td>2019-01-01 01:00:00 x S0B3CGQ</td>\n",
       "      <td>NaN</td>\n",
       "    </tr>\n",
       "    <tr>\n",
       "      <th>1</th>\n",
       "      <td>2019-01-01 01:00:00 x RYJYAPI</td>\n",
       "      <td>NaN</td>\n",
       "    </tr>\n",
       "    <tr>\n",
       "      <th>2</th>\n",
       "      <td>2019-01-01 01:00:00 x U3KP57C</td>\n",
       "      <td>NaN</td>\n",
       "    </tr>\n",
       "    <tr>\n",
       "      <th>3</th>\n",
       "      <td>2019-01-01 01:00:00 x RY0TRQ8</td>\n",
       "      <td>NaN</td>\n",
       "    </tr>\n",
       "    <tr>\n",
       "      <th>4</th>\n",
       "      <td>2019-01-01 01:00:00 x 8LOVJZ3</td>\n",
       "      <td>NaN</td>\n",
       "    </tr>\n",
       "  </tbody>\n",
       "</table>\n",
       "</div>"
      ],
      "text/plain": [
       "           datetime x segment_id  prediction\n",
       "0  2019-01-01 01:00:00 x S0B3CGQ         NaN\n",
       "1  2019-01-01 01:00:00 x RYJYAPI         NaN\n",
       "2  2019-01-01 01:00:00 x U3KP57C         NaN\n",
       "3  2019-01-01 01:00:00 x RY0TRQ8         NaN\n",
       "4  2019-01-01 01:00:00 x 8LOVJZ3         NaN"
      ]
     },
     "execution_count": 65,
     "metadata": {},
     "output_type": "execute_result"
    }
   ],
   "source": [
    "ss.head()"
   ]
  },
  {
   "cell_type": "code",
   "execution_count": 67,
   "metadata": {},
   "outputs": [],
   "source": [
    "ss_2 = ss['datetime x segment_id'].str.split(pat=' x ', expand=True).rename(columns={0:'dt', 1:'segment_id'})#.apply(pd.Series)"
   ]
  },
  {
   "cell_type": "code",
   "execution_count": 68,
   "metadata": {},
   "outputs": [],
   "source": [
    "dt = [datetime.strptime(x[2:], \"%y-%m-%d %H:%M:%S\") for x in ss_2['dt'].values]\n",
    "ss_2['dt'] = dt\n",
    "ss_2['hour_dt'] = ss_2['dt'].dt.round('60min')"
   ]
  },
  {
   "cell_type": "code",
   "execution_count": 69,
   "metadata": {},
   "outputs": [],
   "source": [
    "ss_2.drop(['dt'], axis=1, inplace=True)"
   ]
  },
  {
   "cell_type": "code",
   "execution_count": 70,
   "metadata": {},
   "outputs": [
    {
     "name": "stdout",
     "output_type": "stream",
     "text": [
      "<class 'pandas.core.frame.DataFrame'>\n",
      "RangeIndex: 1174496 entries, 0 to 1174495\n",
      "Data columns (total 2 columns):\n",
      "segment_id    1174496 non-null object\n",
      "hour_dt       1174496 non-null datetime64[ns]\n",
      "dtypes: datetime64[ns](1), object(1)\n",
      "memory usage: 17.9+ MB\n"
     ]
    }
   ],
   "source": [
    "ss_2.info()"
   ]
  },
  {
   "cell_type": "markdown",
   "metadata": {},
   "source": [
    "### Weather"
   ]
  },
  {
   "cell_type": "code",
   "execution_count": 71,
   "metadata": {},
   "outputs": [],
   "source": [
    "weather_test = pd.read_csv('data/weather_test.csv', sep=';')\n",
    "\n",
    "weather_test = weather_test.drop([\"W'W'\", 'ff10'], axis=1)\n",
    "\n",
    "weather_cols = ['local_time', 'temperature', 'p0', 'p', 'humidity', 'mean_wind_direction', \n",
    "                'mean_wind_speed', 'special_weather_phenomena', 'clouds', 'horizontal_visibility', 'Td']\n",
    "\n",
    "weather_test.columns = weather_cols\n",
    "weather_test_2 = weather_prep(weather_test.copy())"
   ]
  },
  {
   "cell_type": "markdown",
   "metadata": {},
   "source": [
    "### Join"
   ]
  },
  {
   "cell_type": "code",
   "execution_count": 72,
   "metadata": {},
   "outputs": [
    {
     "data": {
      "text/html": [
       "<div>\n",
       "<style scoped>\n",
       "    .dataframe tbody tr th:only-of-type {\n",
       "        vertical-align: middle;\n",
       "    }\n",
       "\n",
       "    .dataframe tbody tr th {\n",
       "        vertical-align: top;\n",
       "    }\n",
       "\n",
       "    .dataframe thead th {\n",
       "        text-align: right;\n",
       "    }\n",
       "</style>\n",
       "<table border=\"1\" class=\"dataframe\">\n",
       "  <thead>\n",
       "    <tr style=\"text-align: right;\">\n",
       "      <th></th>\n",
       "      <th>segment_id</th>\n",
       "      <th>hour_dt</th>\n",
       "    </tr>\n",
       "  </thead>\n",
       "  <tbody>\n",
       "    <tr>\n",
       "      <th>0</th>\n",
       "      <td>S0B3CGQ</td>\n",
       "      <td>2019-01-01 01:00:00</td>\n",
       "    </tr>\n",
       "    <tr>\n",
       "      <th>1</th>\n",
       "      <td>RYJYAPI</td>\n",
       "      <td>2019-01-01 01:00:00</td>\n",
       "    </tr>\n",
       "    <tr>\n",
       "      <th>2</th>\n",
       "      <td>U3KP57C</td>\n",
       "      <td>2019-01-01 01:00:00</td>\n",
       "    </tr>\n",
       "    <tr>\n",
       "      <th>3</th>\n",
       "      <td>RY0TRQ8</td>\n",
       "      <td>2019-01-01 01:00:00</td>\n",
       "    </tr>\n",
       "    <tr>\n",
       "      <th>4</th>\n",
       "      <td>8LOVJZ3</td>\n",
       "      <td>2019-01-01 01:00:00</td>\n",
       "    </tr>\n",
       "  </tbody>\n",
       "</table>\n",
       "</div>"
      ],
      "text/plain": [
       "  segment_id             hour_dt\n",
       "0    S0B3CGQ 2019-01-01 01:00:00\n",
       "1    RYJYAPI 2019-01-01 01:00:00\n",
       "2    U3KP57C 2019-01-01 01:00:00\n",
       "3    RY0TRQ8 2019-01-01 01:00:00\n",
       "4    8LOVJZ3 2019-01-01 01:00:00"
      ]
     },
     "execution_count": 72,
     "metadata": {},
     "output_type": "execute_result"
    }
   ],
   "source": [
    "ss_2.head()"
   ]
  },
  {
   "cell_type": "code",
   "execution_count": 73,
   "metadata": {},
   "outputs": [],
   "source": [
    "test_1 = ss_2.merge(seg, on='segment_id', how='left')"
   ]
  },
  {
   "cell_type": "code",
   "execution_count": 74,
   "metadata": {},
   "outputs": [],
   "source": [
    "test_2 = test_1.merge(weather_test_2, left_on='hour_dt', right_on='hour_dt', how='left').drop('hour_dt', axis=1)"
   ]
  },
  {
   "cell_type": "code",
   "execution_count": 75,
   "metadata": {},
   "outputs": [],
   "source": [
    "test_2 = test_2.fillna(-1)"
   ]
  },
  {
   "cell_type": "code",
   "execution_count": 76,
   "metadata": {},
   "outputs": [],
   "source": [
    "pred_test = rf_random.predict_proba(test_2.drop(['segment_id'], axis=1))"
   ]
  },
  {
   "cell_type": "code",
   "execution_count": 77,
   "metadata": {},
   "outputs": [
    {
     "data": {
      "text/plain": [
       "0.6012600192098999"
      ]
     },
     "execution_count": 77,
     "metadata": {},
     "output_type": "execute_result"
    }
   ],
   "source": [
    "pred_test_l = [1 if x >= best_thr else 0 for x in pred_test[:, 1]]\n",
    "best_thr"
   ]
  },
  {
   "cell_type": "code",
   "execution_count": 78,
   "metadata": {},
   "outputs": [],
   "source": [
    "ss['prediction'] = pred_test_l"
   ]
  },
  {
   "cell_type": "code",
   "execution_count": 79,
   "metadata": {},
   "outputs": [
    {
     "data": {
      "text/plain": [
       "((1174496, 2), 1174496)"
      ]
     },
     "execution_count": 79,
     "metadata": {},
     "output_type": "execute_result"
    }
   ],
   "source": [
    "ss.shape, len(pred_test)"
   ]
  },
  {
   "cell_type": "code",
   "execution_count": 80,
   "metadata": {},
   "outputs": [
    {
     "data": {
      "text/plain": [
       "58258"
      ]
     },
     "execution_count": 80,
     "metadata": {},
     "output_type": "execute_result"
    }
   ],
   "source": [
    "sum(pred_test_l)"
   ]
  },
  {
   "cell_type": "code",
   "execution_count": 81,
   "metadata": {},
   "outputs": [],
   "source": [
    "ss.to_csv('data/submission_2.csv', index=False)"
   ]
  },
  {
   "cell_type": "code",
   "execution_count": null,
   "metadata": {},
   "outputs": [],
   "source": []
  }
 ],
 "metadata": {
  "kernelspec": {
   "display_name": "Python 3",
   "language": "python",
   "name": "python3"
  },
  "language_info": {
   "codemirror_mode": {
    "name": "ipython",
    "version": 3
   },
   "file_extension": ".py",
   "mimetype": "text/x-python",
   "name": "python",
   "nbconvert_exporter": "python",
   "pygments_lexer": "ipython3",
   "version": "3.6.8"
  }
 },
 "nbformat": 4,
 "nbformat_minor": 2
}
