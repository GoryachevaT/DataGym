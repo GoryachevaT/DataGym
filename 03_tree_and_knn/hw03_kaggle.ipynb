{
 "cells": [
  {
   "cell_type": "code",
   "execution_count": 480,
   "metadata": {},
   "outputs": [],
   "source": [
    "import pandas as pd\n",
    "import random\n",
    "import numpy as np\n",
    "from sklearn.tree import DecisionTreeClassifier, export_graphviz\n",
    "from sklearn.metrics import accuracy_score, precision_score, recall_score, f1_score"
   ]
  },
  {
   "cell_type": "code",
   "execution_count": 351,
   "metadata": {},
   "outputs": [],
   "source": [
    "import warnings\n",
    "warnings.filterwarnings(\"ignore\")"
   ]
  },
  {
   "cell_type": "markdown",
   "metadata": {},
   "source": [
    "## Read data"
   ]
  },
  {
   "cell_type": "code",
   "execution_count": 352,
   "metadata": {},
   "outputs": [],
   "source": [
    "train = pd.read_csv('hw3_train.csv')\n",
    "test = pd.read_csv('hw3_test_data.csv')\n",
    "test_sample = pd.read_csv('hw3_test_sample.csv')"
   ]
  },
  {
   "cell_type": "code",
   "execution_count": 353,
   "metadata": {},
   "outputs": [
    {
     "name": "stdout",
     "output_type": "stream",
     "text": [
      "train: (7500, 29)\n",
      "test: (7500, 29)\n",
      "test_sample: (7500, 29)\n"
     ]
    }
   ],
   "source": [
    "print('train: {}'.format(train.shape))\n",
    "print('test: {}'.format(train.shape))\n",
    "print('test_sample: {}'.format(train.shape))"
   ]
  },
  {
   "cell_type": "code",
   "execution_count": 355,
   "metadata": {},
   "outputs": [
    {
     "data": {
      "text/html": [
       "<div>\n",
       "<style scoped>\n",
       "    .dataframe tbody tr th:only-of-type {\n",
       "        vertical-align: middle;\n",
       "    }\n",
       "\n",
       "    .dataframe tbody tr th {\n",
       "        vertical-align: top;\n",
       "    }\n",
       "\n",
       "    .dataframe thead th {\n",
       "        text-align: right;\n",
       "    }\n",
       "</style>\n",
       "<table border=\"1\" class=\"dataframe\">\n",
       "  <thead>\n",
       "    <tr style=\"text-align: right;\">\n",
       "      <th></th>\n",
       "      <th>customer_id</th>\n",
       "      <th>customer_residence_code</th>\n",
       "      <th>gender</th>\n",
       "      <th>age</th>\n",
       "      <th>is_new_customer</th>\n",
       "      <th>seniority_month</th>\n",
       "      <th>customer_type</th>\n",
       "      <th>customer_relation_type</th>\n",
       "      <th>residence_same_as_bank</th>\n",
       "      <th>country_same_as_bank</th>\n",
       "      <th>...</th>\n",
       "      <th>use_payroll_account</th>\n",
       "      <th>use_short_deposits</th>\n",
       "      <th>use_medium_deposits</th>\n",
       "      <th>use_long_deposits</th>\n",
       "      <th>use_e_account</th>\n",
       "      <th>use_loans</th>\n",
       "      <th>use_taxes</th>\n",
       "      <th>use_credit_card</th>\n",
       "      <th>use_pensions</th>\n",
       "      <th>use_direct_debit</th>\n",
       "    </tr>\n",
       "  </thead>\n",
       "  <tbody>\n",
       "    <tr>\n",
       "      <th>0</th>\n",
       "      <td>107620</td>\n",
       "      <td>1</td>\n",
       "      <td>2</td>\n",
       "      <td>47</td>\n",
       "      <td>0.0</td>\n",
       "      <td>36</td>\n",
       "      <td>1.0</td>\n",
       "      <td>0</td>\n",
       "      <td>2</td>\n",
       "      <td>0</td>\n",
       "      <td>...</td>\n",
       "      <td>1</td>\n",
       "      <td>0</td>\n",
       "      <td>0</td>\n",
       "      <td>0</td>\n",
       "      <td>0</td>\n",
       "      <td>0</td>\n",
       "      <td>0</td>\n",
       "      <td>0</td>\n",
       "      <td>1.0</td>\n",
       "      <td>0</td>\n",
       "    </tr>\n",
       "    <tr>\n",
       "      <th>1</th>\n",
       "      <td>107775</td>\n",
       "      <td>1</td>\n",
       "      <td>2</td>\n",
       "      <td>52</td>\n",
       "      <td>0.0</td>\n",
       "      <td>36</td>\n",
       "      <td>1.0</td>\n",
       "      <td>0</td>\n",
       "      <td>2</td>\n",
       "      <td>0</td>\n",
       "      <td>...</td>\n",
       "      <td>0</td>\n",
       "      <td>0</td>\n",
       "      <td>0</td>\n",
       "      <td>1</td>\n",
       "      <td>1</td>\n",
       "      <td>0</td>\n",
       "      <td>0</td>\n",
       "      <td>1</td>\n",
       "      <td>0.0</td>\n",
       "      <td>0</td>\n",
       "    </tr>\n",
       "    <tr>\n",
       "      <th>2</th>\n",
       "      <td>112208</td>\n",
       "      <td>1</td>\n",
       "      <td>0</td>\n",
       "      <td>24</td>\n",
       "      <td>0.0</td>\n",
       "      <td>36</td>\n",
       "      <td>1.0</td>\n",
       "      <td>1</td>\n",
       "      <td>2</td>\n",
       "      <td>2</td>\n",
       "      <td>...</td>\n",
       "      <td>0</td>\n",
       "      <td>0</td>\n",
       "      <td>0</td>\n",
       "      <td>0</td>\n",
       "      <td>0</td>\n",
       "      <td>0</td>\n",
       "      <td>0</td>\n",
       "      <td>0</td>\n",
       "      <td>0.0</td>\n",
       "      <td>0</td>\n",
       "    </tr>\n",
       "    <tr>\n",
       "      <th>3</th>\n",
       "      <td>112270</td>\n",
       "      <td>1</td>\n",
       "      <td>0</td>\n",
       "      <td>26</td>\n",
       "      <td>0.0</td>\n",
       "      <td>36</td>\n",
       "      <td>1.0</td>\n",
       "      <td>1</td>\n",
       "      <td>2</td>\n",
       "      <td>0</td>\n",
       "      <td>...</td>\n",
       "      <td>0</td>\n",
       "      <td>0</td>\n",
       "      <td>0</td>\n",
       "      <td>0</td>\n",
       "      <td>0</td>\n",
       "      <td>0</td>\n",
       "      <td>0</td>\n",
       "      <td>0</td>\n",
       "      <td>0.0</td>\n",
       "      <td>0</td>\n",
       "    </tr>\n",
       "    <tr>\n",
       "      <th>4</th>\n",
       "      <td>112332</td>\n",
       "      <td>1</td>\n",
       "      <td>0</td>\n",
       "      <td>26</td>\n",
       "      <td>0.0</td>\n",
       "      <td>36</td>\n",
       "      <td>1.0</td>\n",
       "      <td>1</td>\n",
       "      <td>2</td>\n",
       "      <td>0</td>\n",
       "      <td>...</td>\n",
       "      <td>0</td>\n",
       "      <td>0</td>\n",
       "      <td>0</td>\n",
       "      <td>0</td>\n",
       "      <td>0</td>\n",
       "      <td>0</td>\n",
       "      <td>0</td>\n",
       "      <td>0</td>\n",
       "      <td>0.0</td>\n",
       "      <td>0</td>\n",
       "    </tr>\n",
       "  </tbody>\n",
       "</table>\n",
       "<p>5 rows × 29 columns</p>\n",
       "</div>"
      ],
      "text/plain": [
       "   customer_id  customer_residence_code  gender  age  is_new_customer  \\\n",
       "0       107620                        1       2   47              0.0   \n",
       "1       107775                        1       2   52              0.0   \n",
       "2       112208                        1       0   24              0.0   \n",
       "3       112270                        1       0   26              0.0   \n",
       "4       112332                        1       0   26              0.0   \n",
       "\n",
       "   seniority_month  customer_type  customer_relation_type  \\\n",
       "0               36            1.0                       0   \n",
       "1               36            1.0                       0   \n",
       "2               36            1.0                       1   \n",
       "3               36            1.0                       1   \n",
       "4               36            1.0                       1   \n",
       "\n",
       "   residence_same_as_bank  country_same_as_bank        ...         \\\n",
       "0                       2                     0        ...          \n",
       "1                       2                     0        ...          \n",
       "2                       2                     2        ...          \n",
       "3                       2                     0        ...          \n",
       "4                       2                     0        ...          \n",
       "\n",
       "   use_payroll_account  use_short_deposits  use_medium_deposits  \\\n",
       "0                    1                   0                    0   \n",
       "1                    0                   0                    0   \n",
       "2                    0                   0                    0   \n",
       "3                    0                   0                    0   \n",
       "4                    0                   0                    0   \n",
       "\n",
       "   use_long_deposits  use_e_account  use_loans  use_taxes  use_credit_card  \\\n",
       "0                  0              0          0          0                0   \n",
       "1                  1              1          0          0                1   \n",
       "2                  0              0          0          0                0   \n",
       "3                  0              0          0          0                0   \n",
       "4                  0              0          0          0                0   \n",
       "\n",
       "   use_pensions  use_direct_debit  \n",
       "0           1.0                 0  \n",
       "1           0.0                 0  \n",
       "2           0.0                 0  \n",
       "3           0.0                 0  \n",
       "4           0.0                 0  \n",
       "\n",
       "[5 rows x 29 columns]"
      ]
     },
     "execution_count": 355,
     "metadata": {},
     "output_type": "execute_result"
    }
   ],
   "source": [
    "train.head()"
   ]
  },
  {
   "cell_type": "code",
   "execution_count": 356,
   "metadata": {
    "scrolled": true
   },
   "outputs": [
    {
     "name": "stdout",
     "output_type": "stream",
     "text": [
      "<class 'pandas.core.frame.DataFrame'>\n",
      "RangeIndex: 7500 entries, 0 to 7499\n",
      "Data columns (total 29 columns):\n",
      "customer_id                7500 non-null int64\n",
      "customer_residence_code    7500 non-null int64\n",
      "gender                     7500 non-null int64\n",
      "age                        7500 non-null int64\n",
      "is_new_customer            7500 non-null float64\n",
      "seniority_month            7500 non-null int64\n",
      "customer_type              7500 non-null float64\n",
      "customer_relation_type     7500 non-null int64\n",
      "residence_same_as_bank     7500 non-null int64\n",
      "country_same_as_bank       7500 non-null int64\n",
      "join_channel               7500 non-null int64\n",
      "adress_type                7500 non-null float64\n",
      "activity_index             7500 non-null float64\n",
      "household_income           7500 non-null float64\n",
      "segment                    7500 non-null int64\n",
      "use_savings                7500 non-null int64\n",
      "use_guarantees             7500 non-null int64\n",
      "use_current_accounts       7500 non-null int64\n",
      "use_derivada_account       7500 non-null int64\n",
      "use_payroll_account        7500 non-null int64\n",
      "use_short_deposits         7500 non-null int64\n",
      "use_medium_deposits        7500 non-null int64\n",
      "use_long_deposits          7500 non-null int64\n",
      "use_e_account              7500 non-null int64\n",
      "use_loans                  7500 non-null int64\n",
      "use_taxes                  7500 non-null int64\n",
      "use_credit_card            7500 non-null int64\n",
      "use_pensions               7500 non-null float64\n",
      "use_direct_debit           7500 non-null int64\n",
      "dtypes: float64(6), int64(23)\n",
      "memory usage: 1.7 MB\n"
     ]
    }
   ],
   "source": [
    "train.info()"
   ]
  },
  {
   "cell_type": "markdown",
   "metadata": {},
   "source": [
    "## Preprocess data"
   ]
  },
  {
   "cell_type": "code",
   "execution_count": 357,
   "metadata": {
    "scrolled": true
   },
   "outputs": [],
   "source": [
    "def convert_age(age):\n",
    "    if   age < 18: return 1\n",
    "    elif age < 30 and age >= 18: return 2\n",
    "    elif age < 50 and age >= 30: return 3\n",
    "    elif age < 70 and age >= 50: return 4\n",
    "    else: return 5"
   ]
  },
  {
   "cell_type": "code",
   "execution_count": 396,
   "metadata": {},
   "outputs": [],
   "source": [
    "def preproc_func(data):\n",
    "    temp = data.copy()\n",
    "    \n",
    "    #temp = temp[temp['gender']!=1]\n",
    "    temp['age_cat']   = temp['age'].apply(convert_age)\n",
    "    \n",
    "    temp['age_cat_1'] = temp['age_cat'].apply(lambda x: 1 if x==1 else 0)\n",
    "    temp['age_cat_2'] = temp['age_cat'].apply(lambda x: 1 if x==2 else 0)\n",
    "    temp['age_cat_3'] = temp['age_cat'].apply(lambda x: 1 if x==3 else 0)\n",
    "    temp['age_cat_4'] = temp['age_cat'].apply(lambda x: 1 if x==4 else 0)\n",
    "    temp['age_cat_5'] = temp['age_cat'].apply(lambda x: 1 if x==5 else 0)\n",
    "    \n",
    "    temp['channel_cat_10']    = temp['join_channel'].apply(lambda x: 1 if x==10 else 0)\n",
    "    temp['channel_cat_6']     = temp['join_channel'].apply(lambda x: 1 if x==6 else 0)\n",
    "    temp['channel_cat_1']     = temp['join_channel'].apply(lambda x: 1 if x==1 else 0)\n",
    "    temp['channel_cat_5']     = temp['join_channel'].apply(lambda x: 1 if x==5 else 0)\n",
    "    temp['channel_cat_9']     = temp['join_channel'].apply(lambda x: 1 if x==9 else 0)\n",
    "    temp['channel_cat_other'] = temp['join_channel'].apply(lambda x: 1 if x not in [10,6,1,5,9] else 0)\n",
    "    \n",
    "    temp['segm_cat_0'] = temp['segment'].apply(lambda x: 1 if x==0 else 0)\n",
    "    temp['segm_cat_1'] = temp['segment'].apply(lambda x: 1 if x==1 else 0)\n",
    "    temp['segm_cat_2'] = temp['segment'].apply(lambda x: 1 if x==2 else 0)\n",
    "    \n",
    "    temp['activity_index'] = temp['activity_index'].astype(int)\n",
    "    cols_to_drop = ['customer_residence_code', 'residence_same_as_bank', \n",
    "                    'country_same_as_bank', 'adress_type', 'use_savings', \n",
    "                    'use_guarantees', 'use_derivada_account', 'use_short_deposits', \n",
    "                    'use_medium_deposits', 'use_loans', 'age_cat', 'age', \n",
    "                    'is_new_customer', 'customer_type', 'join_channel', 'segment']\n",
    "    \n",
    "    temp.drop(cols_to_drop, axis=1, inplace=True)\n",
    "    \n",
    "    return temp"
   ]
  },
  {
   "cell_type": "code",
   "execution_count": 443,
   "metadata": {},
   "outputs": [],
   "source": [
    "prepr_train_1 = train[train['gender']!=1]"
   ]
  },
  {
   "cell_type": "code",
   "execution_count": 446,
   "metadata": {},
   "outputs": [],
   "source": [
    "prepr_train = preproc_func(prepr_train_1.copy()).reset_index(drop=True)"
   ]
  },
  {
   "cell_type": "code",
   "execution_count": 447,
   "metadata": {},
   "outputs": [
    {
     "data": {
      "text/html": [
       "<div>\n",
       "<style scoped>\n",
       "    .dataframe tbody tr th:only-of-type {\n",
       "        vertical-align: middle;\n",
       "    }\n",
       "\n",
       "    .dataframe tbody tr th {\n",
       "        vertical-align: top;\n",
       "    }\n",
       "\n",
       "    .dataframe thead th {\n",
       "        text-align: right;\n",
       "    }\n",
       "</style>\n",
       "<table border=\"1\" class=\"dataframe\">\n",
       "  <thead>\n",
       "    <tr style=\"text-align: right;\">\n",
       "      <th></th>\n",
       "      <th>customer_id</th>\n",
       "      <th>gender</th>\n",
       "      <th>seniority_month</th>\n",
       "      <th>customer_relation_type</th>\n",
       "      <th>activity_index</th>\n",
       "      <th>household_income</th>\n",
       "      <th>use_current_accounts</th>\n",
       "      <th>use_payroll_account</th>\n",
       "      <th>use_long_deposits</th>\n",
       "      <th>use_e_account</th>\n",
       "      <th>...</th>\n",
       "      <th>age_cat_5</th>\n",
       "      <th>channel_cat_10</th>\n",
       "      <th>channel_cat_6</th>\n",
       "      <th>channel_cat_1</th>\n",
       "      <th>channel_cat_5</th>\n",
       "      <th>channel_cat_9</th>\n",
       "      <th>channel_cat_other</th>\n",
       "      <th>segm_cat_0</th>\n",
       "      <th>segm_cat_1</th>\n",
       "      <th>segm_cat_2</th>\n",
       "    </tr>\n",
       "  </thead>\n",
       "  <tbody>\n",
       "    <tr>\n",
       "      <th>0</th>\n",
       "      <td>107620</td>\n",
       "      <td>2</td>\n",
       "      <td>36</td>\n",
       "      <td>0</td>\n",
       "      <td>1</td>\n",
       "      <td>47164.86</td>\n",
       "      <td>0</td>\n",
       "      <td>1</td>\n",
       "      <td>0</td>\n",
       "      <td>0</td>\n",
       "      <td>...</td>\n",
       "      <td>0</td>\n",
       "      <td>0</td>\n",
       "      <td>1</td>\n",
       "      <td>0</td>\n",
       "      <td>0</td>\n",
       "      <td>0</td>\n",
       "      <td>0</td>\n",
       "      <td>0</td>\n",
       "      <td>1</td>\n",
       "      <td>0</td>\n",
       "    </tr>\n",
       "    <tr>\n",
       "      <th>1</th>\n",
       "      <td>107775</td>\n",
       "      <td>2</td>\n",
       "      <td>36</td>\n",
       "      <td>0</td>\n",
       "      <td>1</td>\n",
       "      <td>68262.93</td>\n",
       "      <td>1</td>\n",
       "      <td>0</td>\n",
       "      <td>1</td>\n",
       "      <td>1</td>\n",
       "      <td>...</td>\n",
       "      <td>0</td>\n",
       "      <td>0</td>\n",
       "      <td>1</td>\n",
       "      <td>0</td>\n",
       "      <td>0</td>\n",
       "      <td>0</td>\n",
       "      <td>0</td>\n",
       "      <td>1</td>\n",
       "      <td>0</td>\n",
       "      <td>0</td>\n",
       "    </tr>\n",
       "    <tr>\n",
       "      <th>2</th>\n",
       "      <td>112208</td>\n",
       "      <td>0</td>\n",
       "      <td>36</td>\n",
       "      <td>1</td>\n",
       "      <td>0</td>\n",
       "      <td>47451.24</td>\n",
       "      <td>1</td>\n",
       "      <td>0</td>\n",
       "      <td>0</td>\n",
       "      <td>0</td>\n",
       "      <td>...</td>\n",
       "      <td>0</td>\n",
       "      <td>1</td>\n",
       "      <td>0</td>\n",
       "      <td>0</td>\n",
       "      <td>0</td>\n",
       "      <td>0</td>\n",
       "      <td>0</td>\n",
       "      <td>0</td>\n",
       "      <td>0</td>\n",
       "      <td>1</td>\n",
       "    </tr>\n",
       "    <tr>\n",
       "      <th>3</th>\n",
       "      <td>112270</td>\n",
       "      <td>0</td>\n",
       "      <td>36</td>\n",
       "      <td>1</td>\n",
       "      <td>0</td>\n",
       "      <td>19386.48</td>\n",
       "      <td>1</td>\n",
       "      <td>0</td>\n",
       "      <td>0</td>\n",
       "      <td>0</td>\n",
       "      <td>...</td>\n",
       "      <td>0</td>\n",
       "      <td>1</td>\n",
       "      <td>0</td>\n",
       "      <td>0</td>\n",
       "      <td>0</td>\n",
       "      <td>0</td>\n",
       "      <td>0</td>\n",
       "      <td>0</td>\n",
       "      <td>0</td>\n",
       "      <td>1</td>\n",
       "    </tr>\n",
       "    <tr>\n",
       "      <th>4</th>\n",
       "      <td>112332</td>\n",
       "      <td>0</td>\n",
       "      <td>36</td>\n",
       "      <td>1</td>\n",
       "      <td>0</td>\n",
       "      <td>102460.89</td>\n",
       "      <td>1</td>\n",
       "      <td>0</td>\n",
       "      <td>0</td>\n",
       "      <td>0</td>\n",
       "      <td>...</td>\n",
       "      <td>0</td>\n",
       "      <td>1</td>\n",
       "      <td>0</td>\n",
       "      <td>0</td>\n",
       "      <td>0</td>\n",
       "      <td>0</td>\n",
       "      <td>0</td>\n",
       "      <td>0</td>\n",
       "      <td>0</td>\n",
       "      <td>1</td>\n",
       "    </tr>\n",
       "  </tbody>\n",
       "</table>\n",
       "<p>5 rows × 28 columns</p>\n",
       "</div>"
      ],
      "text/plain": [
       "   customer_id  gender  seniority_month  customer_relation_type  \\\n",
       "0       107620       2               36                       0   \n",
       "1       107775       2               36                       0   \n",
       "2       112208       0               36                       1   \n",
       "3       112270       0               36                       1   \n",
       "4       112332       0               36                       1   \n",
       "\n",
       "   activity_index  household_income  use_current_accounts  \\\n",
       "0               1          47164.86                     0   \n",
       "1               1          68262.93                     1   \n",
       "2               0          47451.24                     1   \n",
       "3               0          19386.48                     1   \n",
       "4               0         102460.89                     1   \n",
       "\n",
       "   use_payroll_account  use_long_deposits  use_e_account     ...      \\\n",
       "0                    1                  0              0     ...       \n",
       "1                    0                  1              1     ...       \n",
       "2                    0                  0              0     ...       \n",
       "3                    0                  0              0     ...       \n",
       "4                    0                  0              0     ...       \n",
       "\n",
       "   age_cat_5  channel_cat_10  channel_cat_6  channel_cat_1  channel_cat_5  \\\n",
       "0          0               0              1              0              0   \n",
       "1          0               0              1              0              0   \n",
       "2          0               1              0              0              0   \n",
       "3          0               1              0              0              0   \n",
       "4          0               1              0              0              0   \n",
       "\n",
       "   channel_cat_9  channel_cat_other  segm_cat_0  segm_cat_1  segm_cat_2  \n",
       "0              0                  0           0           1           0  \n",
       "1              0                  0           1           0           0  \n",
       "2              0                  0           0           0           1  \n",
       "3              0                  0           0           0           1  \n",
       "4              0                  0           0           0           1  \n",
       "\n",
       "[5 rows x 28 columns]"
      ]
     },
     "execution_count": 447,
     "metadata": {},
     "output_type": "execute_result"
    }
   ],
   "source": [
    "prepr_train.head()"
   ]
  },
  {
   "cell_type": "markdown",
   "metadata": {},
   "source": [
    "## Train_test_split"
   ]
  },
  {
   "cell_type": "code",
   "execution_count": 361,
   "metadata": {},
   "outputs": [],
   "source": [
    "X = prepr_train.drop(['customer_id', 'use_direct_debit'], axis=1)\n",
    "y = prepr_train['use_direct_debit']"
   ]
  },
  {
   "cell_type": "code",
   "execution_count": 362,
   "metadata": {},
   "outputs": [
    {
     "data": {
      "text/plain": [
       "(7442, 26)"
      ]
     },
     "execution_count": 362,
     "metadata": {},
     "output_type": "execute_result"
    }
   ],
   "source": [
    "X.shape"
   ]
  },
  {
   "cell_type": "code",
   "execution_count": 363,
   "metadata": {},
   "outputs": [],
   "source": [
    "def train_test_split(X, y, test_size, random_state=1):\n",
    "    \n",
    "    random_gen = np.random.RandomState(random_state)\n",
    "    size = X.shape[0]\n",
    "    batch_size = round(size*test_size)\n",
    "    \n",
    "    rand_indices = list(random_gen.choice(size, batch_size))\n",
    "   \n",
    "    return X.drop(rand_indices, axis=0), X.loc[rand_indices], y.drop(rand_indices, axis=0), y.loc[rand_indices]"
   ]
  },
  {
   "cell_type": "code",
   "execution_count": 364,
   "metadata": {},
   "outputs": [],
   "source": [
    "X_train, X_valid, y_train, y_valid = train_test_split(X, y, test_size=0.3, random_state=1)"
   ]
  },
  {
   "cell_type": "code",
   "execution_count": 478,
   "metadata": {},
   "outputs": [
    {
     "name": "stdout",
     "output_type": "stream",
     "text": [
      "train: (5530, 26)\n",
      "valid: (2233, 26)\n"
     ]
    }
   ],
   "source": [
    "print('train: {}'.format(X_train.shape))\n",
    "print('valid: {}'.format(X_valid.shape))"
   ]
  },
  {
   "cell_type": "markdown",
   "metadata": {},
   "source": [
    "## Train"
   ]
  },
  {
   "cell_type": "code",
   "execution_count": 437,
   "metadata": {},
   "outputs": [],
   "source": [
    "tree = DecisionTreeClassifier(max_depth=4, min_samples_leaf=9, criterion='gini', class_weight={0: 0.3, 1:0.8})"
   ]
  },
  {
   "cell_type": "code",
   "execution_count": 463,
   "metadata": {},
   "outputs": [
    {
     "data": {
      "text/plain": [
       "DecisionTreeClassifier(class_weight={0: 0.3, 1: 0.8}, criterion='gini',\n",
       "            max_depth=4, max_features=None, max_leaf_nodes=None,\n",
       "            min_impurity_decrease=0.0, min_impurity_split=None,\n",
       "            min_samples_leaf=9, min_samples_split=2,\n",
       "            min_weight_fraction_leaf=0.0, presort=False, random_state=None,\n",
       "            splitter='best')"
      ]
     },
     "execution_count": 463,
     "metadata": {},
     "output_type": "execute_result"
    }
   ],
   "source": [
    "tree.fit(X_train, y_train)"
   ]
  },
  {
   "cell_type": "code",
   "execution_count": 465,
   "metadata": {},
   "outputs": [],
   "source": [
    "pred_train = tree.predict(X_train)\n",
    "pred_valid = tree.predict(X_valid)"
   ]
  },
  {
   "cell_type": "code",
   "execution_count": 466,
   "metadata": {},
   "outputs": [
    {
     "name": "stdout",
     "output_type": "stream",
     "text": [
      "train precision 0.649\n",
      "valid precision 0.671\n"
     ]
    }
   ],
   "source": [
    "print('train precision {}'.format(round(precision_score(y_train, pred_train), 3)))\n",
    "print('valid precision {}'.format(round(precision_score(y_valid, pred_valid), 3)))"
   ]
  },
  {
   "cell_type": "code",
   "execution_count": 467,
   "metadata": {},
   "outputs": [
    {
     "name": "stdout",
     "output_type": "stream",
     "text": [
      "train recall 0.425\n",
      "valid recall 0.398\n"
     ]
    }
   ],
   "source": [
    "print('train recall {}'.format(round(recall_score(y_train, pred_train), 3)))\n",
    "print('valid recall {}'.format(round(recall_score(y_valid, pred_valid), 3)))"
   ]
  },
  {
   "cell_type": "code",
   "execution_count": 468,
   "metadata": {},
   "outputs": [
    {
     "name": "stdout",
     "output_type": "stream",
     "text": [
      "train f1_score 0.513\n",
      "valid f1_score 0.5\n"
     ]
    }
   ],
   "source": [
    "print('train f1_score {}'.format(round(f1_score(y_train, pred_train), 3)))\n",
    "print('valid f1_score {}'.format(round(f1_score(y_valid, pred_valid), 3)))"
   ]
  },
  {
   "cell_type": "code",
   "execution_count": 485,
   "metadata": {},
   "outputs": [
    {
     "data": {
      "text/plain": [
       "'digraph Tree {\\nnode [shape=box] ;\\n0 [label=\"X[0] <= 0.5\\ngini = 0.376\\nsamples = 5530\\nvalue = [1473.9, 493.6]\"] ;\\n1 [label=\"gini = 0.276\\nsamples = 5126\\nvalue = [1431.3, 284.0]\"] ;\\n0 -> 1 [labeldistance=2.5, labelangle=45, headlabel=\"True\"] ;\\n2 [label=\"gini = 0.281\\nsamples = 404\\nvalue = [42.6, 209.6]\"] ;\\n0 -> 2 [labeldistance=2.5, labelangle=-45, headlabel=\"False\"] ;\\n}'"
      ]
     },
     "execution_count": 485,
     "metadata": {},
     "output_type": "execute_result"
    }
   ],
   "source": [
    "export_graphviz(tree).replace('\\\\n','''\n",
    "''')"
   ]
  },
  {
   "cell_type": "code",
   "execution_count": 483,
   "metadata": {},
   "outputs": [],
   "source": [
    "with open(\"tree_baseline.txt\", \"w\") as f:\n",
    "    f = export_graphviz(tree, out_file=f)"
   ]
  },
  {
   "cell_type": "code",
   "execution_count": 488,
   "metadata": {},
   "outputs": [],
   "source": [
    "!dot -Tpng tree_baseline.txt -o tree_baseline.png"
   ]
  },
  {
   "cell_type": "code",
   "execution_count": 490,
   "metadata": {},
   "outputs": [
    {
     "name": "stdout",
     "output_type": "stream",
     "text": [
      "1\n",
      "train f1_score 0.513\n",
      "valid f1_score 0.5\n",
      "-----------\n",
      "2\n",
      "train f1_score 0.513\n",
      "valid f1_score 0.5\n",
      "-----------\n",
      "3\n",
      "train f1_score 0.513\n",
      "valid f1_score 0.486\n",
      "-----------\n",
      "4\n",
      "train f1_score 0.539\n",
      "valid f1_score 0.518\n",
      "-----------\n",
      "5\n",
      "train f1_score 0.557\n",
      "valid f1_score 0.53\n",
      "-----------\n",
      "6\n",
      "train f1_score 0.562\n",
      "valid f1_score 0.525\n",
      "-----------\n",
      "7\n",
      "train f1_score 0.588\n",
      "valid f1_score 0.555\n",
      "-----------\n",
      "8\n",
      "train f1_score 0.609\n",
      "valid f1_score 0.568\n",
      "-----------\n",
      "9\n",
      "train f1_score 0.627\n",
      "valid f1_score 0.537\n",
      "-----------\n"
     ]
    }
   ],
   "source": [
    "for x in range(1,10):\n",
    "    tree = DecisionTreeClassifier(max_depth=x, min_samples_leaf=2, criterion='gini', class_weight={0: 0.3, 1:0.8})\n",
    "    tree.fit(X_train, y_train)\n",
    "    pred_train = tree.predict(X_train)\n",
    "    pred_valid = tree.predict(X_valid)\n",
    "    print(x)\n",
    "    print('train f1_score {}'.format(round(f1_score(y_train, pred_train), 3)))\n",
    "    print('valid f1_score {}'.format(round(f1_score(y_valid, pred_valid), 3)))\n",
    "    print('-----------')"
   ]
  },
  {
   "cell_type": "code",
   "execution_count": 492,
   "metadata": {},
   "outputs": [],
   "source": [
    "scores = tree.feature_importances_ "
   ]
  },
  {
   "cell_type": "code",
   "execution_count": 493,
   "metadata": {},
   "outputs": [],
   "source": [
    "feature_imp = []\n",
    "for score, name in zip(scores, X_train.columns):\n",
    "        feature_imp.append((score, name))"
   ]
  },
  {
   "cell_type": "code",
   "execution_count": 494,
   "metadata": {
    "scrolled": false
   },
   "outputs": [
    {
     "data": {
      "text/plain": [
       "[(0.4820209329556004, 'use_payroll_account'),\n",
       " (0.21557371904621736, 'customer_relation_type'),\n",
       " (0.057281741791799234, 'household_income'),\n",
       " (0.050380137917419146, 'age_cat_3'),\n",
       " (0.03884650266847925, 'seniority_month'),\n",
       " (0.02535809156479439, 'activity_index'),\n",
       " (0.023834619970986667, 'use_credit_card'),\n",
       " (0.018357303867311096, 'use_current_accounts'),\n",
       " (0.016718882920289373, 'use_pensions'),\n",
       " (0.016544766236973405, 'age_cat_2'),\n",
       " (0.011863070291505476, 'channel_cat_10'),\n",
       " (0.011253147020408461, 'use_e_account'),\n",
       " (0.007830789521856485, 'use_taxes'),\n",
       " (0.007526909495751394, 'use_long_deposits'),\n",
       " (0.0035471251686299992, 'channel_cat_other'),\n",
       " (0.003146814912896446, 'segm_cat_0'),\n",
       " (0.002419268982540582, 'age_cat_4'),\n",
       " (0.0019720941168559956, 'segm_cat_1'),\n",
       " (0.0017258226836002525, 'channel_cat_5'),\n",
       " (0.0015340592826463373, 'channel_cat_6'),\n",
       " (0.0015277400702282354, 'gender'),\n",
       " (0.0007364595132100482, 'channel_cat_1'),\n",
       " (0.0, 'age_cat_1'),\n",
       " (0.0, 'age_cat_5'),\n",
       " (0.0, 'channel_cat_9'),\n",
       " (0.0, 'segm_cat_2')]"
      ]
     },
     "execution_count": 494,
     "metadata": {},
     "output_type": "execute_result"
    }
   ],
   "source": [
    "sorted(feature_imp, key=lambda x: x[0], reverse=True)"
   ]
  },
  {
   "cell_type": "markdown",
   "metadata": {},
   "source": [
    "## Feature importance"
   ]
  },
  {
   "cell_type": "code",
   "execution_count": 449,
   "metadata": {},
   "outputs": [],
   "source": [
    "scores = tree.feature_importances_ "
   ]
  },
  {
   "cell_type": "code",
   "execution_count": 451,
   "metadata": {},
   "outputs": [],
   "source": [
    "feature_imp = []\n",
    "for score, name in zip(scores, X_train.columns):\n",
    "        feature_imp.append((score, name))"
   ]
  },
  {
   "cell_type": "code",
   "execution_count": 454,
   "metadata": {
    "scrolled": false
   },
   "outputs": [
    {
     "data": {
      "text/plain": [
       "[(0.6028896606287074, 'use_payroll_account'),\n",
       " (0.2696297140444509, 'customer_relation_type'),\n",
       " (0.06363302774762708, 'age_cat_3'),\n",
       " (0.019392519752389058, 'age_cat_2'),\n",
       " (0.016418072919044964, 'use_credit_card'),\n",
       " (0.012394122506281613, 'use_current_accounts'),\n",
       " (0.007411761270165454, 'seniority_month'),\n",
       " (0.004659190361123825, 'activity_index'),\n",
       " (0.0016890451074769062, 'use_e_account'),\n",
       " (0.0015709470502900007, 'household_income'),\n",
       " (0.00031193861244275395, 'age_cat_4'),\n",
       " (0.0, 'gender'),\n",
       " (0.0, 'use_long_deposits'),\n",
       " (0.0, 'use_taxes'),\n",
       " (0.0, 'use_pensions'),\n",
       " (0.0, 'age_cat_1'),\n",
       " (0.0, 'age_cat_5'),\n",
       " (0.0, 'channel_cat_10'),\n",
       " (0.0, 'channel_cat_6'),\n",
       " (0.0, 'channel_cat_1'),\n",
       " (0.0, 'channel_cat_5'),\n",
       " (0.0, 'channel_cat_9'),\n",
       " (0.0, 'channel_cat_other'),\n",
       " (0.0, 'segm_cat_0'),\n",
       " (0.0, 'segm_cat_1'),\n",
       " (0.0, 'segm_cat_2')]"
      ]
     },
     "execution_count": 454,
     "metadata": {},
     "output_type": "execute_result"
    }
   ],
   "source": [
    "sorted(feature_imp, key=lambda x: x[0], reverse=True)"
   ]
  },
  {
   "cell_type": "markdown",
   "metadata": {},
   "source": [
    "## Custom KFold and GridSearch"
   ]
  },
  {
   "cell_type": "code",
   "execution_count": 367,
   "metadata": {},
   "outputs": [],
   "source": [
    "idx = list(range(X.shape[0]))\n",
    "random.shuffle(idx)"
   ]
  },
  {
   "cell_type": "code",
   "execution_count": 368,
   "metadata": {},
   "outputs": [],
   "source": [
    "params = {'max_depth': [2,3,4,5,6,7,8],\n",
    "          'min_samples_leaf': [2,4,5,7,9,11,13,15],\n",
    "          'criterion': ['gini', 'entropy'],\n",
    "          'class_weight': [{0: 1, 1:2}, {0: 0.2, 1:0.8}, {0: 0.4, 1:0.6}]   \n",
    "}"
   ]
  },
  {
   "cell_type": "code",
   "execution_count": 369,
   "metadata": {
    "scrolled": true
   },
   "outputs": [
    {
     "data": {
      "text/plain": [
       "{'max_depth': 7,\n",
       " 'min_samples_leaf': 2,\n",
       " 'criterion': 'gini',\n",
       " 'class_weight': {0: 0.4, 1: 0.6}}"
      ]
     },
     "execution_count": 369,
     "metadata": {},
     "output_type": "execute_result"
    }
   ],
   "source": [
    "dict_of_params = {}\n",
    "for k, v in params.items():\n",
    "    dict_of_params[k] = np.random.choice(params[k])\n",
    "    \n",
    "dict_of_params"
   ]
  },
  {
   "cell_type": "markdown",
   "metadata": {},
   "source": [
    "## Predict"
   ]
  },
  {
   "cell_type": "code",
   "execution_count": 469,
   "metadata": {},
   "outputs": [],
   "source": [
    "prepr_test = preproc_func(test.copy())"
   ]
  },
  {
   "cell_type": "code",
   "execution_count": 470,
   "metadata": {},
   "outputs": [],
   "source": [
    "X_test = prepr_test.drop(['customer_id'], axis=1).reset_index(drop=True)"
   ]
  },
  {
   "cell_type": "code",
   "execution_count": 471,
   "metadata": {},
   "outputs": [],
   "source": [
    "X_test_tmp  = X_test[['use_payroll_account']]"
   ]
  },
  {
   "cell_type": "code",
   "execution_count": 473,
   "metadata": {},
   "outputs": [],
   "source": [
    "pred_test_tmp = tree.predict(X_test_tmp)"
   ]
  },
  {
   "cell_type": "code",
   "execution_count": 475,
   "metadata": {},
   "outputs": [],
   "source": [
    "test_sample['use_direct_debit']= pred_test_tmp"
   ]
  },
  {
   "cell_type": "code",
   "execution_count": 476,
   "metadata": {},
   "outputs": [
    {
     "data": {
      "text/html": [
       "<div>\n",
       "<style scoped>\n",
       "    .dataframe tbody tr th:only-of-type {\n",
       "        vertical-align: middle;\n",
       "    }\n",
       "\n",
       "    .dataframe tbody tr th {\n",
       "        vertical-align: top;\n",
       "    }\n",
       "\n",
       "    .dataframe thead th {\n",
       "        text-align: right;\n",
       "    }\n",
       "</style>\n",
       "<table border=\"1\" class=\"dataframe\">\n",
       "  <thead>\n",
       "    <tr style=\"text-align: right;\">\n",
       "      <th></th>\n",
       "      <th>customer_id</th>\n",
       "      <th>use_direct_debit</th>\n",
       "    </tr>\n",
       "  </thead>\n",
       "  <tbody>\n",
       "    <tr>\n",
       "      <th>0</th>\n",
       "      <td>107651</td>\n",
       "      <td>0</td>\n",
       "    </tr>\n",
       "    <tr>\n",
       "      <th>1</th>\n",
       "      <td>112177</td>\n",
       "      <td>0</td>\n",
       "    </tr>\n",
       "    <tr>\n",
       "      <th>2</th>\n",
       "      <td>112239</td>\n",
       "      <td>0</td>\n",
       "    </tr>\n",
       "    <tr>\n",
       "      <th>3</th>\n",
       "      <td>112301</td>\n",
       "      <td>0</td>\n",
       "    </tr>\n",
       "    <tr>\n",
       "      <th>4</th>\n",
       "      <td>112363</td>\n",
       "      <td>0</td>\n",
       "    </tr>\n",
       "  </tbody>\n",
       "</table>\n",
       "</div>"
      ],
      "text/plain": [
       "   customer_id  use_direct_debit\n",
       "0       107651                 0\n",
       "1       112177                 0\n",
       "2       112239                 0\n",
       "3       112301                 0\n",
       "4       112363                 0"
      ]
     },
     "execution_count": 476,
     "metadata": {},
     "output_type": "execute_result"
    }
   ],
   "source": [
    "test_sample.head()"
   ]
  },
  {
   "cell_type": "code",
   "execution_count": 412,
   "metadata": {},
   "outputs": [],
   "source": [
    "test_sample.to_csv('submission_2.csv', index=None)"
   ]
  }
 ],
 "metadata": {
  "kernelspec": {
   "display_name": "Python 3",
   "language": "python",
   "name": "python3"
  },
  "language_info": {
   "codemirror_mode": {
    "name": "ipython",
    "version": 3
   },
   "file_extension": ".py",
   "mimetype": "text/x-python",
   "name": "python",
   "nbconvert_exporter": "python",
   "pygments_lexer": "ipython3",
   "version": "3.7.1"
  }
 },
 "nbformat": 4,
 "nbformat_minor": 2
}
