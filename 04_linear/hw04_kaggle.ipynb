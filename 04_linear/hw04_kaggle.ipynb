{
 "cells": [
  {
   "cell_type": "code",
   "execution_count": 279,
   "metadata": {},
   "outputs": [],
   "source": [
    "import pandas as pd\n",
    "import numpy as np\n",
    "from sklearn.linear_model import LinearRegression\n",
    "from sklearn.linear_model import Lasso\n",
    "from sklearn.linear_model import Ridge\n",
    "from sklearn.preprocessing import StandardScaler\n",
    "from sklearn.metrics import mean_squared_log_error"
   ]
  },
  {
   "cell_type": "markdown",
   "metadata": {},
   "source": [
    "## Read data"
   ]
  },
  {
   "cell_type": "code",
   "execution_count": 200,
   "metadata": {},
   "outputs": [
    {
     "data": {
      "text/html": [
       "<div>\n",
       "<style scoped>\n",
       "    .dataframe tbody tr th:only-of-type {\n",
       "        vertical-align: middle;\n",
       "    }\n",
       "\n",
       "    .dataframe tbody tr th {\n",
       "        vertical-align: top;\n",
       "    }\n",
       "\n",
       "    .dataframe thead th {\n",
       "        text-align: right;\n",
       "    }\n",
       "</style>\n",
       "<table border=\"1\" class=\"dataframe\">\n",
       "  <thead>\n",
       "    <tr style=\"text-align: right;\">\n",
       "      <th></th>\n",
       "      <th>house_id</th>\n",
       "      <th>dt</th>\n",
       "      <th>n_bedrooms</th>\n",
       "      <th>n_bathrooms</th>\n",
       "      <th>n_floors</th>\n",
       "      <th>S_above</th>\n",
       "      <th>S_basement</th>\n",
       "      <th>S_living</th>\n",
       "      <th>S_lot</th>\n",
       "      <th>lat</th>\n",
       "      <th>long</th>\n",
       "      <th>year_built</th>\n",
       "      <th>status</th>\n",
       "      <th>price_target</th>\n",
       "    </tr>\n",
       "  </thead>\n",
       "  <tbody>\n",
       "    <tr>\n",
       "      <th>0</th>\n",
       "      <td>101826</td>\n",
       "      <td>2014-07-17</td>\n",
       "      <td>2</td>\n",
       "      <td>1.75</td>\n",
       "      <td>1.5</td>\n",
       "      <td>1740</td>\n",
       "      <td>0</td>\n",
       "      <td>1740</td>\n",
       "      <td>6620</td>\n",
       "      <td>47.5260</td>\n",
       "      <td>-121.828</td>\n",
       "      <td>2002</td>\n",
       "      <td>3</td>\n",
       "      <td>350000.0</td>\n",
       "    </tr>\n",
       "    <tr>\n",
       "      <th>1</th>\n",
       "      <td>105715</td>\n",
       "      <td>2015-04-21</td>\n",
       "      <td>2</td>\n",
       "      <td>1.00</td>\n",
       "      <td>1.5</td>\n",
       "      <td>1090</td>\n",
       "      <td>0</td>\n",
       "      <td>1090</td>\n",
       "      <td>5265</td>\n",
       "      <td>47.6638</td>\n",
       "      <td>-122.292</td>\n",
       "      <td>1947</td>\n",
       "      <td>4</td>\n",
       "      <td>577000.0</td>\n",
       "    </tr>\n",
       "    <tr>\n",
       "      <th>2</th>\n",
       "      <td>118631</td>\n",
       "      <td>2014-09-26</td>\n",
       "      <td>3</td>\n",
       "      <td>2.00</td>\n",
       "      <td>1.0</td>\n",
       "      <td>1310</td>\n",
       "      <td>0</td>\n",
       "      <td>1310</td>\n",
       "      <td>7000</td>\n",
       "      <td>47.3030</td>\n",
       "      <td>-122.383</td>\n",
       "      <td>1979</td>\n",
       "      <td>4</td>\n",
       "      <td>196500.0</td>\n",
       "    </tr>\n",
       "    <tr>\n",
       "      <th>3</th>\n",
       "      <td>116653</td>\n",
       "      <td>2014-05-02</td>\n",
       "      <td>3</td>\n",
       "      <td>2.50</td>\n",
       "      <td>3.0</td>\n",
       "      <td>1600</td>\n",
       "      <td>170</td>\n",
       "      <td>1770</td>\n",
       "      <td>1235</td>\n",
       "      <td>47.6965</td>\n",
       "      <td>-122.342</td>\n",
       "      <td>2007</td>\n",
       "      <td>3</td>\n",
       "      <td>436110.0</td>\n",
       "    </tr>\n",
       "    <tr>\n",
       "      <th>4</th>\n",
       "      <td>119014</td>\n",
       "      <td>2015-03-12</td>\n",
       "      <td>3</td>\n",
       "      <td>3.25</td>\n",
       "      <td>2.0</td>\n",
       "      <td>1090</td>\n",
       "      <td>190</td>\n",
       "      <td>1280</td>\n",
       "      <td>1730</td>\n",
       "      <td>47.7032</td>\n",
       "      <td>-122.360</td>\n",
       "      <td>2005</td>\n",
       "      <td>3</td>\n",
       "      <td>375000.0</td>\n",
       "    </tr>\n",
       "  </tbody>\n",
       "</table>\n",
       "</div>"
      ],
      "text/plain": [
       "   house_id          dt  n_bedrooms  n_bathrooms  n_floors  S_above  \\\n",
       "0    101826  2014-07-17           2         1.75       1.5     1740   \n",
       "1    105715  2015-04-21           2         1.00       1.5     1090   \n",
       "2    118631  2014-09-26           3         2.00       1.0     1310   \n",
       "3    116653  2014-05-02           3         2.50       3.0     1600   \n",
       "4    119014  2015-03-12           3         3.25       2.0     1090   \n",
       "\n",
       "   S_basement  S_living  S_lot      lat     long  year_built  status  \\\n",
       "0           0      1740   6620  47.5260 -121.828        2002       3   \n",
       "1           0      1090   5265  47.6638 -122.292        1947       4   \n",
       "2           0      1310   7000  47.3030 -122.383        1979       4   \n",
       "3         170      1770   1235  47.6965 -122.342        2007       3   \n",
       "4         190      1280   1730  47.7032 -122.360        2005       3   \n",
       "\n",
       "   price_target  \n",
       "0      350000.0  \n",
       "1      577000.0  \n",
       "2      196500.0  \n",
       "3      436110.0  \n",
       "4      375000.0  "
      ]
     },
     "execution_count": 200,
     "metadata": {},
     "output_type": "execute_result"
    }
   ],
   "source": [
    "train = pd.read_csv('train-2.csv')\n",
    "train.head()"
   ]
  },
  {
   "cell_type": "code",
   "execution_count": 201,
   "metadata": {},
   "outputs": [
    {
     "data": {
      "text/html": [
       "<div>\n",
       "<style scoped>\n",
       "    .dataframe tbody tr th:only-of-type {\n",
       "        vertical-align: middle;\n",
       "    }\n",
       "\n",
       "    .dataframe tbody tr th {\n",
       "        vertical-align: top;\n",
       "    }\n",
       "\n",
       "    .dataframe thead th {\n",
       "        text-align: right;\n",
       "    }\n",
       "</style>\n",
       "<table border=\"1\" class=\"dataframe\">\n",
       "  <thead>\n",
       "    <tr style=\"text-align: right;\">\n",
       "      <th></th>\n",
       "      <th>house_id</th>\n",
       "      <th>dt</th>\n",
       "      <th>n_bedrooms</th>\n",
       "      <th>n_bathrooms</th>\n",
       "      <th>n_floors</th>\n",
       "      <th>S_above</th>\n",
       "      <th>S_basement</th>\n",
       "      <th>S_living</th>\n",
       "      <th>S_lot</th>\n",
       "      <th>lat</th>\n",
       "      <th>long</th>\n",
       "      <th>year_built</th>\n",
       "      <th>status</th>\n",
       "    </tr>\n",
       "  </thead>\n",
       "  <tbody>\n",
       "    <tr>\n",
       "      <th>0</th>\n",
       "      <td>121076</td>\n",
       "      <td>2015-04-01</td>\n",
       "      <td>3</td>\n",
       "      <td>2.25</td>\n",
       "      <td>1.0</td>\n",
       "      <td>1930</td>\n",
       "      <td>440</td>\n",
       "      <td>2370</td>\n",
       "      <td>38639</td>\n",
       "      <td>47.7710</td>\n",
       "      <td>-122.099</td>\n",
       "      <td>1978</td>\n",
       "      <td>3</td>\n",
       "    </tr>\n",
       "    <tr>\n",
       "      <th>1</th>\n",
       "      <td>107763</td>\n",
       "      <td>2015-03-30</td>\n",
       "      <td>3</td>\n",
       "      <td>2.50</td>\n",
       "      <td>2.0</td>\n",
       "      <td>2420</td>\n",
       "      <td>920</td>\n",
       "      <td>3340</td>\n",
       "      <td>70131</td>\n",
       "      <td>47.2666</td>\n",
       "      <td>-122.015</td>\n",
       "      <td>1994</td>\n",
       "      <td>3</td>\n",
       "    </tr>\n",
       "    <tr>\n",
       "      <th>2</th>\n",
       "      <td>115852</td>\n",
       "      <td>2014-12-12</td>\n",
       "      <td>3</td>\n",
       "      <td>1.00</td>\n",
       "      <td>1.0</td>\n",
       "      <td>1090</td>\n",
       "      <td>0</td>\n",
       "      <td>1090</td>\n",
       "      <td>10296</td>\n",
       "      <td>47.7743</td>\n",
       "      <td>-122.260</td>\n",
       "      <td>1950</td>\n",
       "      <td>4</td>\n",
       "    </tr>\n",
       "    <tr>\n",
       "      <th>3</th>\n",
       "      <td>107325</td>\n",
       "      <td>2014-10-15</td>\n",
       "      <td>4</td>\n",
       "      <td>2.50</td>\n",
       "      <td>1.0</td>\n",
       "      <td>1560</td>\n",
       "      <td>880</td>\n",
       "      <td>2440</td>\n",
       "      <td>9350</td>\n",
       "      <td>47.5614</td>\n",
       "      <td>-122.130</td>\n",
       "      <td>1976</td>\n",
       "      <td>4</td>\n",
       "    </tr>\n",
       "    <tr>\n",
       "      <th>4</th>\n",
       "      <td>119391</td>\n",
       "      <td>2014-11-13</td>\n",
       "      <td>2</td>\n",
       "      <td>1.50</td>\n",
       "      <td>2.0</td>\n",
       "      <td>840</td>\n",
       "      <td>140</td>\n",
       "      <td>980</td>\n",
       "      <td>1296</td>\n",
       "      <td>47.7075</td>\n",
       "      <td>-122.336</td>\n",
       "      <td>2001</td>\n",
       "      <td>3</td>\n",
       "    </tr>\n",
       "  </tbody>\n",
       "</table>\n",
       "</div>"
      ],
      "text/plain": [
       "   house_id          dt  n_bedrooms  n_bathrooms  n_floors  S_above  \\\n",
       "0    121076  2015-04-01           3         2.25       1.0     1930   \n",
       "1    107763  2015-03-30           3         2.50       2.0     2420   \n",
       "2    115852  2014-12-12           3         1.00       1.0     1090   \n",
       "3    107325  2014-10-15           4         2.50       1.0     1560   \n",
       "4    119391  2014-11-13           2         1.50       2.0      840   \n",
       "\n",
       "   S_basement  S_living  S_lot      lat     long  year_built  status  \n",
       "0         440      2370  38639  47.7710 -122.099        1978       3  \n",
       "1         920      3340  70131  47.2666 -122.015        1994       3  \n",
       "2           0      1090  10296  47.7743 -122.260        1950       4  \n",
       "3         880      2440   9350  47.5614 -122.130        1976       4  \n",
       "4         140       980   1296  47.7075 -122.336        2001       3  "
      ]
     },
     "execution_count": 201,
     "metadata": {},
     "output_type": "execute_result"
    }
   ],
   "source": [
    "test = pd.read_csv('test-2.csv')\n",
    "test.head()"
   ]
  },
  {
   "cell_type": "code",
   "execution_count": 202,
   "metadata": {},
   "outputs": [],
   "source": [
    "X = train.drop(['price_target', 'house_id'], axis=1)\n",
    "y = train['price_target']"
   ]
  },
  {
   "cell_type": "code",
   "execution_count": 101,
   "metadata": {},
   "outputs": [],
   "source": [
    "X_test = test.drop(['house_id'], axis=1)"
   ]
  },
  {
   "cell_type": "code",
   "execution_count": 240,
   "metadata": {},
   "outputs": [
    {
     "data": {
      "text/plain": [
       "1    6066\n",
       "0    3934\n",
       "Name: S_basement, dtype: int64"
      ]
     },
     "execution_count": 240,
     "metadata": {},
     "output_type": "execute_result"
    }
   ],
   "source": [
    "train['S_basement'].apply(lambda x: 1 if x==0 else 0).value_counts()"
   ]
  },
  {
   "cell_type": "markdown",
   "metadata": {},
   "source": [
    "## Preproc"
   ]
  },
  {
   "cell_type": "code",
   "execution_count": 241,
   "metadata": {},
   "outputs": [],
   "source": [
    "def preproc(df):\n",
    "    temp = df.copy()\n",
    "    \n",
    "    temp['dt'] = pd.to_datetime(temp['dt'] , errors='coerce')\n",
    "    \n",
    "    temp['1_bedrooms'] = temp['n_bedrooms'].apply(lambda x: 1 if x==1 else 0)\n",
    "    temp['2_bedrooms'] = temp['n_bedrooms'].apply(lambda x: 1 if x==2 else 0)\n",
    "    temp['3_bedrooms'] = temp['n_bedrooms'].apply(lambda x: 1 if x==3 else 0)\n",
    "    temp['4_bedrooms'] = temp['n_bedrooms'].apply(lambda x: 1 if x==4 else 0)\n",
    "    temp['5_bedrooms'] = temp['n_bedrooms'].apply(lambda x: 1 if x==5 else 0)\n",
    "    temp['6_bedrooms'] = temp['n_bedrooms'].apply(lambda x: 1 if x==6 else 0)\n",
    "    \n",
    "    temp['1_floors']   = temp['n_floors'].apply(lambda x: 1 if x==1 else 0)\n",
    "    temp['2_floors']   = temp['n_floors'].apply(lambda x: 1 if x==2 else 0)\n",
    "    temp['3_floors']   = temp['n_floors'].apply(lambda x: 1 if x==3 else 0)\n",
    "    temp['1_5_floors'] = temp['n_floors'].apply(lambda x: 1 if x==1.5 else 0)\n",
    "    temp['2_5_floors'] = temp['n_floors'].apply(lambda x: 1 if x==2.5 else 0)\n",
    "    temp['3_5_floors'] = temp['n_floors'].apply(lambda x: 1 if x==3.5 else 0)\n",
    "    \n",
    "    temp['2014_year'] = temp['dt'].apply(lambda x: 1 if x.year==2014 else 0)\n",
    "    \n",
    "    temp['winter'] = temp['dt'].apply(lambda x: 1 if x.month in [12,1,2] else 0)\n",
    "    temp['spring'] = temp['dt'].apply(lambda x: 1 if x.month in [3,4,5] else 0)\n",
    "    temp['summer'] = temp['dt'].apply(lambda x: 1 if x.month in [6,7,8] else 0)\n",
    "    \n",
    "    temp['2_status'] = temp['status'].apply(lambda x: 1 if x==2 else 0)\n",
    "    temp['3_status'] = temp['status'].apply(lambda x: 1 if x==3 else 0)\n",
    "    temp['4_status'] = temp['status'].apply(lambda x: 1 if x==4 else 0)\n",
    "    temp['5_status'] = temp['status'].apply(lambda x: 1 if x==5 else 0)\n",
    "    \n",
    "    temp['lt_1930_year']   = temp['year_built'].apply(lambda x: 1 if x <= 1930 else 0)\n",
    "    temp['1930_1960_year'] = temp['year_built'].apply(lambda x: 1 if x > 1930 and x <= 1960 else 0)\n",
    "    temp['1960_1990_year'] = temp['year_built'].apply(lambda x: 1 if x > 1960 and x <= 1990 else 0)\n",
    "    \n",
    "    cols_to_drop = ['n_bedrooms', 'n_floors', 'dt', 'status', 'year_built']\n",
    "    temp.drop(cols_to_drop, axis=1, inplace=True)\n",
    "    \n",
    "    \n",
    "    return temp"
   ]
  },
  {
   "cell_type": "code",
   "execution_count": 242,
   "metadata": {},
   "outputs": [],
   "source": [
    "X_preproc = preproc(X) \n",
    "X_test_preproc = preproc(X_test) "
   ]
  },
  {
   "cell_type": "code",
   "execution_count": 243,
   "metadata": {},
   "outputs": [
    {
     "name": "stderr",
     "output_type": "stream",
     "text": [
      "/Users/antonina.goryacheva/anaconda3/lib/python3.7/site-packages/sklearn/preprocessing/data.py:625: DataConversionWarning: Data with input dtype int64 were all converted to float64 by StandardScaler.\n",
      "  return self.partial_fit(X, y)\n",
      "/Users/antonina.goryacheva/anaconda3/lib/python3.7/site-packages/ipykernel_launcher.py:6: DataConversionWarning: Data with input dtype int64 were all converted to float64 by StandardScaler.\n",
      "  \n",
      "/Users/antonina.goryacheva/anaconda3/lib/python3.7/site-packages/ipykernel_launcher.py:7: DataConversionWarning: Data with input dtype int64 were all converted to float64 by StandardScaler.\n",
      "  import sys\n"
     ]
    }
   ],
   "source": [
    "scaler = StandardScaler()\n",
    "cols_to_scale = ['S_above', 'S_basement', 'S_living', 'S_lot']\n",
    "\n",
    "scaler.fit(X_preproc[cols_to_scale])\n",
    "\n",
    "X_scaled = scaler.transform(X_preproc[cols_to_scale])\n",
    "X_test_scaled  = scaler.transform(X_test_preproc[cols_to_scale])"
   ]
  },
  {
   "cell_type": "code",
   "execution_count": 244,
   "metadata": {},
   "outputs": [],
   "source": [
    "X_preproc[cols_to_scale] = X_scaled\n",
    "X_test_preproc[cols_to_scale] = X_test_scaled"
   ]
  },
  {
   "cell_type": "code",
   "execution_count": 245,
   "metadata": {},
   "outputs": [
    {
     "data": {
      "text/html": [
       "<div>\n",
       "<style scoped>\n",
       "    .dataframe tbody tr th:only-of-type {\n",
       "        vertical-align: middle;\n",
       "    }\n",
       "\n",
       "    .dataframe tbody tr th {\n",
       "        vertical-align: top;\n",
       "    }\n",
       "\n",
       "    .dataframe thead th {\n",
       "        text-align: right;\n",
       "    }\n",
       "</style>\n",
       "<table border=\"1\" class=\"dataframe\">\n",
       "  <thead>\n",
       "    <tr style=\"text-align: right;\">\n",
       "      <th></th>\n",
       "      <th>n_bathrooms</th>\n",
       "      <th>S_above</th>\n",
       "      <th>S_basement</th>\n",
       "      <th>S_living</th>\n",
       "      <th>S_lot</th>\n",
       "      <th>lat</th>\n",
       "      <th>long</th>\n",
       "      <th>1_bedrooms</th>\n",
       "      <th>2_bedrooms</th>\n",
       "      <th>3_bedrooms</th>\n",
       "      <th>...</th>\n",
       "      <th>winter</th>\n",
       "      <th>spring</th>\n",
       "      <th>summer</th>\n",
       "      <th>2_status</th>\n",
       "      <th>3_status</th>\n",
       "      <th>4_status</th>\n",
       "      <th>5_status</th>\n",
       "      <th>lt_1930_year</th>\n",
       "      <th>1930_1960_year</th>\n",
       "      <th>1960_1990_year</th>\n",
       "    </tr>\n",
       "  </thead>\n",
       "  <tbody>\n",
       "    <tr>\n",
       "      <th>0</th>\n",
       "      <td>1.75</td>\n",
       "      <td>-0.074934</td>\n",
       "      <td>-0.666084</td>\n",
       "      <td>-0.389301</td>\n",
       "      <td>-0.209437</td>\n",
       "      <td>47.5260</td>\n",
       "      <td>-121.828</td>\n",
       "      <td>0</td>\n",
       "      <td>1</td>\n",
       "      <td>0</td>\n",
       "      <td>...</td>\n",
       "      <td>0</td>\n",
       "      <td>0</td>\n",
       "      <td>1</td>\n",
       "      <td>0</td>\n",
       "      <td>1</td>\n",
       "      <td>0</td>\n",
       "      <td>0</td>\n",
       "      <td>0</td>\n",
       "      <td>0</td>\n",
       "      <td>0</td>\n",
       "    </tr>\n",
       "    <tr>\n",
       "      <th>1</th>\n",
       "      <td>1.00</td>\n",
       "      <td>-0.852226</td>\n",
       "      <td>-0.666084</td>\n",
       "      <td>-1.096983</td>\n",
       "      <td>-0.241988</td>\n",
       "      <td>47.6638</td>\n",
       "      <td>-122.292</td>\n",
       "      <td>0</td>\n",
       "      <td>1</td>\n",
       "      <td>0</td>\n",
       "      <td>...</td>\n",
       "      <td>0</td>\n",
       "      <td>1</td>\n",
       "      <td>0</td>\n",
       "      <td>0</td>\n",
       "      <td>0</td>\n",
       "      <td>1</td>\n",
       "      <td>0</td>\n",
       "      <td>0</td>\n",
       "      <td>1</td>\n",
       "      <td>0</td>\n",
       "    </tr>\n",
       "    <tr>\n",
       "      <th>2</th>\n",
       "      <td>2.00</td>\n",
       "      <td>-0.589142</td>\n",
       "      <td>-0.666084</td>\n",
       "      <td>-0.857460</td>\n",
       "      <td>-0.200308</td>\n",
       "      <td>47.3030</td>\n",
       "      <td>-122.383</td>\n",
       "      <td>0</td>\n",
       "      <td>0</td>\n",
       "      <td>1</td>\n",
       "      <td>...</td>\n",
       "      <td>0</td>\n",
       "      <td>0</td>\n",
       "      <td>0</td>\n",
       "      <td>0</td>\n",
       "      <td>0</td>\n",
       "      <td>1</td>\n",
       "      <td>0</td>\n",
       "      <td>0</td>\n",
       "      <td>0</td>\n",
       "      <td>1</td>\n",
       "    </tr>\n",
       "    <tr>\n",
       "      <th>3</th>\n",
       "      <td>2.50</td>\n",
       "      <td>-0.242351</td>\n",
       "      <td>-0.282118</td>\n",
       "      <td>-0.356639</td>\n",
       "      <td>-0.338801</td>\n",
       "      <td>47.6965</td>\n",
       "      <td>-122.342</td>\n",
       "      <td>0</td>\n",
       "      <td>0</td>\n",
       "      <td>1</td>\n",
       "      <td>...</td>\n",
       "      <td>0</td>\n",
       "      <td>1</td>\n",
       "      <td>0</td>\n",
       "      <td>0</td>\n",
       "      <td>1</td>\n",
       "      <td>0</td>\n",
       "      <td>0</td>\n",
       "      <td>0</td>\n",
       "      <td>0</td>\n",
       "      <td>0</td>\n",
       "    </tr>\n",
       "    <tr>\n",
       "      <th>4</th>\n",
       "      <td>3.25</td>\n",
       "      <td>-0.852226</td>\n",
       "      <td>-0.236946</td>\n",
       "      <td>-0.890122</td>\n",
       "      <td>-0.326910</td>\n",
       "      <td>47.7032</td>\n",
       "      <td>-122.360</td>\n",
       "      <td>0</td>\n",
       "      <td>0</td>\n",
       "      <td>1</td>\n",
       "      <td>...</td>\n",
       "      <td>0</td>\n",
       "      <td>1</td>\n",
       "      <td>0</td>\n",
       "      <td>0</td>\n",
       "      <td>1</td>\n",
       "      <td>0</td>\n",
       "      <td>0</td>\n",
       "      <td>0</td>\n",
       "      <td>0</td>\n",
       "      <td>0</td>\n",
       "    </tr>\n",
       "  </tbody>\n",
       "</table>\n",
       "<p>5 rows × 30 columns</p>\n",
       "</div>"
      ],
      "text/plain": [
       "   n_bathrooms   S_above  S_basement  S_living     S_lot      lat     long  \\\n",
       "0         1.75 -0.074934   -0.666084 -0.389301 -0.209437  47.5260 -121.828   \n",
       "1         1.00 -0.852226   -0.666084 -1.096983 -0.241988  47.6638 -122.292   \n",
       "2         2.00 -0.589142   -0.666084 -0.857460 -0.200308  47.3030 -122.383   \n",
       "3         2.50 -0.242351   -0.282118 -0.356639 -0.338801  47.6965 -122.342   \n",
       "4         3.25 -0.852226   -0.236946 -0.890122 -0.326910  47.7032 -122.360   \n",
       "\n",
       "   1_bedrooms  2_bedrooms  3_bedrooms       ...        winter  spring  summer  \\\n",
       "0           0           1           0       ...             0       0       1   \n",
       "1           0           1           0       ...             0       1       0   \n",
       "2           0           0           1       ...             0       0       0   \n",
       "3           0           0           1       ...             0       1       0   \n",
       "4           0           0           1       ...             0       1       0   \n",
       "\n",
       "   2_status  3_status  4_status  5_status  lt_1930_year  1930_1960_year  \\\n",
       "0         0         1         0         0             0               0   \n",
       "1         0         0         1         0             0               1   \n",
       "2         0         0         1         0             0               0   \n",
       "3         0         1         0         0             0               0   \n",
       "4         0         1         0         0             0               0   \n",
       "\n",
       "   1960_1990_year  \n",
       "0               0  \n",
       "1               0  \n",
       "2               1  \n",
       "3               0  \n",
       "4               0  \n",
       "\n",
       "[5 rows x 30 columns]"
      ]
     },
     "execution_count": 245,
     "metadata": {},
     "output_type": "execute_result"
    }
   ],
   "source": [
    "X_preproc.head()"
   ]
  },
  {
   "cell_type": "markdown",
   "metadata": {},
   "source": [
    "## KNN-feats"
   ]
  },
  {
   "cell_type": "code",
   "execution_count": 300,
   "metadata": {},
   "outputs": [
    {
     "data": {
      "text/plain": [
       "0.621699999999997"
      ]
     },
     "execution_count": 300,
     "metadata": {},
     "output_type": "execute_result"
    }
   ],
   "source": [
    "X_preproc['lat'].max() - X_preproc['lat'].min()"
   ]
  },
  {
   "cell_type": "code",
   "execution_count": 301,
   "metadata": {},
   "outputs": [
    {
     "data": {
      "text/plain": [
       "1.2040000000000077"
      ]
     },
     "execution_count": 301,
     "metadata": {},
     "output_type": "execute_result"
    }
   ],
   "source": [
    "X_preproc['long'].max() - X_preproc['long'].min()"
   ]
  },
  {
   "cell_type": "code",
   "execution_count": 287,
   "metadata": {},
   "outputs": [],
   "source": [
    "from sklearn.neighbors import KNeighborsRegressor"
   ]
  },
  {
   "cell_type": "code",
   "execution_count": 288,
   "metadata": {},
   "outputs": [],
   "source": [
    "knn = KNeighborsRegressor(n_neighbors=3, weights='uniform', metric='euclidean')"
   ]
  },
  {
   "cell_type": "code",
   "execution_count": 302,
   "metadata": {},
   "outputs": [
    {
     "data": {
      "text/plain": [
       "KNeighborsRegressor(algorithm='auto', leaf_size=30, metric='euclidean',\n",
       "          metric_params=None, n_jobs=None, n_neighbors=3, p=2,\n",
       "          weights='uniform')"
      ]
     },
     "execution_count": 302,
     "metadata": {},
     "output_type": "execute_result"
    }
   ],
   "source": [
    "knn.fit(X_train, y_train)"
   ]
  },
  {
   "cell_type": "code",
   "execution_count": 307,
   "metadata": {},
   "outputs": [],
   "source": [
    "knn_pred_valid = knn.predict(X_preproc)"
   ]
  },
  {
   "cell_type": "code",
   "execution_count": 321,
   "metadata": {},
   "outputs": [],
   "source": [
    "knn_pred_test = knn.predict(X_test_preproc)"
   ]
  },
  {
   "cell_type": "code",
   "execution_count": 309,
   "metadata": {},
   "outputs": [
    {
     "data": {
      "text/plain": [
       "0.08623302006419582"
      ]
     },
     "execution_count": 309,
     "metadata": {},
     "output_type": "execute_result"
    }
   ],
   "source": [
    "mean_squared_log_error(knn_pred_valid, y)"
   ]
  },
  {
   "cell_type": "code",
   "execution_count": 322,
   "metadata": {},
   "outputs": [],
   "source": [
    "X_preproc['knn_pred'] = knn_pred_valid\n",
    "X_test_preproc['knn_pred'] = knn_pred_test"
   ]
  },
  {
   "cell_type": "markdown",
   "metadata": {},
   "source": [
    "## Train"
   ]
  },
  {
   "cell_type": "code",
   "execution_count": 311,
   "metadata": {},
   "outputs": [],
   "source": [
    "from sklearn.model_selection import RandomizedSearchCV\n",
    "from sklearn.model_selection import StratifiedKFold, KFold"
   ]
  },
  {
   "cell_type": "code",
   "execution_count": 312,
   "metadata": {},
   "outputs": [],
   "source": [
    "def train_test_split(X, y, test_size, random_state=1):\n",
    "    \n",
    "    random_gen = np.random.RandomState(random_state)\n",
    "    size = X.shape[0]\n",
    "    batch_size = round(size*test_size)\n",
    "    \n",
    "    rand_indices = list(random_gen.choice(size, batch_size))\n",
    "   \n",
    "    return X.drop(rand_indices, axis=0), X.loc[rand_indices], y.drop(rand_indices, axis=0), y.loc[rand_indices]"
   ]
  },
  {
   "cell_type": "code",
   "execution_count": 313,
   "metadata": {},
   "outputs": [],
   "source": [
    "X_train, X_valid, y_train, y_valid = train_test_split(pd.DataFrame(X_preproc), y, test_size=0.3, random_state=1)"
   ]
  },
  {
   "cell_type": "code",
   "execution_count": 314,
   "metadata": {},
   "outputs": [
    {
     "name": "stdout",
     "output_type": "stream",
     "text": [
      "train: (7423, 31)\n",
      "valid: (3000, 31)\n"
     ]
    }
   ],
   "source": [
    "print('train: {}'.format(X_train.shape))\n",
    "print('valid: {}'.format(X_valid.shape))"
   ]
  },
  {
   "cell_type": "code",
   "execution_count": 315,
   "metadata": {},
   "outputs": [],
   "source": [
    "lr = Lasso()"
   ]
  },
  {
   "cell_type": "code",
   "execution_count": 316,
   "metadata": {},
   "outputs": [
    {
     "name": "stderr",
     "output_type": "stream",
     "text": [
      "/Users/antonina.goryacheva/anaconda3/lib/python3.7/site-packages/sklearn/linear_model/coordinate_descent.py:492: ConvergenceWarning: Objective did not converge. You might want to increase the number of iterations. Fitting data with very small alpha may cause precision problems.\n",
      "  ConvergenceWarning)\n"
     ]
    },
    {
     "data": {
      "text/plain": [
       "Lasso(alpha=1.0, copy_X=True, fit_intercept=True, max_iter=1000,\n",
       "   normalize=False, positive=False, precompute=False, random_state=None,\n",
       "   selection='cyclic', tol=0.0001, warm_start=False)"
      ]
     },
     "execution_count": 316,
     "metadata": {},
     "output_type": "execute_result"
    }
   ],
   "source": [
    "lr.fit(X_train, y_train)"
   ]
  },
  {
   "cell_type": "markdown",
   "metadata": {},
   "source": [
    "## Predict"
   ]
  },
  {
   "cell_type": "code",
   "execution_count": 317,
   "metadata": {},
   "outputs": [],
   "source": [
    "pred_valid = lr.predict(X_valid)"
   ]
  },
  {
   "cell_type": "code",
   "execution_count": 318,
   "metadata": {},
   "outputs": [],
   "source": [
    "pred_valid_upd = [x if x > 0 else 0 for x in pred_valid]"
   ]
  },
  {
   "cell_type": "code",
   "execution_count": 319,
   "metadata": {},
   "outputs": [
    {
     "data": {
      "text/plain": [
       "0.12890121134115357"
      ]
     },
     "execution_count": 319,
     "metadata": {},
     "output_type": "execute_result"
    }
   ],
   "source": [
    "mean_squared_log_error(pred_valid_upd, y_valid)"
   ]
  },
  {
   "cell_type": "code",
   "execution_count": 323,
   "metadata": {},
   "outputs": [],
   "source": [
    "pred_test = lr.predict(X_test_preproc)"
   ]
  },
  {
   "cell_type": "code",
   "execution_count": 325,
   "metadata": {},
   "outputs": [],
   "source": [
    "pred_test_upd = [x if x > 0 else 0 for x in pred_test]"
   ]
  },
  {
   "cell_type": "code",
   "execution_count": 334,
   "metadata": {},
   "outputs": [],
   "source": [
    "to_kaggle = pd.DataFrame([])\n",
    "to_kaggle['house_id'] = test['house_id']\n",
    "to_kaggle['price_target'] = [round(x) for x in pred_test_upd]"
   ]
  },
  {
   "cell_type": "code",
   "execution_count": 335,
   "metadata": {},
   "outputs": [],
   "source": [
    "to_kaggle.to_csv('submission_1.csv', index=None)"
   ]
  },
  {
   "cell_type": "code",
   "execution_count": null,
   "metadata": {},
   "outputs": [],
   "source": []
  }
 ],
 "metadata": {
  "kernelspec": {
   "display_name": "Python 3",
   "language": "python",
   "name": "python3"
  },
  "language_info": {
   "codemirror_mode": {
    "name": "ipython",
    "version": 3
   },
   "file_extension": ".py",
   "mimetype": "text/x-python",
   "name": "python",
   "nbconvert_exporter": "python",
   "pygments_lexer": "ipython3",
   "version": "3.7.1"
  }
 },
 "nbformat": 4,
 "nbformat_minor": 2
}
