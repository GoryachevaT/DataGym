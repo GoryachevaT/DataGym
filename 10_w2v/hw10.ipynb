{
 "cells": [
  {
   "cell_type": "code",
   "execution_count": 1,
   "metadata": {},
   "outputs": [],
   "source": [
    "import pandas as pd\n",
    "import pickle\n",
    "import numpy as np\n",
    "import re\n",
    "import pymystem3\n",
    "from nltk.stem import WordNetLemmatizer\n",
    "from nltk.corpus import wordnet, stopwords\n",
    "from sklearn.feature_extraction.text import TfidfVectorizer\n",
    "\n",
    "from sklearn.linear_model import LogisticRegression\n",
    "from sklearn.model_selection import KFold, RandomizedSearchCV, StratifiedKFold\n",
    "from scipy.stats import lognorm as sp_lognorm\n",
    "from sklearn.model_selection import train_test_split\n",
    "\n",
    "from sklearn.metrics import roc_auc_score"
   ]
  },
  {
   "cell_type": "code",
   "execution_count": 2,
   "metadata": {},
   "outputs": [],
   "source": [
    "# nltk.download('stopwords')\n",
    "# nltk.download('wordnet')"
   ]
  },
  {
   "cell_type": "markdown",
   "metadata": {},
   "source": [
    "## Read"
   ]
  },
  {
   "cell_type": "code",
   "execution_count": 3,
   "metadata": {},
   "outputs": [],
   "source": [
    "train = pd.read_csv('train.csv', sep=';', index_col='id')"
   ]
  },
  {
   "cell_type": "code",
   "execution_count": 4,
   "metadata": {},
   "outputs": [
    {
     "data": {
      "text/html": [
       "<div>\n",
       "<style scoped>\n",
       "    .dataframe tbody tr th:only-of-type {\n",
       "        vertical-align: middle;\n",
       "    }\n",
       "\n",
       "    .dataframe tbody tr th {\n",
       "        vertical-align: top;\n",
       "    }\n",
       "\n",
       "    .dataframe thead th {\n",
       "        text-align: right;\n",
       "    }\n",
       "</style>\n",
       "<table border=\"1\" class=\"dataframe\">\n",
       "  <thead>\n",
       "    <tr style=\"text-align: right;\">\n",
       "      <th></th>\n",
       "      <th>text</th>\n",
       "      <th>target</th>\n",
       "    </tr>\n",
       "    <tr>\n",
       "      <th>id</th>\n",
       "      <th></th>\n",
       "      <th></th>\n",
       "    </tr>\n",
       "  </thead>\n",
       "  <tbody>\n",
       "    <tr>\n",
       "      <td>0</td>\n",
       "      <td>&lt;p&gt;В молодой и дружный коллектив динамично раз...</td>\n",
       "      <td>2</td>\n",
       "    </tr>\n",
       "    <tr>\n",
       "      <td>1</td>\n",
       "      <td>&lt;p&gt;&lt;strong&gt;Обязанности: &lt;/strong&gt;- Прием входя...</td>\n",
       "      <td>2</td>\n",
       "    </tr>\n",
       "    <tr>\n",
       "      <td>2</td>\n",
       "      <td>&lt;p&gt;&lt;strong&gt;Федеральная сеть аптек &lt;/strong&gt;в с...</td>\n",
       "      <td>1</td>\n",
       "    </tr>\n",
       "    <tr>\n",
       "      <td>3</td>\n",
       "      <td>&lt;strong&gt;Обязанности:&lt;/strong&gt; &lt;ul&gt; &lt;li&gt; &lt;p&gt;раз...</td>\n",
       "      <td>0</td>\n",
       "    </tr>\n",
       "    <tr>\n",
       "      <td>4</td>\n",
       "      <td>&lt;p&gt;Производителю сантехники тм Domani Spa треб...</td>\n",
       "      <td>5</td>\n",
       "    </tr>\n",
       "  </tbody>\n",
       "</table>\n",
       "</div>"
      ],
      "text/plain": [
       "                                                 text  target\n",
       "id                                                           \n",
       "0   <p>В молодой и дружный коллектив динамично раз...       2\n",
       "1   <p><strong>Обязанности: </strong>- Прием входя...       2\n",
       "2   <p><strong>Федеральная сеть аптек </strong>в с...       1\n",
       "3   <strong>Обязанности:</strong> <ul> <li> <p>раз...       0\n",
       "4   <p>Производителю сантехники тм Domani Spa треб...       5"
      ]
     },
     "execution_count": 4,
     "metadata": {},
     "output_type": "execute_result"
    }
   ],
   "source": [
    "train.head()"
   ]
  },
  {
   "cell_type": "code",
   "execution_count": 5,
   "metadata": {},
   "outputs": [
    {
     "data": {
      "text/plain": [
       "(31063, 2)"
      ]
     },
     "execution_count": 5,
     "metadata": {},
     "output_type": "execute_result"
    }
   ],
   "source": [
    "train.shape"
   ]
  },
  {
   "cell_type": "code",
   "execution_count": 6,
   "metadata": {},
   "outputs": [
    {
     "data": {
      "text/plain": [
       "2    7586\n",
       "0    5832\n",
       "5    5674\n",
       "3    4659\n",
       "4    4259\n",
       "1    3053\n",
       "Name: target, dtype: int64"
      ]
     },
     "execution_count": 6,
     "metadata": {},
     "output_type": "execute_result"
    }
   ],
   "source": [
    "train['target'].value_counts()"
   ]
  },
  {
   "cell_type": "code",
   "execution_count": 120,
   "metadata": {},
   "outputs": [],
   "source": [
    "test = pd.read_csv('test.csv', sep=';', index_col='id')"
   ]
  },
  {
   "cell_type": "code",
   "execution_count": 121,
   "metadata": {},
   "outputs": [
    {
     "data": {
      "text/html": [
       "<div>\n",
       "<style scoped>\n",
       "    .dataframe tbody tr th:only-of-type {\n",
       "        vertical-align: middle;\n",
       "    }\n",
       "\n",
       "    .dataframe tbody tr th {\n",
       "        vertical-align: top;\n",
       "    }\n",
       "\n",
       "    .dataframe thead th {\n",
       "        text-align: right;\n",
       "    }\n",
       "</style>\n",
       "<table border=\"1\" class=\"dataframe\">\n",
       "  <thead>\n",
       "    <tr style=\"text-align: right;\">\n",
       "      <th></th>\n",
       "      <th>text</th>\n",
       "    </tr>\n",
       "    <tr>\n",
       "      <th>id</th>\n",
       "      <th></th>\n",
       "    </tr>\n",
       "  </thead>\n",
       "  <tbody>\n",
       "    <tr>\n",
       "      <td>31063</td>\n",
       "      <td>&lt;p&gt;&lt;strong&gt;В крупную компанию по организации и...</td>\n",
       "    </tr>\n",
       "    <tr>\n",
       "      <td>31064</td>\n",
       "      <td>&lt;p&gt;&lt;strong&gt;Обязанности:&lt;/strong&gt;&lt;/p&gt; &lt;ul&gt; &lt;li&gt;...</td>\n",
       "    </tr>\n",
       "    <tr>\n",
       "      <td>31065</td>\n",
       "      <td>&lt;p&gt; &lt;/p&gt; &lt;p&gt;&lt;strong&gt;Обязанности:&lt;/strong&gt;&lt;/p&gt; ...</td>\n",
       "    </tr>\n",
       "    <tr>\n",
       "      <td>31066</td>\n",
       "      <td>&lt;p&gt;&lt;strong&gt;Обязанности:&lt;/strong&gt;&lt;/p&gt; &lt;ul&gt; &lt;li&gt;...</td>\n",
       "    </tr>\n",
       "    <tr>\n",
       "      <td>31067</td>\n",
       "      <td>&lt;p&gt;&lt;strong&gt;Вакансия СРОЧНАЯ!&lt;/strong&gt;&lt;/p&gt; &lt;p&gt;&lt;...</td>\n",
       "    </tr>\n",
       "  </tbody>\n",
       "</table>\n",
       "</div>"
      ],
      "text/plain": [
       "                                                    text\n",
       "id                                                      \n",
       "31063  <p><strong>В крупную компанию по организации и...\n",
       "31064  <p><strong>Обязанности:</strong></p> <ul> <li>...\n",
       "31065  <p> </p> <p><strong>Обязанности:</strong></p> ...\n",
       "31066  <p><strong>Обязанности:</strong></p> <ul> <li>...\n",
       "31067  <p><strong>Вакансия СРОЧНАЯ!</strong></p> <p><..."
      ]
     },
     "execution_count": 121,
     "metadata": {},
     "output_type": "execute_result"
    }
   ],
   "source": [
    "test.head()"
   ]
  },
  {
   "cell_type": "code",
   "execution_count": 8,
   "metadata": {},
   "outputs": [
    {
     "data": {
      "text/plain": [
       "(31064, 1)"
      ]
     },
     "execution_count": 8,
     "metadata": {},
     "output_type": "execute_result"
    }
   ],
   "source": [
    "test.shape"
   ]
  },
  {
   "cell_type": "markdown",
   "metadata": {},
   "source": [
    "## Data Preproc"
   ]
  },
  {
   "cell_type": "code",
   "execution_count": 9,
   "metadata": {},
   "outputs": [],
   "source": [
    "def text_to_wordlist(text):\n",
    "    text_wo_tags = re.sub(\"<[^>]*>\", \"\", text.lower())\n",
    "    text = re.sub('[^a-zA-Zа-яА-ЯёЁ]', ' ', text_wo_tags)\n",
    "    words = text.lower().strip().split()\n",
    "    return words"
   ]
  },
  {
   "cell_type": "code",
   "execution_count": 10,
   "metadata": {},
   "outputs": [],
   "source": [
    "def clean(words, stopWords):\n",
    "    new_words = [word for word in words if (word not in stopWords) and len(word) > 2]\n",
    "    return new_words"
   ]
  },
  {
   "cell_type": "code",
   "execution_count": 11,
   "metadata": {},
   "outputs": [],
   "source": [
    "mystem = pymystem3.Mystem()\n",
    "wordnet_lemmatizer = WordNetLemmatizer()\n",
    "\n",
    "def clean_v2(words):    \n",
    "    new_words = [mystem.lemmatize(x)[0] for x in words]\n",
    "    return new_words"
   ]
  },
  {
   "cell_type": "code",
   "execution_count": 12,
   "metadata": {},
   "outputs": [],
   "source": [
    "def clean_v3(words):    \n",
    "    new_words = [wordnet_lemmatizer.lemmatize(x, pos=wordnet.VERB) for x in words]\n",
    "    return new_words"
   ]
  },
  {
   "cell_type": "code",
   "execution_count": 13,
   "metadata": {},
   "outputs": [],
   "source": [
    "def preproc_data(df, stopWords):\n",
    "    \n",
    "    temp = df.copy()\n",
    "    temp['norm_test'] = temp['text'].apply(lambda x: text_to_wordlist(x))\n",
    "    print('v1 done')\n",
    "    temp['norm_test_v2'] = temp['norm_test'].apply(lambda x: clean(x, stopWords))\n",
    "    print('v2 done')\n",
    "    temp['norm_test_v3'] = temp['norm_test_v2'].apply(lambda x: clean_v2(x))\n",
    "    print('v3 done')\n",
    "    temp['norm_test_v4'] = temp['norm_test_v3'].apply(lambda x: clean_v3(x))\n",
    "    print('v4 done')\n",
    "    temp['joined_text'] = temp['norm_test_v4'].apply(lambda x: ' '.join(x))\n",
    "    joined_text = temp['joined_text'].tolist()\n",
    "    \n",
    "    return joined_text"
   ]
  },
  {
   "cell_type": "code",
   "execution_count": 14,
   "metadata": {},
   "outputs": [
    {
     "name": "stdout",
     "output_type": "stream",
     "text": [
      "v1 done\n",
      "v2 done\n",
      "v3 done\n",
      "v4 done\n",
      "CPU times: user 2min 1s, sys: 37.5 s, total: 2min 39s\n",
      "Wall time: 6min 1s\n"
     ]
    }
   ],
   "source": [
    "%%time\n",
    "\n",
    "stopWords = stopwords.words(['russian', 'english'])\n",
    "train_joined_text = preproc_data(train, stopWords)"
   ]
  },
  {
   "cell_type": "code",
   "execution_count": 15,
   "metadata": {},
   "outputs": [
    {
     "name": "stdout",
     "output_type": "stream",
     "text": [
      "v1 done\n",
      "v2 done\n",
      "v3 done\n",
      "v4 done\n",
      "CPU times: user 2min 2s, sys: 37.7 s, total: 2min 40s\n",
      "Wall time: 6min 2s\n"
     ]
    }
   ],
   "source": [
    "%%time\n",
    "test_joined_text = preproc_data(test, stopWords)"
   ]
  },
  {
   "cell_type": "code",
   "execution_count": 16,
   "metadata": {},
   "outputs": [],
   "source": [
    "prepr_train = pd.DataFrame(train_joined_text, columns=['text'])\n",
    "prepr_train['target'] = train['target']"
   ]
  },
  {
   "cell_type": "code",
   "execution_count": 17,
   "metadata": {},
   "outputs": [],
   "source": [
    "prepr_test = pd.DataFrame(test_joined_text, columns=['text'])"
   ]
  },
  {
   "cell_type": "code",
   "execution_count": 18,
   "metadata": {},
   "outputs": [],
   "source": [
    "prepr_train.to_csv('prepr_train.csv', index=False)"
   ]
  },
  {
   "cell_type": "code",
   "execution_count": 19,
   "metadata": {},
   "outputs": [],
   "source": [
    "prepr_test.to_csv('prepr_test.csv', index=False)"
   ]
  },
  {
   "cell_type": "markdown",
   "metadata": {},
   "source": [
    "## Read preproc data"
   ]
  },
  {
   "cell_type": "code",
   "execution_count": 3,
   "metadata": {},
   "outputs": [
    {
     "data": {
      "text/html": [
       "<div>\n",
       "<style scoped>\n",
       "    .dataframe tbody tr th:only-of-type {\n",
       "        vertical-align: middle;\n",
       "    }\n",
       "\n",
       "    .dataframe tbody tr th {\n",
       "        vertical-align: top;\n",
       "    }\n",
       "\n",
       "    .dataframe thead th {\n",
       "        text-align: right;\n",
       "    }\n",
       "</style>\n",
       "<table border=\"1\" class=\"dataframe\">\n",
       "  <thead>\n",
       "    <tr style=\"text-align: right;\">\n",
       "      <th></th>\n",
       "      <th>text</th>\n",
       "      <th>target</th>\n",
       "    </tr>\n",
       "  </thead>\n",
       "  <tbody>\n",
       "    <tr>\n",
       "      <td>0</td>\n",
       "      <td>молодой дружный коллектив динамично развиватьс...</td>\n",
       "      <td>2</td>\n",
       "    </tr>\n",
       "    <tr>\n",
       "      <td>1</td>\n",
       "      <td>обязанность прием входить звонок заявка обрабо...</td>\n",
       "      <td>2</td>\n",
       "    </tr>\n",
       "    <tr>\n",
       "      <td>2</td>\n",
       "      <td>федеральный сеть аптека связь активный расшире...</td>\n",
       "      <td>1</td>\n",
       "    </tr>\n",
       "    <tr>\n",
       "      <td>3</td>\n",
       "      <td>обязанность разработка проектный рабочий докум...</td>\n",
       "      <td>0</td>\n",
       "    </tr>\n",
       "    <tr>\n",
       "      <td>4</td>\n",
       "      <td>производитель сантехник domani spa требоваться...</td>\n",
       "      <td>5</td>\n",
       "    </tr>\n",
       "  </tbody>\n",
       "</table>\n",
       "</div>"
      ],
      "text/plain": [
       "                                                text  target\n",
       "0  молодой дружный коллектив динамично развиватьс...       2\n",
       "1  обязанность прием входить звонок заявка обрабо...       2\n",
       "2  федеральный сеть аптека связь активный расшире...       1\n",
       "3  обязанность разработка проектный рабочий докум...       0\n",
       "4  производитель сантехник domani spa требоваться...       5"
      ]
     },
     "execution_count": 3,
     "metadata": {},
     "output_type": "execute_result"
    }
   ],
   "source": [
    "prepr_train = pd.read_csv('prepr_train.csv')\n",
    "prepr_train.head()"
   ]
  },
  {
   "cell_type": "code",
   "execution_count": 4,
   "metadata": {
    "scrolled": true
   },
   "outputs": [
    {
     "data": {
      "text/html": [
       "<div>\n",
       "<style scoped>\n",
       "    .dataframe tbody tr th:only-of-type {\n",
       "        vertical-align: middle;\n",
       "    }\n",
       "\n",
       "    .dataframe tbody tr th {\n",
       "        vertical-align: top;\n",
       "    }\n",
       "\n",
       "    .dataframe thead th {\n",
       "        text-align: right;\n",
       "    }\n",
       "</style>\n",
       "<table border=\"1\" class=\"dataframe\">\n",
       "  <thead>\n",
       "    <tr style=\"text-align: right;\">\n",
       "      <th></th>\n",
       "      <th>text</th>\n",
       "    </tr>\n",
       "  </thead>\n",
       "  <tbody>\n",
       "    <tr>\n",
       "      <td>0</td>\n",
       "      <td>крупный компания организация приготовление кор...</td>\n",
       "    </tr>\n",
       "    <tr>\n",
       "      <td>1</td>\n",
       "      <td>обязанность обеспечение необходимый функционал...</td>\n",
       "    </tr>\n",
       "    <tr>\n",
       "      <td>2</td>\n",
       "      <td>обязанность отгрузка прием товар склад склад к...</td>\n",
       "    </tr>\n",
       "    <tr>\n",
       "      <td>3</td>\n",
       "      <td>обязанность приготовление холодный горячий блю...</td>\n",
       "    </tr>\n",
       "    <tr>\n",
       "      <td>4</td>\n",
       "      <td>вакансия срочный внимание просьба подробно изу...</td>\n",
       "    </tr>\n",
       "  </tbody>\n",
       "</table>\n",
       "</div>"
      ],
      "text/plain": [
       "                                                text\n",
       "0  крупный компания организация приготовление кор...\n",
       "1  обязанность обеспечение необходимый функционал...\n",
       "2  обязанность отгрузка прием товар склад склад к...\n",
       "3  обязанность приготовление холодный горячий блю...\n",
       "4  вакансия срочный внимание просьба подробно изу..."
      ]
     },
     "execution_count": 4,
     "metadata": {},
     "output_type": "execute_result"
    }
   ],
   "source": [
    "X_test = pd.read_csv('prepr_test.csv')\n",
    "X_test.head()"
   ]
  },
  {
   "cell_type": "code",
   "execution_count": 5,
   "metadata": {},
   "outputs": [],
   "source": [
    "X = prepr_train.drop('target', axis=1)\n",
    "y = prepr_train.target"
   ]
  },
  {
   "cell_type": "code",
   "execution_count": 6,
   "metadata": {},
   "outputs": [],
   "source": [
    "X_train, X_valid, y_train, y_valid = train_test_split(X, y, test_size=0.3)"
   ]
  },
  {
   "cell_type": "code",
   "execution_count": 7,
   "metadata": {},
   "outputs": [],
   "source": [
    "train_list = X_train['text'].tolist()\n",
    "valid_list = X_valid['text'].tolist()\n",
    "test_list = X_test['text'].tolist()"
   ]
  },
  {
   "cell_type": "code",
   "execution_count": 9,
   "metadata": {},
   "outputs": [],
   "source": [
    "text_list = train_list + valid_list + test_list"
   ]
  },
  {
   "cell_type": "markdown",
   "metadata": {},
   "source": [
    "## Impr"
   ]
  },
  {
   "cell_type": "code",
   "execution_count": 7,
   "metadata": {},
   "outputs": [],
   "source": [
    "train_0 = prepr_train[prepr_train.target==0]['text'].tolist()\n",
    "train_1 = prepr_train[prepr_train.target==1]['text'].tolist()\n",
    "train_2 = prepr_train[prepr_train.target==2]['text'].tolist()\n",
    "train_3 = prepr_train[prepr_train.target==3]['text'].tolist()\n",
    "train_4 = prepr_train[prepr_train.target==4]['text'].tolist()\n",
    "train_5 = prepr_train[prepr_train.target==5]['text'].tolist()"
   ]
  },
  {
   "cell_type": "code",
   "execution_count": 10,
   "metadata": {},
   "outputs": [
    {
     "data": {
      "text/plain": [
       "<62127x10000 sparse matrix of type '<class 'numpy.float64'>'\n",
       "\twith 4825154 stored elements in Compressed Sparse Row format>"
      ]
     },
     "execution_count": 10,
     "metadata": {},
     "output_type": "execute_result"
    }
   ],
   "source": [
    "tfidf = TfidfVectorizer(max_features=10000)\n",
    "tfidf.fit_transform(text_list)"
   ]
  },
  {
   "cell_type": "code",
   "execution_count": 11,
   "metadata": {},
   "outputs": [],
   "source": [
    "tfidf_0 = tfidf.transform(train_0)\n",
    "tfidf_1 = tfidf.transform(train_1)\n",
    "tfidf_2 = tfidf.transform(train_2)\n",
    "tfidf_3 = tfidf.transform(train_3)\n",
    "tfidf_4 = tfidf.transform(train_4)\n",
    "tfidf_5 = tfidf.transform(train_5)"
   ]
  },
  {
   "cell_type": "code",
   "execution_count": 12,
   "metadata": {},
   "outputs": [],
   "source": [
    "def top_words(tfidf_x):\n",
    "    kk = pd.DataFrame(tfidf_x.todense(), columns=tfidf.get_feature_names())\n",
    "    words = [x[0] for x in sorted(zip(kk.columns, kk.sum()), key=lambda x: x[1], reverse=True)[:100]]\n",
    "    return words\n",
    "\n",
    "words0 = top_words(tfidf_0)\n",
    "words1 = top_words(tfidf_1)\n",
    "words2 = top_words(tfidf_2)\n",
    "words3 = top_words(tfidf_3)\n",
    "words4 = top_words(tfidf_4)\n",
    "words5 = top_words(tfidf_5)"
   ]
  },
  {
   "cell_type": "code",
   "execution_count": 13,
   "metadata": {},
   "outputs": [],
   "source": [
    "all_words = words0 + words1 + words2 + words3 + words4 + words5"
   ]
  },
  {
   "cell_type": "code",
   "execution_count": 15,
   "metadata": {},
   "outputs": [],
   "source": [
    "unique_words = []\n",
    "bad_words = []\n",
    "for w in all_words:\n",
    "    if w in unique_words:\n",
    "        bad_words.append(w)\n",
    "    else:\n",
    "        unique_words.append(w)"
   ]
  },
  {
   "cell_type": "code",
   "execution_count": 19,
   "metadata": {
    "scrolled": true
   },
   "outputs": [
    {
     "data": {
      "text/plain": [
       "['объект',\n",
       " 'строительный',\n",
       " 'строительство',\n",
       " 'проектный',\n",
       " 'материал',\n",
       " 'ремонт',\n",
       " 'производство',\n",
       " 'autocad',\n",
       " 'проектирование',\n",
       " 'исполнительный',\n",
       " 'выполнять',\n",
       " 'монтаж',\n",
       " 'недвижимость',\n",
       " 'сметный',\n",
       " 'монтажный',\n",
       " 'инженерный',\n",
       " 'чертеж',\n",
       " 'эксплуатация',\n",
       " 'нормативный',\n",
       " 'конструкция',\n",
       " 'здание',\n",
       " 'согласование',\n",
       " 'раздел',\n",
       " 'инженер',\n",
       " 'производственный',\n",
       " 'смета',\n",
       " 'охрана',\n",
       " 'проживание',\n",
       " 'безопасность',\n",
       " 'должность',\n",
       " 'надзор']"
      ]
     },
     "execution_count": 19,
     "metadata": {},
     "output_type": "execute_result"
    }
   ],
   "source": [
    "cl_words0 = [x for x in words0 if x not in set(bad_words)]\n",
    "cl_words0"
   ]
  },
  {
   "cell_type": "code",
   "execution_count": 20,
   "metadata": {
    "scrolled": true
   },
   "outputs": [
    {
     "data": {
      "text/plain": [
       "['сертификат',\n",
       " 'пациент',\n",
       " 'врач',\n",
       " 'специальность',\n",
       " 'действующий',\n",
       " 'клиника',\n",
       " 'фармацевтический',\n",
       " 'аптека',\n",
       " 'лечение',\n",
       " 'лекарственный',\n",
       " 'препарат',\n",
       " 'помощь',\n",
       " 'средний',\n",
       " 'лечебный',\n",
       " 'диагностика',\n",
       " 'дело',\n",
       " 'исследование',\n",
       " 'оказание',\n",
       " 'больной',\n",
       " 'кабинет',\n",
       " 'амбулаторный',\n",
       " 'сестринский',\n",
       " 'территория',\n",
       " 'диагностический',\n",
       " 'ребенок',\n",
       " 'процедура',\n",
       " 'назначение',\n",
       " 'аптечный',\n",
       " 'социальный',\n",
       " 'учреждение',\n",
       " 'консультация',\n",
       " 'осмотр',\n",
       " 'приветствоваться',\n",
       " 'мероприятие',\n",
       " 'план',\n",
       " 'квалификация']"
      ]
     },
     "execution_count": 20,
     "metadata": {},
     "output_type": "execute_result"
    }
   ],
   "source": [
    "cl_words1 = [x for x in words1 if x not in set(bad_words)]\n",
    "cl_words1"
   ]
  },
  {
   "cell_type": "code",
   "execution_count": 21,
   "metadata": {
    "scrolled": true
   },
   "outputs": [
    {
     "data": {
      "text/plain": [
       "['задача',\n",
       " 'поддержка',\n",
       " 'тестирование',\n",
       " 'приложение',\n",
       " 'понимание',\n",
       " 'уровень',\n",
       " 'настройка',\n",
       " 'язык',\n",
       " 'бизнес',\n",
       " 'sql',\n",
       " 'разработчик',\n",
       " 'программный',\n",
       " 'новый',\n",
       " 'администрирование',\n",
       " 'технология',\n",
       " 'участие',\n",
       " 'процесс',\n",
       " 'информационный',\n",
       " 'который',\n",
       " 'сервис',\n",
       " 'платформа',\n",
       " 'сайт',\n",
       " 'принцип',\n",
       " 'код',\n",
       " 'база',\n",
       " 'английский',\n",
       " 'программирование',\n",
       " 'внедрение',\n",
       " 'написание',\n",
       " 'сетевой',\n",
       " 'интересный',\n",
       " 'конфигурация',\n",
       " 'предлагать',\n",
       " 'плюс',\n",
       " 'создание',\n",
       " 'мобильный',\n",
       " 'хороший',\n",
       " 'свой',\n",
       " 'java',\n",
       " 'сопровождение',\n",
       " 'сервер',\n",
       " 'дмс',\n",
       " 'windows',\n",
       " 'доработка',\n",
       " 'web',\n",
       " 'другой',\n",
       " 'автоматизация',\n",
       " 'php']"
      ]
     },
     "execution_count": 21,
     "metadata": {},
     "output_type": "execute_result"
    }
   ],
   "source": [
    "cl_words2 = [x for x in words2 if x not in set(bad_words)]\n",
    "cl_words2"
   ]
  },
  {
   "cell_type": "code",
   "execution_count": 22,
   "metadata": {
    "scrolled": true
   },
   "outputs": [
    {
     "data": {
      "text/plain": [
       "['бухгалтерский',\n",
       " 'налоговый',\n",
       " 'бухгалтер',\n",
       " 'первичный',\n",
       " 'отчетность',\n",
       " 'финансовый',\n",
       " 'бухгалтерия',\n",
       " 'счет',\n",
       " 'экономический',\n",
       " 'сверка',\n",
       " 'формирование',\n",
       " 'отчет',\n",
       " 'банк',\n",
       " 'операция',\n",
       " 'предприятие',\n",
       " 'excel',\n",
       " 'поставщик',\n",
       " 'главный',\n",
       " 'законодательство',\n",
       " 'начисление',\n",
       " 'сдача',\n",
       " 'контрагент',\n",
       " 'кассовый',\n",
       " 'управленческий',\n",
       " 'информация',\n",
       " 'лицо',\n",
       " 'налог',\n",
       " 'деятельность',\n",
       " 'отражение',\n",
       " 'денежный',\n",
       " 'большой',\n",
       " 'задолженность',\n",
       " 'обработка',\n",
       " 'расход',\n",
       " 'бюджет',\n",
       " 'торговля',\n",
       " 'покупатель',\n",
       " 'поручение',\n",
       " 'хозяйственный',\n",
       " 'word']"
      ]
     },
     "execution_count": 22,
     "metadata": {},
     "output_type": "execute_result"
    }
   ],
   "source": [
    "cl_words3 = [x for x in words3 if x not in set(bad_words)]\n",
    "cl_words3"
   ]
  },
  {
   "cell_type": "code",
   "execution_count": 23,
   "metadata": {
    "scrolled": true
   },
   "outputs": [
    {
     "data": {
      "text/plain": [
       "['гость',\n",
       " 'приготовление',\n",
       " 'блюдо',\n",
       " 'ресторан',\n",
       " 'повар',\n",
       " 'бесплатный',\n",
       " 'чистота',\n",
       " 'кухня',\n",
       " 'стандарт',\n",
       " 'отель',\n",
       " 'технологический',\n",
       " 'меню',\n",
       " 'напиток',\n",
       " 'желание',\n",
       " 'карта',\n",
       " 'уборка',\n",
       " 'поддержание',\n",
       " 'кафе',\n",
       " 'дружный',\n",
       " 'карьерный',\n",
       " 'персонал',\n",
       " 'бар',\n",
       " 'раз',\n",
       " 'официант',\n",
       " 'аккуратность',\n",
       " 'цех',\n",
       " 'развиваться',\n",
       " 'бронирование',\n",
       " 'горячий',\n",
       " 'час',\n",
       " 'порядок',\n",
       " 'готовый',\n",
       " 'приглашать',\n",
       " 'посуда',\n",
       " 'тур',\n",
       " 'человек',\n",
       " 'мед',\n",
       " 'речь',\n",
       " 'грамотный']"
      ]
     },
     "execution_count": 23,
     "metadata": {},
     "output_type": "execute_result"
    }
   ],
   "source": [
    "cl_words4 = [x for x in words4 if x not in set(bad_words)]\n",
    "cl_words4"
   ]
  },
  {
   "cell_type": "code",
   "execution_count": 24,
   "metadata": {
    "scrolled": true
   },
   "outputs": [
    {
     "data": {
      "text/plain": [
       "['склад',\n",
       " 'автомобиль',\n",
       " 'водитель',\n",
       " 'груз',\n",
       " 'доставка',\n",
       " 'перевозка',\n",
       " 'категория',\n",
       " 'транспортный',\n",
       " 'складской',\n",
       " 'водительский',\n",
       " 'удостоверение',\n",
       " 'транспорт',\n",
       " 'хранение',\n",
       " 'логистика',\n",
       " 'разгрузочный',\n",
       " 'вождение',\n",
       " 'право',\n",
       " 'отгрузка',\n",
       " 'погрузка',\n",
       " 'стаж',\n",
       " 'товарный',\n",
       " 'состояние',\n",
       " 'материальный',\n",
       " 'город',\n",
       " 'погрузчик',\n",
       " 'маршрут',\n",
       " 'техника',\n",
       " 'погрузочный',\n",
       " 'ценность',\n",
       " 'выходной',\n",
       " 'кладовщик',\n",
       " 'сопроводительный',\n",
       " 'размещение',\n",
       " 'экспедитор',\n",
       " 'магазин']"
      ]
     },
     "execution_count": 24,
     "metadata": {},
     "output_type": "execute_result"
    }
   ],
   "source": [
    "cl_words5 = [x for x in words5 if x not in set(bad_words)]\n",
    "cl_words5"
   ]
  },
  {
   "cell_type": "code",
   "execution_count": 27,
   "metadata": {},
   "outputs": [],
   "source": [
    "cl_words = cl_words0+cl_words1+cl_words2+cl_words3+cl_words4+cl_words5"
   ]
  },
  {
   "cell_type": "code",
   "execution_count": 30,
   "metadata": {},
   "outputs": [
    {
     "name": "stderr",
     "output_type": "stream",
     "text": [
      "/Users/antonina.goryacheva/anaconda3/lib/python3.7/site-packages/ipykernel_launcher.py:1: SettingWithCopyWarning: \n",
      "A value is trying to be set on a copy of a slice from a DataFrame.\n",
      "Try using .loc[row_indexer,col_indexer] = value instead\n",
      "\n",
      "See the caveats in the documentation: http://pandas.pydata.org/pandas-docs/stable/user_guide/indexing.html#returning-a-view-versus-a-copy\n",
      "  \"\"\"Entry point for launching an IPython kernel.\n"
     ]
    }
   ],
   "source": [
    "X_train['clean'] = X_train['text'].apply(lambda x: [a for a in x.split(' ') if a in cl_words])"
   ]
  },
  {
   "cell_type": "code",
   "execution_count": 34,
   "metadata": {},
   "outputs": [
    {
     "name": "stderr",
     "output_type": "stream",
     "text": [
      "/Users/antonina.goryacheva/anaconda3/lib/python3.7/site-packages/ipykernel_launcher.py:1: SettingWithCopyWarning: \n",
      "A value is trying to be set on a copy of a slice from a DataFrame.\n",
      "Try using .loc[row_indexer,col_indexer] = value instead\n",
      "\n",
      "See the caveats in the documentation: http://pandas.pydata.org/pandas-docs/stable/user_guide/indexing.html#returning-a-view-versus-a-copy\n",
      "  \"\"\"Entry point for launching an IPython kernel.\n"
     ]
    }
   ],
   "source": [
    "X_valid['clean'] = X_valid['text'].apply(lambda x: [a for a in x.split(' ') if a in cl_words])\n",
    "X_test['clean'] = X_test['text'].apply(lambda x: [a for a in x.split(' ') if a in cl_words])"
   ]
  },
  {
   "cell_type": "markdown",
   "metadata": {},
   "source": [
    "## TF_IDF"
   ]
  },
  {
   "cell_type": "code",
   "execution_count": 9,
   "metadata": {},
   "outputs": [
    {
     "data": {
      "text/plain": [
       "<62127x10000 sparse matrix of type '<class 'numpy.float64'>'\n",
       "\twith 4825154 stored elements in Compressed Sparse Row format>"
      ]
     },
     "execution_count": 9,
     "metadata": {},
     "output_type": "execute_result"
    }
   ],
   "source": [
    "tfidf = TfidfVectorizer(max_features=10000)\n",
    "tfidf.fit_transform(text_list)"
   ]
  },
  {
   "cell_type": "markdown",
   "metadata": {},
   "source": [
    "# W2V"
   ]
  },
  {
   "cell_type": "code",
   "execution_count": 45,
   "metadata": {},
   "outputs": [
    {
     "data": {
      "text/plain": [
       "['осмотр больной врач диагностический лечебный мероприятие больной стандарт план больной пациент диагностический информация стандарт лечение диагностический лечебный процедура мероприятие принцип назначение пациент помощь участие формирование больной лечение пациент социальный больной состояние законодательство порядок больной информация больной выполнять диагностика состояние больной стандарт помощь диагностика план больной выполнять мероприятие выполнять лечение состояние стандарт помощь первичный участие больной лицо свой диагностика лечение больной свой деятельность пациент карта больной квалификация врач уровень средний персонал законодательство деятельность техника безопасность принцип персонал больной техника безопасность принцип поручение учреждение нормативный свой деятельность специальность социальный поддержка категория исполнительный врач стаж врач который врач врач который врач должность должность исполнительный должность должность ребенок расход расход территория размещение врач пациент социальный поддержка категория счет бюджет дружный который готовый врач интересный готовый помощь поддержка',\n",
       " 'складской склад груз поставщик сверка участие автомобиль складской груз склад аккуратность склад выходной раз выходной выходной выходной ремонт',\n",
       " 'настройка windows поддержка сервер windows ремонт информация сопровождение администрирование монтаж настройка сетевой аккуратность приветствоваться настройка sql настройка администрирование база настройка автоматизация производственный процесс ремонт база windows',\n",
       " 'план тестирование тестирование отчетность тестирование тестирование тестирование тестирование процесс задача тестирование приветствоваться sql понимание принцип задача уровень карьерный участие интересный новый технология уровень',\n",
       " 'город большой персонал гость размещение гость гость отчет поддержание чистота размещение новый понимание кассовый приветствоваться задача дружный город',\n",
       " 'погрузчик автомобиль осмотр состояние автомобиль помощь назначение отчетность удостоверение водитель погрузчик',\n",
       " 'операция склад доставка поддержка склад напиток участие бюджет поддержка операция первичный логистика экономический складской транспортный логистика деятельность законодательство складской операция безопасность техника безопасность техника word excel английский язык уровень дмс карьерный участие',\n",
       " 'водитель категория',\n",
       " 'эксплуатация ремонт состояние эксплуатация участие эксплуатация отчет мероприятие эксплуатация ремонт новый участие внедрение технологический карта стандарт эксплуатация ремонт ремонт материал монтаж ремонт автоматизация осмотр ремонт участие оказание помощь новый поставщик средний программирование плюс производственный предприятие охрана уровень дмс час час',\n",
       " 'деятельность участие проектный деятельность задача отчет финансовый обработка отчет сверка администрирование деятельность английский язык грамотный речь желание развиваться помощь социальный помощь персонал новый карьерный мероприятие',\n",
       " 'первичный хозяйственный операция хозяйственный операция первичный размещение информационный первичный первичный хранение специальность бухгалтерский финансовый приложение дружный предприятие',\n",
       " 'водитель автомобиль город автомобиль выходной',\n",
       " 'раздел нормативный база проектирование autocad час',\n",
       " 'задача участие тестирование мобильный приложение грамотный разработчик сервер большой технология база проектирование тестирование тестирование приложение написание программирование тестирование безопасность тестирование тестирование интересный задача',\n",
       " 'бухгалтерский налоговый производственный формирование написание внедрение процедура финансовый хозяйственный деятельность задача разработчик сопровождение процесс автоматизация бухгалтерия формирование сдача бухгалтерский налоговый отчетность участие главный бухгалтер производственный деятельность бухгалтерский налоговый законодательство налоговый английский язык уровень управленческий производственный уровень',\n",
       " 'технология разработчик мобильный хороший уровень готовый желание мобильный мобильный новый поддержка сервис хороший мобильный предлагать раз раз',\n",
       " 'логистика перевозка свой груз перевозка процесс перевозка транспортный новый перевозка груз помощь груз перевозка груз отчетность сопровождение перевозка выполнять должность английский язык приветствоваться word нормативный нормативный деятельность транспорт принцип хороший перевозка перевозка груз',\n",
       " 'создание банк счет отгрузка дружный город',\n",
       " 'доработка администрирование сайт уровень сертификат разработчик приветствоваться выполнять задача город уровень',\n",
       " 'производственный человек готовый конструкция желание развиваться уровень',\n",
       " 'размещение гость стандарт отель кассовый операция отель средний английский язык уровень бесплатный город бесплатный',\n",
       " 'помощь объект первичный недвижимость объект недвижимость недвижимость строительство недвижимость большой свой гость готовый хороший уровень информационный база объект другой который недвижимость желание уровень грамотный речь свой большой информация принцип готовый предлагать недвижимость план технология платформа который база объект карта сайт кафе кухня поддержка сопровождение объект законодательство налоговый стаж интересный мероприятие который готовый недвижимость объект недвижимость недвижимость база объект поддержание новый',\n",
       " 'первичный отгрузка покупатель сверка поставщик покупатель бухгалтерия развиваться',\n",
       " 'ремонт сопроводительный ремонт уровень диагностика английский язык',\n",
       " 'погрузка размещение товарный хранение погрузка нормативный погрузка водительский погрузочный техника погрузочный разгрузочный погрузка склад мобильный уровень',\n",
       " 'сервис приглашать бухгалтер человек счет исполнительный сверка счет который хороший бухгалтерский налоговый налоговый законодательство бухгалтерский счет предлагать транспортный поддержка уровень мобильный',\n",
       " 'приглашать интересный поставщик ресторан формирование отчет задолженность счет поставщик счет поставщик согласование сверка поставщик excel word социальный дмс',\n",
       " 'транспортный приглашать сайт новый поддержание состояние база доставка другой груз техника свой деятельность уровень другой человек речь предлагать помощь новый новый бесплатный который задача развиваться логистика',\n",
       " 'приглашать уровень сопроводительный сопроводительный деятельность строительство бюджет строительство управленческий сопровождение производственный деятельность производственный процесс другой строительство человек строительный уровень квалификация мобильный',\n",
       " 'приглашать разработчик приложение дело приложение безопасность ребенок порядок мобильный приложение новый технология задача участие новый поддержка участие написание код поддержание состояние java программирование база sql написание английский язык уровень плюс предлагать интересный задача дружный проектный карьерный город бесплатный кухня',\n",
       " 'размещение гость гость информация отчет английский язык приветствоваться другой язык приветствоваться счет дружный',\n",
       " 'платформа мобильный приглашать web web новый исследование новый технология задача написание хороший понимание база sql английский язык плюс задача большой готовый дмс счет',\n",
       " 'материальный ценность склад склад цех лицо другой процедура счет бухгалтерский первичный материальный материал формирование отчет материальный главный бухгалтер другой лицо формирование бухгалтерский участие формирование предприятие должность бухгалтерский хозяйственный деятельность предприятие порядок бухгалтерский хозяйственный операция порядок отражение счет бухгалтерский операция товарный материальный ценность денежный план счет',\n",
       " 'автоматизация бизнес процесс бюджет сдача процесс производство бизнес проектный новый технология участие проектный автоматизация бизнес процесс другой эксплуатация внедрение плюс внедрение человек эксплуатация сопровождение стандарт проектирование принцип понимание бизнес процесс предлагать плюс сертификат написание sql',\n",
       " 'монтаж ремонт инженерный',\n",
       " 'удостоверение новый проживание счет',\n",
       " 'мероприятие отель стандарт сервис безопасность бюджет поддержание поддержание бизнес персонал чистота предлагать отель английский язык стандарт гость действующий законодательство большой информация гость отель уровень уровень управленческий отель дружный карьерный дмс',\n",
       " 'технология который ценность новый сервис уровень сервис готовый задача хороший тестирование новый сервис платформа создание бизнес процесс тестирование тестирование тестирование автоматизация тестирование написание тестирование тестирование тестирование уровень тестирование sql плюс язык java предлагать который развиваться интересный задача который свой создание который задача хороший клиника город принцип',\n",
       " 'лицо водитель автомобиль',\n",
       " 'бизнес хороший хороший готовый развиваться обработка первичный счет задолженность сверка контрагент поручение порядок первичный счет дружный',\n",
       " 'стаж категория исполнительный автомобиль перевозка мед удостоверение карта аккуратность',\n",
       " 'ресторан развиваться конфигурация сопровождение понимание конфигурация новый понимание отчет конфигурация создание обработка понимание администрирование sql настройка создание новый карьерный',\n",
       " 'погрузчик погрузчик погрузчик погрузчик доставка',\n",
       " 'гость персонал материальный информация',\n",
       " 'транспортный приглашать транспортный груз транспортный перевозка груз транспорт маршрут доставка груз обработка участие формирование транспортный новый поддержание действующий перевозка информационный отчетность английский язык уровень транспортный',\n",
       " 'объект город приветствоваться дружный раз',\n",
       " 'территория финансовый отчет человек аккуратность техника карьерный',\n",
       " 'водитель водитель мобильный средний excel дмс',\n",
       " 'новый поддержка мобильный приложение платформа написание приложение сервис java приложение плюс',\n",
       " 'поставщик сверка счет бухгалтерский большой первичный час',\n",
       " 'деятельность строительство транспортный торговля повар приготовление блюдо персонал технологический готовый чистота порядок квалификация производство желание интересный развиваться действующий средний бесплатный проживание',\n",
       " 'приглашать должность водитель погрузочный разгрузочный склад груз складской состояние техника должность водитель погрузчик удостоверение категория уровень техника предлагать интересный развиваться карьерный дружный',\n",
       " 'приглашать производство деятельность производственный производственный технология приготовление производственный эксплуатация состояние другой технология приготовление другой производственный охрана техника безопасность производственный нормативный хороший производство повар повар нормативный развиваться уровень раз карта',\n",
       " 'производство монтажный приглашать водитель погрузчик погрузка груз порядок размещение товарный материальный ценность хранение удостоверение категория водитель погрузчик должность который план мероприятие социальный выходной',\n",
       " 'бухгалтерский налоговый начисление налог бюджет первичный сдача отчетность отчет другой задолженность сверка финансовый кассовый налоговый налоговый excel word банк налоговый нормативный база территория',\n",
       " 'размещение размещение проектирование инженерный безопасность поставщик бюджет задача сопровождение материал оказание английский язык принцип word excel autocad приветствоваться сертификат инженерный дмс',\n",
       " 'объект строительный специальность инженер строительство материал другой материал плюс',\n",
       " 'приглашать водитель категория перевозка погрузка водитель водитель карта водитель доставка груз размещение груз сопроводительный техника водительский удостоверение категория категория новый',\n",
       " 'кассовый операция первичный отражение операция консультация первичный кассовый средний бухгалтерский хороший дмс',\n",
       " 'разработчик программный карьерный процесс создание приглашать программный поддержка участие процесс участие который приложение сервис язык база sql понимание процесс английский язык уровень приложение язык тестирование администрирование свой процесс свой готовый предлагать дмс код дружный новый кухня',\n",
       " 'первичный бухгалтерский счет операция счет счет размещение денежный банк денежный операция отчетность денежный информация первичный лицо бухгалтерия бухгалтерия большой информация excel склад английский язык приветствоваться',\n",
       " 'производство лицо строительство строительство объект строительство надзор надзор материал строительный объект план участие проектирование формирование строительный монтажный инженерный объект эксплуатация должность нормативный строительство нормативный законодательство',\n",
       " 'перевозка груз сетевой сдача сопроводительный квалификация мед первичный бухгалтерский хороший автомобиль',\n",
       " 'уровень дело человек исполнительный человек карьерный',\n",
       " 'приготовление горячий цех средний приветствоваться социальный бесплатный доставка транспорт развиваться территория',\n",
       " 'транспортный контрагент стаж первичный автомобиль ремонт ремонт база',\n",
       " 'транспортный перевозка перевозка груз транспорт отчетность перевозка транспортный перевозка перевозка хороший excel word английский язык уровень социальный дмс мобильный',\n",
       " 'доставка груз доставка который доставка доставка груз склад склад перевозка доставка груз задача водитель экспедитор бюджет логистика автоматизация бизнес процесс доставка груз маршрут груз автоматизация внедрение мобильный приложение отчетность водитель экспедитор складской территория транспорт мобильный',\n",
       " 'поставщик оказание сверка поставщик налоговый задолженность поставщик формирование счет отражение расход налоговый бухгалтерский бухгалтерия большой информация развиваться раз карта карьерный',\n",
       " 'уровень ценность поддержка процедура ценность тестирование эксплуатация информационный выполнять программный язык программирование sql sql',\n",
       " 'отель главный город гость отель отель свой другой человек человек который гость отель поддержание порядок поддержание хороший другой помощь блюдо уборка английский язык официант желание хороший который предлагать час отель карьерный дружный бесплатный бесплатный уровень социальный человек отель сертификат',\n",
       " 'здание хозяйственный эксплуатация согласование объект контрагент выполнять строительный производственный объект эксплуатация материальный помощь социальный поддержка мероприятие банк',\n",
       " 'бизнес sql разработчик задача поддержка информационный разработчик задача проектирование тестирование проектный sql sql sql складской логистика уровень windows приветствоваться sql язык java внедрение свой хороший действующий законодательство налоговый технологический начисление',\n",
       " 'категория водительский удостоверение водитель перевозка погрузка мед осмотр выходной',\n",
       " 'доставка объект доставка материал водительский право категория',\n",
       " 'сайт сайт магазин город развиваться обработка магазин база word excel создание размещение создание поддержание поручение платформа магазин социальный сайт написание желание',\n",
       " 'предлагать участие мероприятие гость дружный человек уровень бухгалтер человек бухгалтерия бухгалтерия сервер сервер город бухгалтерия контрагент информация счет порядок',\n",
       " 'сопровождение процесс база проектирование процесс информационный бизнес sql разработчик банк интересный задача квалификация бесплатный английский язык уровень квалификация дмс хороший территория',\n",
       " 'поддержка сдача обработка информация формирование отчет excel программный задача техника специальность дружный который готовый врач интересный готовый помощь поддержка',\n",
       " 'предприятие настройка эксплуатация новый поддержка администрирование сервер база администрирование ремонт техника понимание приветствоваться человек',\n",
       " 'доставка ремонт здание ремонт технологический объект ремонт ремонт стандарт социальный город',\n",
       " 'бизнес процесс раз план интересный другой территория разработчик участие внедрение бизнес процесс язык программирование английский программирование язык sql сертификат участие автоматизация предлагать карьерный интересный который дмс мобильный английский',\n",
       " 'информационный безопасность который готовый свой задача который процесс формирование поддержка база уровень английский уровень написание',\n",
       " 'настройка доработка написание проектный проектный настройка транспорт база бизнес процесс предприятие другой английский язык уровень который территория',\n",
       " 'персонал грамотный',\n",
       " 'web web sql sql',\n",
       " 'сопровождение автомобиль ребенок вождение поручение автомобиль маршрут автомобиль чистота вождение стаж автомобиль уровень выходной дмс',\n",
       " 'горячий блюдо приготовление аккуратность кафе',\n",
       " 'транспортный строительство техника состояние техника безопасность',\n",
       " 'отель приглашать отель который сервис человек готовый развиваться размещение гость уровень отель деятельность гость стандарт отель процедура отель начисление кассовый категория размещение отель уровень английский язык желание человек понимание категория дмс бесплатный',\n",
       " 'ремонт инженерный поддержание состояние надзор другой участие участие бюджет эксплуатация объект участие проектный отчет информационный ремонт эксплуатация инженерный здание инженерный эксплуатация свой охрана безопасность нормативный аккуратность word excel autocad эксплуатация недвижимость',\n",
       " 'уборка аккуратность',\n",
       " 'сервис готовый приглашать поддержка сопровождение сопровождение программный автоматизация процесс поддержка программный средний готовый программный уровень настройка windows сетевой создание автоматизация процесс уровень поддержка социальный законодательство мероприятие ребенок выходной бизнес',\n",
       " 'проектирование конструкция сметный материал конструкция согласование объект согласование монтаж карта цех монтажный конструкция процесс производство конструкция проектирование autocad большой принцип желание новый',\n",
       " 'операция хранение денежный учреждение поставщик отражение расход поставщик сверка средний бухгалтерский экономический бухгалтер поставщик бухгалтер',\n",
       " 'препарат территория врач аптека участие мероприятие отчетность фармацевтический мед желание автомобиль дмс',\n",
       " 'предлагать интересный дружный покупатель лекарственный препарат лечебный лекарственный стандарт фармацевтический порядок средний квалификация сертификат территория мед сертификат счет карьерный квалификация',\n",
       " 'объект строительство план строительный монтажный производственный отчетность производственный деятельность главный инженер производство проектный сметный производство производственный производство инженерный производственный хозяйственный деятельность объект строительство объект производственный объект эксплуатация выполнять участие сдача строительство объект отчетность охрана техника безопасность объект эксплуатация',\n",
       " 'повар кафе отель кафе план желание понимание повар свой бизнес',\n",
       " 'финансовый экономический бухгалтерский бухгалтерский налоговый бизнес управленческий отчетность бухгалтерский налоговый приветствоваться главный бухгалтер финансовый отчетность приветствоваться внедрение программный платформа процесс формирование тестирование excel уровень финансовый большой материал приветствоваться сертификат первичный бухгалтерский налоговый внедрение новый автоматизация процесс управленческий автоматизация бизнес процесс разработчик деятельность бизнес законодательство бухгалтерский налоговый участие бизнес план бюджет участие процесс управленческий отчетность материал план участие процесс',\n",
       " 'склад строительный материал кладовщик',\n",
       " 'материал сертификат хранение поддержание порядок склад материал должность раздел раздел строительный объект город',\n",
       " 'строительный объект строительный монтажный выполнять монтаж технологический строительный монтажный исполнительный выполнять объект строительство написание технологический карта выполнять сдача объект строительство исполнительный технологический карта карта стаж объект проживание размещение доставка счет желание',\n",
       " 'автоматизация разработчик уровень участие который автоматизация английский язык задача создание мобильный приложение разработчик мобильный приложение платформа язык java желание развиваться язык английский язык уровень плюс предлагать другой дружный социальный дмс город кабинет поддержка участие мероприятие английский язык',\n",
       " 'ресторан приготовление напиток стандарт хороший гость гость ресторан кухня ресторан предлагать дружный карьерный поддержание порядок чистота предлагать карьерный стандарт ресторан',\n",
       " 'помощь врач врач стандарт пациент клиника действующий сертификат сестринский дело понимание клиника пациент язык грамотный речь приветствоваться готовый большой желание',\n",
       " 'ресторан доставка приглашать кухня желание развиваться предлагать выходной счет новый технология карьерный ресторан счет новый технология производство доставка гость процесс кухня производственный',\n",
       " 'помощь средний должность транспорт',\n",
       " 'задача оказание поддержка поддержка поддержка бронирование отчет счет выполнять поддержка фармацевтический отчетность должность excel уровень английский язык уровень предлагать дмс мобильный мероприятие хороший свой дело',\n",
       " 'хранение товарный материальный ценность размещение складской материал товарный материальный ценность хранение сдача погрузочный разгрузочный склад охрана товарный материальный ценность участие мероприятие складской кладовщик склад нормативный материал складской стандарт хранение товарный материальный ценность другой товарный материальный ценность расход погрузочный разгрузочный порядок хранение товарный материальный ценность выполнять склад',\n",
       " 'отель приглашать отель отель отель город отель мероприятие отель гость гость уборка помощь хозяйственный отель предлагать час',\n",
       " 'состояние эксплуатация ремонт участие ремонт монтаж ремонт другой материал конструкция ремонт',\n",
       " 'водительский удостоверение категория карта приветствоваться перевозка груз строительство строительство объект строительство проживание счет',\n",
       " 'здание главный раздел стандарт проектный нормативный интересный',\n",
       " 'бизнес свой дело новый приглашать задача программный свой техника тестирование стандарт тестирование поддержание уровень тестирование желание автоматизация тестирование тестирование программный тестирование склад информация новый уровень задача тестирование тестирование тестирование тестирование создание sql уровень написание автоматизация тестирование желание план предлагать карьерный квалификация счет социальный дмс мобильный код развиваться новый',\n",
       " 'доставка магазин доставка поставщик автомобиль сопроводительный товарный транспортный автомобиль категория водительский право категория карта проживание ремонт автомобиль участие водитель мобильный',\n",
       " 'отель ресторан приглашать главный бухгалтер первичный бухгалтер первичный счет выполнять контрагент сверка контрагент задолженность налог социальный отель ресторан большой плюс бухгалтерия бухгалтерский бесплатный отель ресторан проживание проживание',\n",
       " 'дружный час интересный производство бесплатный карьерный',\n",
       " 'язык sql написание первичный sql sql бизнес процесс windows участие тестирование доработка доработка участие доработка участие администрирование счет формирование база создание бухгалтерский отчет интересный развиваться социальный деятельность дмс',\n",
       " 'готовый другой логистика складской транспортный логистика складской транспортный логистика производственный склад доставка складской транспортный логистика доставка материал готовый финансовый безопасность база производство логистика формирование логистика складской транспортный логистика уровень категория большой логистика транспорт финансовый который развиваться который развиваться уровень бесплатный территория производственный',\n",
       " 'программный сервер сервер база поддержка состояние программный сервер сервер назначение программный поддержка консультация программный сетевой сетевой программный сетевой безопасность информация безопасность сервер понимание администрирование администрирование сопровождение состояние сервер сетевой написание должность желание поддержка желание материал сопровождение сервер настройка администрирование сервер база windows windows sql настройка администрирование сетевой настройка администрирование хранение сопровождение уровень законодательство',\n",
       " 'бухгалтерский налоговый налог начисление другой отчетность отчетность налог сверка налоговый налог бухгалтер финансовый экономический стаж должность бухгалтер действующий законодательство бухгалтерский финансовый отчетность стандарт финансовый отчетность план счет другой материал материал бухгалтерский хозяйственный операция отчетность бухгалтерский план счет бухгалтерский порядок отражение счет бухгалтерский операция товарный материальный ценность денежный экономический хозяйственный финансовый деятельность другой материал кассовый операция кассовый хранение денежный порядок кассовый порядок кассовый кассовый отчетность эксплуатация техника законодательство охрана',\n",
       " 'диагностика план больной пациент диагностический информация диагностический исследование оказание помощь врач другой свой специальность средний персонал диагностический лечебный процедура эксплуатация материал участие квалификация персонал специальность диагностика диагностика раздел диагностика',\n",
       " 'уровень деятельность консультация процедура амбулаторный пациент врач действующий сертификат врач свой база раз час',\n",
       " 'отчетность товарный материальный ценность сверка контрагент задолженность человек исполнительный отчетность сверка контрагент поставщик задолженность строительство word',\n",
       " 'поддержание поддержка сетевой диагностика техника windows',\n",
       " 'объект монтажный раздел задача технология грамотный материал выполнять объект материал исполнительный строительный чертеж раздел стаж должность приветствоваться человек речь желание word excel autocad технология материал язык приветствоваться мобильный',\n",
       " 'бухгалтер первичный деятельность сдача недвижимость здание приветствоваться человек формирование дело расход бухгалтерия готовый бухгалтерия информация начисление первичный счет поручение главный бухгалтер',\n",
       " 'хороший php плюс sql задача новый доработка web сайт администрирование поддержка web сайт участие web приложение желание развиваться web предлагать уровень дружный город кухня поддержка',\n",
       " 'проектный чертеж строительный монтажный технологический карта формирование материал поставщик формирование отчет исполнительный сдача объект строительство инженер нормативный раздел',\n",
       " 'первичный помощь порядок действующий сертификат карьерный дружный',\n",
       " 'состояние безопасность тестирование информация чертеж участие участие мероприятие информационный информация приветствоваться сертификат квалификация информация должность законодательство нормативный стандарт информационный безопасность принцип сетевой технология приветствоваться autocad приветствоваться администрирование настройка безопасность windows склад',\n",
       " 'большой разработчик поддержка сервис уровень sql хороший доставка хороший sql развиваться участие новый помощь разработчик внедрение технология задача sql код плюс плюс сервис желание развиваться банк социальный',\n",
       " 'складской транспортный логистика процесс товарный складской технологический поддержка задача участие другой поставщик экономический логистика должность законодательство деятельность товарный складской транспортный логистика принцип товарный стандарт принцип эксплуатация складской складской техника товарный сопроводительный складской транспортный складской процесс безопасность предлагать развиваться уровень счет транспорт уровень',\n",
       " 'официант кассовый операция стандарт персонал новый сервис ресторан карьерный',\n",
       " 'проектный проектирование формирование инженерный уровень проектный согласование другой надзор строительство объект объект специальность проектирование мобильный большой',\n",
       " 'сертификат город',\n",
       " 'приглашать хороший сервис доставка большой складской доставка автоматизация складской техника хранение товарный материальный ценность размещение складской отгрузка погрузка бизнес процесс задача персонал технологический процесс склад складской логистика должность проектный внедрение складской внедрение стандарт склад складской процесс задача склад интересный технология бизнес социальный дмс карта территория интересный задача новый',\n",
       " 'гость приготовление напиток поддержание чистота бар желание новый бесплатный',\n",
       " 'проектный инженер проектирование технологический процесс проектирование участие создание участие проектный чертеж проектный уровень проектный проектный действующий нормативный материал сметный строительство надзор строительство объект участие согласование материал конструкция стандарт строительство строительный технологический хороший autocad английский язык проектирование предприятие проектирование проектный принцип строительство монтаж эксплуатация технологический объект проектирование материал проектирование стандарт чертеж надзор здание транспорт платформа',\n",
       " 'маршрут груз язык территория',\n",
       " 'должность логистика английский язык уровень средний word excel отчет транспортный доставка техника дмс',\n",
       " 'транспорт категория автомобиль',\n",
       " 'бухгалтерский производственный бухгалтерия производственный операция персонал бухгалтерия человек территория',\n",
       " 'покупатель порядок раз',\n",
       " 'должность персонал счет предприятие',\n",
       " 'задача проектирование сервис участие язык программирование java java технология java java java технология технология sql английский язык уровень предлагать уровень дружный ребенок дмс',\n",
       " 'человек город бизнес свой город хороший приглашать участие информация сверка информация город обработка информация карта autocad предлагать законодательство дружный создание город',\n",
       " 'приглашать бизнес программный внедрение бизнес торговля транспорт логистика свой бизнес программный поддержка другой участие процесс участие материал ценность участие план участие мероприятие мероприятие план программный план поддержка формирование участие участие персонал участие отчетность экономический финансовый понимание технология автоматизация внедрение платформа процесс автоматизация уровень лицо персонал задача управленческий английский язык уровень предлагать уровень дмс мобильный английский счет',\n",
       " 'уровень автоматизация производство внедрение предприятие который инженер база сервис монтажный транспорт который свой дело техника техника безопасность внедрение программный участие создание автоматизация язык java php карьерный финансовый',\n",
       " 'другой осмотр объект недвижимость законодательство проектный карьерный интересный задача',\n",
       " 'ремонт строительство',\n",
       " 'администрирование платформа уровень администрирование хранение сервер сетевой участие создание сервис принцип windows сервер уровень учреждение выходной',\n",
       " 'аккуратность социальный',\n",
       " 'эксплуатация ремонт производство предприятие цех ремонт план производство предприятие расход мероприятие создание эксплуатация предприятие нормативный уровень',\n",
       " 'формирование мероприятие технология грамотный речь лицо управленческий карьерный финансовый',\n",
       " 'обработка план отчетность деятельность база программный бизнес интересный дружный',\n",
       " 'бухгалтерский налоговый торговля бухгалтерский налоговый автоматизация бухгалтерский налоговый банк процесс согласование финансовый процедура автоматизация процесс финансовый отчетность сдача отчетность бухгалтерия главный бухгалтер главный бухгалтер территория',\n",
       " 'город склад погрузка склад помощь согласование час доставка бесплатный час счет законодательство',\n",
       " 'приглашать поддержка английский язык поддержка задача другой',\n",
       " 'кухня большой который готовый приглашать производство готовый производственный размещение хранение готовый готовый средний проживание развиваться бесплатный карьерный транспорт город город',\n",
       " 'приглашать человек час техника консультация предлагать техника кассовый поддержание чистота порядок грамотный речь дружный хороший карьерный',\n",
       " 'доработка информационный база поддержка сайт другой приложение уровень платформа бухгалтерский программный код sql технология код развиваться свой финансовый час раз',\n",
       " 'раздел проектный строительство производственный складской здание проектирование другой инженер раздел проектный строительство производственный складской здание дружный',\n",
       " 'размещение гость гость отель обработка бронирование английский язык грамотный речь бесплатный',\n",
       " 'поддержка платформа обработка поддержка администрирование база тестирование информация уровень поддержка информационный поддержка консультация написание согласование поддержание база состояние доработка поддержка другой информационный уровень поддержка склад хороший хороший уровень платформа поддержка грамотный речь приветствоваться внедрение сопровождение информационный написание бизнес процесс финансовый программирование уровень первичный интересный хороший большой информация территория',\n",
       " 'груз груз бухгалтерия отчетность транспортный контрагент средний английский язык word дружный карьерный',\n",
       " 'аптечный социальный аптека приглашать бухгалтер сдача отчетность должность большой информация законодательство выходной законодательство социальный',\n",
       " 'бухгалтер отражение согласование строительный монтажный сверка начисление выполнять счет отражение выполнять экономический бухгалтерский строительный отражение дружный город социальный кухня территория свой',\n",
       " 'java java java sql sql',\n",
       " 'первичный пациент больной специальность сертификат специальность',\n",
       " 'тур который который человек готовый свой база приветствоваться лицо желание техника техника план сайт тур мероприятие счет дружный тур бронирование тур план сопроводительный',\n",
       " 'приложение сопровождение сервер сервер сетевой карта процедура выполнять настройка ремонт проектирование информационный база сетевой настройка программный windows информация информация настройка программный расход принцип материал нормативный материал выполнять техника материал стандарт охрана принцип склад свой автомобиль',\n",
       " 'предлагать интересный предприятие уровень свой бухгалтерский управленческий налоговый законодательство дело бухгалтерский участие счет отчетность склад деятельность торговля лицо',\n",
       " 'автомобиль автомобиль автомобиль автомобиль перевозка груз карта',\n",
       " 'врач ребенок ребенок который ребенок счет социальный',\n",
       " 'приготовление меню чистота товарный средний мед специальность час дружный карьерный',\n",
       " 'человек гость ресторан меню карта бар поддержание желание развиваться дело человек транспорт счет ресторан уровень час',\n",
       " 'приглашать монтаж объект новый монтаж новый монтаж объект проживание сметный',\n",
       " 'обработка информация консультация экономический уровень грамотный речь мероприятие хороший дружный карьерный',\n",
       " 'разработчик доработка задача бизнес задача доработка web разработчик php sql понимание процесс задача платформа код формирование бизнес задача город уровень уровень',\n",
       " 'техника объект безопасность техника безопасность охрана свой средний стаж удостоверение право транспортный категория социальный ребенок лечение ребенок карьерный выполнять водительский категория транспортный',\n",
       " 'повар повар большой приготовление блюдо горячий цех предлагать карьерный социальный бесплатный бесплатный английский язык',\n",
       " 'гость стандарт сервис ресторан создание ресторан гость блюдо блюдо назначение уборка стандарт сервис грамотный речь английский язык ресторан человек который гость средний ресторан должность понимание грамотный речь желание раз социальный транспорт новый',\n",
       " 'час водитель экспедитор автомобиль поручение доставка право',\n",
       " 'обработка формирование отчет создание карьерный',\n",
       " 'нормативный нормативный материал производство исследование инженерный техника автоматизация обработка технология строительство техника',\n",
       " 'налоговый бухгалтер предприятие налоговый бюджет налоговый задача автоматизация налоговый производство предприятие бухгалтерский расход',\n",
       " 'деятельность учреждение технология клиника кабинет исследование хранение лекарственный препарат участие диагностический участие желание новый средний действующий сертификат приветствоваться желание',\n",
       " 'план лечение',\n",
       " 'раздел раздел строительный autocad autocad',\n",
       " 'надзор строительный монтажный инженерный строительный монтажный конструкция проектный сметный чертеж строительный стандарт охрана участие согласование строительство проектный материал конструкция строительный объект строительный монтажный участие строительный монтажный объект строительный объект сдача эксплуатация строительный монтажный отчетность план строительство сметный строительство объект выполнять сметный проектный смета материал выполнять выполнять отчетность выполнять поручение свой строительный должность нормативный база технология строительный процесс строительство формирование строительный объект',\n",
       " 'строительный объект выполнять исполнительный технологический производство техника безопасность производство участие сдача строительный объект объект проектный формирование исполнительный сдача выполнять участие сдача выполнять эксплуатация производство объект строительство охрана производство производственный хозяйственный деятельность производственный нормативный средний нормативный объект',\n",
       " 'дружный',\n",
       " 'автоматизация разработчик программный программный поддержка программный участие формирование технология участие программный sql помощь код программный windows программный английский язык уровень дружный участие интересный разработчик карьерный квалификация помощь ребенок код',\n",
       " 'первичный формирование сдача бухгалтерский налоговый отчетность сдача отчетность формирование формирование операция сверка поставщик контрагент первичный поручение другой задолженность участие бухгалтерский экономический предприятие бухгалтерия торговля первичный бухгалтерский бухгалтерия торговля первичный банк бухгалтерский дружный',\n",
       " 'амбулаторный пациент свой специальность оказание помощь диагностика лечение план лечение пациент врач другой специальность участие действующий сертификат специальность клиника новый город клиника',\n",
       " 'объект производство настройка доработка внедрение цех настройка настройка настройка исполнительный настройка цех производство принцип принцип технологический процесс объект объект',\n",
       " 'мероприятие участие осмотр действующий сертификат специальность врач врач социальный',\n",
       " 'инженер сопровождение готовый технология производство план план информация план должность большой информация развиваться мобильный бесплатный',\n",
       " 'отчет настройка информационный база доработка сопровождение настройка бизнес процесс помощь магазин магазин торговля программирование',\n",
       " 'начисление лицо банк excel главный бухгалтер большой информация',\n",
       " 'доставка груз уровень сервис перевозка расход техника карта раз',\n",
       " 'фармацевтический препарат приглашать участие мед техника лечебный процедура аптека аптека поддержание состояние средний фармацевтический специальность сертификат социальный стаж категория лекарственный квалификация карьерный',\n",
       " 'чистота порядок другой приветствоваться территория проживание согласование',\n",
       " 'внедрение план программный процесс автоматизация код технологический внедрение банк финансовый внедрение приветствоваться уровень дмс',\n",
       " 'задача платформа банк технология бизнес создание новый дружный раз уровень квалификация',\n",
       " 'город автомобиль',\n",
       " 'мобильный внедрение разработчик мобильный приложение формирование задача мобильный приложение помощь мобильный исследование большой excel задача мобильный excel уровень исследование предлагать интересный новый',\n",
       " 'бесплатный материал материал материал бесплатный дружный',\n",
       " 'вождение автомобиль состояние автомобиль автомобиль состояние водитель исполнительный ребенок автомобиль осмотр автомобиль поддержание автомобиль чистота',\n",
       " 'главный разработчик задача участие мероприятие написание отчет меню написание технология написание объект создание другой отчет бизнес процесс sql развиваться дмс деятельность уровень',\n",
       " 'транспортный транспортный состояние помощь специальность объект строительство проживание строительный объект строительство',\n",
       " 'ресторан кухня кухня кухня мед',\n",
       " 'лицо человек который новый технологический инженерный предлагать технология принцип транспорт который сервис выполнять транспорт доставка настройка новый технология новый бизнес задача проектный человек задача банк web большой плюс технология хороший свой который банк дмс',\n",
       " 'дело сервис бухгалтерия бухгалтерский налоговый человек который бухгалтерия новый задача бухгалтерский налоговый финансовый отчетность кассовый банк поставщик товарный материальный ценность который бухгалтер предлагать который новый готовый час',\n",
       " 'приглашать объект удостоверение проживание счет предприятие',\n",
       " 'развиваться приглашать человек гость стандарт сервис создание ресторан помощь блюдо напиток гость меню стандарт сервис грамотный речь желание развиваться уровень бесплатный дружный хороший ресторан',\n",
       " 'меню производство товарный отчет производство производство хранение расход производство приготовление безопасность готовый материал стаж',\n",
       " 'информационный внедрение сопровождение программный информационный безопасность нормативный информационный безопасность мероприятие информационный специальность информационный безопасность нормативный информационный безопасность принцип информация информация дмс',\n",
       " 'недвижимость строительство человек дело программный информационный технология отчетность понимание отчетность счет',\n",
       " 'объект безопасность аккуратность',\n",
       " 'приглашать интересный задача сопроводительный финансовый процесс формирование поручение банк раздел поручение деятельность экономический финансовый квалификация деятельность законодательство банк операция большой информация задача предлагать интересный задача социальный бесплатный дмс английский язык',\n",
       " 'обработка водитель язык',\n",
       " 'ресторан свой повар повар приготовление блюдо технологический карта цех ресторан поддержание порядок кухня средний предлагать уровень час дружный карьерный доставка ресторан ресторан',\n",
       " 'бухгалтерский должность производственный предприятие человек отчетность процесс деятельность финансовый хозяйственный деятельность предприятие банк финансовый денежный задолженность производство участие управленческий отчет город доставка транспорт территория магазин транспорт выходной уровень',\n",
       " 'автомобиль автомобиль автомобиль автомобиль безопасность автомобиль транспорт водительский удостоверение категория автомобиль принцип стаж аккуратность',\n",
       " 'мобильный приложение написание участие мобильный приложение плюс плюс дружный',\n",
       " 'приглашать написание задача написание консультация язык техника желание развиваться склад интересный задача карьерный дружный',\n",
       " 'поддержание сайт программирование настройка магазин сервис разработчик сайт сертификат разработчик php готовый понимание база желание развиваться уровень дружный сертификат разработчик',\n",
       " 'технологический платформа доставка сервис тестирование тестирование платформа тестирование сервис приложение новый тестирование тестирование тестирование отчет инженер тестирование участие тестирование тестирование понимание принцип sql уровень тестирование сервис другой тестирование дмс участие интересный карьерный новый приглашать должность база',\n",
       " 'чистота участие приготовление блюдо технологический карта',\n",
       " 'предлагать карьерный excel большой информация процесс мероприятие мероприятие мероприятие отчетность отчет финансовый бесплатный карьерный',\n",
       " 'обработка выполнять план отчетность участие деятельность база покупатель главный должность социальный',\n",
       " 'строительный приглашать инженер проектный сметный объект строительный монтажный участие строительный объект сдача эксплуатация формирование согласование исполнительный производство строительный монтажный конструкция проектный сметный чертеж строительный стандарт охрана отчетность деятельность материал строительство нормативный деятельность строительный технология строительный монтажный строительный нормативный исполнительный технология строительный производство порядок объект проектный autocad выходной',\n",
       " 'водитель автомобиль обработка перевозка должность excel желание',\n",
       " 'строительный строительный смета объект сдача исполнительный объект строительство сдача исполнительный предлагать город дружный карьерный',\n",
       " 'производство приглашать инженер производство автоматизация проектный задача производство',\n",
       " 'английский английский объект строительство',\n",
       " 'приглашать кладовщик погрузочный разгрузочный склад материал склад материал хранение участие магазин кладовщик склад большой',\n",
       " 'новый магазин склад задача кладовщик хранение товарный материальный ценность сопроводительный хранение доставка безопасность техника безопасность здание должность склад приветствоваться действующий охрана безопасность техника безопасность карьерный дружный бесплатный',\n",
       " 'экономический экономический бухгалтерский экономический бухгалтерский бухгалтерия отчетность человек формирование отчетность сопровождение карьерный право клиника осмотр лечение стаж база',\n",
       " 'бухгалтерский сопровождение лицо деятельность начисление сдача отчетность первичный бухгалтер бухгалтерия уровень карьерный дружный свой',\n",
       " 'ремонт монтаж база доставка транспорт',\n",
       " 'задача процесс производственный торговля торговля торговля процесс поставщик план поставщик поставщик помощь внедрение процесс поставщик поставщик поставщик план производственный склад материал готовый лекарственный помощь предприятие план план помощь предприятие поставщик помощь процедура персонал процедура фармацевтический технологический производство лекарственный участие процесс производственный торговля участие лекарственный английский язык уровень предлагать',\n",
       " 'кладовщик участие магазин магазин магазин человек территория хранение отгрузка размещение склад технология хранение поддержание порядок склад аккуратность уровень средний предлагать бесплатный карьерный социальный приглашать',\n",
       " 'задача тестирование sql технология бизнес задача банк дмс английский язык другой',\n",
       " 'категория удостоверение приветствоваться водитель',\n",
       " 'приготовление блюдо технологический карта чистота участие кухня приветствоваться раз карьерный',\n",
       " 'разработчик мобильный приложение мобильный приложение приложение приложение категория разработчик приложение задача приложение приложение хороший понимание технология предлагать интересный задача',\n",
       " 'производство строительный монтажный проектный строительный стандарт строительный проектный другой нормативный технологический производство техника безопасность объект выполнять исполнительный производство понимание должность технологический процесс строительство технология материал чертеж проектный охрана техника безопасность человек',\n",
       " 'выполнять инженерный задача проектный объект строительный монтажный другой раздел другой строительный монтажный согласование материал строительство объект стаж должность проживание',\n",
       " 'приглашать кафе ресторан приготовление напиток напиток новый напиток гость напиток напиток желание бесплатный раз карьерный',\n",
       " 'производство предприятие предприятие город свой водитель погрузчик погрузчик погрузка груз ремонт погрузочный разгрузочный ремонт погрузчик желание предлагать свой карьерный интересный дружный социальный материальный поддержка ребенок участие мероприятие лечение доставка ребенок бесплатный право бесплатный участие',\n",
       " 'приглашать главный задача покупатель дружный ценность человек склад развиваться новый свой дело новый свой помощь который бизнес процесс код другой конфигурация доставка транспорт счет город свой транспорт ребенок ребенок',\n",
       " 'сопровождение строительство объект проектный надзор формирование экономический объект проектный проектный технология сметный проектный выполнять проектный строительный дело инженерный должность проектный проектирование технология строительство нормативный',\n",
       " 'начисление первичный поручение главный бухгалтер первичный бухгалтерский желание экономический тестирование',\n",
       " 'поставщик лицо счет счет задолженность бухгалтерский налоговый бухгалтерский план счет желание дружный карьерный',\n",
       " 'стаж конструкция конструкция autocad здание объект приложение задача новый дружный поддержка карьерный интересный задача участие свой',\n",
       " 'водительский удостоверение категория карта строительство строительство объект строительство проживание счет',\n",
       " 'налоговый сопровождение бухгалтер желание главный бухгалтер счет должность бухгалтер первичный первичный бухгалтерский бухгалтерский excel техника бухгалтер первичный желание главный бухгалтер',\n",
       " 'бухгалтерский налоговый производство операция счет бухгалтерский начисление человек отчетность бухгалтерский план мобильный город',\n",
       " 'повар кафе приготовление блюдо приготовление кассовый выходной выходной',\n",
       " 'web web web',\n",
       " 'проектный производственный предприятие сертификат конфигурация автоматизация управленческий производство финансовый понимание процесс бухгалтерский финансовый экономический производственный деятельность предприятие социальный дмс',\n",
       " 'консультация покупатель лекарственный препарат лекарственный размещение хранение фармацевтический порядок торговля кассовый средний сертификат лекарственный препарат предлагать аптека большой сертификат счет бесплатный лекарственный аптека',\n",
       " 'свой свой дело задача создание мероприятие бронирование участие проектирование проектирование сервис бизнес написание эксплуатация тестирование проектный поддержка участие консультация участие web сервис бизнес бизнес процесс понимание принцип информация объект процесс хороший предлагать порядок задача дмс интересный дружный',\n",
       " 'новый ресторан приглашать горячий цех горячий цех технологический карта поддержание чистота порядок повар карьерный бесплатный',\n",
       " 'ребенок желание язык дружный',\n",
       " 'приглашать должность поддержка размещение производство информация новый интересный задача сопровождение согласование проектный поддержка чертеж autocad монтажный инженерный должность приветствоваться уровень предлагать бизнес дружный финансовый карьерный территория',\n",
       " 'кладовщик склад погрузка человек человек предлагать новый производство предприятие свой сопроводительный сопроводительный',\n",
       " 'бухгалтерский налоговый лицо денежный сдача бухгалтерский налоговый отчетность сдача отчетность управленческий экономический бухгалтерский налоговый законодательство главный бухгалтер территория город',\n",
       " 'автоматизация производственный хозяйственный финансовый деятельность предприятие доработка сопровождение sql технология sql понимание проектирование разработчик администрирование sql участие проектирование предприятие настройка поддержка программный экономический назначение дмс карьерный',\n",
       " 'автомобиль водитель экспедитор стаж вождение категория',\n",
       " 'сервис задача автоматизация отчетность процесс сервис автоматизация отчетность сервис база написание приложение написание сервис должность язык php большой sql раз дмс который новый стандарт карьерный кухня свой',\n",
       " 'карта приветствоваться',\n",
       " 'участие сопровождение согласование word excel грамотный речь кухня здание дружный предлагать',\n",
       " 'поддержка информационный участие проектирование информационный доработка новый сопровождение участие проектирование новый приложение поддержка код php проектирование хороший написание понимание принцип уровень свой свой',\n",
       " 'кассовый консультация покупатель поддержание порядок торговля приветствоваться аккуратность желание покупатель предлагать раз бесплатный развиваться карьерный',\n",
       " 'программирование доработка новый настройка база написание отчет написание программирование создание отчет написание интересный задача участие транспорт',\n",
       " 'приглашать разработчик разработчик отчетность участие новый задача поддержка создание новый технологический sql информационный поддержка задача участие внедрение новый технология код готовый предлагать дмс мобильный уровень свой участие мероприятие свой уровень размещение',\n",
       " 'autocad',\n",
       " 'помощь свой специальность грамотный действующий сертификат специальность лечебный дело',\n",
       " 'приготовление блюдо технологический карта',\n",
       " 'обработка консультация информационный поддержка поддержание отчет покупатель отгрузка база формирование сдача поддержание порядок техника дело час карьерный',\n",
       " 'склад хранение товарный материальный ценность размещение складской материал товарный материальный ценность хранение сдача состояние склад ремонт погрузочный разгрузочный склад охрана хранение поставщик погрузочный товарный материальный ценность складской операция отчетность участие мероприятие складской расход хранение товарный материальный ценность внедрение складской техника нормативный материал складской стандарт хранение товарный материальный ценность другой товарный материальный ценность расход погрузочный разгрузочный порядок хранение товарный материальный ценность перевозка хранение груз складской порядок выполнять эксплуатация техника производство законодательство охрана',\n",
       " 'консультация покупатель проектирование кухня покупатель покупатель поставщик покупатель план кухня человек предлагать социальный территория',\n",
       " 'первичный отражение товарный материальный ценность отражение счет бухгалтерский операция первичный бизнес средний уровень производственный бухгалтер большой информация транспорт',\n",
       " 'строительство проектный согласование производственный технологический исполнительный проектный сметный согласование строительный выполнять объект отчет выполнять сдача исполнительный сдача согласование информация выполнять выполнять проектный сметный выполнять надзор чертеж производство участие сдача объект эксплуатация материал технология строительство проектный бюджет объект объект человек территория',\n",
       " 'бухгалтерский отчетность налоговый отчетность специальность бухгалтерский деятельность главный бухгалтер главный бухгалтер приветствоваться excel настройка бухгалтерия настройка большой информация склад оказание помощь предприятие бухгалтерский налоговый уровень',\n",
       " 'технология производство технология производство',\n",
       " 'формирование бюджет расход бюджет денежный экономический отчетность формирование отчетность формирование согласование денежный экономический согласование оказание другой предприятие финансовый экономический финансовый экономический автоматизация экономический бухгалтерия база экономический инженерный экономический бухгалтерский порядок товарный материальный экономический производственный хозяйственный деятельность предприятие бухгалтерский бизнес процесс задача excel',\n",
       " 'блюдо гость категория уровень сервис кухня мероприятие мед свой мероприятие согласование проживание транспорт',\n",
       " 'перевозка перевозка',\n",
       " 'отгрузка формирование отчет кладовщик понимание складской логистика excel',\n",
       " 'java web',\n",
       " 'бухгалтерский поставщик первичный поставщик формирование который поставщик поставщик счет согласование поставщик поставщик лицо участие план счет участие поставщик формирование счет денежный счет счет покупатель сверка контрагент стандарт бухгалтерский час дружный',\n",
       " 'предприятие социальный человек деятельность право производственный объект налоговый должность налоговый бухгалтерский налоговый законодательство налог налоговый сопровождение налоговый сопровождение налоговый налоговый налоговый участие дело налоговый налоговый законодательство налог налоговый хозяйственный финансовый хозяйственный операция налоговый информация налог налоговый экономический производственный процесс технология бесплатный уровень информация',\n",
       " 'база перевозка средний водитель транспорт приветствоваться право категория ремонт выполнять территория бесплатный',\n",
       " 'кассовый операция другой ценность денежный лицо счет лицо денежный счет лицо карта операция денежный поручение лицо счет денежный нормативный нормативный уровень карьерный финансовый',\n",
       " 'технология приготовление персонал эксплуатация другой охрана техника безопасность средний выходной дружный',\n",
       " 'поставщик информационный технология внедрение поддержка информационный управленческий бизнес поддержка информационный windows приветствоваться новый грамотный речь задача склад большой информация информация уровень сервис информационный отчетность информационный деятельность нормативный порядок оказание дмс мобильный английский язык карьерный',\n",
       " 'ремонт приветствоваться приветствоваться дело',\n",
       " 'порядок груз порядок перевозка хранение груз порядок груз порядок хранение груз принцип логистика логистика проектирование формирование язык хороший аккуратность желание новый логистика бесплатный предприятие',\n",
       " 'приглашать повар приготовление блюдо стандарт технология приготовление производственный участие свой дружный карьерный',\n",
       " 'повар приготовление горячий блюдо технология приготовление блюдо технологический карта блюдо хранение охрана техника безопасность должность повар повар повар горячий цех бесплатный интересный карьерный',\n",
       " 'сопровождение готовый готовый внедрение план новый лицо участие бизнес план приветствоваться грамотный речь участие дружный',\n",
       " 'город материальный водительский город',\n",
       " 'приготовление стандарт поддержание чистота порядок новый специальность приветствоваться дружный',\n",
       " 'развиваться магазин который помощь готовый предлагать дружный карьерный материальный php задача внедрение новый магазин сайт новый информация php развиваться',\n",
       " 'желание аккуратность груз склад погрузка автомобиль доставка водитель груз сопроводительный раз выходной доставка',\n",
       " 'доработка сопровождение сайт кабинет другой администрирование хороший php понимание принцип web приложение понимание плюс уровень дмс интересный задача бизнес',\n",
       " 'обработка первичный первичный счет выполнять счет контрагент сверка задолженность контрагент склад отчет',\n",
       " 'задача участие платформа написание участие предлагать час дмс дмс мобильный уровень приложение приложение код плюс проектирование тестирование проектирование понимание web код английский',\n",
       " 'обработка отчет водитель новый осмотр карта карта расход транспортный excel word',\n",
       " 'проектный производственный строительный строительный строительный строительство деятельность ремонт квалификация технология выполнять аккуратность доставка объект',\n",
       " 'ремонт объект назначение объект инженерный выполнять проектирование строительство объект уровень объект исполнительный материал выполнять инженерный ремонт надзор специальность строительство строительство строительство транспортный строительство строительство ремонт уровень уровень налог эксплуатация транспорт мобильный',\n",
       " 'бар кафе кафе стандарт приготовление блюдо технологический карта аккуратность чистота кафе желание кафе бесплатный раз',\n",
       " 'стаж',\n",
       " 'свой дело развиваться ресторан свой гость блюдо участие ресторан формирование дружный создание ресторан бюджет план стандарт сервис персонал должность должность ресторан задача хороший предлагать развиваться развиваться свой дело мероприятие',\n",
       " 'php разработчик территория предлагать задача предприятие эксплуатация развиваться задача написание свой код принцип предлагать проживание проживание интересный свой готовый',\n",
       " 'врач лечение задача первичный пациент врач бесплатный проживание',\n",
       " 'должность перевозка сертификат час язык',\n",
       " 'бухгалтер банк',\n",
       " 'мед производство средний аккуратность производство',\n",
       " 'сопровождение бухгалтерский тестирование конфигурация предприятие настройка конфигурация отчет написание учреждение бухгалтерский учреждение конфигурация конфигурация конфигурация отчет код',\n",
       " 'инженер уровень сертификат приветствоваться уровень бесплатный мед карьерный интересный',\n",
       " 'транспортный уровень человек который процесс разработчик создание задача проектирование код отчетность задача участие интересный бизнес задача бюджет желание приветствоваться бизнес плюс sql java web сертификат другой',\n",
       " 'денежный кассовый кассовый человек дружный карьерный',\n",
       " 'excel word',\n",
       " 'ресторан предлагать материал производство технологический карта готовый чистота отчетность стандарт',\n",
       " 'начисление начисление материальный поручение расход бухгалтерский операция операция формирование отчетность налоговый управленческий отчетность экономический бухгалтерский план счет стандарт excel word дмс',\n",
       " 'внедрение отчет конфигурация программирование платформа',\n",
       " 'бухгалтер предлагать город город свой законодательство выходной предлагать специальность бухгалтерский налоговый законодательство excel лицо налоговый отчетность бухгалтерский отчетность налоговый банк приглашать сайт',\n",
       " 'доставка водитель доставка доставка сопроводительный мобильный кассовый отчетность состояние автомобиль поддержание автомобиль чистота состояние водительский стаж водительский право категория перевозка маршрут раз маршрут автомобиль водитель',\n",
       " 'размещение поддержание порядок готовый предлагать раз склад транспортный бесплатный',\n",
       " 'кафе кухня повар приготовление блюдо кухня поддержание чистота повар бесплатный',\n",
       " 'php',\n",
       " 'посуда склад территория производственный хранение ценность склад размещение складской погрузочный разгрузочный склад участие формирование склад поручение кладовщик складской хранение первичный склад аккуратность поддержание порядок тестирование склад производственный',\n",
       " 'недвижимость город город бизнес горячий технология обработка покупатель стаж процесс недвижимость финансовый план помощь свой отчетность новый сопровождение контрагент сопровождение недвижимость речь недвижимость операция недвижимость недвижимость бизнес управленческий стандарт интересный желание человек человек предлагать карьерный дружный мероприятие сайт',\n",
       " 'строительный процесс инженерный строительный монтаж инженерный материал монтаж материал инженерный объект строительство проектный процесс объект процесс технологический инженерный нормативный база инженерный согласование производство отчетность объект технология производство инженерный монтаж выполнять сдача инженерный эксплуатация сдача объект задача уровень объект техника инженерный инженерный принцип проектирование монтаж эксплуатация монтаж другой нормативный монтаж инженерный объект недвижимость autocad выполнять объект должность надзор',\n",
       " 'свой ресторан свой который стандарт сервис свой аккуратность приготовление блюдо поддержание порядок чистота предлагать раз бесплатный интересный карьерный дружный',\n",
       " 'производственный бухгалтер банк счет поставщик контрагент банк покупатель покупатель расход информация отчет банк банк налог другой банк доставка банк банк участие складской отчет финансовый денежный формирование бухгалтер бухгалтерский налоговый отчетность операция английский язык уровень плюс дмс хороший социальный',\n",
       " 'врач обработка материал стаж действующий сертификат новый клиника дружный',\n",
       " 'сервис создание другой свой дело который человек сопровождение счет внедрение мобильный готовый предлагать карьерный',\n",
       " 'повар база территория горячий цех мед бесплатный проживание',\n",
       " 'поручение отчет помощь задача word excel autocad желание развиваться',\n",
       " 'задача внедрение бизнес приложение создание внедрение информационный задача участие внедрение информационный настройка программный доработка проектный участие проектирование тестирование участие разработчик другой процесс участие внедрение настройка сопровождение база понимание база принцип проектирование приложение понимание принцип web понимание принцип проектирование приложение английский уровень уровень предлагать дмс карьерный задача',\n",
       " 'строительный раз',\n",
       " 'нормативный охрана техника безопасность производственный который сдача уборка состояние блюдо блюдо технология приготовление блюдо информация блюдо выполнять нормативный хранение эксплуатация безопасность',\n",
       " 'сметный сметный материал конструкция сметный строительство инженерный технологический другой строительство объект действующий сметный нормативный база выполнять строительный монтажный проектный сметный строительство объект база проектный сметный экономический строительство объект строительный монтажный сметный должность программный смета excel word',\n",
       " 'приглашать производственный предприятие операция погрузка готовый производственный предприятие',\n",
       " 'сервис гость блюдо поддержание карта состояние поставщик бар чистота порядок хранение напиток word excel гость ресторан гость блюдо хороший сервис грамотный речь ресторан',\n",
       " 'ресторан повар цех приглашать большой приготовление блюдо технологический карта производственный предлагать хороший свой карьерный бесплатный дружный',\n",
       " 'мобильный который хороший свой интересный бизнес разработчик технологический бизнес сервис готовый мобильный материал разработчик свой развиваться хороший платформа мобильный платформа хороший плюс грамотный речь английский язык уровень проектный карьерный план написание час час город кухня',\n",
       " 'java программирование java java технология web sql приветствоваться сервер приложение web java приложение код код код доработка карьерный дружный дмс счет',\n",
       " 'автоматизация человек который автоматизация производство готовый карьерный интересный задача автоматизация производство участие предприятие хороший желание склад желание задача готовый предлагать социальный который',\n",
       " 'контрагент отражение первичный согласование задолженность бюджет отчет большой информация excel',\n",
       " 'строительный монтажный строительный ремонт строительный техника другой материал диагностика согласование',\n",
       " 'ресторан ресторан ресторан стандарт ресторан ресторан час персонал гость ресторан бизнес ресторан персонал ресторан карьерный развиваться карьерный материальный территория',\n",
       " 'задача лекарственный препарат врач территория создание врач назначение пациент создание поддержание база аптека аптека бизнес фармацевтический фармацевтический желание развиваться фармацевтический бизнес желание уровень интересный развиваться план',\n",
       " 'деятельность перевозка груз категория техника ремонт',\n",
       " 'производственный препарат который задача автоматизация процесс производство торговля торговля бухгалтерский отчетность финансовый управленческий отчетность операция процесс отчетность база большой сервис который автоматизация база программный план мероприятие проектирование деятельность создание эксплуатация деятельность расход создание поддержка персонал участие программный задача внедрение другой конфигурация бизнес процесс код язык программирование платформа предприятие язык предприятие база платформа предприятие готовый',\n",
       " 'доставка груз поручение поручение стаж вождение автомобиль аккуратность желание',\n",
       " 'администрирование первичный настройка диагностика администрирование сетевой желание законодательство развиваться',\n",
       " 'хороший бухгалтерский налоговый бухгалтерия банк средний стаж должность приветствоваться тестирование',\n",
       " 'техника вождение база',\n",
       " 'поддержка сайт развиваться интересный приглашать web разработчик поддержка магазин магазин мобильный приложение php php технологический база задача web разработчик база готовый код готовый дружный готовый задача английский язык участие человек город кухня человек',\n",
       " 'процедура назначение врач приветствоваться человек раз процедура',\n",
       " 'больной исследование процедура чистота порядок помощь состояние больной исследование состояние ремонт сдача помощь состояние действующий сертификат счет',\n",
       " 'уборка посуда час',\n",
       " 'ресторан который ребенок человек который готовый развиваться хороший понимание аккуратность желание развиваться действующий другой человек чистота порядок приготовление предлагать бесплатный свой дружный',\n",
       " 'мед бесплатный',\n",
       " 'операция счет формирование банк операция законодательство денежный отчет бухгалтерия законодательство',\n",
       " 'удостоверение право транспортный категория право осмотр участие транспортный безопасность перевозка груз который технологический операция технология технологический карта технологический операция груз транспортный перевозка выполнять технологический операция операция технология технологический карта автомобиль состояние транспортный осмотр первичный охрана безопасность эксплуатация ремонт первичный сдача средний водительский удостоверение категория карта водитель перевозка стаж водитель транспортный категория право транспортный социальный порядок действующий законодательство дмс социальный',\n",
       " 'производственный производство строительный монтажный выполнять объект строительство право производство участие сдача объект выполнять объект технология строительство строительный техника техника безопасность уровень производство желание стаж инженерный должность проектный объект приветствоваться мобильный',\n",
       " 'ресторан официант готовый человек предлагать уровень хороший готовый помощь ресторан',\n",
       " 'человек технология который человек готовый процесс задача сертификат платформа процесс помощь задача задача понимание аккуратность грамотный речь поддержка плюс написание дружный участие',\n",
       " 'сервис технология код интересный задача дружный sql понимание принцип проектирование задача выполнять уровень час свой уровень желание',\n",
       " 'человек развиваться разработчик java java проектирование хороший создание свой дело java программирование язык час выходной развиваться участие',\n",
       " 'груз погрузка водитель погрузчик должность приветствоваться доставка транспорт',\n",
       " 'php понимание понимание принцип понимание английский сайт сайт сайт сайт сайт доработка сайт сайт сайт формирование который создание понимание сайт понимание web внедрение выполнять бизнес процесс сайт отчетность план желание развиваться задача который готовый развиваться',\n",
       " 'хороший хороший карьерный',\n",
       " 'безопасность груз назначение водительский удостоверение транспортный осмотр склад состояние автомобиль чистота автомобиль материал выполнять свой специальность квалификация должность водитель экспедитор лицо средний средний водительский удостоверение категория стаж учреждение выходной социальный',\n",
       " 'мобильный приложение безопасность производственный процесс приложение мобильный приложение приложение разработчик участие приложение английский приветствоваться желание приветствоваться мобильный приложение технология дмс английский язык',\n",
       " 'перевозка строительный материал водительский категория предлагать',\n",
       " 'sql',\n",
       " 'перевозка безопасность стандарт стаж вождение право вождение город город состояние средний хороший который автомобиль карта счет грамотный хороший водитель выходной',\n",
       " 'приглашать специальность развиваться карьерный задолженность сверка покупатель первичный операция сдача денежный средний специальность приветствоваться готовый хороший бухгалтерский торговля бухгалтерия производственный желание развиваться предлагать территория хороший мероприятие участие хороший который выходной сайт персонал',\n",
       " 'производственный отчетность человек',\n",
       " 'клиника врач',\n",
       " 'приглашать приготовление блюдо кухня технологический готовый повар карьерный бесплатный свой дело бесплатный бесплатный',\n",
       " 'сервис объект удостоверение',\n",
       " 'ресторан ресторан главный ценность сервис персонал гость ресторан бухгалтерия новый развиваться участие интересный мероприятие задача должность контрагент производство который база',\n",
       " 'товарный бухгалтер excel информация расход первичный сопроводительный поставщик поставщик склад карьерный свой социальный большой информационный предлагать',\n",
       " 'выполнять объект час желание ремонт выполнять',\n",
       " 'выполнять бухгалтерский хозяйственный операция поставщик покупатель первичный бухгалтерский обработка бухгалтерский отчетность бухгалтерский сверка контрагент контрагент сверка налоговый налоговый денежный товарный материальный ценность бухгалтерский отчетность бухгалтерский поставщик выполнять отражение операция отчет выполнять поручение главный бухгалтер большой информация английский язык приветствоваться предприятие word excel бизнес раз ребенок',\n",
       " 'строительный другой транспортный процесс человек чертеж понимание технология приветствоваться другой транспортный производство исполнительный сдача',\n",
       " 'проектный объект строительство действующий нормативный проектный другой раздел выполнять объект надзор согласование специальность нормативный выполнять autocad желание раздел счет бизнес территория',\n",
       " 'поддержание состояние программный сопровождение программный поставщик поддержка английский язык средний уровень понимание принцип настройка ремонт английский язык социальный карьерный территория',\n",
       " 'транспортный база водитель отчетность',\n",
       " 'инженер создание поддержка управленческий экономический состояние территория задача формирование производство производственный состояние экономический город предприятие план экономический предприятие уровень финансовый экономический инженерный программирование хороший речь материал хороший процедура человек выполнять',\n",
       " 'строительный ремонт город монтаж выполнять материал исполнительный надзор сдача объект средний объект монтаж нормативный проектный сметный исполнительный word excel',\n",
       " 'внедрение готовый новый автоматизация участие согласование формирование участие согласование формирование согласование разработчик сдача бюджет участие внедрение платформа уровень сертификат предлагать сертификат счет интересный задача автоматизация бизнес дружный поддержка другой город дмс клиника английский язык',\n",
       " 'бухгалтерский налоговый лицо бухгалтерский налоговый законодательство формирование бухгалтерский хозяйственный финансовый деятельность сдача отчетность бухгалтерский финансовый экономический банк главный бухгалтер бухгалтер предприятие строительный сдача отчетность',\n",
       " 'кабинет действующий дружный',\n",
       " 'ремонт кухня объект автомобиль уровень доставка объект доставка материал материал бесплатный объект квалификация процесс человек',\n",
       " 'участие согласование поддержка участие технология java плюс дмс помощь материальный помощь ребенок',\n",
       " 'задача информационный согласование мероприятие согласование процедура понимание информационный безопасность право информационный поддержка информационный безопасность желание процесс сопровождение поддержка администрирование нормативный человек задача дело готовый предлагать социальный дмс интересный',\n",
       " 'строительство состояние эксплуатация ремонт',\n",
       " 'новый платформа проектирование технологический задача другой язык человек инженерный проектирование который человек ценность человек инженер человек человек инженерный дело sql создание предлагать большой отчет обработка новый английский язык готовый excel понимание проектирование мобильный понимание',\n",
       " 'приглашать внедрение внедрение программный автоматизация дело программный настройка программный приветствоваться внедрение программный приветствоваться социальный карьерный счет ребенок дружный новый бесплатный автомобиль',\n",
       " 'производственный предприятие строительство проектный доставка материал монтаж сдача охрана техника безопасность сопровождение уровень задача хороший объект строительный сдача цех производственный предприятие который интересный задача строительный проектный сопроводительный строительный',\n",
       " 'предприятие приглашать карьерный осмотр приветствоваться аккуратность приготовление',\n",
       " 'логистика территория предприятие логистика главный бухгалтерский контрагент формирование информация нормативный приветствоваться большой информация социальный дмс другой нормативный',\n",
       " 'обработка первичный банк первичный бухгалтерский товарный счет выполнять первичный обработка поставщик задолженность сверка поставщик поручение главный бухгалтер формирование поставщик формирование счет отчет бухгалтерия бухгалтерия предприятие английский язык приложение уровень word excel желание информация большой информация карьерный задача',\n",
       " 'первичный большой приветствоваться аккуратность дружный',\n",
       " 'здание исполнительный строительство здание исполнительный строительный объект',\n",
       " 'склад склад хранение товарный материальный ценность размещение складской материал',\n",
       " 'развиваться приглашать бронирование база гость назначение гость мероприятие гость предлагать мероприятие отчетность сверка контрагент должность уровень ребенок предлагать интересный развиваться уровень мероприятие раз',\n",
       " 'обработка первичный поручение финансовый word бесплатный',\n",
       " 'состояние склад техника удостоверение ремонт техника большой техника раз доставка проживание счет счет развиваться внедрение который который выполнять',\n",
       " 'поддержка состояние состояние предприятие настройка ремонт настройка приложение производственный производство раз',\n",
       " 'деятельность бизнес уровень бухгалтерия английский язык грамотный речь свой бухгалтер приветствоваться город час',\n",
       " 'свой ресторан свой который стандарт сервис свой приглашать должность повар должность бизнес желание развиваться действующий производство стандарт формирование приготовление блюдо расход раз карьерный',\n",
       " 'мероприятие',\n",
       " 'понимание проектирование понимание приветствоваться интересный социальный английский',\n",
       " 'другой строительный монтажный строительный погрузка груз погрузочный другой осмотр ремонт другой участие ремонт другой сдача ремонт другой материал выполнять поручение стаж',\n",
       " 'лицо сдача отчетность налог бюджет банк сверка первичный отчет налоговый бухгалтерский законодательство законодательство бухгалтерия торговля бухгалтер развиваться карьерный дружный',\n",
       " 'проектный внедрение автоматизация производство проектный задача участие бюджет внедрение поддержка состояние план отчет задача бюджет выполнять задача участие нормативный проектный задача процесс уровень задача эксплуатация эксплуатация понимание категория внедрение уровень бизнес процесс внедрение предприятие внедрение предприятие развиваться уровень',\n",
       " 'автоматизация бизнес процесс человек разработчик платформа автоматизация процесс платформа программный который выполнять другой человек технология свой бизнес код большой большой большой программный код код программирование стандарт английский уровень понимание web плюс интересный карьерный плюс дмс кухня мероприятие',\n",
       " 'официант готовый предлагать желание развиваться бизнес бесплатный желание карьерный аккуратность гость задача гость сдача меню меню блюдо напиток помощь гость блюдо чистота порядок поддержание гость',\n",
       " 'предлагать дружный уровень раз карьерный свой складской погрузочный разгрузочный порядок территория склад территория склад выходной раз',\n",
       " 'участие техника безопасность',\n",
       " 'перевозка груз отчетность маршрут расход хороший водительский стаж автомобиль водительский удостоверение категория автомобиль уровень предлагать интересный развиваться дружный',\n",
       " 'информационный технология инженер тестирование создание внедрение автоматизация бизнес процесс большой участие эксплуатация программный тестирование план поддержка первичный диагностика поддержка sql тестирование желание развиваться тестирование плюс тестирование принцип предлагать мобильный дмс час',\n",
       " 'обработка первичный excel приветствоваться карьерный бесплатный доставка социальный',\n",
       " 'строительство проживание счет',\n",
       " 'технология приглашать главный монтаж материал технологический участие эксплуатация охрана эксплуатация ремонт отчетность стаж специальность материал монтаж ремонт эксплуатация',\n",
       " 'производственный бухгалтер материал поставщик сверка налоговый законодательство',\n",
       " 'бизнес бизнес задача бизнес разработчик склад бизнес процесс информационный отчет информация бизнес бизнес задача проектный согласование',\n",
       " 'монтаж исполнительный процесс монтажный сдача выполнять объект исполнительный план autocad',\n",
       " 'монтаж безопасность стаж',\n",
       " 'новый врач база действующий администрирование отчетность участие мероприятие желание мобильный карьерный другой',\n",
       " 'чертеж предприятие производство город город проживание карта',\n",
       " 'ресторан официант сервис уровень стандарт меню блюдо напиток предлагать гость гость уровень блюдо напиток блюдо напиток грамотный речь действующий мед стандарт сервис английский ресторан',\n",
       " 'погрузочный разгрузочный перевозка материал техника стаж специальность водительский удостоверение',\n",
       " 'специальность сестринский дело лечебный дело действующий сертификат сертификат осмотр база',\n",
       " 'приглашать погрузка принцип помощь помощь покупатель размещение склад приветствоваться склад склад приветствоваться погрузчик предлагать час склад социальный карьерный',\n",
       " 'лечебный лечебный лечебный другой лечебный новый лечебный пациент формирование помощь свой специальность диагностика лечение лицо специальность учреждение',\n",
       " 'английский язык уровень написание понимание принцип windows новый уровень новый уровень понимание сертификат поддержка программный сетевой другой другой консультация поставщик состояние сетевой уровень информационный безопасность инженер социальный карьерный',\n",
       " 'водитель доставка автомобиль доставка город план маршрут доставка водительский удостоверение категория территория маршрут грамотный речь выходной свой счет свой свой стаж свой',\n",
       " 'налоговый деятельность предприятие мероприятие налоговый налог финансовый отчетность сопровождение деятельность предприятие налоговый предприятие участие налоговый сопровождение процедура участие налоговый принцип налоговый английский уровень интересный задача',\n",
       " 'технология приготовление должность',\n",
       " 'строительный объект производственный хозяйственный деятельность объект производственный производственный отчетность производственный деятельность другой производственный объект эксплуатация строительный монтажный производство производство строительный монтажный проектный строительный другой нормативный технологический производство строительный монтажный состояние техника безопасность производственный охрана производственный техника безопасность строительный мероприятие безопасность строительный проектный сметный word excel информация нормативный проектный сертификат уровень',\n",
       " 'выполнять задача строительство выполнять конструкция исполнительный autocad',\n",
       " 'первичный техника',\n",
       " 'предлагать хороший сервис интересный новый хороший web выполнять управленческий мероприятие формирование план территория управленческий грамотный речь уровень предлагать который участие интересный дружный предлагать свой который задача развиваться принцип',\n",
       " 'цех повар приготовление участие новый город',\n",
       " 'аптека препарат поддержание аптека размещение материал стандарт отчет фармацевтический аптека стаж вождение автомобиль',\n",
       " 'автомобиль предлагать автомобиль мобильный программный склад отчетность поддержание чистота денежный автомобиль приветствоваться отгрузка свой',\n",
       " 'приготовление человек меню водитель уборка посуда желание',\n",
       " 'бухгалтерский налоговый управленческий налоговый финансовый хозяйственный состояние предприятие хозяйственный главный бухгалтер производственный бухгалтерский экономический бухгалтерский час дружный',\n",
       " 'водительский стаж город автомобиль счет поддержка водитель право',\n",
       " 'мобильный поддержание база сопровождение карта план участие территория средний желание развиваться предлагать база дружный',\n",
       " 'интересный погрузка склад посуда посуда посуда склад приветствоваться час час час бесплатный развиваться интересный',\n",
       " 'внедрение поддержка поддержка бизнес задача главный который участие уровень приглашать средний уровень другой плюс хороший хороший английский язык обработка стандарт который большой предлагать английский язык участие мероприятие внедрение платформа технология бизнес задача поддержка предприятие',\n",
       " 'финансовый деятельность кассовый план кассовый план денежный кассовый участие формирование бюджет денежный бюджет денежный управленческий отчетность бюджет денежный отчет бюджет денежный согласование хозяйственный финансовый хозяйственный деятельность экономический финансовый экономический деятельность бухгалтерский управленческий законодательство word excel плюс большой информация выходной социальный дмс',\n",
       " 'официант гость гость сервис создание должность ресторан хороший создание сервис желание развиваться грамотный речь дружный город',\n",
       " 'монтаж монтаж настройка сетевой карта сетевой карта большой бесплатный карьерный',\n",
       " 'эксплуатация нормативный персонал состояние инженерный инженерный отчетность эксплуатация эксплуатация здание приветствоваться выходной социальный',\n",
       " 'ремонт который предлагать интересный карьерный желание объект человек ремонт который объект строительный технология процесс объект',\n",
       " 'бухгалтер дружный банк банк контрагент задача банк',\n",
       " 'исследование информация развиваться который разработчик java который задача сайт сервис сайт информация сайт отчет сайт большой сайт который информация java сайт проектирование java java код желание развиваться',\n",
       " 'размещение отгрузка средний погрузчик',\n",
       " 'город приглашать водитель маршрут водительский удостоверение категория стаж вождение город город социальный',\n",
       " 'сайт задача сайт другой сайт информация создание сайт сервер сервер сайт сайт оказание консультация помощь город час час счет интересный интересный технология другой php мобильный уровень сервер администрирование',\n",
       " 'состояние транспортный техника автомобиль ремонт эксплуатация водитель человек транспортный водитель удостоверение право вождение перевозка груз груз водитель участие новый транспортный лицо состояние осмотр транспортный оказание помощь состояние информация деятельность выполнять поручение производственный деятельность средний техника должность хороший управленческий автомобиль ремонт мобильный',\n",
       " 'материал материал помощь word excel строительство',\n",
       " 'задача действующий магазин администрирование сайт сайт сайт товарный раздел сайт магазин отчетность отчет создание назначение магазин сайт доработка сайт понимание сопроводительный предлагать',\n",
       " 'приглашать бухгалтер счет бухгалтерский операция товарный материальный ценность выполнять бухгалтерский хозяйственный операция товарный материальный ценность поставщик первичный бухгалтерский обработка бухгалтерский отчетность бухгалтерский денежный товарный материальный ценность выполнять другой поручение главный бухгалтер должность финансовый экономический бухгалтерский excel бухгалтерия бухгалтерский бесплатный территория бесплатный доставка',\n",
       " 'финансовый денежный формирование задолженность финансовый хозяйственный деятельность бюджет управленческий отчетность банк отчет экономический бухгалтер финансовый excel большой информация английский язык склад мобильный интересный развиваться',\n",
       " 'согласование проектный проектный производство сопровождение производство объект инженерный autocad задача большой информация социальный',\n",
       " 'город лицо территория оказание помощь поддержание состояние грамотный речь строительный монтажный уровень карьерный мобильный дмс участие интересный дружный',\n",
       " 'строительный погрузчик транспортный должность техника',\n",
       " 'водитель доставка маршрут доставка объект формирование база цех водитель бухгалтер доставка погрузка задача доставка производство мед',\n",
       " 'погрузка материал средний поддержание порядок склад желание склад склад город',\n",
       " 'бухгалтер начисление налоговый управленческий сдача налоговый отчетность экономический хозяйственный деятельность задолженность бухгалтерия квалификация',\n",
       " 'новый автомобиль приглашать водитель автомобиль автомобиль приложение автомобиль автомобиль водитель перевозка ремонт счет автомобиль автомобиль водительский удостоверение стаж вождение право сервис человек свой поддержка',\n",
       " 'новый принцип аккуратность',\n",
       " 'проектирование строительство объект строительство объект территория нормативный согласование технологический карта согласование строительный технология строительный монтажный autocad карьерный',\n",
       " 'оказание помощь учреждение учреждение помощь проживание мероприятие деятельность',\n",
       " 'помощь свой специальность диагностика лечение социальный час',\n",
       " 'кассовый гость размещение чистота программный операция гость процедура английский язык бесплатный карьерный',\n",
       " 'задача бронирование тур база новый предлагать карьерный свой дмс',\n",
       " 'состояние водитель автомобиль сопроводительный участие разгрузочный сдача лицо предприятие сдача маршрут маршрут расход автомобиль водительский удостоверение категория стаж вождение вождение автомобиль город доставка',\n",
       " 'транспортный удостоверение специальность',\n",
       " 'бухгалтерский налоговый финансовый хозяйственный деятельность предприятие формирование сдача отчетность бухгалтерия',\n",
       " 'перевозка доставка груз назначение груз груз перевозка транспортный счет участие перевозка большой информация новый бизнес транспорт',\n",
       " 'создание технологический бизнес приглашать поддержка задача поддержка консультация написание задача настройка написание принцип уровень разработчик грамотный язык свой желание свой большой плюс поддержка сайт другой карта час дружный развиваться территория',\n",
       " 'пациент помощь консультация пациент другой помощь амбулаторный консультация пациент действующий сертификат специальность действующий грамотный язык английский язык стандарт пациент отражение бесплатный клиника квалификация выходной',\n",
       " 'склад приглашать желание склад хранение размещение складской логистика хранение груз погрузочный разгрузочный склад охрана техника безопасность производственный хранение поставщик покупатель складской операция сдача отчетность состояние склад ремонт товарный материальный ценность выполнять поручение свой персонал магазин сопроводительный',\n",
       " 'проектный поддержка сервис проектный поддержка поддержка консультация отчетность внедрение сервис автоматизация операция бизнес процесс поддержка другой плюс администрирование бизнес приложение плюс уровень английский желание развиваться дмс участие',\n",
       " 'строительный уровень новый дружный интересный задача внедрение сопровождение база платформа программный поддержка ремонт материал новый финансовый программный поддержка поддержка состояние программный сервер внедрение сопровождение сертификат конфигурация желание развиваться новый',\n",
       " 'лицо банк задолженность банк счет предприятие финансовый хозяйственный деятельность предприятие бюджет предприятие экономический отчет предприятие экономический должность выходной',\n",
       " 'помощь план больной пациент лечение диагностический лечебный процедура мероприятие действующий сертификат категория сертификат приветствоваться карта карьерный',\n",
       " 'приготовление напиток гость кассовый чистота',\n",
       " 'аптечный приглашать предлагать законодательство аптека социальный сертификат счет карьерный покупатель лекарственный препарат назначение лекарственный фармацевтический порядок торговля хранение стандарт покупатель средний сертификат приветствоваться',\n",
       " 'водитель экспедитор погрузка город водительский удостоверение категория действующий социальный',\n",
       " 'склад отгрузка',\n",
       " 'транспортный база предприятие который предлагать стандарт перевозка оказание операция транспортный обработка перевозка перевозка процесс перевозка первичный транспортный перевозка логистика база доставка груз задолженность должность транспортный логистика груз word excel грамотный речь хороший английский язык база база карьерный территория',\n",
       " 'бухгалтерский сопровождение предприятие бухгалтерия деятельность торговля производство строительство налог лицо формирование первичный обработка бухгалтерский налоговый отчетность',\n",
       " 'который производство конфигурация производственный процесс разработчик который создание хороший стандарт плюс сетевой приложение другой предлагать участие создание технология инженер свой бюджет дмс другой',\n",
       " 'производство строительный выполнять проектный выполнять согласование производство технологический карта исполнительный выполнять исполнительный сдача объект эксплуатация строительный надзор сдача объект эксплуатация уровень порядок строительный нормативный строительство исполнительный производство строительство инженерный строительный объект строительный надзор объект строительство строительство социальный уровень',\n",
       " 'программный финансовый тестирование программный финансовый технология база хороший финансовый приглашать финансовый бизнес задача web кабинет согласование сайт задача отчетность задача доработка отчет грамотный речь информация уровень',\n",
       " 'разгрузочный порядок участие кладовщик приветствоваться склад персонал',\n",
       " 'бизнес деятельность магазин производство база территория деятельность недвижимость строительство эксплуатация который задача действующий задолженность новый сдача строительный эксплуатация здание ремонт объект недвижимость объект недвижимость инженерный строительный охрана объект охрана техника безопасность эксплуатация отчетность должность строительный уровень грамотный речь законодательство раз дружный',\n",
       " 'бухгалтер бухгалтерский лицо бухгалтерский кассовый операция',\n",
       " 'sql плюс тестирование проектирование',\n",
       " 'состояние средний стандарт материал предприятие',\n",
       " 'сервис который банк новый новый программный код предлагать желание свой финансовый уровень счет',\n",
       " 'недвижимость недвижимость недвижимость недвижимость интересный недвижимость недвижимость бесплатный карьерный банк поддержка сайт платформа первичный обработка объект объект недвижимость сопровождение материальный карьерный карьерный предлагать информационный поддержка новый деятельность недвижимость хороший недвижимость',\n",
       " 'помощь чистота порядок поручение мед уборка пациент операция мед сертификат приветствоваться',\n",
       " 'обработка склад отчет отгрузка word excel производство карьерный город английский',\n",
       " 'производство водитель экспедитор автомобиль предлагать дружный доставка город погрузка водитель экспедитор',\n",
       " 'большой строительный строительство строительный транспортный автомобиль состояние автомобиль автомобиль погрузка груз груз квалификация водительский удостоверение категория нормативный эксплуатация час выходной водительский право',\n",
       " 'диагностический приглашать должность кабинет ребенок пациент сдача пациент кассовый техника финансовый формирование действующий сертификат сестринский дело сестринский дело ребенок желание кассовый техника социальный территория',\n",
       " 'ребенок аптека производство средний средний социальный',\n",
       " 'маршрут экспедитор доставка первичный бухгалтерский большой информация транспортный транспорт карьерный',\n",
       " 'бизнес ресторан готовый',\n",
       " 'строительный строительство объект строительный стаж специальность должность инженер нормативный материал строительство технология строительный строительство объект строительство строительный строительство объект стандарт другой материал проектный экономический объект строительство строительный монтажный строительный монтажный сдача объект эксплуатация технологический объект строительство порядок строительный строительство законодательство охрана техника безопасность производственный строительный объект законодательство законодательство строительство расход',\n",
       " 'предприятие бухгалтер информация',\n",
       " 'приглашать водитель экспедитор доставка груз участие разгрузочный транспорт бесплатный налог',\n",
       " 'обработка транспорт обработка стандарт процесс доставка назначение водитель бухгалтерия доставка водитель водитель маршрут погрузка выполнять excel час транспорт логистика транспортный транспорт доставка транспорт дружный',\n",
       " 'сертификат участие',\n",
       " 'доставка груз логистика маршрут свой помощь кладовщик логистика отгрузка груз транспортный выходной',\n",
       " 'новый предприятие который производственный кладовщик хранение товарный материальный ценность размещение складской товарный материальный ценность хранение участие товарный материальный ценность',\n",
       " 'автомобиль свой выполнять монтаж',\n",
       " 'приглашать должность желание развиваться предлагать развиваться счет новый консультация',\n",
       " 'администрирование сетевой администрирование база администрирование поддержка сетевой уровень технология английский язык уровень интересный задача дмс уровень',\n",
       " 'новый строительный база поставщик новый поставщик техника объект первичный хороший строительный техника грамотный речь желание развиваться хороший город бесплатный бесплатный дружный карьерный',\n",
       " 'поддержание территория проектный территория план деятельность участие территория отчетность английский язык приветствоваться бизнес процесс предприятие социальный автомобиль другой техника',\n",
       " 'бухгалтерский налоговый лицо налог бухгалтер законодательство понимание строительство законодательство управленческий',\n",
       " 'бухгалтерский порядок первичный бухгалтерский банк отчет поставщик покупатель оказание сверка поставщик покупатель начисление формирование сдача отчет смета расход бухгалтер word налоговый законодательство лицо порядок финансовый операция отчетность большой информация налоговый бухгалтерский законодательство интересный задача выходной клиника дружный мероприятие',\n",
       " 'приглашать сопровождение помощь средний желание новый интересный грамотный речь приветствоваться развиваться согласование бесплатный',\n",
       " 'бронирование база гость назначение гость мероприятие гость предлагать мероприятие отчетность сверка контрагент должность уровень ребенок предлагать интересный развиваться уровень мероприятие раз',\n",
       " 'погрузка склад',\n",
       " 'разработчик информационный технология sql свой проектирование технология sql формирование sql код процедура создание план плюс понимание приложение сервис',\n",
       " 'объект сетевой техника ремонт доставка инженер ремонт техника час дружный готовый свой',\n",
       " 'технологический процесс хранение производство приготовление блюдо уборка участие свой дело повар бесплатный карьерный мероприятие территория',\n",
       " 'час',\n",
       " 'кассовый отчетность первичный поставщик сверка контрагент обработка хранение формирование аккуратность свой кассовый техника',\n",
       " 'разработчик мобильный большой разработчик задача написание новый задача поддержка написание приложение понимание технология предлагать дружный готовый',\n",
       " 'приглашать должность объект недвижимость объект недвижимость эксплуатация здание эксплуатация участие задолженность участие формирование бюджет объект эксплуатация здание должность объект недвижимость главный инженер эксплуатация объект эксплуатация объект недвижимость складской производственный внедрение бюджет уровень лицо объект недвижимость желание развиваться язык желание уровень',\n",
       " 'мобильный банк мобильный другой сервис развиваться задача предлагать дружный интересный задача программирование приложение мобильный код сервер тестирование настройка кабинет бизнес код доработка предлагать интересный счет большой дружный уровень',\n",
       " 'стандарт производственный конструкция доставка доставка новый',\n",
       " 'отчет обработка обработка складской логистика английский язык транспорт карьерный',\n",
       " 'java java java java',\n",
       " 'приглашать объект хороший свой дело хороший аккуратность объект социальный ребенок дружный',\n",
       " 'дружный инженер который свой код бизнес который свой готовый технология сервер база мобильный сетевой большой большой сервер тестирование сервер разработчик новый который который база технология windows уровень код язык программирование понимание язык сервис новый формирование отчет тестирование помощь новый предлагать сопровождение дмс врач карьерный бизнес кухня напиток',\n",
       " 'обработка',\n",
       " 'амбулаторный пациент лечение действующий сертификат дружный',\n",
       " 'задача приготовление технологический карта бесплатный мед осмотр счет бесплатный карьерный повар производство',\n",
       " 'объект строительство сдача отчет первичный аккуратность',\n",
       " 'водитель раз доставка транспорт город',\n",
       " 'ремонт диагностика ремонт диагностика уровень программный ремонт приветствоваться приветствоваться',\n",
       " 'доставка город автомобиль мобильный сдача груз транспортный склад маршрут разгрузочный первичный транспортный хороший город автомобиль мобильный вождение право категория',\n",
       " 'средний мед язык уборка час транспорт',\n",
       " 'доставка груз водительский удостоверение мед вождение аккуратность поддержание автомобиль порядок право',\n",
       " 'фармацевтический поддержка препарат уровень пациент консультация участие план исследование план поддержка процесс материал поддержка врач фармацевтический английский информация хороший',\n",
       " 'приглашать хороший задача отчетность стаж средний категория налоговый законодательство персонал бухгалтерский счет большой грамотный речь карьерный бесплатный хороший клиника город ребенок ребенок новый город',\n",
       " 'автомобиль поручение доставка осмотр отчет денежный категория водитель город автомобиль вождение автомобиль автомобиль',\n",
       " 'обработка перевозка транспортный отгрузка транспортный счет перевозка понимание понимание понимание транспортный транспортный перевозка английский язык аккуратность перевозка мобильный',\n",
       " 'повар кафе кафе ресторан',\n",
       " 'должность администрирование поддержка администрирование кассовый настройка программный материал сетевой настройка магазин предлагать магазин',\n",
       " 'бухгалтерский налоговый действующий законодательство персонал человек формирование сдача отчетность счет приветствоваться бухгалтерия бухгалтерия начисление отчетность налог',\n",
       " 'бизнес бизнес производство предлагать интересный задача который свой новый бизнес бизнес план материал согласование производство новый производство новый склад логистика товарный процесс уровень excel большой дмс',\n",
       " 'хороший магазин развиваться дружный ценность свой дело который задача персонал производство производство технологический процесс чистота состояние производственный отчетность предлагать магазин дружный ребенок новый готовый база',\n",
       " 'инженерный здание проектный сопровождение инженерный здание согласование проектный проектный проектирование экономический предлагать проектный экономический стаж',\n",
       " 'фармацевтический производство лекарственный препарат приглашать аптечный препарат территория препарат аптечный формирование территория участие аптека аптечный должность аптечный уровень лицо аптечный предлагать социальный дмс мобильный автомобиль',\n",
       " 'деятельность цех состояние ремонт внедрение мероприятие транспортный материал внедрение мероприятие бюджет расход персонал охрана техника безопасность производственный состояние автомобиль транспортный уровень производственный участие эксплуатация техника задача',\n",
       " 'сестринский врач врач средний сестринский дело действующий сертификат специальность сестринский дело кабинет дмс дружный',\n",
       " 'производство груз удостоверение дмс',\n",
       " 'приглашать главный бухгалтер производственный бухгалтерский финансовый отчетность хороший налоговый законодательство налоговый главный задолженность английский производственный excel бухгалтерский хозяйственный финансовый деятельность формирование отчетность законодательство начисление налог отчетность поставщик финансовый производственный производственный предприятие другой мобильный дмс',\n",
       " 'производственный производственный поддержание чистота производственный социальный',\n",
       " 'человек большой проектный разработчик поддержка бизнес проектирование бизнес план сервер java java технология java web хороший принцип понимание проектирование назначение sql другой задача другой проектирование код сервер приложение проектный час участие',\n",
       " 'человек проектный который свой новый свой финансовый свой бизнес свой хороший бизнес сопровождение хороший строительный бизнес свой хороший план план территория',\n",
       " 'бизнес автомобиль автомобиль техника сетевой сетевой бизнес выполнять бизнес сетевой технология развиваться новый сетевой технология английский большой желание развиваться предлагать ребенок дмс счет английский участие управленческий город социальный',\n",
       " 'доставка хороший язык автомобиль доставка час',\n",
       " 'приглашать горячий цех новый ресторан кухня ресторан горячий цех мед предлагать бесплатный счет готовый',\n",
       " 'объект строительство проектный строительный монтажный объект строительство выполнять удостоверение проживание',\n",
       " 'предлагать должность деятельность водитель территория территория груз аккуратность',\n",
       " 'проектирование другой нормативный строительный конструкция участие проектирование раздел инженер инженер техника проектный проектный другой раздел надзор внедрение проектирование согласование чертеж производство участие квалификация проектный производство новый материал внедрение конструкция проектный autocad',\n",
       " 'приглашать кладовщик склад инженерный хороший кладовщик плюс раз час выходной выходной склад погрузочный разгрузочный дружный',\n",
       " 'приглашать бухгалтер человек человек информация покупатель задача другой кассовый покупатель кассовый отчетность первичный участие должность кассовый денежный задача предлагать социальный законодательство выходной карьерный',\n",
       " 'погрузочный разгрузочный поставщик поддержание порядок склад участие склад склад задача склад склад хранение материальный территория',\n",
       " 'задача создание создание приветствоваться хороший предлагать карьерный интересный задача уровень который расход бесплатный мероприятие',\n",
       " 'водитель доставка груз транспортный свой водительский стаж город',\n",
       " 'эксплуатация категория эксплуатация информационный денежный обработка отчетность оказание консультация обработка информация законодательство экономический приветствоваться информационный технология приветствоваться язык sql приветствоваться приветствоваться желание большой информация программный квалификация участие интересный технология',\n",
       " 'мероприятие деятельность склад склад склад excel кладовщик отгрузка торговля средний складской торговля склад excel складской склад склад социальный',\n",
       " 'сервис ремонт бухгалтер деятельность первичный первичный сверка первичный задолженность формирование счет формирование отчет начисление налог начисление сдача отчетность банк контрагент бухгалтерия контрагент бухгалтерский бухгалтерский word excel территория счет карьерный бухгалтер финансовый дружный дело хороший',\n",
       " 'web',\n",
       " 'база недвижимость покупатель процесс новый готовый покупатель выходной хороший недвижимость отчетность счет',\n",
       " 'доставка поручение водительский удостоверение стаж желание водительский право категория автомобиль раз дружный бесплатный',\n",
       " 'первичный пациент оказание помощь пациент пациент препарат сертификат лечебный дело оказание помощь стандарт лечение пациент деятельность пациент социальный поддержка бесплатный территория',\n",
       " 'гость стандарт гость оказание помощь гость напиток меню чистота уборка посуда гость процесс бесплатный',\n",
       " 'помощь свой специальность амбулаторный действующий сертификат социальный участие материальный помощь',\n",
       " 'финансовый должность экономический финансовый финансовый согласование экономический информация согласование денежный согласование отчет выполнять обработка отражение поддержка бюджет отчетность экономический экономический первичный бухгалтерский',\n",
       " 'социальный бизнес задача отчетность другой другой город желание технология желание действующий предлагать дружный',\n",
       " 'раздел проектный технологический объект объект строительство объект должность',\n",
       " 'администрирование настройка сервер хранение уровень час город',\n",
       " 'право врач врач действующий сертификат',\n",
       " 'java разработчик дружный мобильный приложение финансовый сервис создание создание java java плюс новый интересный задача создание человек счет дмс социальный мероприятие',\n",
       " 'раз карта бесплатный технологический карта готовый покупатель грамотный речь приветствоваться',\n",
       " 'водитель автомобиль водительский право категория стаж вождение свой автомобиль',\n",
       " 'конструкция строительный конструкция проживание',\n",
       " 'врач аптека препарат консультация покупатель аптека час социальный аптека проживание',\n",
       " 'ресторан кухня ресторан ресторан хороший',\n",
       " 'приглашать бухгалтер магазин поставщик складской кассовый операция денежный бухгалтер бухгалтер новый информация',\n",
       " 'сверка первичный бухгалтерский сверка поставщик формирование сверка сверка состояние сверка база сверка покупатель код отражение покупатель отражение счет покупатель бухгалтер план счет бухгалтерский налоговый первичный дружный',\n",
       " 'торговля торговля другой приложение',\n",
       " 'начисление счет материальный отражение отчетность сверка налоговый налог управленческий расход налог консультация начисление бухгалтер человек налоговый законодательство большой информация выходной час',\n",
       " 'перевозка автомобиль материал состояние автомобиль осмотр автомобиль эксплуатация автомобиль средний водительский право категория карта водитель',\n",
       " 'кухня производство производство стандарт кухня новый логистика отгрузка склад',\n",
       " 'бизнес процесс банк поставщик бизнес помощь человек средний банк банк сервис другой создание внедрение приглашать разработчик база желание новый настройка участие создание внедрение настройка бизнес процесс отчет согласование sql проектирование sql обработка обработка предлагать участие тестирование проектирование язык программирование язык согласование бизнес предлагать уровень квалификация понимание',\n",
       " 'сопроводительный отгрузка маршрут участие уровень социальный материальный помощь выходной',\n",
       " 'производственный приглашать главный бухгалтер бухгалтерский налоговый торговля действующий сдача отчетность отчетность сверка поставщик покупатель задолженность главный бухгалтер предприятие бухгалтерский развиваться уровень',\n",
       " 'производство производственный цех предприятие производственный деятельность материальный создание производственный материальный материал доставка материальный квалификация производственный материал порядок поставщик производство складской логистика складской операция порядок отчетность план',\n",
       " 'уборка час бесплатный территория',\n",
       " 'учреждение другой другой информационный сопровождение предприятие учреждение банк согласование отчет участие информационный предприятие свой финансовый экономический финансовый экономический должность банк транспорт',\n",
       " 'первичный бухгалтерский сверка контрагент задолженность отчетность главный бухгалтер выполнять поручение главный бухгалтер управленческий должность развиваться карьерный мобильный',\n",
       " 'строительный материал водитель экспедитор свой склад маршрут доставка перевозка хранение груз порядок сдача груз ремонт автомобиль мобильный',\n",
       " 'предлагать карьерный лицо средний бесплатный ребенок новый интересный мероприятие новый новый перевозка задолженность транспортный желание',\n",
       " 'тестирование новый написание тестирование банк программирование настройка windows уровень автоматизация хороший клиника',\n",
       " 'гость уборка грамотный речь',\n",
       " 'поддержка настройка техника сетевой настройка windows поддержка поддержка магазин поддержка сайт торговля windows хороший принцип сетевой хороший склад информация плюс социальный дружный',\n",
       " 'программный поставщик английский язык плюс большой информация',\n",
       " 'сервер база windows база windows поддержание состояние сетевой настройка администрирование поддержка мобильный бесплатный мероприятие мероприятие процесс',\n",
       " 'аптечный персонал аптечный другой город персонал дружный интересный задача сертификат хороший ресторан город который развиваться',\n",
       " 'аптека аптечный склад аптека свой готовый предлагать аптечный участие другой аптечный стандарт сервис аптечный фармацевтический порядок аптека нормативный сертификат действующий мед хороший человек желание',\n",
       " 'расход сдача транспортный налог начисление расход объект отражение бухгалтерский налоговый бухгалтерский отчет начисление налог законодательство бухгалтерский налоговый отчетность управленческий выходной карьерный социальный участие',\n",
       " 'кафе производство человек свой приглашать должность кафе задача выполнять кафе кухня выполнять план гость стандарт который желание большой гость лицо задача кафе стандарт сетевой хороший который гость задача предлагать большой карьерный предлагать',\n",
       " 'средний социальный дружный',\n",
       " 'приглашать кладовщик склад',\n",
       " 'ресторан доставка производство материал формирование поставщик производство доставка ресторан участие персонал персонал ресторан производство персонал предприятие нормативный технологический принцип производственный хозяйственный деятельность предприятие технологический',\n",
       " 'доставка отчетность право категория',\n",
       " 'процесс который налог налоговый человек свой счет банк строительный объект строительный объект час объект объект операция выполнять час раз раз час объект выполнять карта строительный объект процесс объект объект объект новый строительный платформа приложение новый технология строительство час',\n",
       " 'задолженность счет сверка покупатель бухгалтерский отчетность бухгалтерский должность бухгалтер законодательство бухгалтерский налоговый бухгалтерия бухгалтерский язык человек склад карьерный',\n",
       " 'строительный монтажный проживание раз счет объект строительство счет производственный строительный монтажный строительство',\n",
       " 'исполнительный чертеж сертификат выполнять выполнять помощь сметный проектный надзор другой материал смета инженер процесс технология производство исполнительный проектный autocad смета сметный',\n",
       " 'кабинет приглашать амбулаторный процедура препарат материал желание развиваться врач деятельность грамотный речь',\n",
       " 'повар приготовление блюдо стандарт технологический процесс производство час раз карьерный кухня раз',\n",
       " 'обработка бронирование новый английский язык средний уровень',\n",
       " 'главный бухгалтер торговля бухгалтерский налоговый сдача отчетность управленческий отчетность экономический налоговый',\n",
       " 'социальный план согласование отчетность создание социальный поддержка социальный бюджет уровень английский язык предлагать уровень дмс',\n",
       " 'уровень склад склад предлагать склад категория территория выходной который бесплатный дмс',\n",
       " 'лицо исследование исследование выполнять исследование средний диагностика действующий сертификат диагностика',\n",
       " 'технологический ремонт эксплуатация',\n",
       " 'бизнес процесс приглашать бухгалтер банк банк формирование банк банк бухгалтерия формирование счет банк отражение проектный поставщик проектный назначение отражение первичный проектный назначение отражение первичный назначение расход деятельность сверка задолженность деятельность мероприятие экономический бухгалтерский налоговый большой информация человек готовый поручение дружный готовый',\n",
       " 'ресторан новый готовый гость приготовление блюдо технологический карта блюдо предлагать хороший',\n",
       " 'гость стандарт грамотный речь язык приветствоваться стандарт',\n",
       " 'чертеж технологический производственный монтаж технологический техника безопасность груз развиваться начисление раз',\n",
       " 'эксплуатация ремонт эксплуатация информационный поддержка поддержка ремонт настройка который монтаж ремонт английский язык территория',\n",
       " 'объект город автомобиль',\n",
       " 'финансовый финансовый финансовый финансовый финансовый хозяйственный операция поставщик размещение денежный операция денежный финансовый экономический экономический сертификат',\n",
       " 'материал тестирование написание план тестирование сопровождение настройка поддержка понимание создание web код язык программирование уровень понимание принцип тестирование web тестирование сопровождение понимание программный производственный мобильный дружный',\n",
       " 'хороший приглашать вождение автомобиль готовый понимание предлагать хороший город мероприятие стаж водитель',\n",
       " 'поставщик территория водитель доставка товарный материальный ценность кассовый операция средний word excel уровень раз другой стаж',\n",
       " 'производство создание свой логистика логистика склад специальность перевозка логистика отчет водитель транспорт логистика расход доставка дружный транспортный который развиваться мероприятие развиваться',\n",
       " 'который приложение поддержка уровень новый платформа сервис новый финансовый большой желание готовый план уровень объект хороший уровень предлагать город код уровень который дмс лечение бесплатный план счет мероприятие новый участие ребенок новый главный банк',\n",
       " 'большой материал строительство технология поручение бухгалтерский бухгалтер word excel язык английский средний уровень интересный дмс',\n",
       " 'администрирование хранение администрирование хранение участие поставщик информационный принцип хранение принцип хранение деятельность язык английский желание мобильный дмс карьерный',\n",
       " 'диагностика диагностический процедура мероприятие помощь врач другой свой специальность средний персонал свой диагностический лечебный процедура эксплуатация материал техника безопасность охрана средний персонал свой деятельность принцип поручение учреждение нормативный свой деятельность безопасность техника безопасность техника безопасность деятельность учреждение пациент квалификация свой специальность порядок сертификат специальность диагностика',\n",
       " 'недвижимость город недвижимость уровень размещение объект недвижимость объект средний мобильный готовый база объект информационный выполнять поддержка сопровождение бесплатный банк раз участие база объект карьерный должность должность действующий объект недвижимость готовый база поддержание стандарт сервис свой недвижимость желание недвижимость который бизнес сервис технология бизнес готовый',\n",
       " 'приглашать повар производство развиваться предприятие новый производство производство отель',\n",
       " 'бар город плюс час главный должность человек финансовый отчетность участие уровень грамотный речь английский язык экономический должность карта раз хороший должность',\n",
       " 'поставщик поставщик word excel уровень законодательство мобильный бесплатный квалификация',\n",
       " 'ремонт техника настройка техника диагностика понимание',\n",
       " 'строительство готовый развиваться новый строительство инженерный приветствоваться строительный строительство нормативный человек грамотный речь строительный монтажный объект строительство выполнять отчетность новый согласование строительный транспорт материал конструкция выполнять выполнять складской охрана материальный ценность производственный материальный желание предлагать мобильный раз дружный',\n",
       " 'который предлагать гость интересный чистота порядок стандарт сервис кафе аккуратность приветствоваться плюс дружный',\n",
       " 'приложение карта сервис приложение бизнес который поддержка который приложение который приложение приложение платформа понимание принцип понимание формирование платформа web бизнес большой уровень уровень',\n",
       " 'монтаж приветствоваться квалификация раз карьерный',\n",
       " 'пациент амбулаторный участие исследование участие создание исследование первичный сертификат исследование английский язык',\n",
       " 'лицо настройка монтаж желание хороший',\n",
       " 'обработка обработка желание развиваться бесплатный',\n",
       " 'нормативный охрана производственный производственный мероприятие создание предприятие производственный производственный охрана мероприятие лицо состояние производственный производство состояние здание нормативный охрана состояние стаж охрана инженерный должность производство',\n",
       " 'доставка город склад покупатель денежный автомобиль состояние автомобиль право категория аккуратность доставка приветствоваться мед средний стаж вождение водитель автомобиль',\n",
       " 'здание монтаж территория аккуратность технология',\n",
       " 'поддержка действующий администрирование администрирование средний развиваться город техника техника поставщик техника техника стандарт',\n",
       " 'экономический деятельность формирование экономический финансовый деятельность отчетность экономический стаж нормативный хозяйственный деятельность выходной доставка транспорт',\n",
       " 'сертификат стаж специальность час',\n",
       " 'транспорт логистика процесс перевозка обработка счет новый транспортный законодательство перевозка новый транспортный поддержка база большой информация карьерный мобильный',\n",
       " 'бронирование план гость аккуратность проживание доставка',\n",
       " 'кафе строительный гость желание дружный счет предприятие новый выходной желание',\n",
       " 'помощь свой специальность диагностика лечение поддержание диагностический действующий сертификат социальный категория клиника законодательство бесплатный квалификация счет клиника',\n",
       " 'строительный стандарт выполнять исполнительный материал проектный строительный строительный технология производство строительство инженерный дмс',\n",
       " 'администрирование сопровождение обработка участие тестирование контрагент администрирование кабинет администрирование сопровождение написание sql создание сервер windows принцип торговля денежный интересный задача карьерный дружный код',\n",
       " 'приложение человек приложение создание участие приложение разработчик java приложение код английский язык уровень понимание плюс создание код web настройка предлагать карьерный',\n",
       " 'аккуратность',\n",
       " 'вождение автомобиль состояние автомобиль чистота автомобиль выполнять средний водитель автомобиль право аккуратность вождение автомобиль транспорт предлагать предприятие автомобиль территория предприятие час',\n",
       " 'операция технология операция новый технология новый технология складской логистика операция новый технология складской логистика новый технология операция тестирование складской логистика технология операция складской складской логистика деятельность',\n",
       " 'склад складской персонал водитель погрузчик складской техника склад складской операция размещение склад товарный материальный ценность склад склад ценность товарный сопроводительный склад человек товарный материальный ценность товарный сопроводительный складской транспортный перевозка груз',\n",
       " 'автомобиль строительный категория автомобиль сопроводительный город автомобиль проживание база ремонт база',\n",
       " 'стандарт проектный финансовый поручение помощь информационный поддержка финансовый аккуратность поручение бизнес word excel законодательство',\n",
       " 'ресторан человек',\n",
       " 'монтаж склад желание сертификат удостоверение процесс',\n",
       " 'поддержка другой средний уровень windows принцип сетевой приложение грамотный речь карьерный',\n",
       " 'финансовый отчет водитель отчет водитель формирование водитель новый карта карта карта поручение транспорт транспортный предлагать карьерный дружный',\n",
       " 'финансовый средний бизнес территория приглашать бизнес процесс отчетность процесс написание отчет операция информация помощь отчет финансовый экономический принцип сертификат приветствоваться',\n",
       " 'финансовый управленческий отчетность предлагать свой дело город технология английский язык лицо управленческий план участие автоматизация информация бюджет согласование лицо учреждение банк бухгалтерский отчетность автоматизация бухгалтерский налоговый процесс согласование финансовый управленческий приветствоваться строительный уровень excel бухгалтерский налоговый большой информация бухгалтерия желание',\n",
       " 'который финансовый сервис развиваться финансовый платформа конфигурация торговля производственный предприятие предприятие бухгалтерия предприятие желание конфигурация сертификат обработка отчет бухгалтер доработка новый программный программный предлагать интересный новый задача бесплатный квалификация карьерный свой дело',\n",
       " 'водительский право категория',\n",
       " 'участие внедрение карьерный задача поддержка поддержка конфигурация администрирование тестирование процедура понимание уровень администрирование sql плюс администрирование уровень уровень приложение понимание сетевой программирование уровень код понимание безопасность уровень дмс квалификация свой дело',\n",
       " 'конструкция участие технологический чертеж средний чертеж свой карьерный',\n",
       " 'бухгалтерия налоговый отчетность новый база обработка перевозка перевозка отчетность интересный специальность интересный карьерный',\n",
       " 'лекарственный препарат назначение лечебный лекарственный препарат мед назначение фармацевтический порядок торговля хранение стандарт фармацевтический сертификат лекарственный препарат кассовый грамотный речь человек аптека',\n",
       " 'администрирование сетевой windows внедрение новый сервис участие проектный деятельность программный диагностика ремонт сервер выполнять помощь windows принцип сетевой технология уровень большой сервер сервер сервер windows windows база уровень администрирование сетевой выходной дружный',\n",
       " 'гость меню стандарт',\n",
       " 'аптечный аптека приглашать хороший фармацевтический готовый развиваться хороший аптечный оказание грамотный консультация лекарственный препарат лекарственный препарат фармацевтический порядок стандарт покупатель хранение лекарственный дружный час карьерный сертификат счет участие мероприятие фармацевтический грамотный речь',\n",
       " 'клиника новый клиника план лечение пациент консультация диагностика план лечение первичный пациент мероприятие пациент лечение сертификат специальность специальность',\n",
       " 'перевозка груз город категория',\n",
       " 'диагностика план больной пациент диагностический информация диагностический исследование оказание помощь врач другой свой специальность средний персонал диагностический лечебный процедура эксплуатация материал участие квалификация персонал специальность диагностика диагностика раздел диагностика фармацевтический база поддержка категория социальный поддержка денежный помощь ребенок',\n",
       " 'разработчик поддержка процесс проектирование создание платформа свой плюс конфигурация предприятие конфигурация производственный предприятие задача бухгалтерский управленческий город транспортный задача автоматизация процесс',\n",
       " 'объект ремонт ремонт доставка материал объект материал смета строительный материал технология объект выходной транспортный расход мобильный свой уровень',\n",
       " 'осмотр больной лечение операция больной помощь больной больной принцип лечебный больной консультация другой другой диагностика состояние лечение больной лечение больной уровень больной средний персонал назначение лечение больной другой помощь больной помощь помощь больной мед город оказание лечебный помощь учреждение мероприятие квалификация средний персонал больной техника безопасность охрана безопасность лечебный первичный специальность',\n",
       " 'бюджет ресторан бюджет внедрение поддержание уровень персонал персонал карьерный ресторан стандарт гость поддержание гость ресторан ресторан безопасность свой управленческий ресторан ресторан английский язык уровень word excel хороший персонал складской карьерный',\n",
       " 'удостоверение погрузка груз принцип участие ремонт техника безопасность час раз',\n",
       " 'желание предприятие карьерный',\n",
       " 'бухгалтерский налоговый счет кассовый операция начисление первичный бухгалтерский должность бухгалтер счет',\n",
       " 'поддержка персонал поддержка база конфигурация разработчик нормативный база участие тестирование новый экономический конфигурация плюс законодательство администрирование персонал поддержка сертификат конфигурация предлагать развиваться дмс уровень раздел',\n",
       " 'проектирование согласование строительство эксплуатация объект здание назначение приглашать программирование предприятие написание отчет обработка язык программирование предприятие другой приложение база язык программирование технологический платформа предприятие бизнес процесс маршрут согласование большой информация принцип программирование другой язык написание плюс предлагать хороший карьерный',\n",
       " 'производство территория производство должность дело задача сопроводительный обработка процесс код законодательство дружный карьерный',\n",
       " 'настройка настройка техника сопровождение сопровождение сервер администрирование уровень настройка windows настройка техника администрирование выходной стандарт',\n",
       " 'экономический бюджет объект материал согласование выполнять формирование отчет строительный смета смета',\n",
       " 'разработчик предлагать большой платформа который банк приложение состояние счет мобильный платформа информационный сервис приложение информация счет мобильный приложение технология java сервис новый технология участие счет мероприятие',\n",
       " 'ремонт магазин автомобиль приветствоваться',\n",
       " 'сайт сайт желание новый проектный мобильный',\n",
       " 'кафе хороший хороший приготовление блюдо горячий хранение поддержание чистота порядок человек который свой готовый свой свой кухня бесплатный',\n",
       " 'материал склад складской план товарный материальный ценность хранение складской хранение товарный сопроводительный предприятие word excel персонал должность',\n",
       " 'водительский удостоверение категория вождение перевозка банк автомобиль автомобиль отчетность бухгалтерия предлагать дружный мобильный автомобиль желание сайт',\n",
       " 'отель хороший отель новый стандарт лечение хороший готовый проживание задача процедура гость отель процедура материал расход материал процедура стандарт процедура база действующий сертификат дружный хороший карьерный раз карта транспорт бесплатный проживание предлагать база предлагать',\n",
       " 'база кассовый бронирование бронирование город раз',\n",
       " 'отель официант проживание',\n",
       " 'предлагать интересный свой город главный дружный язык написание материал обработка размещение сайт создание написание социальный план создание написание информационный создание план отчет уровень грамотный речь язык человек который создание материал город',\n",
       " 'кафе отель официант гость сервис',\n",
       " 'оказание действующий сертификат',\n",
       " 'первичный счет банк отчет сверка поставщик должность',\n",
       " 'новый помощь сопроводительный операция квалификация предприятие цех помощь другой производственный процесс процесс новый операция персонал должность приветствоваться интересный задача карьерный',\n",
       " 'бюджет расход персонал администрирование материальный автоматизация процесс начисление нормативный финансовый экономический предприятие программный большой информация свой карьерный',\n",
       " 'должность человек желание свой лицо речь желание человек час карьерный карта предприятие бесплатный человек карьерный',\n",
       " 'хранение участие участие хранение аккуратность бесплатный большой социальный дмс',\n",
       " 'проектный проектный строительный производство строительный проектный информация проектный',\n",
       " 'интересный ценность человек сервис задача поддержка диагностика производственный администрирование тестирование участие внедрение новый участие тестирование база участие внедрение предлагать человек финансовый банк карьерный интересный задача который уровень дружный интересный участие',\n",
       " 'процедура банк лицо экономический предприятие банк строительный недвижимость бизнес автоматизация настройка поддержка автоматизация отчет тестирование автоматизация java программирование отчетность sql программный код тестирование дмс город дружный развиваться',\n",
       " 'недвижимость другой сопровождение интересный человек желание недвижимость город недвижимость предлагать город недвижимость интересный новый карьерный',\n",
       " 'который технология который свой технология участие мероприятие технология поддержка технология объект хороший обработка autocad английский технология технология грамотный речь свой деятельность желание желание готовый',\n",
       " 'производство свой создание хороший человек бизнес развиваться свой дело задача создание база клиника база внедрение мероприятие мероприятие внедрение стандарт бизнес процесс понимание принцип фармацевтический фармацевтический английский язык участие хороший карьерный социальный дмс уровень',\n",
       " 'проектирование конструкция проектный сметный производство помощь конструкция autocad excel word',\n",
       " 'разработчик план другой интересный задача мобильный приложение грамотный разработчик мобильный приложение база участие создание новый приложение код принцип проектирование принцип понимание принцип процесс дружный хороший карьерный',\n",
       " 'недвижимость свой стандарт технология свой задача объект недвижимость грамотный технология управленческий отчетность управленческий стандарт задолженность отчет задолженность денежный финансовый хозяйственный деятельность план финансовый экономический хороший бухгалтерия экономический стандарт отчетность понимание принцип управленческий бухгалтерский налоговый предприятие excel английский язык карьерный дружный новый готовый новый мобильный город',\n",
       " 'пациент осмотр',\n",
       " 'перевозка перевозка который выполнять стандарт состояние автомобиль чистота квалификация водительский стаж транспортный карта вождение свой водитель большой выполнять счет выходной автомобиль право',\n",
       " 'бухгалтерский банк начисление сверка контрагент бухгалтерия предприятие',\n",
       " 'исследование поддержка исследование процедура исследование исследование поддержка исследование материал исследование препарат отчетность финансовый исследование исследование поддержка мероприятие английский язык грамотный речь информация английский язык уровень карьерный',\n",
       " 'ремонт техника настройка программный настройка сетевой поддержание консультация сопровождение программный диагностика поддержка windows программный развиваться',\n",
       " 'начисление формирование формирование мероприятие задача размещение персонал внедрение мероприятие персонал внедрение нормативный процедура законодательство',\n",
       " 'задача план сайт новый хранение поддержка сайт новый раздел кабинет задача web php понимание понимание код sql база предлагать',\n",
       " 'администрирование сервер база windows сервер администрирование администрирование база администрирование администрирование сайт база внедрение новый сервис поддержка консультация администрирование сервис настройка сетевой сервис администрирование информационный безопасность приветствоваться аккуратность желание',\n",
       " 'повар технологический карта поддержание чистота порядок технология производство блюдо хранение аккуратность',\n",
       " 'приглашать ресторан кухня дружный территория карьерный',\n",
       " 'участие программный поддержка программирование язык sql код грамотный речь английский язык уровень приветствоваться приветствоваться производство дружный интересный задача технология тестирование карьерный бесплатный уровень',\n",
       " 'инженерный база безопасность администрирование поддержка сетевой сетевой администрирование сервер платформа windows техника поддержка уровень поставщик поддержка банк банк участие процесс технологический банк уровень английский язык английский язык уровень windows платформа уровень сертификат автоматизация бизнес процесс php sql поддержка предлагать банк расход',\n",
       " 'приготовление напиток дружный',\n",
       " 'формирование проектный сметный выполнять ремонт действующий территория законодательство надзор строительный монтажный оказание проектный сметный сметный материал конструкция ремонт выполнять ремонт участие строительный объект сдача эксплуатация строительный стаж специальность',\n",
       " 'уборка кабинет уборка средний действующий сертификат сестринский дело аккуратность клиника',\n",
       " 'ремонт отчетность торговля склад средний стаж желание ребенок грамотный речь',\n",
       " 'человек счет лицо счет поручение главный бухгалтер',\n",
       " 'исполнительный формирование исполнительный средний бесплатный проживание',\n",
       " 'оказание помощь новый диагностический исследование технология специальность категория хороший финансовый свой свой уровень',\n",
       " 'перевозка дружный задача доработка сопровождение платформа доработка сопровождение сервис бухгалтерия внедрение создание новый отчет обработка конфигурация программный код тестирование новый информационный sql поддержка доработка экономический конфигурация бухгалтерия персонал доработка конфигурация платформа конфигурация web сервис задача задача администрирование sql сервер язык sql бухгалтерский налоговый приветствоваться задача предлагать кабинет разработчик дмс ребенок техника дружный сопроводительный',\n",
       " 'готовый сопровождение желание развиваться счет план',\n",
       " 'деятельность autocad инженер технология объект недвижимость законодательство нормативный формирование план карта территория недвижимость территория грамотный речь аккуратность',\n",
       " 'выполнять мероприятие план законодательство',\n",
       " 'склад склад порядок отгрузка материальный',\n",
       " 'строительство обработка строительный',\n",
       " 'приветствоваться желание развиваться предлагать средний город желание развиваться город бесплатный',\n",
       " 'стандарт размещение отгрузка логистика поддержание порядок средний склад большой складской понимание процесс товарный раз бесплатный магазин',\n",
       " 'монтаж территория чертеж проживание',\n",
       " 'хранение база назначение',\n",
       " 'конструкция технологический средний',\n",
       " 'задача тестирование написание тестирование тестирование новый доработка план отчет тестирование создание план тестирование тестирование технология склад плюс тестирование автоматизация желание тестирование интересный уровень дружный',\n",
       " 'отчетность недвижимость написание база новый объект участие процесс создание формирование новый объект покупатель объект объект недвижимость написание недвижимость экономический строительный недвижимость уровень объект недвижимость недвижимость обработка информация excel финансовый недвижимость',\n",
       " 'состояние эксплуатация ремонт',\n",
       " 'дружный хороший сайт сайт понимание свой большой плюс уровень плюс английский язык хороший понимание интересный сайт',\n",
       " 'web участие бизнес приложение приветствоваться уровень база код карьерный развиваться',\n",
       " 'приготовление напиток технологический карта гость поддержание чистота мед грамотный речь раз счет',\n",
       " 'поддержка деятельность магазин персонал человек человек принцип поддержка лицо который который задача человек желание человек который большой информация грамотный речь карьерный',\n",
       " 'тестирование выходной хороший интересный задача',\n",
       " 'разгрузочный поддержание порядок товарный материальный товарный сопроводительный раз социальный дмс участие',\n",
       " 'отель ресторан приглашать официант ресторан человек отель официант ресторан человек английский язык уровень человек который сервис уровень гость отель финансовый ресторан помощь грамотный социальный который бесплатный транспорт проживание отель предлагать поддержка который развиваться отель ресторан',\n",
       " 'строительный выполнять проживание',\n",
       " 'принцип сайт программный грамотный речь принцип сайт уровень',\n",
       " 'приготовление блюдо поддержание чистота порядок хранение готовый повар финансовый бизнес кафе',\n",
       " 'сверка контрагент задолженность счет первичный счет счет хранение поручение главный бухгалтер бухгалтерский налоговый уровень английский язык первичный счет должность проектный свой',\n",
       " 'погрузочный разгрузочный безопасность процесс перевозка груз безопасность безопасность охрана транспортный состояние транспортный груз безопасность водитель эксплуатация перевозка другой час транспортный маршрут перевозка транспортный доставка груз назначение другой состояние состояние',\n",
       " 'развиваться бухгалтер первичный формирование счет сверка формирование бухгалтер',\n",
       " 'банк формирование поручение обработка первичный бухгалтерский сверка контрагент счет формирование отчет поручение бухгалтер большой карьерный дружный',\n",
       " 'приглашать поддержка английский язык дружный информация сервис английский язык внедрение новый сервис отчет должность грамотный язык английский язык уровень хороший большой материал разработчик платформа интересный задача который',\n",
       " 'ремонт здание согласование проектирование строительный ремонт монтаж сметный строительство процесс строительный производство технология производство строительный понимание эксплуатация здание чертеж город',\n",
       " 'конструкция предлагать который свой дело производство конструкция погрузочный разгрузочный складской средний уровень',\n",
       " 'задолженность сверка контрагент информационный счет специальность английский язык средний уровень',\n",
       " 'создание гость гость блюдо напиток оказание помощь гость поддержание чистота порядок ресторан приветствоваться язык приветствоваться мед аккуратность бесплатный проживание территория бесплатный',\n",
       " 'sql база web приложение sql технология база желание развиваться программирование база готовый технология php карьерный sql база написание процедура язык sql',\n",
       " 'проектный удостоверение средний чертеж территория',\n",
       " 'строительный приглашать квалификация счет исполнительный техника безопасность',\n",
       " 'большой технология тестирование web приложение тестирование тестирование план sql java приветствоваться тестирование тестирование web приложение платформа написание тестирование план тестирование карьерный дмс новый',\n",
       " 'строительный объект проектный удостоверение',\n",
       " 'погрузчик удостоверение удостоверение проживание счет',\n",
       " 'проектирование производственный согласование autocad объект новый предприятие проектирование сопровождение проектный монтаж сопровождение проектный монтаж проектирование autocad приветствоваться чертеж нормативный хороший база готовый бесплатный уровень сдача расход',\n",
       " 'перевозка груз маршрут маршрут участие процесс логистика логистика отчет деятельность персонал водитель экспедитор бюджет перевозка груз груз персонал водительский дружный',\n",
       " 'погрузка автомобиль складской логистика предлагать логистика развиваться новый развиваться новый новый сервис предлагать карьерный программный приглашать',\n",
       " 'сопровождение автомобиль учреждение состояние автомобиль выполнять эксплуатация осмотр водительский удостоверение категория эксплуатация транспортный стаж вождение',\n",
       " 'оказание ремонт бухгалтерский налоговый бухгалтерский налоговый управленческий отчетность формирование мероприятие порядок первичный бухгалтерский финансовый начисление налог бюджет налог первичный контрагент поручение отчет сверка налоговый поручение должность главный бухгалтер деятельность бухгалтерия торговля',\n",
       " 'поставщик покупатель средний средний word excel бухгалтерия начисление начисление складской доставка доставка который который город',\n",
       " 'эксплуатация инженерный осмотр здание состояние инженерный здание обработка здание ремонт приветствоваться эксплуатация здание',\n",
       " 'доставка склад автомобиль водительский категория хороший водитель экспедитор склад',\n",
       " 'проектирование строительство проектирование объект безопасность уровень должность надзор предлагать дмс хороший клиника город бесплатный магазин кафе предлагать меню врач аптека территория ребенок магазин',\n",
       " 'деятельность мероприятие мероприятие производство монтаж участие сервер программный техника должность windows понимание сетевой технология сервис желание поддержка час раз',\n",
       " 'который задача обработка отчет хранение sql принцип задача предлагать интересный задача который новый бизнес горячий свой код',\n",
       " 'новый интересный разработчик карьерный разработчик сайт магазин сайт новый php база язык sql понимание принцип задача плюс магазин администрирование интересный дружный финансовый карьерный город',\n",
       " 'клиника уборка кабинет действующий сертификат средний',\n",
       " 'груз транспорт маршрут территория',\n",
       " 'бизнес транспортный складской логистика логистика хороший водитель категория карта водитель доставка город разгрузочный груз автомобиль состояние водитель экспедитор право категория карта ремонт автомобиль база дружный карьерный',\n",
       " 'бизнес город должность php уровень написание понимание новый который приветствоваться создание сервис другой написание город счет',\n",
       " 'информационный безопасность безопасность интересный информационный безопасность приложение внедрение безопасность автоматизация мобильный приложение разработчик материал приложение понимание плюс язык программирование java разработчик плюс понимание принцип технология сервис приложение понимание процесс должность разработчик java код плюс участие задача задача грамотный речь',\n",
       " 'охрана безопасность новый новый технологический процесс проектирование смета объект монтаж сдача деятельность материал склад материал финансовый отчетность денежный начисление расход финансовый',\n",
       " 'предприятие',\n",
       " 'лекарственный препарат врач фармацевтический деятельность отчетность хороший клиника город мобильный участие автомобиль расход карьерный фармацевтический должность приветствоваться',\n",
       " 'погрузчик склад материал действующий удостоверение раз',\n",
       " 'приглашать инженер инженерный эксплуатация инженерный инженер удостоверение состояние эксплуатация горячий объект карта магазин бесплатный доставка транспорт',\n",
       " 'магазин товарный сопроводительный обработка магазин магазин',\n",
       " 'производство доставка развиваться принцип стандарт технологический процесс гость поддержка новый желание развиваться предлагать бесплатный поддержка карьерный социальный который раз сдача',\n",
       " 'бухгалтерский налоговый задолженность транспортный транспорт',\n",
       " 'техника безопасность строительство складской',\n",
       " 'сайт технология магазин поддержка поддержка диагностика сервис состояние информационный база английский язык уровень задача программирование язык предлагать человек создание английский язык который интересный задача карьерный свой',\n",
       " 'проектный настройка платформа раз новый технология',\n",
       " 'человек интересный предлагать развиваться дружный свой человек гость предлагать ресторан создание блюдо напиток чистота порядок официант счет производство мероприятие план производственный охрана техника безопасность производственный выполнять поручение свой язык приветствоваться ресторан',\n",
       " 'монтаж чертеж производство согласование процесс производство производство участие конструкция строительный объект строительство производственный отчетность средний строительство autocad нормативный город выходной',\n",
       " 'склад хранение материальный ценность размещение складской материал материальный ценность состояние складской погрузочный разгрузочный склад нормативный материал складской стандарт хранение товарный материальный ценность другой товарный материальный ценность расход погрузочный разгрузочный порядок хранение товарный материальный ценность уровень социальный',\n",
       " 'исполнительный объект строительство формирование исполнительный строительный производство проектный сметный материал специальность технология строительный производство ремонт нормативный excel word autocad ремонт аккуратность автомобиль налог',\n",
       " 'деятельность разработчик мобильный приложение мобильный приложение финансовый понимание проектирование написание поддержка мобильный приложение база плюс город раз мероприятие другой уровень уровень приглашать',\n",
       " 'техника автомобиль состояние водительский удостоверение водитель водительский',\n",
       " 'главный бухгалтер производственный предприятие главный бухгалтер бухгалтерский налоговый бухгалтерский налоговый формирование отчетность формирование налоговый бухгалтерский порядок первичный бухгалтерский бухгалтерский человек поддержка бухгалтерский налоговый налоговый участие налоговый задача тестирование программный деятельность бухгалтерия производство торговля человек внедрение программный процесс бухгалтерский налоговый производственный предприятие налоговый налоговый бухгалтерский бухгалтерия транспорт кухня счет уровень',\n",
       " 'поддержка внедрение новый автоматизация операция помощь настройка сопровождение сервис участие проектный написание проектный поддержка понимание понимание администрирование написание язык сетевой конфигурация развиваться уровень социальный лечение',\n",
       " 'план объект монтаж технологический процесс объект проектный безопасность безопасность производство проектный другой конструкция план задача исполнительный выполнять сдача технологический объект эксплуатация сверка выполнять который технология строительство строительство участие задача деятельность социальный дмс',\n",
       " 'бизнес процесс предприятие формирование автоматизация бизнес процесс поддержка доработка администрирование сервер предприятие сопровождение поддержка внедрение автоматизация склад управленческий внедрение сопровождение платформа программирование конфигурация производство доставка транспорт',\n",
       " 'производство свой повар повар приготовление блюдо горячий цех дружный раз',\n",
       " 'грамотный ресторан',\n",
       " 'перевозка груз маршрут чистота порядок автомобиль действующий стаж вождение',\n",
       " 'раздел задолженность торговля склад создание сверка товарный обработка первичный счет счет контрагент сверка контрагент код банк склад складской отчет склад поручение деятельность торговля склад банк поставщик большой информация город',\n",
       " 'приготовление блюдо технологический карта стандарт приготовление блюдо хранение поддержание порядок квалификация ресторан действующий мед бесплатный дружный',\n",
       " 'осмотр пациент осмотр информационный участие действующий сертификат специальность хороший большой пациент',\n",
       " 'перевозка стандарт водитель автомобиль бизнес сдача бизнес автомобиль счет',\n",
       " 'складской торговля склад понимание отгрузка отгрузка кладовщик отгрузка отчет кладовщик отгрузка склад выходной',\n",
       " 'технология формирование новый человек который интересный задача создание разработчик уровень формирование процесс формирование технологический новый приложение конфигурация код аккуратность проектирование java предлагать интересный задача большой карьерный социальный дмс',\n",
       " 'сметный строительство формирование строительство объект проектный сметный строительный инженерный экономический инженерный должность проектный смета проектный нормативный строительство социальный дмс стаж',\n",
       " 'разработчик платформа сервис банк карта задача мобильный приложение свой приложение свой задача новый приложение тестирование финансовый понимание большой желание плюс желание хороший предлагать развиваться интересный задача поддержка другой город дмс',\n",
       " 'поставщик транспортный доставка сопроводительный отчет расход вождение водитель категория',\n",
       " 'автомобиль приглашать водитель доставка покупатель доставка город сопроводительный доставка автомобиль участие город желание выполнять склад большой',\n",
       " 'монтажный проектный строительный выполнять строительный материал транспорт средний строительный строительство производственный объект строительный объект проживание объект',\n",
       " 'город водительский удостоверение категория стаж вождение право автомобиль свой поддержка водитель счет',\n",
       " 'поддержка новый настройка средний принцип настройка сетевой сервис мобильный дмс час',\n",
       " 'производство исследование объект материал производство лицо исследование уровень лицо объект исследование материал дело исследование уровень сертификат',\n",
       " 'отчетность управленческий участие поручение главный бухгалтер средний специальность бухгалтерский должность бухгалтер бухгалтер банк сдача отчетность нормативный начисление налог социальный кафе территория предприятие предприятие',\n",
       " 'доставка груз территория предприятие категория водитель карта начисление предприятие свой социальный раз бесплатный помощь ребенок',\n",
       " 'доставка груз груз склад сопроводительный погрузочный разгрузочный автомобиль водительский удостоверение категория водительский стаж автомобиль порядок автомобиль час раз',\n",
       " 'приглашать бар город официант гость бар размещение гость бар помощь гость сервис бар бар мероприятие бар человек другой город новый бар бесплатный карьерный дружный',\n",
       " 'задача большой информация грамотный речь',\n",
       " 'задача сайт свой расход задача новый счет должность свой план план план план план план план план создание желание бизнес свой свой',\n",
       " 'новый приглашать водитель задача доставка разгрузочный предлагать финансовый развиваться поддержка магазин город который свой приглашать',\n",
       " 'смета выполнять материал выполнять бухгалтерия дмс',\n",
       " 'свой человек желание интересный свой участие большой английский язык карьерный',\n",
       " 'интересный ценность человек сервис технологический программный доработка база проектирование база программный отчетность проектирование sql sql sql sql плюс java предлагать человек финансовый банк карьерный интересный задача который уровень дружный интересный участие',\n",
       " 'монтажный выполнять назначение право специальность час час час выходной выходной проживание счет территория доставка транспорт',\n",
       " 'уборка аккуратность доставка',\n",
       " 'приглашать ребенок поддержание чистота ребенок аккуратность ребенок',\n",
       " 'web web sql',\n",
       " 'магазин приготовление горячий блюдо блюдо цех квалификация повар горячий цех ресторан производство кухня карьерный',\n",
       " 'участие формирование который проектный проектирование раздел autocad мобильный дружный',\n",
       " 'склад производственный поддержание чистота уборка территория аккуратность склад доставка час раз территория',\n",
       " 'интересный хороший карьерный персонал счет бесплатный бизнес приготовление приготовление блюдо технологический карта хранение обработка готовый чистота порядок кухня желание развиваться',\n",
       " 'лечебный диагностический назначение врач отчетность кабинет средний специальность сестринский дело сертификат сестринский дело осмотр стаж категория оказание доставка',\n",
       " 'предприятие стаж',\n",
       " 'диагностика лечение план действующий сертификат специальность врач врач',\n",
       " 'приглашать готовый свой интересный задача производственный предприятие горячий ремонт эксплуатация техника безопасность охрана безопасность управленческий предприятие горячий эксплуатация ремонт план ремонт предприятие предприятие расход экономический участие план предлагать интересный час',\n",
       " 'сервис инженер технология задача свой дело транспорт предлагать дружный интересный сервер поддержка база участие администрирование принцип sql плюс язык плюс уровень диагностика внедрение другой город',\n",
       " 'ресторан должность главный ценность бизнес человек карьерный дружный проектирование чертеж autocad',\n",
       " 'конструкция монтажный действующий удостоверение',\n",
       " 'эксплуатация база строительный строительство эксплуатация объект производство база состояние ремонт строительство объект инженерный',\n",
       " 'эксплуатация поддержка sql хороший плюс уровень час участие дружный карьерный финансовый',\n",
       " 'ресторан повар горячий цех горячий цех поддержание порядок технология приготовление блюдо должность аккуратность действующий кухня выходной',\n",
       " 'торговля бухгалтер операция отчет сверка поставщик счет начисление транспортный бухгалтерия торговля город',\n",
       " 'уборка ресторан законодательство раз',\n",
       " 'деятельность внедрение сопровождение предприятие бизнес web приложение приложение мобильный информационный предприятие разработчик приглашать автоматизация бизнес процесс доработка конфигурация бизнес информационный база поддержка экономический платформа приложение счет выходной английский мероприятие',\n",
       " 'склад производство бухгалтерский база экономический финансовый средний бухгалтерский налоговый законодательство бухгалтерия уровень раз социальный',\n",
       " 'покупатель поддержание чистота порядок желание развиваться социальный карьерный территория',\n",
       " 'производство законодательство погрузочный разгрузочный погрузчик территория предприятие удостоверение категория водитель погрузчик погрузчик',\n",
       " 'технология приготовление хранение должность повар производство приготовление план производство развиваться новый карьерный счет территория',\n",
       " 'выполнять выполнять задача человек монтаж объект город',\n",
       " 'доставка состояние автомобиль удостоверение категория стаж вождение категория карта приветствоваться база ремонт автомобиль счет',\n",
       " 'разработчик финансовый средний бизнес лицо город человек операция согласование разработчик приложение бизнес задача категория хороший мобильный банк который поддержка разработчик задача проектирование приложение написание разработчик написание стандарт код задача плюс новый предлагать задача план разработчик помощь город дмс приветствоваться техника другой уровень',\n",
       " 'приготовление блюдо технологический карта поддержание чистота должность выходной',\n",
       " 'гость ресторан помощь блюдо напиток блюдо напиток создание гость поддержание чистота стандарт бесплатный бесплатный карьерный',\n",
       " 'информация поддержка английский',\n",
       " 'строительный строительство инженер надзор процесс строительство проектный стандарт инженер надзор строительство строительный выполнять строительство объект процесс строительство материал конструкция проектный технологический стандарт план инженерный строительство строительный монтажный строительный производство участие действующий стандарт строительный материал конструкция расход строительный материал технология конструкция инженерный конструкция строительство объект проектный инженерный план исполнительный исполнительный конструкция строительство исполнительный участие согласование строительство проектный материал конструкция строительный объект участие формирование объект эксплуатация строительный надзор строительный должность инженер надзор строительство строительный производство расход материал строительный autocad строительство строительный',\n",
       " 'предприятие приглашать водитель автомобиль предлагать предприятие раз бесплатный приготовление техника желание карта автомобиль поддержание автомобиль состояние',\n",
       " 'выполнять выполнять нормативный порядок исполнительный отчет охрана состояние здание состояние охрана безопасность здание проектный выполнять участие эксплуатация объект строительство участие строительный строительство объект должность инженер технология производство нормативный материал проектный строительный информация строительство социальный ребенок',\n",
       " 'техника водитель строительный объект',\n",
       " 'покупатель лекарственный препарат лечебный лекарственный фармацевтический порядок фармацевтический действующий сертификат аптека сертификат счет готовый другой уровень счет карьерный аптечный учреждение дружный',\n",
       " 'создание внедрение автоматизация бизнес процесс большой разработчик участие развиваться web создание код язык участие проектирование web участие проектный программный участие web написание сервер сервис желание принцип английский язык уровень час дмс бесплатный кафе',\n",
       " 'который стандарт готовый приветствоваться создание стандарт ценность консультация предлагать блюдо напиток порядок напиток другой посуда склад производство состояние ресторан бар технологический стаж официант лицо средний должность удостоверение сертификат охрана человек безопасность сертификат проживание',\n",
       " 'должность хороший человек дело чистота порядок сопроводительный выполнять свой человек язык напиток гость предлагать свой гость который который интересный час',\n",
       " 'конструкция формирование чертеж конструкция отчет autocad английский язык уровень строительство социальный уровень',\n",
       " 'доставка строительный водитель экспедитор автомобиль доставка магазин вождение автомобиль груз желание действующий хороший готовый поддержка',\n",
       " 'приложение который мобильный приложение помощь новый код который тестирование мобильный приложение человек разработчик тестирование задача новый задача новый мобильный приложение приложение исследование поддержка автоматизация процесс тестирование java приложение участие код приветствоваться написание другой язык технология желание язык программирование',\n",
       " 'водитель категория стаж транспорт проживание счет',\n",
       " 'раздел проектный строительный объект материал исполнительный производство уровень',\n",
       " 'монтаж монтаж настройка сетевой программный помощь настройка монтаж монтаж монтаж тестирование дружный бесплатный',\n",
       " 'повар аккуратность технологический процесс приготовление блюдо приготовление горячий блюдо хранение технология приготовление блюдо технологический карта поддержание порядок повар стандарт приготовление блюдо действующий бесплатный раз',\n",
       " 'кухня кухня расход производственный расход приготовление стандарт безопасность должность склад материальный расход должность повар сетевой ресторан выходной социальный бесплатный мед счет бесплатный карьерный',\n",
       " 'доставка раз',\n",
       " 'производство приглашать логистика доставка груз грамотный маршрут доставка сопровождение перевозка товарный сопроводительный первичный логистика перевозка транспорт аккуратность уровень мобильный дмс',\n",
       " 'приготовление блюдо цех технологический карта хранение порядок чистота новый ресторан час бесплатный карьерный',\n",
       " 'персонал право право право право',\n",
       " 'сайт настройка сайт язык web программирование',\n",
       " 'средний сертификат специальность сертификат специальность час',\n",
       " 'осмотр ремонт свой транспортный расход транспорт расход водитель водитель транспорт средний социальный мобильный',\n",
       " 'водительский категория автомобиль стаж вождение аккуратность автомобиль доставка материальный',\n",
       " 'сестринский врач ребенок амбулаторный врач пациент кабинет средний сертификат сестринский дело клиника квалификация карьерный',\n",
       " 'монтажный монтаж монтаж монтаж монтаж инженер',\n",
       " 'консультация сдача обработка сдача бизнес сдача сдача',\n",
       " 'эксплуатация недвижимость который новый готовый развиваться недвижимость желание готовый база объект желание интересный',\n",
       " 'хороший готовый развиваться администрирование поддержание написание новый сервис доработка помощь поддержание плюс город дружный мероприятие приветствоваться',\n",
       " 'excel',\n",
       " 'который кухня дело специальность карьерный дружный желание аккуратность стандарт ресторан приготовление блюдо стандарт ресторан счет предприятие доставка счет предприятие дружный',\n",
       " 'задача поставщик формирование формирование технологический карта монтаж приглашать дело должность другой должность транспортный предлагать уровень интересный задача',\n",
       " 'бухгалтерский первичный склад счет счет формирование отчет сверка контрагент формирование сверка поставщик новый контрагент формирование сверка поставщик специальность бухгалтерский хороший excel хороший',\n",
       " 'должность поставщик обработка создание информация код согласование размещение производство отгрузка отгрузка транспортный груз склад создание задача создание язык транспортный груз отгрузка информация склад логистика информация принцип новый груз тестирование должность логистика английский язык сопроводительный',\n",
       " 'покупатель чистота отчет желание покупатель хороший бесплатный дружный',\n",
       " 'выполнять должность большой',\n",
       " 'техника программирование участие готовый производство сопровождение производство информационный технология проектирование создание проектирование объект база производство понимание принцип назначение проектирование создание средний конструкция формирование производство обработка уровень',\n",
       " 'управленческий план управленческий отчетность отражение счет контрагент задолженность задолженность участие отчет бухгалтерский бухгалтерия хороший уровень торговля формирование отчет excel обработка большой информация база word задача техника строительство объект человек финансовый логистика транспорт',\n",
       " 'город разработчик хранение база новый задача новый сервис обработка хранение информация технологический сервис участие программирование база человек человек',\n",
       " 'ремонт эксплуатация здание ремонт монтаж средний должность бесплатный доставка транспорт предприятие маршрут',\n",
       " 'технологический',\n",
       " 'новый формирование отчетность человек грамотный речь город дружный',\n",
       " 'строительный процесс материал строительный отчет персонал объект человек строительный технология исполнительный строительный чертеж выполнять проживание',\n",
       " 'надзор строительный монтажный строительный монтажный конструкция проектный сметный чертеж строительный стандарт охрана участие согласование строительство проектный материал конструкция строительный объект строительный монтажный участие строительный монтажный исполнительный строительный монтажный отчетность план строительство отчетность выполнять поручение свой аккуратность задача',\n",
       " 'отчет банк поставщик сверка первичный контрагент специальность бухгалтерский должность уровень английский язык социальный дмс квалификация карьерный',\n",
       " 'поддержка сервер приложение база сервер сервер программный операция поддержка поставщик сервер английский язык уровень уровень windows сервер сетевой поддержка администрирование настройка сервер база sql сетевой плюс уровень дмс мобильный',\n",
       " 'автомобиль карта выходной база',\n",
       " 'мероприятие желание участие мероприятие участие отчетность хороший английский приветствоваться мероприятие',\n",
       " 'строительный монтажный уровень строительный монтажный деятельность состояние производственный проектный технологический охрана техника безопасность производственный безопасность надзор строительный монтажный материал материальный финансовый производственный охрана техника безопасность',\n",
       " 'база согласование персонал грамотный речь интересный задача дружный карьерный',\n",
       " 'обработка windows настройка поддержание программный первичный диагностика информационный платформа windows диагностика ремонт хороший техника настройка сетевой технология назначение принцип настройка сетевой',\n",
       " 'обработка первичный товарный выполнять отчет сверка контрагент формирование экономический бухгалтерский бухгалтерский word excel бухгалтерия большой информация',\n",
       " 'сервис доставка развиваться сервис приглашать водитель автомобиль магазин право категория стаж вождение приглашать человек свой автомобиль предлагать карьерный расход',\n",
       " 'погрузка раз',\n",
       " 'доставка транспортный водитель автомобиль доставка водительский право категория хороший автомобиль водитель средний карта',\n",
       " 'администрирование база задача информационный база sql состояние информация база база sql выполнять задача поддержка квалификация информационный администрирование эксплуатация sql сервер база база сетевой задача администрирование база sql sql язык sql написание процедура sql технология объект конфигурация хранение sql windows уровень информационный web сервис хранение',\n",
       " 'квалификация проживание проживание посуда свой свой свой счет',\n",
       " 'перевозка груз транспорт обработка водитель маршрут выполнять процесс перевозка новый согласование поставщик выполнять отчетность транспортный транспортный категория перевозка груз транспорт большой уровень интересный задача дружный социальный мобильный',\n",
       " 'клиника пациент грамотный речь деятельность задача приложение час',\n",
       " 'кухня большой который готовый приглашать производство готовый производственный размещение хранение готовый готовый средний социальный карьерный час процесс транспорт',\n",
       " 'конструкция',\n",
       " 'производство строительство инженерный выполнять производство исполнительный согласование проектный материал объект строительство строительство согласование проектный сметный отчетность объект строительство инженерный строительство строительство строительный строительство ремонт объект эксплуатация строительство должность строительство нормативный мобильный объект',\n",
       " 'деятельность предприятие новый производственный процесс человек город первичный бухгалтерский обработка отражение счет бухгалтерский операция товарный материальный ценность денежный начисление налог бюджет социальный учреждение другой материальный бухгалтерский отчетность бухгалтерский',\n",
       " 'человек объект',\n",
       " 'человек должность логистика погрузочный погрузка формирование груз транспорт погрузка речь карьерный',\n",
       " 'сервис платформа который большой свой платформа хороший платформа территория оказание консультация согласование сдача отчетность квалификация техника помощь средний территория платформа принцип отчетность',\n",
       " 'доставка денежный маршрут автомобиль водитель экспедитор',\n",
       " 'начисление отчетность отчет обработка первичный счет должность главный бухгалтер бухгалтер материал excel который уровень интересный задача доставка предприятие транспорт',\n",
       " 'территория приглашать участие бухгалтер дмс поставщик бизнес процесс внедрение новый бизнес социальный база база новый обработка сверка бухгалтерский управленческий сверка производственный задача карьерный час задача развиваться',\n",
       " 'консультация покупатель аптека лекарственный состояние сертификат приветствоваться стаж фармацевтический аптека word excel сертификат карьерный',\n",
       " 'участие сопровождение платформа согласование инженер процесс задача участие внедрение новый бизнес процесс задача участие новый доработка платформа инженерный задача разработчик создание социальный социальный дмс кабинет другой доставка транспорт',\n",
       " 'принцип дело пациент человек свой дело препарат задача территория бизнес информация лицо мероприятие квалификация фармацевтический информация препарат препарат грамотный речь план дмс автомобиль мобильный новый который который',\n",
       " 'сопровождение счет формирование отчет задолженность отчет экономический экономический бухгалтерский excel карьерный бухгалтерия экономический финансовый',\n",
       " 'ресторан гость гость ресторан блюдо напиток гость ресторан приветствоваться бесплатный час уровень карьерный интересный',\n",
       " 'бизнес другой финансовый готовый свой сетевой сопроводительный сервис база новый программный план сопровождение уровень лицо участие участие процедура отчетность участие мероприятие программный информационный безопасность уровень технологический план готовый дружный карьерный новый хороший другой',\n",
       " 'задача доставка отчетность автомобиль перевозка стаж вождение кассовый автомобиль водительский категория право законодательство хороший расход',\n",
       " 'приглашать кладовщик хранение склад склад склад кладовщик раз законодательство материальный помощь средний стаж магазин кафе бесплатный дружный квалификация карьерный',\n",
       " 'производство проектный сметный безопасность производство производство проектный сметный объект строительный средний специальность строительство строительство уровень проживание новый счет',\n",
       " 'приглашать врач консультация диагностика план лечение лечение лечение конструкция действующий сертификат специальность приветствоваться материал дружный бесплатный лечение клиника',\n",
       " 'java web sql sql web',\n",
       " 'финансовый технология разработчик управленческий информационный технология приглашать должность участие внедрение администрирование настройка поддержка бизнес настройка тестирование участие поддержка процесс принцип администрирование внедрение процесс платформа уровень создание база создание информационный желание технологический счет дмс поддержание хороший',\n",
       " 'внедрение программный бизнес приглашать разработчик интересный приложение поддержка приложение участие мобильный технология проектирование плюс приложение плюс технология дружный готовый новый помощь счет карьерный',\n",
       " 'гость кассовый торговля бар ресторан бар приготовление горячий напиток карта приготовление напиток карта гость напиток блюдо меню отель новый социальный транспорт',\n",
       " 'ребенок исследование пациент сдача пациент кассовый техника финансовый формирование действующий сертификат сестринский дело сестринский дело ребенок желание кассовый техника социальный',\n",
       " 'транспортный транспортный логистика транспортный логистика перевозка транспорт водитель маршрут сопроводительный бухгалтерия транспортный задолженность отчетность новый транспортный транспортный перевозка транспортный расход логистика логистика другой склад должность склад excel',\n",
       " 'гость сопровождение помощь официант гость грамотный речь',\n",
       " ...]"
      ]
     },
     "execution_count": 45,
     "metadata": {},
     "output_type": "execute_result"
    }
   ],
   "source": [
    "[' '.join(x) for x in X_train['clean'].values if x]"
   ]
  },
  {
   "cell_type": "code",
   "execution_count": 51,
   "metadata": {},
   "outputs": [],
   "source": [
    "def class_(text, cl_words):\n",
    "    i = 0\n",
    "    for word in text:\n",
    "        if word in cl_words:\n",
    "            i += 1\n",
    "    return i"
   ]
  },
  {
   "cell_type": "code",
   "execution_count": 55,
   "metadata": {
    "scrolled": true
   },
   "outputs": [
    {
     "name": "stderr",
     "output_type": "stream",
     "text": [
      "/Users/antonina.goryacheva/anaconda3/lib/python3.7/site-packages/ipykernel_launcher.py:1: SettingWithCopyWarning: \n",
      "A value is trying to be set on a copy of a slice from a DataFrame.\n",
      "Try using .loc[row_indexer,col_indexer] = value instead\n",
      "\n",
      "See the caveats in the documentation: http://pandas.pydata.org/pandas-docs/stable/user_guide/indexing.html#returning-a-view-versus-a-copy\n",
      "  \"\"\"Entry point for launching an IPython kernel.\n",
      "/Users/antonina.goryacheva/anaconda3/lib/python3.7/site-packages/ipykernel_launcher.py:2: SettingWithCopyWarning: \n",
      "A value is trying to be set on a copy of a slice from a DataFrame.\n",
      "Try using .loc[row_indexer,col_indexer] = value instead\n",
      "\n",
      "See the caveats in the documentation: http://pandas.pydata.org/pandas-docs/stable/user_guide/indexing.html#returning-a-view-versus-a-copy\n",
      "  \n",
      "/Users/antonina.goryacheva/anaconda3/lib/python3.7/site-packages/ipykernel_launcher.py:3: SettingWithCopyWarning: \n",
      "A value is trying to be set on a copy of a slice from a DataFrame.\n",
      "Try using .loc[row_indexer,col_indexer] = value instead\n",
      "\n",
      "See the caveats in the documentation: http://pandas.pydata.org/pandas-docs/stable/user_guide/indexing.html#returning-a-view-versus-a-copy\n",
      "  This is separate from the ipykernel package so we can avoid doing imports until\n",
      "/Users/antonina.goryacheva/anaconda3/lib/python3.7/site-packages/ipykernel_launcher.py:4: SettingWithCopyWarning: \n",
      "A value is trying to be set on a copy of a slice from a DataFrame.\n",
      "Try using .loc[row_indexer,col_indexer] = value instead\n",
      "\n",
      "See the caveats in the documentation: http://pandas.pydata.org/pandas-docs/stable/user_guide/indexing.html#returning-a-view-versus-a-copy\n",
      "  after removing the cwd from sys.path.\n",
      "/Users/antonina.goryacheva/anaconda3/lib/python3.7/site-packages/ipykernel_launcher.py:5: SettingWithCopyWarning: \n",
      "A value is trying to be set on a copy of a slice from a DataFrame.\n",
      "Try using .loc[row_indexer,col_indexer] = value instead\n",
      "\n",
      "See the caveats in the documentation: http://pandas.pydata.org/pandas-docs/stable/user_guide/indexing.html#returning-a-view-versus-a-copy\n",
      "  \"\"\"\n",
      "/Users/antonina.goryacheva/anaconda3/lib/python3.7/site-packages/ipykernel_launcher.py:6: SettingWithCopyWarning: \n",
      "A value is trying to be set on a copy of a slice from a DataFrame.\n",
      "Try using .loc[row_indexer,col_indexer] = value instead\n",
      "\n",
      "See the caveats in the documentation: http://pandas.pydata.org/pandas-docs/stable/user_guide/indexing.html#returning-a-view-versus-a-copy\n",
      "  \n"
     ]
    }
   ],
   "source": [
    "X_train['class0'] = X_train['clean'].apply(lambda x: class_(x, cl_words0))\n",
    "X_train['class1'] = X_train['clean'].apply(lambda x: class_(x, cl_words1))\n",
    "X_train['class2'] = X_train['clean'].apply(lambda x: class_(x, cl_words2))\n",
    "X_train['class3'] = X_train['clean'].apply(lambda x: class_(x, cl_words3))\n",
    "X_train['class4'] = X_train['clean'].apply(lambda x: class_(x, cl_words4))\n",
    "X_train['class5'] = X_train['clean'].apply(lambda x: class_(x, cl_words5))"
   ]
  },
  {
   "cell_type": "code",
   "execution_count": 57,
   "metadata": {
    "scrolled": true
   },
   "outputs": [
    {
     "name": "stderr",
     "output_type": "stream",
     "text": [
      "/Users/antonina.goryacheva/anaconda3/lib/python3.7/site-packages/ipykernel_launcher.py:1: SettingWithCopyWarning: \n",
      "A value is trying to be set on a copy of a slice from a DataFrame.\n",
      "Try using .loc[row_indexer,col_indexer] = value instead\n",
      "\n",
      "See the caveats in the documentation: http://pandas.pydata.org/pandas-docs/stable/user_guide/indexing.html#returning-a-view-versus-a-copy\n",
      "  \"\"\"Entry point for launching an IPython kernel.\n",
      "/Users/antonina.goryacheva/anaconda3/lib/python3.7/site-packages/ipykernel_launcher.py:2: SettingWithCopyWarning: \n",
      "A value is trying to be set on a copy of a slice from a DataFrame.\n",
      "Try using .loc[row_indexer,col_indexer] = value instead\n",
      "\n",
      "See the caveats in the documentation: http://pandas.pydata.org/pandas-docs/stable/user_guide/indexing.html#returning-a-view-versus-a-copy\n",
      "  \n",
      "/Users/antonina.goryacheva/anaconda3/lib/python3.7/site-packages/ipykernel_launcher.py:3: SettingWithCopyWarning: \n",
      "A value is trying to be set on a copy of a slice from a DataFrame.\n",
      "Try using .loc[row_indexer,col_indexer] = value instead\n",
      "\n",
      "See the caveats in the documentation: http://pandas.pydata.org/pandas-docs/stable/user_guide/indexing.html#returning-a-view-versus-a-copy\n",
      "  This is separate from the ipykernel package so we can avoid doing imports until\n",
      "/Users/antonina.goryacheva/anaconda3/lib/python3.7/site-packages/ipykernel_launcher.py:4: SettingWithCopyWarning: \n",
      "A value is trying to be set on a copy of a slice from a DataFrame.\n",
      "Try using .loc[row_indexer,col_indexer] = value instead\n",
      "\n",
      "See the caveats in the documentation: http://pandas.pydata.org/pandas-docs/stable/user_guide/indexing.html#returning-a-view-versus-a-copy\n",
      "  after removing the cwd from sys.path.\n",
      "/Users/antonina.goryacheva/anaconda3/lib/python3.7/site-packages/ipykernel_launcher.py:5: SettingWithCopyWarning: \n",
      "A value is trying to be set on a copy of a slice from a DataFrame.\n",
      "Try using .loc[row_indexer,col_indexer] = value instead\n",
      "\n",
      "See the caveats in the documentation: http://pandas.pydata.org/pandas-docs/stable/user_guide/indexing.html#returning-a-view-versus-a-copy\n",
      "  \"\"\"\n",
      "/Users/antonina.goryacheva/anaconda3/lib/python3.7/site-packages/ipykernel_launcher.py:6: SettingWithCopyWarning: \n",
      "A value is trying to be set on a copy of a slice from a DataFrame.\n",
      "Try using .loc[row_indexer,col_indexer] = value instead\n",
      "\n",
      "See the caveats in the documentation: http://pandas.pydata.org/pandas-docs/stable/user_guide/indexing.html#returning-a-view-versus-a-copy\n",
      "  \n"
     ]
    }
   ],
   "source": [
    "X_valid['class0'] = X_valid['clean'].apply(lambda x: class_(x, cl_words0))\n",
    "X_valid['class1'] = X_valid['clean'].apply(lambda x: class_(x, cl_words1))\n",
    "X_valid['class2'] = X_valid['clean'].apply(lambda x: class_(x, cl_words2))\n",
    "X_valid['class3'] = X_valid['clean'].apply(lambda x: class_(x, cl_words3))\n",
    "X_valid['class4'] = X_valid['clean'].apply(lambda x: class_(x, cl_words4))\n",
    "X_valid['class5'] = X_valid['clean'].apply(lambda x: class_(x, cl_words5))"
   ]
  },
  {
   "cell_type": "code",
   "execution_count": 58,
   "metadata": {},
   "outputs": [],
   "source": [
    "X_test['class0'] = X_test['clean'].apply(lambda x: class_(x, cl_words0))\n",
    "X_test['class1'] = X_test['clean'].apply(lambda x: class_(x, cl_words1))\n",
    "X_test['class2'] = X_test['clean'].apply(lambda x: class_(x, cl_words2))\n",
    "X_test['class3'] = X_test['clean'].apply(lambda x: class_(x, cl_words3))\n",
    "X_test['class4'] = X_test['clean'].apply(lambda x: class_(x, cl_words4))\n",
    "X_test['class5'] = X_test['clean'].apply(lambda x: class_(x, cl_words5))"
   ]
  },
  {
   "cell_type": "code",
   "execution_count": 59,
   "metadata": {},
   "outputs": [],
   "source": [
    "# Импортируем библиотеки Word2Vec\n",
    "from gensim.models.word2vec import Word2Vec # Собственно модель.\n",
    "from gensim.models.word2vec import LineSentence # Выравнивание текста по предложениям.\n",
    "from gensim.models import KeyedVectors # Семантические вектора.\n",
    "\n",
    "import numpy as np"
   ]
  },
  {
   "cell_type": "code",
   "execution_count": 60,
   "metadata": {},
   "outputs": [],
   "source": [
    "all_texts = [x.split(' ') for x in text_list]"
   ]
  },
  {
   "cell_type": "code",
   "execution_count": 63,
   "metadata": {},
   "outputs": [
    {
     "name": "stdout",
     "output_type": "stream",
     "text": [
      "CPU times: user 2min 22s, sys: 1.66 s, total: 2min 23s\n",
      "Wall time: 1min 12s\n"
     ]
    }
   ],
   "source": [
    "%%time\n",
    "\n",
    "# список параметров, которые можно менять по вашему желанию\n",
    "num_features = 50  # итоговая размерность вектора каждого слова\n",
    "min_word_count = 2  # минимальная частотность слова, чтобы оно попало в модель\n",
    "num_workers = 4     # количество ядер вашего процессора, чтоб запустить обучение в несколько потоков\n",
    "context = 10        # размер окна \n",
    "downsampling = 1e-3 # внутренняя метрика модели\n",
    "\n",
    "model = Word2Vec(all_texts, \n",
    "                 workers=num_workers, \n",
    "                 size=num_features,\n",
    "                 min_count=min_word_count, \n",
    "                 window=context,\n",
    "                 sample=downsampling)"
   ]
  },
  {
   "cell_type": "code",
   "execution_count": 64,
   "metadata": {},
   "outputs": [
    {
     "name": "stderr",
     "output_type": "stream",
     "text": [
      "/Users/antonina.goryacheva/anaconda3/lib/python3.7/site-packages/ipykernel_launcher.py:4: DeprecationWarning: Call to deprecated `__getitem__` (Method will be removed in 4.0.0, use self.wv.__getitem__() instead).\n",
      "  after removing the cwd from sys.path.\n"
     ]
    }
   ],
   "source": [
    "dct = {}\n",
    "\n",
    "for word in model.wv.index2word:\n",
    "    dct[word] = model[word]"
   ]
  },
  {
   "cell_type": "code",
   "execution_count": 65,
   "metadata": {},
   "outputs": [],
   "source": [
    "words = pd.DataFrame.from_dict(dct, orient='index')"
   ]
  },
  {
   "cell_type": "code",
   "execution_count": 66,
   "metadata": {},
   "outputs": [
    {
     "data": {
      "text/plain": [
       "(42856, 50)"
      ]
     },
     "execution_count": 66,
     "metadata": {},
     "output_type": "execute_result"
    }
   ],
   "source": [
    "words.shape"
   ]
  },
  {
   "cell_type": "code",
   "execution_count": 67,
   "metadata": {},
   "outputs": [],
   "source": [
    "index2word_set = set(model.wv.index2word)\n",
    "\n",
    "def text_to_vec(text):\n",
    "    text_vec = np.zeros((model.vector_size,), dtype=\"float32\")\n",
    "    n_words = 0\n",
    "\n",
    "    for word in text.split(' '):\n",
    "        if word in index2word_set:\n",
    "            n_words = n_words + 1\n",
    "            text_vec = np.add(text_vec, model[word]) \n",
    "    if n_words != 0:\n",
    "        text_vec /= n_words\n",
    "    return text_vec"
   ]
  },
  {
   "cell_type": "code",
   "execution_count": 68,
   "metadata": {},
   "outputs": [
    {
     "name": "stderr",
     "output_type": "stream",
     "text": [
      "/Users/antonina.goryacheva/anaconda3/lib/python3.7/site-packages/ipykernel_launcher.py:10: DeprecationWarning: Call to deprecated `__getitem__` (Method will be removed in 4.0.0, use self.wv.__getitem__() instead).\n",
      "  # Remove the CWD from sys.path while we load stuff.\n"
     ]
    }
   ],
   "source": [
    "text_vec = [text_to_vec(txt) for txt in text_list]"
   ]
  },
  {
   "cell_type": "code",
   "execution_count": 69,
   "metadata": {},
   "outputs": [],
   "source": [
    "train_vec = text_vec[:len(train_list)]\n",
    "valid_vec = text_vec[len(train_list):len(train_list)+len(valid_list)]\n",
    "test_vec = text_vec[len(train_list)+len(valid_list):len(train_list)+len(valid_list)+len(test_list)] "
   ]
  },
  {
   "cell_type": "code",
   "execution_count": 20,
   "metadata": {},
   "outputs": [],
   "source": [
    "# tfidf_m = tfidf.transform(text_list).todense()\n",
    "\n",
    "# train_tfidf = tfidf_m[:len(train_list)]\n",
    "# valid_tfidf = tfidf_m[len(train_list):len(train_list)+len(valid_list)]\n",
    "# test_tfidf  = tfidf_m[len(train_list)+len(valid_list):len(train_list)+len(valid_list)+len(test_list)] \n",
    "\n",
    "# train_matrix = np.hstack((train_vec, train_tfidf))\n",
    "\n",
    "# valid_matrix = np.hstack((valid_vec, valid_tfidf))\n",
    "\n",
    "# test_matrix = np.hstack((test_vec, test_tfidf))"
   ]
  },
  {
   "cell_type": "code",
   "execution_count": 91,
   "metadata": {},
   "outputs": [],
   "source": [
    "X_train_upd = X_train.reset_index(drop=True).join(pd.DataFrame(train_vec)).drop(['text', 'clean'], axis=1)"
   ]
  },
  {
   "cell_type": "code",
   "execution_count": 92,
   "metadata": {},
   "outputs": [],
   "source": [
    "X_valid_upd = X_valid.reset_index(drop=True).join(pd.DataFrame(valid_vec)).drop(['text', 'clean'], axis=1)"
   ]
  },
  {
   "cell_type": "code",
   "execution_count": 93,
   "metadata": {},
   "outputs": [],
   "source": [
    "X_test_upd = X_test.reset_index(drop=True).join(pd.DataFrame(test_vec)).drop(['text', 'clean'], axis=1)"
   ]
  },
  {
   "cell_type": "markdown",
   "metadata": {},
   "source": [
    "## Train"
   ]
  },
  {
   "cell_type": "code",
   "execution_count": 103,
   "metadata": {},
   "outputs": [],
   "source": [
    "from xgboost import XGBClassifier"
   ]
  },
  {
   "cell_type": "code",
   "execution_count": 104,
   "metadata": {},
   "outputs": [],
   "source": [
    "clf = XGBClassifier(objective='multi:softmax', num_class=6)"
   ]
  },
  {
   "cell_type": "code",
   "execution_count": 111,
   "metadata": {},
   "outputs": [],
   "source": [
    "param_grid = {'n_estimators':  range(150, 300, 50),\n",
    "          'learning_rate': [.1],\n",
    "          'max_depth': range(2, 6, 2),\n",
    "          'subsample': [ .5, .6, .95, 1, .1, .3],\n",
    "          'gamma': [0, .05, .1, .2, .25, 0.01, 0.02],\n",
    "          'colsample_bytree': [1, .10, .50],\n",
    "          'colsample_bylevel': [1, .3, .1, .5, .7, .9],\n",
    "          'reg_alpha': [0, 0.1, 0.3, 0.5, 0.7, 1],\n",
    "          'reg_lambda': [0, 0.1, 0.3, 0.5, 0.7, 1],\n",
    "          'scale_pos_weight': [1, 10, 25, 50],\n",
    "          'objective':'multi:softmax',\n",
    "          'num_class':[6] }"
   ]
  },
  {
   "cell_type": "code",
   "execution_count": 114,
   "metadata": {},
   "outputs": [],
   "source": [
    "X_train_upd.drop('target', axis=1, inplace=True)"
   ]
  },
  {
   "cell_type": "code",
   "execution_count": 128,
   "metadata": {},
   "outputs": [
    {
     "name": "stdout",
     "output_type": "stream",
     "text": [
      "Fitting 5 folds for each of 10 candidates, totalling 50 fits\n"
     ]
    },
    {
     "name": "stderr",
     "output_type": "stream",
     "text": [
      "[Parallel(n_jobs=-1)]: Using backend LokyBackend with 4 concurrent workers.\n",
      "[Parallel(n_jobs=-1)]: Done  33 tasks      | elapsed: 14.7min\n",
      "[Parallel(n_jobs=-1)]: Done  50 out of  50 | elapsed: 23.5min finished\n"
     ]
    },
    {
     "data": {
      "text/plain": [
       "RandomizedSearchCV(cv=StratifiedKFold(n_splits=5, random_state=123, shuffle=True),\n",
       "          error_score='raise-deprecating',\n",
       "          estimator=XGBClassifier(base_score=0.5, booster='gbtree', colsample_bylevel=1,\n",
       "       colsample_bytree=1, gamma=0, learning_rate=0.1, max_delta_step=0,\n",
       "       max_depth=3, min_child_weight=1, missing=None, n_estimators=100,\n",
       "       n_jobs=1, nthread=None, num_class=6, objective='multi:softprob',\n",
       "       random_state=0, reg_alpha=0, reg_lambda=1, scale_pos_weight=1,\n",
       "       seed=None, silent=True, subsample=1),\n",
       "          fit_params=None, iid='warn', n_iter=10, n_jobs=-1,\n",
       "          param_distributions={'n_estimators': range(150, 300, 50), 'learning_rate': [0.1], 'max_depth': range(2, 6, 2), 'subsample': [0.5, 0.6, 0.95, 1, 0.1, 0.3], 'gamma': [0, 0.05, 0.1, 0.2, 0.25, 0.01, 0.02], 'colsample_bytree': [1, 0.1, 0.5], 'colsample_bylevel': [1, 0.3, 0.1, 0.5, 0.7, 0.9], 'reg_alpha': [0, 0.1, 0.3, 0.5, 0.7, 1], 'reg_lambda': [0, 0.1, 0.3, 0.5, 0.7, 1], 'scale_pos_weight': [1, 10, 25, 50], 'objective': 'multi:softmax', 'num_class': [6]},\n",
       "          pre_dispatch='2*n_jobs', random_state=42, refit=True,\n",
       "          return_train_score='warn', scoring='accuracy', verbose=2)"
      ]
     },
     "execution_count": 128,
     "metadata": {},
     "output_type": "execute_result"
    }
   ],
   "source": [
    "# Задаем схему кросс-валидации\n",
    "cv = StratifiedKFold(n_splits=5, shuffle=True, random_state=123)\n",
    "\n",
    "# Запускаем поиск гиперпараметров\n",
    "hyper_search = RandomizedSearchCV(clf, param_grid, n_iter=10, scoring='accuracy', cv=cv,\n",
    "                                  n_jobs=-1, refit=True, random_state=42, verbose=2)\n",
    "\n",
    "hyper_search.fit(X_train_upd, y_train)"
   ]
  },
  {
   "cell_type": "code",
   "execution_count": 130,
   "metadata": {},
   "outputs": [
    {
     "data": {
      "text/plain": [
       "0.9218635025754232"
      ]
     },
     "execution_count": 130,
     "metadata": {},
     "output_type": "execute_result"
    }
   ],
   "source": [
    "hyper_search.best_score_"
   ]
  },
  {
   "cell_type": "code",
   "execution_count": 132,
   "metadata": {},
   "outputs": [
    {
     "data": {
      "text/plain": [
       "XGBClassifier(base_score=0.5, booster='gbtree', colsample_bylevel=0.9,\n",
       "       colsample_bytree=1, gamma=0.05, learning_rate=0.1, max_delta_step=0,\n",
       "       max_depth=4, min_child_weight=1, missing=None, n_estimators=250,\n",
       "       n_jobs=1, nthread=None, num_class=6, objective='multi:softprob',\n",
       "       random_state=0, reg_alpha=0.1, reg_lambda=0.1, scale_pos_weight=25,\n",
       "       seed=None, silent=True, subsample=0.5)"
      ]
     },
     "execution_count": 132,
     "metadata": {},
     "output_type": "execute_result"
    }
   ],
   "source": [
    "hyper_search.best_estimator_"
   ]
  },
  {
   "cell_type": "code",
   "execution_count": 105,
   "metadata": {},
   "outputs": [
    {
     "data": {
      "text/plain": [
       "XGBClassifier(base_score=0.5, booster='gbtree', colsample_bylevel=1,\n",
       "       colsample_bytree=1, gamma=0, learning_rate=0.1, max_delta_step=0,\n",
       "       max_depth=3, min_child_weight=1, missing=None, n_estimators=100,\n",
       "       n_jobs=1, nthread=None, num_class=6, objective='multi:softprob',\n",
       "       random_state=0, reg_alpha=0, reg_lambda=1, scale_pos_weight=1,\n",
       "       seed=None, silent=True, subsample=1)"
      ]
     },
     "execution_count": 105,
     "metadata": {},
     "output_type": "execute_result"
    }
   ],
   "source": [
    "clf.fit(X_train_upd, y_train)"
   ]
  },
  {
   "cell_type": "code",
   "execution_count": 133,
   "metadata": {},
   "outputs": [],
   "source": [
    "pred = hyper_search.predict_proba(X_valid_upd)"
   ]
  },
  {
   "cell_type": "code",
   "execution_count": 134,
   "metadata": {},
   "outputs": [],
   "source": [
    "y_pred = np.argmax(pred, axis=1)"
   ]
  },
  {
   "cell_type": "code",
   "execution_count": 135,
   "metadata": {},
   "outputs": [
    {
     "data": {
      "text/plain": [
       "array([2, 0, 2, ..., 0, 5, 0])"
      ]
     },
     "execution_count": 135,
     "metadata": {},
     "output_type": "execute_result"
    }
   ],
   "source": [
    "y_pred"
   ]
  },
  {
   "cell_type": "code",
   "execution_count": 136,
   "metadata": {},
   "outputs": [
    {
     "data": {
      "text/plain": [
       "0.9212361841399291"
      ]
     },
     "execution_count": 136,
     "metadata": {},
     "output_type": "execute_result"
    }
   ],
   "source": [
    "accuracy_score(y_valid, y_pred)"
   ]
  },
  {
   "cell_type": "code",
   "execution_count": 137,
   "metadata": {},
   "outputs": [],
   "source": [
    "pred = hyper_search.predict_proba(X_test_upd)"
   ]
  },
  {
   "cell_type": "code",
   "execution_count": 138,
   "metadata": {},
   "outputs": [],
   "source": [
    "y_pred = np.argmax(pred, axis=1)"
   ]
  },
  {
   "cell_type": "code",
   "execution_count": 139,
   "metadata": {},
   "outputs": [],
   "source": [
    "test['target'] = y_pred\n",
    "test[['target']].reset_index().to_csv('submission_2.csv', index=False)"
   ]
  },
  {
   "cell_type": "code",
   "execution_count": 140,
   "metadata": {},
   "outputs": [],
   "source": [
    "def func(val, l=[]):\n",
    "    l.append(val)\n",
    "    return l"
   ]
  },
  {
   "cell_type": "code",
   "execution_count": 141,
   "metadata": {},
   "outputs": [
    {
     "name": "stdout",
     "output_type": "stream",
     "text": [
      "[1]\n",
      "[1, 2]\n"
     ]
    }
   ],
   "source": [
    "print(func(1))\n",
    "print(func(2)) "
   ]
  },
  {
   "cell_type": "code",
   "execution_count": null,
   "metadata": {},
   "outputs": [],
   "source": []
  },
  {
   "cell_type": "code",
   "execution_count": 70,
   "metadata": {},
   "outputs": [],
   "source": [
    "from sklearn.datasets import fetch_mldata\n",
    "from sklearn.preprocessing import StandardScaler\n",
    "from sklearn import metrics\n",
    "from sklearn.model_selection import train_test_split\n",
    "from sklearn.linear_model import LogisticRegression\n",
    "import pandas as pd\n",
    "import numpy as np"
   ]
  },
  {
   "cell_type": "code",
   "execution_count": 97,
   "metadata": {},
   "outputs": [
    {
     "name": "stderr",
     "output_type": "stream",
     "text": [
      "/Users/antonina.goryacheva/anaconda3/lib/python3.7/site-packages/sklearn/preprocessing/data.py:625: DataConversionWarning: Data with input dtype int64, float64 were all converted to float64 by StandardScaler.\n",
      "  return self.partial_fit(X, y)\n",
      "/Users/antonina.goryacheva/anaconda3/lib/python3.7/site-packages/ipykernel_launcher.py:5: DataConversionWarning: Data with input dtype int64, float64 were all converted to float64 by StandardScaler.\n",
      "  \"\"\"\n",
      "/Users/antonina.goryacheva/anaconda3/lib/python3.7/site-packages/ipykernel_launcher.py:6: DataConversionWarning: Data with input dtype int64, float64 were all converted to float64 by StandardScaler.\n",
      "  \n",
      "/Users/antonina.goryacheva/anaconda3/lib/python3.7/site-packages/ipykernel_launcher.py:7: DataConversionWarning: Data with input dtype int64, float64 were all converted to float64 by StandardScaler.\n",
      "  import sys\n"
     ]
    }
   ],
   "source": [
    "scaler = StandardScaler()\n",
    "# Fit on training set only.\n",
    "scaler.fit(X_train_upd)\n",
    "# Apply transform to both the training set and the test set.\n",
    "train_img = scaler.transform(X_train_upd)\n",
    "valid_img = scaler.transform(X_valid_upd)\n",
    "test_img = scaler.transform(X_test_upd)"
   ]
  },
  {
   "cell_type": "code",
   "execution_count": null,
   "metadata": {},
   "outputs": [],
   "source": []
  },
  {
   "cell_type": "code",
   "execution_count": 98,
   "metadata": {},
   "outputs": [
    {
     "name": "stderr",
     "output_type": "stream",
     "text": [
      "/Users/antonina.goryacheva/anaconda3/lib/python3.7/site-packages/sklearn/linear_model/logistic.py:460: FutureWarning: Default multi_class will be changed to 'auto' in 0.22. Specify the multi_class option to silence this warning.\n",
      "  \"this warning.\", FutureWarning)\n"
     ]
    },
    {
     "data": {
      "text/plain": [
       "LogisticRegression(C=1.0, class_weight=None, dual=False, fit_intercept=True,\n",
       "          intercept_scaling=1, max_iter=100, multi_class='warn',\n",
       "          n_jobs=None, penalty='l2', random_state=None, solver='lbfgs',\n",
       "          tol=0.0001, verbose=0, warm_start=False)"
      ]
     },
     "execution_count": 98,
     "metadata": {},
     "output_type": "execute_result"
    }
   ],
   "source": [
    "model = LogisticRegression(solver = 'lbfgs')\n",
    "model.fit(train_img, y_train)"
   ]
  },
  {
   "cell_type": "code",
   "execution_count": 116,
   "metadata": {},
   "outputs": [],
   "source": [
    "pred = model.predict(valid_img)"
   ]
  },
  {
   "cell_type": "code",
   "execution_count": 100,
   "metadata": {},
   "outputs": [],
   "source": [
    "from sklearn.metrics import accuracy_score"
   ]
  },
  {
   "cell_type": "code",
   "execution_count": 102,
   "metadata": {},
   "outputs": [
    {
     "data": {
      "text/plain": [
       "0.9191973387702543"
      ]
     },
     "execution_count": 102,
     "metadata": {},
     "output_type": "execute_result"
    }
   ],
   "source": [
    "accuracy_score(y_valid, pred)"
   ]
  },
  {
   "cell_type": "code",
   "execution_count": 117,
   "metadata": {},
   "outputs": [],
   "source": [
    "pred = model.predict(test_img)"
   ]
  },
  {
   "cell_type": "code",
   "execution_count": 118,
   "metadata": {},
   "outputs": [
    {
     "data": {
      "text/plain": [
       "array([4, 2, 5, ..., 0, 4, 5])"
      ]
     },
     "execution_count": 118,
     "metadata": {},
     "output_type": "execute_result"
    }
   ],
   "source": [
    "pred"
   ]
  },
  {
   "cell_type": "code",
   "execution_count": 122,
   "metadata": {},
   "outputs": [],
   "source": [
    "test['target'] = pred\n",
    "test[['target']].reset_index().to_csv('submission_1.csv', index=False)"
   ]
  },
  {
   "cell_type": "code",
   "execution_count": 126,
   "metadata": {},
   "outputs": [],
   "source": []
  },
  {
   "cell_type": "code",
   "execution_count": 127,
   "metadata": {},
   "outputs": [
    {
     "ename": "NameError",
     "evalue": "name 'train_matrix' is not defined",
     "output_type": "error",
     "traceback": [
      "\u001b[0;31m---------------------------------------------------------------------------\u001b[0m",
      "\u001b[0;31mNameError\u001b[0m                                 Traceback (most recent call last)",
      "\u001b[0;32m<ipython-input-127-5af6db90bc2d>\u001b[0m in \u001b[0;36m<module>\u001b[0;34m\u001b[0m\n\u001b[1;32m      6\u001b[0m                                   n_jobs=-1, refit=True, random_state=42, verbose=2)\n\u001b[1;32m      7\u001b[0m \u001b[0;34m\u001b[0m\u001b[0m\n\u001b[0;32m----> 8\u001b[0;31m \u001b[0mhyper_search\u001b[0m\u001b[0;34m.\u001b[0m\u001b[0mfit\u001b[0m\u001b[0;34m(\u001b[0m\u001b[0mtrain_matrix\u001b[0m\u001b[0;34m,\u001b[0m \u001b[0my_train\u001b[0m\u001b[0;34m)\u001b[0m\u001b[0;34m\u001b[0m\u001b[0;34m\u001b[0m\u001b[0m\n\u001b[0m",
      "\u001b[0;31mNameError\u001b[0m: name 'train_matrix' is not defined"
     ]
    }
   ],
   "source": [
    "# Задаем схему кросс-валидации\n",
    "cv = StratifiedKFold(n_splits=5, shuffle=True, random_state=123)\n",
    "\n",
    "# Запускаем поиск гиперпараметров\n",
    "hyper_search = RandomizedSearchCV(clf, param_grid, n_iter=10, scoring='accuracy', cv=cv,\n",
    "                                  n_jobs=-1, refit=True, random_state=42, verbose=2)\n",
    "\n",
    "hyper_search.fit(train_matrix, y_train)"
   ]
  },
  {
   "cell_type": "code",
   "execution_count": null,
   "metadata": {},
   "outputs": [],
   "source": []
  },
  {
   "cell_type": "code",
   "execution_count": null,
   "metadata": {},
   "outputs": [],
   "source": []
  },
  {
   "cell_type": "code",
   "execution_count": null,
   "metadata": {},
   "outputs": [],
   "source": []
  },
  {
   "cell_type": "code",
   "execution_count": null,
   "metadata": {},
   "outputs": [],
   "source": []
  },
  {
   "cell_type": "code",
   "execution_count": null,
   "metadata": {},
   "outputs": [],
   "source": []
  },
  {
   "cell_type": "code",
   "execution_count": null,
   "metadata": {},
   "outputs": [],
   "source": []
  },
  {
   "cell_type": "code",
   "execution_count": null,
   "metadata": {},
   "outputs": [],
   "source": []
  },
  {
   "cell_type": "code",
   "execution_count": null,
   "metadata": {},
   "outputs": [],
   "source": []
  },
  {
   "cell_type": "markdown",
   "metadata": {},
   "source": [
    "## KMeans"
   ]
  },
  {
   "cell_type": "code",
   "execution_count": 15,
   "metadata": {},
   "outputs": [],
   "source": [
    "from sklearn.cluster import KMeans"
   ]
  },
  {
   "cell_type": "code",
   "execution_count": null,
   "metadata": {},
   "outputs": [],
   "source": [
    "kmeans = KMeans(n_clusters=10000, random_state=1)\n",
    "kmeans.fit(words)"
   ]
  },
  {
   "cell_type": "code",
   "execution_count": null,
   "metadata": {},
   "outputs": [],
   "source": [
    "crit = []\n",
    "\n",
    "for k in range(2, 100):\n",
    "    kmeans = KMeans(n_clusters=k, random_state=1).fit(X)\n",
    "    crit.append(np.sqrt(kmeans.inertia_))"
   ]
  },
  {
   "cell_type": "code",
   "execution_count": 31,
   "metadata": {},
   "outputs": [
    {
     "data": {
      "text/html": [
       "<div>\n",
       "<style scoped>\n",
       "    .dataframe tbody tr th:only-of-type {\n",
       "        vertical-align: middle;\n",
       "    }\n",
       "\n",
       "    .dataframe tbody tr th {\n",
       "        vertical-align: top;\n",
       "    }\n",
       "\n",
       "    .dataframe thead th {\n",
       "        text-align: right;\n",
       "    }\n",
       "</style>\n",
       "<table border=\"1\" class=\"dataframe\">\n",
       "  <thead>\n",
       "    <tr style=\"text-align: right;\">\n",
       "      <th></th>\n",
       "      <th>text</th>\n",
       "    </tr>\n",
       "  </thead>\n",
       "  <tbody>\n",
       "    <tr>\n",
       "      <td>17743</td>\n",
       "      <td>обязанность погрузка выгрузка груз вагон штабе...</td>\n",
       "    </tr>\n",
       "    <tr>\n",
       "      <td>20898</td>\n",
       "      <td>менеджер логистика обязанность ведение гос кон...</td>\n",
       "    </tr>\n",
       "    <tr>\n",
       "      <td>4387</td>\n",
       "      <td>обязанность согласование условие договор сопро...</td>\n",
       "    </tr>\n",
       "    <tr>\n",
       "      <td>8202</td>\n",
       "      <td>обязанность требоваться разный сотрудник опыт ...</td>\n",
       "    </tr>\n",
       "    <tr>\n",
       "      <td>9625</td>\n",
       "      <td>наш клиент российский компания разработчик фин...</td>\n",
       "    </tr>\n",
       "    <tr>\n",
       "      <td>...</td>\n",
       "      <td>...</td>\n",
       "    </tr>\n",
       "    <tr>\n",
       "      <td>1558</td>\n",
       "      <td>обязанность учет расходный договор принятие бю...</td>\n",
       "    </tr>\n",
       "    <tr>\n",
       "      <td>20089</td>\n",
       "      <td>приглашать становиться часть команда фудпарк н...</td>\n",
       "    </tr>\n",
       "    <tr>\n",
       "      <td>15114</td>\n",
       "      <td>обязанность анализ существовать бизнес процесс...</td>\n",
       "    </tr>\n",
       "    <tr>\n",
       "      <td>3909</td>\n",
       "      <td>игорный зона quot янтарный quot связь расширен...</td>\n",
       "    </tr>\n",
       "    <tr>\n",
       "      <td>29798</td>\n",
       "      <td>агромат крупный торговый производственный холд...</td>\n",
       "    </tr>\n",
       "  </tbody>\n",
       "</table>\n",
       "<p>21744 rows × 1 columns</p>\n",
       "</div>"
      ],
      "text/plain": [
       "                                                    text\n",
       "17743  обязанность погрузка выгрузка груз вагон штабе...\n",
       "20898  менеджер логистика обязанность ведение гос кон...\n",
       "4387   обязанность согласование условие договор сопро...\n",
       "8202   обязанность требоваться разный сотрудник опыт ...\n",
       "9625   наш клиент российский компания разработчик фин...\n",
       "...                                                  ...\n",
       "1558   обязанность учет расходный договор принятие бю...\n",
       "20089  приглашать становиться часть команда фудпарк н...\n",
       "15114  обязанность анализ существовать бизнес процесс...\n",
       "3909   игорный зона quot янтарный quot связь расширен...\n",
       "29798  агромат крупный торговый производственный холд...\n",
       "\n",
       "[21744 rows x 1 columns]"
      ]
     },
     "execution_count": 31,
     "metadata": {},
     "output_type": "execute_result"
    }
   ],
   "source": [
    "X_train"
   ]
  },
  {
   "cell_type": "code",
   "execution_count": 33,
   "metadata": {},
   "outputs": [
    {
     "data": {
      "text/plain": [
       "21744"
      ]
     },
     "execution_count": 33,
     "metadata": {},
     "output_type": "execute_result"
    }
   ],
   "source": []
  },
  {
   "cell_type": "code",
   "execution_count": null,
   "metadata": {},
   "outputs": [],
   "source": []
  }
 ],
 "metadata": {
  "kernelspec": {
   "display_name": "Python 3",
   "language": "python",
   "name": "python3"
  },
  "language_info": {
   "codemirror_mode": {
    "name": "ipython",
    "version": 3
   },
   "file_extension": ".py",
   "mimetype": "text/x-python",
   "name": "python",
   "nbconvert_exporter": "python",
   "pygments_lexer": "ipython3",
   "version": "3.6.5"
  }
 },
 "nbformat": 4,
 "nbformat_minor": 2
}
