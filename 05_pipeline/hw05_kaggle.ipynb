{
 "cells": [
  {
   "cell_type": "code",
   "execution_count": 42,
   "metadata": {},
   "outputs": [],
   "source": [
    "import pandas as pd\n",
    "import random\n",
    "import numpy as np\n",
    "from sklearn.tree import DecisionTreeClassifier, export_graphviz\n",
    "from sklearn.metrics import accuracy_score, precision_score, recall_score, f1_score, roc_auc_score"
   ]
  },
  {
   "cell_type": "code",
   "execution_count": 6,
   "metadata": {},
   "outputs": [],
   "source": [
    "import warnings\n",
    "warnings.filterwarnings(\"ignore\")"
   ]
  },
  {
   "cell_type": "markdown",
   "metadata": {},
   "source": [
    "## Read data"
   ]
  },
  {
   "cell_type": "code",
   "execution_count": 7,
   "metadata": {},
   "outputs": [],
   "source": [
    "train = pd.read_csv('hw3_train.csv')\n",
    "test = pd.read_csv('hw3_test_data.csv')\n",
    "test_sample = pd.read_csv('hw3_test_sample.csv')"
   ]
  },
  {
   "cell_type": "code",
   "execution_count": 8,
   "metadata": {},
   "outputs": [
    {
     "name": "stdout",
     "output_type": "stream",
     "text": [
      "train: (7500, 29)\n",
      "test: (7500, 29)\n",
      "test_sample: (7500, 29)\n"
     ]
    }
   ],
   "source": [
    "print('train: {}'.format(train.shape))\n",
    "print('test: {}'.format(train.shape))\n",
    "print('test_sample: {}'.format(train.shape))"
   ]
  },
  {
   "cell_type": "code",
   "execution_count": 9,
   "metadata": {},
   "outputs": [
    {
     "data": {
      "text/html": [
       "<div>\n",
       "<style scoped>\n",
       "    .dataframe tbody tr th:only-of-type {\n",
       "        vertical-align: middle;\n",
       "    }\n",
       "\n",
       "    .dataframe tbody tr th {\n",
       "        vertical-align: top;\n",
       "    }\n",
       "\n",
       "    .dataframe thead th {\n",
       "        text-align: right;\n",
       "    }\n",
       "</style>\n",
       "<table border=\"1\" class=\"dataframe\">\n",
       "  <thead>\n",
       "    <tr style=\"text-align: right;\">\n",
       "      <th></th>\n",
       "      <th>customer_id</th>\n",
       "      <th>customer_residence_code</th>\n",
       "      <th>gender</th>\n",
       "      <th>age</th>\n",
       "      <th>is_new_customer</th>\n",
       "      <th>seniority_month</th>\n",
       "      <th>customer_type</th>\n",
       "      <th>customer_relation_type</th>\n",
       "      <th>residence_same_as_bank</th>\n",
       "      <th>country_same_as_bank</th>\n",
       "      <th>...</th>\n",
       "      <th>use_payroll_account</th>\n",
       "      <th>use_short_deposits</th>\n",
       "      <th>use_medium_deposits</th>\n",
       "      <th>use_long_deposits</th>\n",
       "      <th>use_e_account</th>\n",
       "      <th>use_loans</th>\n",
       "      <th>use_taxes</th>\n",
       "      <th>use_credit_card</th>\n",
       "      <th>use_pensions</th>\n",
       "      <th>use_direct_debit</th>\n",
       "    </tr>\n",
       "  </thead>\n",
       "  <tbody>\n",
       "    <tr>\n",
       "      <th>0</th>\n",
       "      <td>107620</td>\n",
       "      <td>1</td>\n",
       "      <td>2</td>\n",
       "      <td>47</td>\n",
       "      <td>0.0</td>\n",
       "      <td>36</td>\n",
       "      <td>1.0</td>\n",
       "      <td>0</td>\n",
       "      <td>2</td>\n",
       "      <td>0</td>\n",
       "      <td>...</td>\n",
       "      <td>1</td>\n",
       "      <td>0</td>\n",
       "      <td>0</td>\n",
       "      <td>0</td>\n",
       "      <td>0</td>\n",
       "      <td>0</td>\n",
       "      <td>0</td>\n",
       "      <td>0</td>\n",
       "      <td>1.0</td>\n",
       "      <td>0</td>\n",
       "    </tr>\n",
       "    <tr>\n",
       "      <th>1</th>\n",
       "      <td>107775</td>\n",
       "      <td>1</td>\n",
       "      <td>2</td>\n",
       "      <td>52</td>\n",
       "      <td>0.0</td>\n",
       "      <td>36</td>\n",
       "      <td>1.0</td>\n",
       "      <td>0</td>\n",
       "      <td>2</td>\n",
       "      <td>0</td>\n",
       "      <td>...</td>\n",
       "      <td>0</td>\n",
       "      <td>0</td>\n",
       "      <td>0</td>\n",
       "      <td>1</td>\n",
       "      <td>1</td>\n",
       "      <td>0</td>\n",
       "      <td>0</td>\n",
       "      <td>1</td>\n",
       "      <td>0.0</td>\n",
       "      <td>0</td>\n",
       "    </tr>\n",
       "    <tr>\n",
       "      <th>2</th>\n",
       "      <td>112208</td>\n",
       "      <td>1</td>\n",
       "      <td>0</td>\n",
       "      <td>24</td>\n",
       "      <td>0.0</td>\n",
       "      <td>36</td>\n",
       "      <td>1.0</td>\n",
       "      <td>1</td>\n",
       "      <td>2</td>\n",
       "      <td>2</td>\n",
       "      <td>...</td>\n",
       "      <td>0</td>\n",
       "      <td>0</td>\n",
       "      <td>0</td>\n",
       "      <td>0</td>\n",
       "      <td>0</td>\n",
       "      <td>0</td>\n",
       "      <td>0</td>\n",
       "      <td>0</td>\n",
       "      <td>0.0</td>\n",
       "      <td>0</td>\n",
       "    </tr>\n",
       "    <tr>\n",
       "      <th>3</th>\n",
       "      <td>112270</td>\n",
       "      <td>1</td>\n",
       "      <td>0</td>\n",
       "      <td>26</td>\n",
       "      <td>0.0</td>\n",
       "      <td>36</td>\n",
       "      <td>1.0</td>\n",
       "      <td>1</td>\n",
       "      <td>2</td>\n",
       "      <td>0</td>\n",
       "      <td>...</td>\n",
       "      <td>0</td>\n",
       "      <td>0</td>\n",
       "      <td>0</td>\n",
       "      <td>0</td>\n",
       "      <td>0</td>\n",
       "      <td>0</td>\n",
       "      <td>0</td>\n",
       "      <td>0</td>\n",
       "      <td>0.0</td>\n",
       "      <td>0</td>\n",
       "    </tr>\n",
       "    <tr>\n",
       "      <th>4</th>\n",
       "      <td>112332</td>\n",
       "      <td>1</td>\n",
       "      <td>0</td>\n",
       "      <td>26</td>\n",
       "      <td>0.0</td>\n",
       "      <td>36</td>\n",
       "      <td>1.0</td>\n",
       "      <td>1</td>\n",
       "      <td>2</td>\n",
       "      <td>0</td>\n",
       "      <td>...</td>\n",
       "      <td>0</td>\n",
       "      <td>0</td>\n",
       "      <td>0</td>\n",
       "      <td>0</td>\n",
       "      <td>0</td>\n",
       "      <td>0</td>\n",
       "      <td>0</td>\n",
       "      <td>0</td>\n",
       "      <td>0.0</td>\n",
       "      <td>0</td>\n",
       "    </tr>\n",
       "  </tbody>\n",
       "</table>\n",
       "<p>5 rows × 29 columns</p>\n",
       "</div>"
      ],
      "text/plain": [
       "   customer_id  customer_residence_code  gender  age  is_new_customer  \\\n",
       "0       107620                        1       2   47              0.0   \n",
       "1       107775                        1       2   52              0.0   \n",
       "2       112208                        1       0   24              0.0   \n",
       "3       112270                        1       0   26              0.0   \n",
       "4       112332                        1       0   26              0.0   \n",
       "\n",
       "   seniority_month  customer_type  customer_relation_type  \\\n",
       "0               36            1.0                       0   \n",
       "1               36            1.0                       0   \n",
       "2               36            1.0                       1   \n",
       "3               36            1.0                       1   \n",
       "4               36            1.0                       1   \n",
       "\n",
       "   residence_same_as_bank  country_same_as_bank        ...         \\\n",
       "0                       2                     0        ...          \n",
       "1                       2                     0        ...          \n",
       "2                       2                     2        ...          \n",
       "3                       2                     0        ...          \n",
       "4                       2                     0        ...          \n",
       "\n",
       "   use_payroll_account  use_short_deposits  use_medium_deposits  \\\n",
       "0                    1                   0                    0   \n",
       "1                    0                   0                    0   \n",
       "2                    0                   0                    0   \n",
       "3                    0                   0                    0   \n",
       "4                    0                   0                    0   \n",
       "\n",
       "   use_long_deposits  use_e_account  use_loans  use_taxes  use_credit_card  \\\n",
       "0                  0              0          0          0                0   \n",
       "1                  1              1          0          0                1   \n",
       "2                  0              0          0          0                0   \n",
       "3                  0              0          0          0                0   \n",
       "4                  0              0          0          0                0   \n",
       "\n",
       "   use_pensions  use_direct_debit  \n",
       "0           1.0                 0  \n",
       "1           0.0                 0  \n",
       "2           0.0                 0  \n",
       "3           0.0                 0  \n",
       "4           0.0                 0  \n",
       "\n",
       "[5 rows x 29 columns]"
      ]
     },
     "execution_count": 9,
     "metadata": {},
     "output_type": "execute_result"
    }
   ],
   "source": [
    "train.head()"
   ]
  },
  {
   "cell_type": "code",
   "execution_count": 10,
   "metadata": {
    "scrolled": true
   },
   "outputs": [
    {
     "name": "stdout",
     "output_type": "stream",
     "text": [
      "<class 'pandas.core.frame.DataFrame'>\n",
      "RangeIndex: 7500 entries, 0 to 7499\n",
      "Data columns (total 29 columns):\n",
      "customer_id                7500 non-null int64\n",
      "customer_residence_code    7500 non-null int64\n",
      "gender                     7500 non-null int64\n",
      "age                        7500 non-null int64\n",
      "is_new_customer            7500 non-null float64\n",
      "seniority_month            7500 non-null int64\n",
      "customer_type              7500 non-null float64\n",
      "customer_relation_type     7500 non-null int64\n",
      "residence_same_as_bank     7500 non-null int64\n",
      "country_same_as_bank       7500 non-null int64\n",
      "join_channel               7500 non-null int64\n",
      "adress_type                7500 non-null float64\n",
      "activity_index             7500 non-null float64\n",
      "household_income           7500 non-null float64\n",
      "segment                    7500 non-null int64\n",
      "use_savings                7500 non-null int64\n",
      "use_guarantees             7500 non-null int64\n",
      "use_current_accounts       7500 non-null int64\n",
      "use_derivada_account       7500 non-null int64\n",
      "use_payroll_account        7500 non-null int64\n",
      "use_short_deposits         7500 non-null int64\n",
      "use_medium_deposits        7500 non-null int64\n",
      "use_long_deposits          7500 non-null int64\n",
      "use_e_account              7500 non-null int64\n",
      "use_loans                  7500 non-null int64\n",
      "use_taxes                  7500 non-null int64\n",
      "use_credit_card            7500 non-null int64\n",
      "use_pensions               7500 non-null float64\n",
      "use_direct_debit           7500 non-null int64\n",
      "dtypes: float64(6), int64(23)\n",
      "memory usage: 1.7 MB\n"
     ]
    }
   ],
   "source": [
    "train.info()"
   ]
  },
  {
   "cell_type": "markdown",
   "metadata": {},
   "source": [
    "## Preprocess data"
   ]
  },
  {
   "cell_type": "code",
   "execution_count": 11,
   "metadata": {
    "scrolled": true
   },
   "outputs": [],
   "source": [
    "def convert_age(age):\n",
    "    if   age < 18: return 1\n",
    "    elif age < 30 and age >= 18: return 2\n",
    "    elif age < 50 and age >= 30: return 3\n",
    "    elif age < 70 and age >= 50: return 4\n",
    "    else: return 5"
   ]
  },
  {
   "cell_type": "code",
   "execution_count": 12,
   "metadata": {},
   "outputs": [],
   "source": [
    "def preproc_func(data):\n",
    "    temp = data.copy()\n",
    "    \n",
    "    #temp = temp[temp['gender']!=1]\n",
    "    temp['age_cat']   = temp['age'].apply(convert_age)\n",
    "    \n",
    "    temp['age_cat_1'] = temp['age_cat'].apply(lambda x: 1 if x==1 else 0)\n",
    "    temp['age_cat_2'] = temp['age_cat'].apply(lambda x: 1 if x==2 else 0)\n",
    "    temp['age_cat_3'] = temp['age_cat'].apply(lambda x: 1 if x==3 else 0)\n",
    "    temp['age_cat_4'] = temp['age_cat'].apply(lambda x: 1 if x==4 else 0)\n",
    "    temp['age_cat_5'] = temp['age_cat'].apply(lambda x: 1 if x==5 else 0)\n",
    "    \n",
    "    temp['channel_cat_10']    = temp['join_channel'].apply(lambda x: 1 if x==10 else 0)\n",
    "    temp['channel_cat_6']     = temp['join_channel'].apply(lambda x: 1 if x==6 else 0)\n",
    "    temp['channel_cat_1']     = temp['join_channel'].apply(lambda x: 1 if x==1 else 0)\n",
    "    temp['channel_cat_5']     = temp['join_channel'].apply(lambda x: 1 if x==5 else 0)\n",
    "    temp['channel_cat_9']     = temp['join_channel'].apply(lambda x: 1 if x==9 else 0)\n",
    "    temp['channel_cat_other'] = temp['join_channel'].apply(lambda x: 1 if x not in [10,6,1,5,9] else 0)\n",
    "    \n",
    "    temp['segm_cat_0'] = temp['segment'].apply(lambda x: 1 if x==0 else 0)\n",
    "    temp['segm_cat_1'] = temp['segment'].apply(lambda x: 1 if x==1 else 0)\n",
    "    temp['segm_cat_2'] = temp['segment'].apply(lambda x: 1 if x==2 else 0)\n",
    "    \n",
    "    temp['activity_index'] = temp['activity_index'].astype(int)\n",
    "    cols_to_drop = ['customer_residence_code', 'residence_same_as_bank', \n",
    "                    'country_same_as_bank', 'adress_type', 'use_savings', \n",
    "                    'use_guarantees', 'use_derivada_account', 'use_short_deposits', \n",
    "                    'use_medium_deposits', 'use_loans', 'age_cat', 'age', \n",
    "                    'is_new_customer', 'customer_type', 'join_channel', 'segment']\n",
    "    \n",
    "    temp.drop(cols_to_drop, axis=1, inplace=True)\n",
    "    \n",
    "    return temp"
   ]
  },
  {
   "cell_type": "code",
   "execution_count": 13,
   "metadata": {},
   "outputs": [],
   "source": [
    "prepr_train_1 = train[train['gender']!=1]"
   ]
  },
  {
   "cell_type": "code",
   "execution_count": 14,
   "metadata": {},
   "outputs": [],
   "source": [
    "prepr_train = preproc_func(prepr_train_1.copy()).reset_index(drop=True)"
   ]
  },
  {
   "cell_type": "code",
   "execution_count": 15,
   "metadata": {},
   "outputs": [
    {
     "data": {
      "text/html": [
       "<div>\n",
       "<style scoped>\n",
       "    .dataframe tbody tr th:only-of-type {\n",
       "        vertical-align: middle;\n",
       "    }\n",
       "\n",
       "    .dataframe tbody tr th {\n",
       "        vertical-align: top;\n",
       "    }\n",
       "\n",
       "    .dataframe thead th {\n",
       "        text-align: right;\n",
       "    }\n",
       "</style>\n",
       "<table border=\"1\" class=\"dataframe\">\n",
       "  <thead>\n",
       "    <tr style=\"text-align: right;\">\n",
       "      <th></th>\n",
       "      <th>customer_id</th>\n",
       "      <th>gender</th>\n",
       "      <th>seniority_month</th>\n",
       "      <th>customer_relation_type</th>\n",
       "      <th>activity_index</th>\n",
       "      <th>household_income</th>\n",
       "      <th>use_current_accounts</th>\n",
       "      <th>use_payroll_account</th>\n",
       "      <th>use_long_deposits</th>\n",
       "      <th>use_e_account</th>\n",
       "      <th>...</th>\n",
       "      <th>age_cat_5</th>\n",
       "      <th>channel_cat_10</th>\n",
       "      <th>channel_cat_6</th>\n",
       "      <th>channel_cat_1</th>\n",
       "      <th>channel_cat_5</th>\n",
       "      <th>channel_cat_9</th>\n",
       "      <th>channel_cat_other</th>\n",
       "      <th>segm_cat_0</th>\n",
       "      <th>segm_cat_1</th>\n",
       "      <th>segm_cat_2</th>\n",
       "    </tr>\n",
       "  </thead>\n",
       "  <tbody>\n",
       "    <tr>\n",
       "      <th>0</th>\n",
       "      <td>107620</td>\n",
       "      <td>2</td>\n",
       "      <td>36</td>\n",
       "      <td>0</td>\n",
       "      <td>1</td>\n",
       "      <td>47164.86</td>\n",
       "      <td>0</td>\n",
       "      <td>1</td>\n",
       "      <td>0</td>\n",
       "      <td>0</td>\n",
       "      <td>...</td>\n",
       "      <td>0</td>\n",
       "      <td>0</td>\n",
       "      <td>1</td>\n",
       "      <td>0</td>\n",
       "      <td>0</td>\n",
       "      <td>0</td>\n",
       "      <td>0</td>\n",
       "      <td>0</td>\n",
       "      <td>1</td>\n",
       "      <td>0</td>\n",
       "    </tr>\n",
       "    <tr>\n",
       "      <th>1</th>\n",
       "      <td>107775</td>\n",
       "      <td>2</td>\n",
       "      <td>36</td>\n",
       "      <td>0</td>\n",
       "      <td>1</td>\n",
       "      <td>68262.93</td>\n",
       "      <td>1</td>\n",
       "      <td>0</td>\n",
       "      <td>1</td>\n",
       "      <td>1</td>\n",
       "      <td>...</td>\n",
       "      <td>0</td>\n",
       "      <td>0</td>\n",
       "      <td>1</td>\n",
       "      <td>0</td>\n",
       "      <td>0</td>\n",
       "      <td>0</td>\n",
       "      <td>0</td>\n",
       "      <td>1</td>\n",
       "      <td>0</td>\n",
       "      <td>0</td>\n",
       "    </tr>\n",
       "    <tr>\n",
       "      <th>2</th>\n",
       "      <td>112208</td>\n",
       "      <td>0</td>\n",
       "      <td>36</td>\n",
       "      <td>1</td>\n",
       "      <td>0</td>\n",
       "      <td>47451.24</td>\n",
       "      <td>1</td>\n",
       "      <td>0</td>\n",
       "      <td>0</td>\n",
       "      <td>0</td>\n",
       "      <td>...</td>\n",
       "      <td>0</td>\n",
       "      <td>1</td>\n",
       "      <td>0</td>\n",
       "      <td>0</td>\n",
       "      <td>0</td>\n",
       "      <td>0</td>\n",
       "      <td>0</td>\n",
       "      <td>0</td>\n",
       "      <td>0</td>\n",
       "      <td>1</td>\n",
       "    </tr>\n",
       "    <tr>\n",
       "      <th>3</th>\n",
       "      <td>112270</td>\n",
       "      <td>0</td>\n",
       "      <td>36</td>\n",
       "      <td>1</td>\n",
       "      <td>0</td>\n",
       "      <td>19386.48</td>\n",
       "      <td>1</td>\n",
       "      <td>0</td>\n",
       "      <td>0</td>\n",
       "      <td>0</td>\n",
       "      <td>...</td>\n",
       "      <td>0</td>\n",
       "      <td>1</td>\n",
       "      <td>0</td>\n",
       "      <td>0</td>\n",
       "      <td>0</td>\n",
       "      <td>0</td>\n",
       "      <td>0</td>\n",
       "      <td>0</td>\n",
       "      <td>0</td>\n",
       "      <td>1</td>\n",
       "    </tr>\n",
       "    <tr>\n",
       "      <th>4</th>\n",
       "      <td>112332</td>\n",
       "      <td>0</td>\n",
       "      <td>36</td>\n",
       "      <td>1</td>\n",
       "      <td>0</td>\n",
       "      <td>102460.89</td>\n",
       "      <td>1</td>\n",
       "      <td>0</td>\n",
       "      <td>0</td>\n",
       "      <td>0</td>\n",
       "      <td>...</td>\n",
       "      <td>0</td>\n",
       "      <td>1</td>\n",
       "      <td>0</td>\n",
       "      <td>0</td>\n",
       "      <td>0</td>\n",
       "      <td>0</td>\n",
       "      <td>0</td>\n",
       "      <td>0</td>\n",
       "      <td>0</td>\n",
       "      <td>1</td>\n",
       "    </tr>\n",
       "  </tbody>\n",
       "</table>\n",
       "<p>5 rows × 28 columns</p>\n",
       "</div>"
      ],
      "text/plain": [
       "   customer_id  gender  seniority_month  customer_relation_type  \\\n",
       "0       107620       2               36                       0   \n",
       "1       107775       2               36                       0   \n",
       "2       112208       0               36                       1   \n",
       "3       112270       0               36                       1   \n",
       "4       112332       0               36                       1   \n",
       "\n",
       "   activity_index  household_income  use_current_accounts  \\\n",
       "0               1          47164.86                     0   \n",
       "1               1          68262.93                     1   \n",
       "2               0          47451.24                     1   \n",
       "3               0          19386.48                     1   \n",
       "4               0         102460.89                     1   \n",
       "\n",
       "   use_payroll_account  use_long_deposits  use_e_account     ...      \\\n",
       "0                    1                  0              0     ...       \n",
       "1                    0                  1              1     ...       \n",
       "2                    0                  0              0     ...       \n",
       "3                    0                  0              0     ...       \n",
       "4                    0                  0              0     ...       \n",
       "\n",
       "   age_cat_5  channel_cat_10  channel_cat_6  channel_cat_1  channel_cat_5  \\\n",
       "0          0               0              1              0              0   \n",
       "1          0               0              1              0              0   \n",
       "2          0               1              0              0              0   \n",
       "3          0               1              0              0              0   \n",
       "4          0               1              0              0              0   \n",
       "\n",
       "   channel_cat_9  channel_cat_other  segm_cat_0  segm_cat_1  segm_cat_2  \n",
       "0              0                  0           0           1           0  \n",
       "1              0                  0           1           0           0  \n",
       "2              0                  0           0           0           1  \n",
       "3              0                  0           0           0           1  \n",
       "4              0                  0           0           0           1  \n",
       "\n",
       "[5 rows x 28 columns]"
      ]
     },
     "execution_count": 15,
     "metadata": {},
     "output_type": "execute_result"
    }
   ],
   "source": [
    "prepr_train.head()"
   ]
  },
  {
   "cell_type": "markdown",
   "metadata": {},
   "source": [
    "## Train_test_split"
   ]
  },
  {
   "cell_type": "code",
   "execution_count": 16,
   "metadata": {},
   "outputs": [],
   "source": [
    "X = prepr_train.drop(['customer_id', 'use_direct_debit'], axis=1)\n",
    "y = prepr_train['use_direct_debit']"
   ]
  },
  {
   "cell_type": "code",
   "execution_count": 17,
   "metadata": {},
   "outputs": [
    {
     "data": {
      "text/plain": [
       "(7442, 26)"
      ]
     },
     "execution_count": 17,
     "metadata": {},
     "output_type": "execute_result"
    }
   ],
   "source": [
    "X.shape"
   ]
  },
  {
   "cell_type": "code",
   "execution_count": 30,
   "metadata": {},
   "outputs": [],
   "source": [
    "def train_test_split(X, y, test_size, random_state=1):\n",
    "    \n",
    "    random_gen = np.random.RandomState(random_state)\n",
    "    size = X.shape[0]\n",
    "    batch_size = round(size*test_size)\n",
    "    \n",
    "    rand_indices = list(random_gen.choice(size, batch_size))\n",
    "   \n",
    "    return X.drop(rand_indices, axis=0), X.loc[rand_indices], y.drop(rand_indices, axis=0), y.loc[rand_indices]"
   ]
  },
  {
   "cell_type": "code",
   "execution_count": 31,
   "metadata": {},
   "outputs": [],
   "source": [
    "X_train, X_valid, y_train, y_valid = train_test_split(X, y, test_size=0.3, random_state=1)"
   ]
  },
  {
   "cell_type": "code",
   "execution_count": 32,
   "metadata": {},
   "outputs": [
    {
     "name": "stdout",
     "output_type": "stream",
     "text": [
      "train: (5530, 26)\n",
      "valid: (2233, 26)\n"
     ]
    }
   ],
   "source": [
    "print('train: {}'.format(X_train.shape))\n",
    "print('valid: {}'.format(X_valid.shape))"
   ]
  },
  {
   "cell_type": "markdown",
   "metadata": {},
   "source": [
    "## Train"
   ]
  },
  {
   "cell_type": "code",
   "execution_count": 4,
   "metadata": {},
   "outputs": [],
   "source": [
    "from sklearn.model_selection import GridSearchCV, RandomizedSearchCV\n",
    "from sklearn.model_selection import StratifiedKFold\n",
    "from sklearn.linear_model import LogisticRegression\n",
    "from sklearn.pipeline import Pipeline, FeatureUnion\n",
    "from sklearn.preprocessing import OneHotEncoder, StandardScaler\n",
    "from scipy.stats import randint as sp_randint\n",
    "from scipy.stats import lognorm as sp_lognorm"
   ]
  },
  {
   "cell_type": "code",
   "execution_count": 3,
   "metadata": {},
   "outputs": [],
   "source": [
    "model = Pipeline([\n",
    "    ('clf', LogisticRegression())\n",
    "])"
   ]
  },
  {
   "cell_type": "code",
   "execution_count": 21,
   "metadata": {},
   "outputs": [
    {
     "name": "stdout",
     "output_type": "stream",
     "text": [
      "{'clf__penalty': ['l1', 'l2'], 'clf__random_state': [42], 'clf__C': <scipy.stats._distn_infrastructure.rv_frozen object at 0x10c58ce48>}\n"
     ]
    }
   ],
   "source": [
    "param_grid = {\n",
    "    'clf__penalty': ['l1', 'l2'],\n",
    "    'clf__random_state': [42],\n",
    "    'clf__C': sp_lognorm(4)\n",
    "}\n",
    "\n",
    "print(param_grid)"
   ]
  },
  {
   "cell_type": "code",
   "execution_count": 23,
   "metadata": {},
   "outputs": [],
   "source": [
    "cv = StratifiedKFold(n_splits=5, shuffle=True, random_state=123)"
   ]
  },
  {
   "cell_type": "code",
   "execution_count": 33,
   "metadata": {},
   "outputs": [
    {
     "name": "stdout",
     "output_type": "stream",
     "text": [
      "Fitting 5 folds for each of 20 candidates, totalling 100 fits\n"
     ]
    },
    {
     "name": "stderr",
     "output_type": "stream",
     "text": [
      "[Parallel(n_jobs=-1)]: Using backend LokyBackend with 4 concurrent workers.\n",
      "[Parallel(n_jobs=-1)]: Done  33 tasks      | elapsed:    3.2s\n",
      "[Parallel(n_jobs=-1)]: Done 100 out of 100 | elapsed:    5.1s finished\n"
     ]
    },
    {
     "data": {
      "text/plain": [
       "RandomizedSearchCV(cv=StratifiedKFold(n_splits=5, random_state=123, shuffle=True),\n",
       "          error_score='raise-deprecating',\n",
       "          estimator=Pipeline(memory=None,\n",
       "     steps=[('scaler', StandardScaler(copy=True, with_mean=True, with_std=True)), ('clf', LogisticRegression(C=1.0, class_weight=None, dual=False, fit_intercept=True,\n",
       "          intercept_scaling=1, max_iter=100, multi_class='warn',\n",
       "          n_jobs=None, penalty='l2', random_state=None, solver='warn',\n",
       "          tol=0.0001, verbose=0, warm_start=False))]),\n",
       "          fit_params=None, iid='warn', n_iter=20, n_jobs=-1,\n",
       "          param_distributions={'clf__penalty': ['l1', 'l2'], 'clf__random_state': [42], 'clf__C': <scipy.stats._distn_infrastructure.rv_frozen object at 0x10c58ce48>},\n",
       "          pre_dispatch='2*n_jobs', random_state=42, refit=True,\n",
       "          return_train_score='warn', scoring='roc_auc', verbose=2)"
      ]
     },
     "execution_count": 33,
     "metadata": {},
     "output_type": "execute_result"
    }
   ],
   "source": [
    "# Рассмотрим 20 случайных комбинаций\n",
    "random_searcher = RandomizedSearchCV(model, param_grid, n_iter=20, \n",
    "                                     random_state=42,\n",
    "                                     scoring='roc_auc', \n",
    "                                     n_jobs=-1, cv=cv, \n",
    "                                     verbose=2)\n",
    "\n",
    "random_searcher.fit(X_train, y_train)"
   ]
  },
  {
   "cell_type": "code",
   "execution_count": 34,
   "metadata": {},
   "outputs": [
    {
     "data": {
      "text/plain": [
       "{'clf__C': 1.5584478513027344, 'clf__penalty': 'l1', 'clf__random_state': 42}"
      ]
     },
     "execution_count": 34,
     "metadata": {},
     "output_type": "execute_result"
    }
   ],
   "source": [
    "random_searcher.best_params_"
   ]
  },
  {
   "cell_type": "code",
   "execution_count": 35,
   "metadata": {},
   "outputs": [
    {
     "data": {
      "text/plain": [
       "0.9165341811142412"
      ]
     },
     "execution_count": 35,
     "metadata": {},
     "output_type": "execute_result"
    }
   ],
   "source": [
    "random_searcher.best_score_"
   ]
  },
  {
   "cell_type": "code",
   "execution_count": 36,
   "metadata": {},
   "outputs": [],
   "source": [
    "results = pd.DataFrame(random_searcher.cv_results_)"
   ]
  },
  {
   "cell_type": "code",
   "execution_count": 37,
   "metadata": {},
   "outputs": [
    {
     "data": {
      "text/html": [
       "<div>\n",
       "<style scoped>\n",
       "    .dataframe tbody tr th:only-of-type {\n",
       "        vertical-align: middle;\n",
       "    }\n",
       "\n",
       "    .dataframe tbody tr th {\n",
       "        vertical-align: top;\n",
       "    }\n",
       "\n",
       "    .dataframe thead th {\n",
       "        text-align: right;\n",
       "    }\n",
       "</style>\n",
       "<table border=\"1\" class=\"dataframe\">\n",
       "  <thead>\n",
       "    <tr style=\"text-align: right;\">\n",
       "      <th></th>\n",
       "      <th>mean_fit_time</th>\n",
       "      <th>std_fit_time</th>\n",
       "      <th>mean_score_time</th>\n",
       "      <th>std_score_time</th>\n",
       "      <th>param_clf__C</th>\n",
       "      <th>param_clf__penalty</th>\n",
       "      <th>param_clf__random_state</th>\n",
       "      <th>params</th>\n",
       "      <th>split0_test_score</th>\n",
       "      <th>split1_test_score</th>\n",
       "      <th>...</th>\n",
       "      <th>mean_test_score</th>\n",
       "      <th>std_test_score</th>\n",
       "      <th>rank_test_score</th>\n",
       "      <th>split0_train_score</th>\n",
       "      <th>split1_train_score</th>\n",
       "      <th>split2_train_score</th>\n",
       "      <th>split3_train_score</th>\n",
       "      <th>split4_train_score</th>\n",
       "      <th>mean_train_score</th>\n",
       "      <th>std_train_score</th>\n",
       "    </tr>\n",
       "  </thead>\n",
       "  <tbody>\n",
       "    <tr>\n",
       "      <th>0</th>\n",
       "      <td>0.847162</td>\n",
       "      <td>0.115420</td>\n",
       "      <td>0.005557</td>\n",
       "      <td>0.003459</td>\n",
       "      <td>7.29257</td>\n",
       "      <td>l1</td>\n",
       "      <td>42</td>\n",
       "      <td>{'clf__C': 7.292574305740818, 'clf__penalty': ...</td>\n",
       "      <td>0.921869</td>\n",
       "      <td>0.928912</td>\n",
       "      <td>...</td>\n",
       "      <td>0.915774</td>\n",
       "      <td>0.011827</td>\n",
       "      <td>8</td>\n",
       "      <td>0.918190</td>\n",
       "      <td>0.917154</td>\n",
       "      <td>0.925447</td>\n",
       "      <td>0.922695</td>\n",
       "      <td>0.918987</td>\n",
       "      <td>0.920495</td>\n",
       "      <td>0.003102</td>\n",
       "    </tr>\n",
       "    <tr>\n",
       "      <th>1</th>\n",
       "      <td>0.055064</td>\n",
       "      <td>0.003040</td>\n",
       "      <td>0.003669</td>\n",
       "      <td>0.000187</td>\n",
       "      <td>0.575189</td>\n",
       "      <td>l2</td>\n",
       "      <td>42</td>\n",
       "      <td>{'clf__C': 0.5751886502026291, 'clf__penalty':...</td>\n",
       "      <td>0.925815</td>\n",
       "      <td>0.928716</td>\n",
       "      <td>...</td>\n",
       "      <td>0.916392</td>\n",
       "      <td>0.012390</td>\n",
       "      <td>4</td>\n",
       "      <td>0.917890</td>\n",
       "      <td>0.917153</td>\n",
       "      <td>0.925419</td>\n",
       "      <td>0.922645</td>\n",
       "      <td>0.918911</td>\n",
       "      <td>0.920404</td>\n",
       "      <td>0.003140</td>\n",
       "    </tr>\n",
       "    <tr>\n",
       "      <th>2</th>\n",
       "      <td>0.039283</td>\n",
       "      <td>0.006967</td>\n",
       "      <td>0.005029</td>\n",
       "      <td>0.001113</td>\n",
       "      <td>0.0117076</td>\n",
       "      <td>l1</td>\n",
       "      <td>42</td>\n",
       "      <td>{'clf__C': 0.011707560231951408, 'clf__penalty...</td>\n",
       "      <td>0.911483</td>\n",
       "      <td>0.925315</td>\n",
       "      <td>...</td>\n",
       "      <td>0.903358</td>\n",
       "      <td>0.015179</td>\n",
       "      <td>19</td>\n",
       "      <td>0.901558</td>\n",
       "      <td>0.897603</td>\n",
       "      <td>0.908245</td>\n",
       "      <td>0.907326</td>\n",
       "      <td>0.902987</td>\n",
       "      <td>0.903544</td>\n",
       "      <td>0.003898</td>\n",
       "    </tr>\n",
       "    <tr>\n",
       "      <th>3</th>\n",
       "      <td>0.458864</td>\n",
       "      <td>0.093747</td>\n",
       "      <td>0.005061</td>\n",
       "      <td>0.001731</td>\n",
       "      <td>3.58088</td>\n",
       "      <td>l1</td>\n",
       "      <td>42</td>\n",
       "      <td>{'clf__C': 3.5808805675530544, 'clf__penalty':...</td>\n",
       "      <td>0.925307</td>\n",
       "      <td>0.928929</td>\n",
       "      <td>...</td>\n",
       "      <td>0.916439</td>\n",
       "      <td>0.012257</td>\n",
       "      <td>3</td>\n",
       "      <td>0.918142</td>\n",
       "      <td>0.917112</td>\n",
       "      <td>0.925424</td>\n",
       "      <td>0.922738</td>\n",
       "      <td>0.918951</td>\n",
       "      <td>0.920473</td>\n",
       "      <td>0.003121</td>\n",
       "    </tr>\n",
       "    <tr>\n",
       "      <th>4</th>\n",
       "      <td>0.096430</td>\n",
       "      <td>0.007779</td>\n",
       "      <td>0.005055</td>\n",
       "      <td>0.003197</td>\n",
       "      <td>553.826</td>\n",
       "      <td>l2</td>\n",
       "      <td>42</td>\n",
       "      <td>{'clf__C': 553.8263899146515, 'clf__penalty': ...</td>\n",
       "      <td>0.921894</td>\n",
       "      <td>0.928896</td>\n",
       "      <td>...</td>\n",
       "      <td>0.915787</td>\n",
       "      <td>0.011826</td>\n",
       "      <td>5</td>\n",
       "      <td>0.918210</td>\n",
       "      <td>0.917205</td>\n",
       "      <td>0.925490</td>\n",
       "      <td>0.922706</td>\n",
       "      <td>0.919012</td>\n",
       "      <td>0.920525</td>\n",
       "      <td>0.003101</td>\n",
       "    </tr>\n",
       "  </tbody>\n",
       "</table>\n",
       "<p>5 rows × 23 columns</p>\n",
       "</div>"
      ],
      "text/plain": [
       "   mean_fit_time  std_fit_time  mean_score_time  std_score_time param_clf__C  \\\n",
       "0       0.847162      0.115420         0.005557        0.003459      7.29257   \n",
       "1       0.055064      0.003040         0.003669        0.000187     0.575189   \n",
       "2       0.039283      0.006967         0.005029        0.001113    0.0117076   \n",
       "3       0.458864      0.093747         0.005061        0.001731      3.58088   \n",
       "4       0.096430      0.007779         0.005055        0.003197      553.826   \n",
       "\n",
       "  param_clf__penalty param_clf__random_state  \\\n",
       "0                 l1                      42   \n",
       "1                 l2                      42   \n",
       "2                 l1                      42   \n",
       "3                 l1                      42   \n",
       "4                 l2                      42   \n",
       "\n",
       "                                              params  split0_test_score  \\\n",
       "0  {'clf__C': 7.292574305740818, 'clf__penalty': ...           0.921869   \n",
       "1  {'clf__C': 0.5751886502026291, 'clf__penalty':...           0.925815   \n",
       "2  {'clf__C': 0.011707560231951408, 'clf__penalty...           0.911483   \n",
       "3  {'clf__C': 3.5808805675530544, 'clf__penalty':...           0.925307   \n",
       "4  {'clf__C': 553.8263899146515, 'clf__penalty': ...           0.921894   \n",
       "\n",
       "   split1_test_score       ...         mean_test_score  std_test_score  \\\n",
       "0           0.928912       ...                0.915774        0.011827   \n",
       "1           0.928716       ...                0.916392        0.012390   \n",
       "2           0.925315       ...                0.903358        0.015179   \n",
       "3           0.928929       ...                0.916439        0.012257   \n",
       "4           0.928896       ...                0.915787        0.011826   \n",
       "\n",
       "   rank_test_score  split0_train_score  split1_train_score  \\\n",
       "0                8            0.918190            0.917154   \n",
       "1                4            0.917890            0.917153   \n",
       "2               19            0.901558            0.897603   \n",
       "3                3            0.918142            0.917112   \n",
       "4                5            0.918210            0.917205   \n",
       "\n",
       "   split2_train_score  split3_train_score  split4_train_score  \\\n",
       "0            0.925447            0.922695            0.918987   \n",
       "1            0.925419            0.922645            0.918911   \n",
       "2            0.908245            0.907326            0.902987   \n",
       "3            0.925424            0.922738            0.918951   \n",
       "4            0.925490            0.922706            0.919012   \n",
       "\n",
       "   mean_train_score  std_train_score  \n",
       "0          0.920495         0.003102  \n",
       "1          0.920404         0.003140  \n",
       "2          0.903544         0.003898  \n",
       "3          0.920473         0.003121  \n",
       "4          0.920525         0.003101  \n",
       "\n",
       "[5 rows x 23 columns]"
      ]
     },
     "execution_count": 37,
     "metadata": {},
     "output_type": "execute_result"
    }
   ],
   "source": [
    "results.head()"
   ]
  },
  {
   "cell_type": "code",
   "execution_count": 38,
   "metadata": {},
   "outputs": [],
   "source": [
    "best_model = random_searcher.best_estimator_"
   ]
  },
  {
   "cell_type": "code",
   "execution_count": 40,
   "metadata": {},
   "outputs": [],
   "source": [
    "pred_valid = best_model.predict_proba(X_valid)"
   ]
  },
  {
   "cell_type": "code",
   "execution_count": 44,
   "metadata": {},
   "outputs": [
    {
     "data": {
      "text/plain": [
       "0.9147888445905511"
      ]
     },
     "execution_count": 44,
     "metadata": {},
     "output_type": "execute_result"
    }
   ],
   "source": [
    "roc_auc_score(y_valid, pred_valid[:, 1])"
   ]
  },
  {
   "cell_type": "markdown",
   "metadata": {},
   "source": [
    "## Predict"
   ]
  },
  {
   "cell_type": "code",
   "execution_count": 46,
   "metadata": {},
   "outputs": [],
   "source": [
    "prepr_test = preproc_func(test.copy())"
   ]
  },
  {
   "cell_type": "code",
   "execution_count": 47,
   "metadata": {},
   "outputs": [],
   "source": [
    "X_test = prepr_test.drop(['customer_id'], axis=1).reset_index(drop=True)"
   ]
  },
  {
   "cell_type": "code",
   "execution_count": 49,
   "metadata": {},
   "outputs": [],
   "source": [
    "pred_test = best_model.predict_proba(X_test)"
   ]
  },
  {
   "cell_type": "code",
   "execution_count": 50,
   "metadata": {},
   "outputs": [],
   "source": [
    "test_sample['use_direct_debit'] = pred_test[:, 1]"
   ]
  },
  {
   "cell_type": "code",
   "execution_count": 51,
   "metadata": {},
   "outputs": [
    {
     "data": {
      "text/html": [
       "<div>\n",
       "<style scoped>\n",
       "    .dataframe tbody tr th:only-of-type {\n",
       "        vertical-align: middle;\n",
       "    }\n",
       "\n",
       "    .dataframe tbody tr th {\n",
       "        vertical-align: top;\n",
       "    }\n",
       "\n",
       "    .dataframe thead th {\n",
       "        text-align: right;\n",
       "    }\n",
       "</style>\n",
       "<table border=\"1\" class=\"dataframe\">\n",
       "  <thead>\n",
       "    <tr style=\"text-align: right;\">\n",
       "      <th></th>\n",
       "      <th>customer_id</th>\n",
       "      <th>use_direct_debit</th>\n",
       "    </tr>\n",
       "  </thead>\n",
       "  <tbody>\n",
       "    <tr>\n",
       "      <th>0</th>\n",
       "      <td>107651</td>\n",
       "      <td>0.319974</td>\n",
       "    </tr>\n",
       "    <tr>\n",
       "      <th>1</th>\n",
       "      <td>112177</td>\n",
       "      <td>0.003063</td>\n",
       "    </tr>\n",
       "    <tr>\n",
       "      <th>2</th>\n",
       "      <td>112239</td>\n",
       "      <td>0.002199</td>\n",
       "    </tr>\n",
       "    <tr>\n",
       "      <th>3</th>\n",
       "      <td>112301</td>\n",
       "      <td>0.096057</td>\n",
       "    </tr>\n",
       "    <tr>\n",
       "      <th>4</th>\n",
       "      <td>112363</td>\n",
       "      <td>0.002222</td>\n",
       "    </tr>\n",
       "  </tbody>\n",
       "</table>\n",
       "</div>"
      ],
      "text/plain": [
       "   customer_id  use_direct_debit\n",
       "0       107651          0.319974\n",
       "1       112177          0.003063\n",
       "2       112239          0.002199\n",
       "3       112301          0.096057\n",
       "4       112363          0.002222"
      ]
     },
     "execution_count": 51,
     "metadata": {},
     "output_type": "execute_result"
    }
   ],
   "source": [
    "test_sample.head()"
   ]
  },
  {
   "cell_type": "code",
   "execution_count": 52,
   "metadata": {},
   "outputs": [],
   "source": [
    "test_sample.to_csv('submission_1.csv', index=None)"
   ]
  }
 ],
 "metadata": {
  "kernelspec": {
   "display_name": "Python 3",
   "language": "python",
   "name": "python3"
  },
  "language_info": {
   "codemirror_mode": {
    "name": "ipython",
    "version": 3
   },
   "file_extension": ".py",
   "mimetype": "text/x-python",
   "name": "python",
   "nbconvert_exporter": "python",
   "pygments_lexer": "ipython3",
   "version": "3.7.1"
  }
 },
 "nbformat": 4,
 "nbformat_minor": 2
}
